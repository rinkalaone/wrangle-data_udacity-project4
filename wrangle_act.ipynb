{
 "cells": [
  {
   "cell_type": "markdown",
   "metadata": {},
   "source": [
    "# Project: Wrangle and Analyse Data - 'WeRateDogs'"
   ]
  },
  {
   "cell_type": "markdown",
   "metadata": {},
   "source": [
    "<a id='top'></a>\n",
    "### Project Breakdown:\n",
    "### We will gather, assess and clean a Dataset based on Informations from the Twitter Archive from the Account \"@WeRateDogs\", to provide an Analysis and Visualization of Variables of Interests that we will chose to inspect.\n",
    "\n",
    "- [Gathering Data](#gather)\n",
    "- [Assessing](#assess)\n",
    "- [Cleaning](#clean)\n",
    "- [Analyzing & Visualizing](#analyse)"
   ]
  },
  {
   "cell_type": "markdown",
   "metadata": {},
   "source": [
    "## Gathering Data\n",
    "<a id='gather'></a>"
   ]
  },
  {
   "cell_type": "markdown",
   "metadata": {},
   "source": [
    "### First Piece of Data aquired from a csv File:"
   ]
  },
  {
   "cell_type": "code",
   "execution_count": 1,
   "metadata": {},
   "outputs": [],
   "source": [
    "# import needed Libraries for the whole Project\n",
    "import pandas as pd\n",
    "import numpy as np\n",
    "import matplotlib.pyplot as plt\n",
    "\n",
    "%matplotlib inline"
   ]
  },
  {
   "cell_type": "code",
   "execution_count": 2,
   "metadata": {},
   "outputs": [
    {
     "data": {
      "text/html": [
       "<div>\n",
       "<style scoped>\n",
       "    .dataframe tbody tr th:only-of-type {\n",
       "        vertical-align: middle;\n",
       "    }\n",
       "\n",
       "    .dataframe tbody tr th {\n",
       "        vertical-align: top;\n",
       "    }\n",
       "\n",
       "    .dataframe thead th {\n",
       "        text-align: right;\n",
       "    }\n",
       "</style>\n",
       "<table border=\"1\" class=\"dataframe\">\n",
       "  <thead>\n",
       "    <tr style=\"text-align: right;\">\n",
       "      <th></th>\n",
       "      <th>tweet_id</th>\n",
       "      <th>in_reply_to_status_id</th>\n",
       "      <th>in_reply_to_user_id</th>\n",
       "      <th>timestamp</th>\n",
       "      <th>source</th>\n",
       "      <th>text</th>\n",
       "      <th>retweeted_status_id</th>\n",
       "      <th>retweeted_status_user_id</th>\n",
       "      <th>retweeted_status_timestamp</th>\n",
       "      <th>expanded_urls</th>\n",
       "      <th>rating_numerator</th>\n",
       "      <th>rating_denominator</th>\n",
       "      <th>name</th>\n",
       "      <th>doggo</th>\n",
       "      <th>floofer</th>\n",
       "      <th>pupper</th>\n",
       "      <th>puppo</th>\n",
       "    </tr>\n",
       "  </thead>\n",
       "  <tbody>\n",
       "    <tr>\n",
       "      <th>0</th>\n",
       "      <td>892420643555336193</td>\n",
       "      <td>NaN</td>\n",
       "      <td>NaN</td>\n",
       "      <td>2017-08-01 16:23:56 +0000</td>\n",
       "      <td>&lt;a href=\"http://twitter.com/download/iphone\" r...</td>\n",
       "      <td>This is Phineas. He's a mystical boy. Only eve...</td>\n",
       "      <td>NaN</td>\n",
       "      <td>NaN</td>\n",
       "      <td>NaN</td>\n",
       "      <td>https://twitter.com/dog_rates/status/892420643...</td>\n",
       "      <td>13</td>\n",
       "      <td>10</td>\n",
       "      <td>Phineas</td>\n",
       "      <td>None</td>\n",
       "      <td>None</td>\n",
       "      <td>None</td>\n",
       "      <td>None</td>\n",
       "    </tr>\n",
       "    <tr>\n",
       "      <th>1</th>\n",
       "      <td>892177421306343426</td>\n",
       "      <td>NaN</td>\n",
       "      <td>NaN</td>\n",
       "      <td>2017-08-01 00:17:27 +0000</td>\n",
       "      <td>&lt;a href=\"http://twitter.com/download/iphone\" r...</td>\n",
       "      <td>This is Tilly. She's just checking pup on you....</td>\n",
       "      <td>NaN</td>\n",
       "      <td>NaN</td>\n",
       "      <td>NaN</td>\n",
       "      <td>https://twitter.com/dog_rates/status/892177421...</td>\n",
       "      <td>13</td>\n",
       "      <td>10</td>\n",
       "      <td>Tilly</td>\n",
       "      <td>None</td>\n",
       "      <td>None</td>\n",
       "      <td>None</td>\n",
       "      <td>None</td>\n",
       "    </tr>\n",
       "    <tr>\n",
       "      <th>2</th>\n",
       "      <td>891815181378084864</td>\n",
       "      <td>NaN</td>\n",
       "      <td>NaN</td>\n",
       "      <td>2017-07-31 00:18:03 +0000</td>\n",
       "      <td>&lt;a href=\"http://twitter.com/download/iphone\" r...</td>\n",
       "      <td>This is Archie. He is a rare Norwegian Pouncin...</td>\n",
       "      <td>NaN</td>\n",
       "      <td>NaN</td>\n",
       "      <td>NaN</td>\n",
       "      <td>https://twitter.com/dog_rates/status/891815181...</td>\n",
       "      <td>12</td>\n",
       "      <td>10</td>\n",
       "      <td>Archie</td>\n",
       "      <td>None</td>\n",
       "      <td>None</td>\n",
       "      <td>None</td>\n",
       "      <td>None</td>\n",
       "    </tr>\n",
       "    <tr>\n",
       "      <th>3</th>\n",
       "      <td>891689557279858688</td>\n",
       "      <td>NaN</td>\n",
       "      <td>NaN</td>\n",
       "      <td>2017-07-30 15:58:51 +0000</td>\n",
       "      <td>&lt;a href=\"http://twitter.com/download/iphone\" r...</td>\n",
       "      <td>This is Darla. She commenced a snooze mid meal...</td>\n",
       "      <td>NaN</td>\n",
       "      <td>NaN</td>\n",
       "      <td>NaN</td>\n",
       "      <td>https://twitter.com/dog_rates/status/891689557...</td>\n",
       "      <td>13</td>\n",
       "      <td>10</td>\n",
       "      <td>Darla</td>\n",
       "      <td>None</td>\n",
       "      <td>None</td>\n",
       "      <td>None</td>\n",
       "      <td>None</td>\n",
       "    </tr>\n",
       "    <tr>\n",
       "      <th>4</th>\n",
       "      <td>891327558926688256</td>\n",
       "      <td>NaN</td>\n",
       "      <td>NaN</td>\n",
       "      <td>2017-07-29 16:00:24 +0000</td>\n",
       "      <td>&lt;a href=\"http://twitter.com/download/iphone\" r...</td>\n",
       "      <td>This is Franklin. He would like you to stop ca...</td>\n",
       "      <td>NaN</td>\n",
       "      <td>NaN</td>\n",
       "      <td>NaN</td>\n",
       "      <td>https://twitter.com/dog_rates/status/891327558...</td>\n",
       "      <td>12</td>\n",
       "      <td>10</td>\n",
       "      <td>Franklin</td>\n",
       "      <td>None</td>\n",
       "      <td>None</td>\n",
       "      <td>None</td>\n",
       "      <td>None</td>\n",
       "    </tr>\n",
       "  </tbody>\n",
       "</table>\n",
       "</div>"
      ],
      "text/plain": [
       "             tweet_id  in_reply_to_status_id  in_reply_to_user_id  \\\n",
       "0  892420643555336193                    NaN                  NaN   \n",
       "1  892177421306343426                    NaN                  NaN   \n",
       "2  891815181378084864                    NaN                  NaN   \n",
       "3  891689557279858688                    NaN                  NaN   \n",
       "4  891327558926688256                    NaN                  NaN   \n",
       "\n",
       "                   timestamp  \\\n",
       "0  2017-08-01 16:23:56 +0000   \n",
       "1  2017-08-01 00:17:27 +0000   \n",
       "2  2017-07-31 00:18:03 +0000   \n",
       "3  2017-07-30 15:58:51 +0000   \n",
       "4  2017-07-29 16:00:24 +0000   \n",
       "\n",
       "                                              source  \\\n",
       "0  <a href=\"http://twitter.com/download/iphone\" r...   \n",
       "1  <a href=\"http://twitter.com/download/iphone\" r...   \n",
       "2  <a href=\"http://twitter.com/download/iphone\" r...   \n",
       "3  <a href=\"http://twitter.com/download/iphone\" r...   \n",
       "4  <a href=\"http://twitter.com/download/iphone\" r...   \n",
       "\n",
       "                                                text  retweeted_status_id  \\\n",
       "0  This is Phineas. He's a mystical boy. Only eve...                  NaN   \n",
       "1  This is Tilly. She's just checking pup on you....                  NaN   \n",
       "2  This is Archie. He is a rare Norwegian Pouncin...                  NaN   \n",
       "3  This is Darla. She commenced a snooze mid meal...                  NaN   \n",
       "4  This is Franklin. He would like you to stop ca...                  NaN   \n",
       "\n",
       "   retweeted_status_user_id retweeted_status_timestamp  \\\n",
       "0                       NaN                        NaN   \n",
       "1                       NaN                        NaN   \n",
       "2                       NaN                        NaN   \n",
       "3                       NaN                        NaN   \n",
       "4                       NaN                        NaN   \n",
       "\n",
       "                                       expanded_urls  rating_numerator  \\\n",
       "0  https://twitter.com/dog_rates/status/892420643...                13   \n",
       "1  https://twitter.com/dog_rates/status/892177421...                13   \n",
       "2  https://twitter.com/dog_rates/status/891815181...                12   \n",
       "3  https://twitter.com/dog_rates/status/891689557...                13   \n",
       "4  https://twitter.com/dog_rates/status/891327558...                12   \n",
       "\n",
       "   rating_denominator      name doggo floofer pupper puppo  \n",
       "0                  10   Phineas  None    None   None  None  \n",
       "1                  10     Tilly  None    None   None  None  \n",
       "2                  10    Archie  None    None   None  None  \n",
       "3                  10     Darla  None    None   None  None  \n",
       "4                  10  Franklin  None    None   None  None  "
      ]
     },
     "execution_count": 2,
     "metadata": {},
     "output_type": "execute_result"
    }
   ],
   "source": [
    "df_tweetArchive = pd.read_csv('twitter-archive-enhanced.csv')\n",
    "df_tweetArchive.head()"
   ]
  },
  {
   "cell_type": "code",
   "execution_count": 3,
   "metadata": {},
   "outputs": [
    {
     "name": "stdout",
     "output_type": "stream",
     "text": [
      "<class 'pandas.core.frame.DataFrame'>\n",
      "RangeIndex: 2356 entries, 0 to 2355\n",
      "Data columns (total 17 columns):\n",
      "tweet_id                      2356 non-null int64\n",
      "in_reply_to_status_id         78 non-null float64\n",
      "in_reply_to_user_id           78 non-null float64\n",
      "timestamp                     2356 non-null object\n",
      "source                        2356 non-null object\n",
      "text                          2356 non-null object\n",
      "retweeted_status_id           181 non-null float64\n",
      "retweeted_status_user_id      181 non-null float64\n",
      "retweeted_status_timestamp    181 non-null object\n",
      "expanded_urls                 2297 non-null object\n",
      "rating_numerator              2356 non-null int64\n",
      "rating_denominator            2356 non-null int64\n",
      "name                          2356 non-null object\n",
      "doggo                         2356 non-null object\n",
      "floofer                       2356 non-null object\n",
      "pupper                        2356 non-null object\n",
      "puppo                         2356 non-null object\n",
      "dtypes: float64(4), int64(3), object(10)\n",
      "memory usage: 313.0+ KB\n"
     ]
    },
    {
     "data": {
      "text/plain": [
       "0"
      ]
     },
     "execution_count": 3,
     "metadata": {},
     "output_type": "execute_result"
    }
   ],
   "source": [
    "df_tweetArchive.info()\n",
    "df_tweetArchive.tweet_id.duplicated().sum()"
   ]
  },
  {
   "cell_type": "markdown",
   "metadata": {},
   "source": [
    "### Second Piece of Data: programmatically downloading a tsv File:"
   ]
  },
  {
   "cell_type": "code",
   "execution_count": 4,
   "metadata": {},
   "outputs": [],
   "source": [
    "import requests\n",
    "import os\n",
    "\n",
    "filename = 'image-predictions.tsv'\n",
    "file_url = 'https://d17h27t6h515a5.cloudfront.net/topher/2017/August/\\\n",
    "599fd2ad_image-predictions/image-predictions.tsv'\n",
    "\n",
    "if not os.path.exists(filename):\n",
    "    # download the file locally\n",
    "    response = requests.get(file_url)\n",
    "    if (response.status_code == 200):\n",
    "        with open(filename, mode='wb') as file:\n",
    "            file.write(response.content)"
   ]
  },
  {
   "cell_type": "code",
   "execution_count": 5,
   "metadata": {},
   "outputs": [
    {
     "data": {
      "text/plain": [
       "['.DS_Store',\n",
       " '.ipynb_checkpoints',\n",
       " 'cleaning_overview.ipynb',\n",
       " 'Help',\n",
       " 'image-predictions.tsv',\n",
       " 'old',\n",
       " 'ReadMe.txt',\n",
       " 'regex_wrangle.txt',\n",
       " 'tweet_json Kopie.txt',\n",
       " 'tweet_json.txt',\n",
       " 'tweetid_errors.txt',\n",
       " 'tweetid_success.txt',\n",
       " 'twitter-archive-enhanced Kopie.csv',\n",
       " 'twitter-archive-enhanced.csv',\n",
       " 'twitterKeys.txt',\n",
       " 'wrangle_act.ipynb']"
      ]
     },
     "execution_count": 5,
     "metadata": {},
     "output_type": "execute_result"
    }
   ],
   "source": [
    "os.listdir() #to check the file was downloaded in the current directory"
   ]
  },
  {
   "cell_type": "code",
   "execution_count": 6,
   "metadata": {},
   "outputs": [
    {
     "data": {
      "text/html": [
       "<div>\n",
       "<style scoped>\n",
       "    .dataframe tbody tr th:only-of-type {\n",
       "        vertical-align: middle;\n",
       "    }\n",
       "\n",
       "    .dataframe tbody tr th {\n",
       "        vertical-align: top;\n",
       "    }\n",
       "\n",
       "    .dataframe thead th {\n",
       "        text-align: right;\n",
       "    }\n",
       "</style>\n",
       "<table border=\"1\" class=\"dataframe\">\n",
       "  <thead>\n",
       "    <tr style=\"text-align: right;\">\n",
       "      <th></th>\n",
       "      <th>tweet_id</th>\n",
       "      <th>jpg_url</th>\n",
       "      <th>img_num</th>\n",
       "      <th>p1</th>\n",
       "      <th>p1_conf</th>\n",
       "      <th>p1_dog</th>\n",
       "      <th>p2</th>\n",
       "      <th>p2_conf</th>\n",
       "      <th>p2_dog</th>\n",
       "      <th>p3</th>\n",
       "      <th>p3_conf</th>\n",
       "      <th>p3_dog</th>\n",
       "    </tr>\n",
       "  </thead>\n",
       "  <tbody>\n",
       "    <tr>\n",
       "      <th>0</th>\n",
       "      <td>666020888022790149</td>\n",
       "      <td>https://pbs.twimg.com/media/CT4udn0WwAA0aMy.jpg</td>\n",
       "      <td>1</td>\n",
       "      <td>Welsh_springer_spaniel</td>\n",
       "      <td>0.465074</td>\n",
       "      <td>True</td>\n",
       "      <td>collie</td>\n",
       "      <td>0.156665</td>\n",
       "      <td>True</td>\n",
       "      <td>Shetland_sheepdog</td>\n",
       "      <td>0.061428</td>\n",
       "      <td>True</td>\n",
       "    </tr>\n",
       "    <tr>\n",
       "      <th>1</th>\n",
       "      <td>666029285002620928</td>\n",
       "      <td>https://pbs.twimg.com/media/CT42GRgUYAA5iDo.jpg</td>\n",
       "      <td>1</td>\n",
       "      <td>redbone</td>\n",
       "      <td>0.506826</td>\n",
       "      <td>True</td>\n",
       "      <td>miniature_pinscher</td>\n",
       "      <td>0.074192</td>\n",
       "      <td>True</td>\n",
       "      <td>Rhodesian_ridgeback</td>\n",
       "      <td>0.072010</td>\n",
       "      <td>True</td>\n",
       "    </tr>\n",
       "    <tr>\n",
       "      <th>2</th>\n",
       "      <td>666033412701032449</td>\n",
       "      <td>https://pbs.twimg.com/media/CT4521TWwAEvMyu.jpg</td>\n",
       "      <td>1</td>\n",
       "      <td>German_shepherd</td>\n",
       "      <td>0.596461</td>\n",
       "      <td>True</td>\n",
       "      <td>malinois</td>\n",
       "      <td>0.138584</td>\n",
       "      <td>True</td>\n",
       "      <td>bloodhound</td>\n",
       "      <td>0.116197</td>\n",
       "      <td>True</td>\n",
       "    </tr>\n",
       "    <tr>\n",
       "      <th>3</th>\n",
       "      <td>666044226329800704</td>\n",
       "      <td>https://pbs.twimg.com/media/CT5Dr8HUEAA-lEu.jpg</td>\n",
       "      <td>1</td>\n",
       "      <td>Rhodesian_ridgeback</td>\n",
       "      <td>0.408143</td>\n",
       "      <td>True</td>\n",
       "      <td>redbone</td>\n",
       "      <td>0.360687</td>\n",
       "      <td>True</td>\n",
       "      <td>miniature_pinscher</td>\n",
       "      <td>0.222752</td>\n",
       "      <td>True</td>\n",
       "    </tr>\n",
       "    <tr>\n",
       "      <th>4</th>\n",
       "      <td>666049248165822465</td>\n",
       "      <td>https://pbs.twimg.com/media/CT5IQmsXIAAKY4A.jpg</td>\n",
       "      <td>1</td>\n",
       "      <td>miniature_pinscher</td>\n",
       "      <td>0.560311</td>\n",
       "      <td>True</td>\n",
       "      <td>Rottweiler</td>\n",
       "      <td>0.243682</td>\n",
       "      <td>True</td>\n",
       "      <td>Doberman</td>\n",
       "      <td>0.154629</td>\n",
       "      <td>True</td>\n",
       "    </tr>\n",
       "  </tbody>\n",
       "</table>\n",
       "</div>"
      ],
      "text/plain": [
       "             tweet_id                                          jpg_url  \\\n",
       "0  666020888022790149  https://pbs.twimg.com/media/CT4udn0WwAA0aMy.jpg   \n",
       "1  666029285002620928  https://pbs.twimg.com/media/CT42GRgUYAA5iDo.jpg   \n",
       "2  666033412701032449  https://pbs.twimg.com/media/CT4521TWwAEvMyu.jpg   \n",
       "3  666044226329800704  https://pbs.twimg.com/media/CT5Dr8HUEAA-lEu.jpg   \n",
       "4  666049248165822465  https://pbs.twimg.com/media/CT5IQmsXIAAKY4A.jpg   \n",
       "\n",
       "   img_num                      p1   p1_conf  p1_dog                  p2  \\\n",
       "0        1  Welsh_springer_spaniel  0.465074    True              collie   \n",
       "1        1                 redbone  0.506826    True  miniature_pinscher   \n",
       "2        1         German_shepherd  0.596461    True            malinois   \n",
       "3        1     Rhodesian_ridgeback  0.408143    True             redbone   \n",
       "4        1      miniature_pinscher  0.560311    True          Rottweiler   \n",
       "\n",
       "    p2_conf  p2_dog                   p3   p3_conf  p3_dog  \n",
       "0  0.156665    True    Shetland_sheepdog  0.061428    True  \n",
       "1  0.074192    True  Rhodesian_ridgeback  0.072010    True  \n",
       "2  0.138584    True           bloodhound  0.116197    True  \n",
       "3  0.360687    True   miniature_pinscher  0.222752    True  \n",
       "4  0.243682    True             Doberman  0.154629    True  "
      ]
     },
     "execution_count": 6,
     "metadata": {},
     "output_type": "execute_result"
    }
   ],
   "source": [
    "#Now we read in the tsv file\n",
    "df_image_predictions = pd.read_csv('image-predictions.tsv', sep='\\t')\n",
    "df_image_predictions.head()"
   ]
  },
  {
   "cell_type": "markdown",
   "metadata": {},
   "source": [
    "### Third Piece of Data: querying the Twitter API with 'tweepy'"
   ]
  },
  {
   "cell_type": "code",
   "execution_count": 7,
   "metadata": {},
   "outputs": [],
   "source": [
    "import tweepy\n",
    "import json\n",
    "\n",
    "#### Prepare files to hold queryied Information\n",
    "jsonfilename = 'tweet_json.txt' #to hold each tweet_data query as a line\n",
    "tweetid_errors = 'tweetid_errors.txt' # to keep trace of each tweet that could not be queryied.\n",
    "tweetid_success = 'tweetid_success.txt' # to keep trace of each successfully queryied tweet for debug purposes"
   ]
  },
  {
   "cell_type": "code",
   "execution_count": 8,
   "metadata": {},
   "outputs": [
    {
     "name": "stdout",
     "output_type": "stream",
     "text": [
      "{\n",
      "    \"rate_limit_context\": {\n",
      "        \"access_token\": \"1111721486312751104-2NDoW9l9keGbw9ZcPj7naFuuyWCVVQ\"\n",
      "    },\n",
      "    \"resources\": {\n",
      "        \"lists\": {\n",
      "            \"/lists/list\": {\n",
      "                \"limit\": 15,\n",
      "                \"remaining\": 15,\n",
      "                \"reset\": 1556375522\n",
      "            },\n",
      "            \"/lists/memberships\": {\n",
      "                \"limit\": 75,\n",
      "                \"remaining\": 75,\n",
      "                \"reset\": 1556375522\n",
      "            },\n",
      "            \"/lists/subscribers/show\": {\n",
      "                \"limit\": 15,\n",
      "                \"remaining\": 15,\n",
      "                \"reset\": 1556375522\n",
      "            },\n",
      "            \"/lists/members\": {\n",
      "                \"limit\": 900,\n",
      "                \"remaining\": 900,\n",
      "                \"reset\": 1556375522\n",
      "            },\n",
      "            \"/lists/subscriptions\": {\n",
      "                \"limit\": 15,\n",
      "                \"remaining\": 15,\n",
      "                \"reset\": 1556375522\n",
      "            },\n",
      "            \"/lists/show\": {\n",
      "                \"limit\": 75,\n",
      "                \"remaining\": 75,\n",
      "                \"reset\": 1556375522\n",
      "            },\n",
      "            \"/lists/ownerships\": {\n",
      "                \"limit\": 15,\n",
      "                \"remaining\": 15,\n",
      "                \"reset\": 1556375522\n",
      "            },\n",
      "            \"/lists/subscribers\": {\n",
      "                \"limit\": 180,\n",
      "                \"remaining\": 180,\n",
      "                \"reset\": 1556375522\n",
      "            },\n",
      "            \"/lists/members/show\": {\n",
      "                \"limit\": 15,\n",
      "                \"remaining\": 15,\n",
      "                \"reset\": 1556375522\n",
      "            },\n",
      "            \"/lists/statuses\": {\n",
      "                \"limit\": 900,\n",
      "                \"remaining\": 900,\n",
      "                \"reset\": 1556375522\n",
      "            }\n",
      "        },\n",
      "        \"application\": {\n",
      "            \"/application/rate_limit_status\": {\n",
      "                \"limit\": 180,\n",
      "                \"remaining\": 179,\n",
      "                \"reset\": 1556375522\n",
      "            }\n",
      "        },\n",
      "        \"mutes\": {\n",
      "            \"/mutes/users/list\": {\n",
      "                \"limit\": 15,\n",
      "                \"remaining\": 15,\n",
      "                \"reset\": 1556375522\n",
      "            },\n",
      "            \"/mutes/users/ids\": {\n",
      "                \"limit\": 15,\n",
      "                \"remaining\": 15,\n",
      "                \"reset\": 1556375522\n",
      "            }\n",
      "        },\n",
      "        \"live_video_stream\": {\n",
      "            \"/live_video_stream/status/:id\": {\n",
      "                \"limit\": 1000,\n",
      "                \"remaining\": 1000,\n",
      "                \"reset\": 1556375522\n",
      "            }\n",
      "        },\n",
      "        \"friendships\": {\n",
      "            \"/friendships/outgoing\": {\n",
      "                \"limit\": 15,\n",
      "                \"remaining\": 15,\n",
      "                \"reset\": 1556375522\n",
      "            },\n",
      "            \"/friendships/list\": {\n",
      "                \"limit\": 200,\n",
      "                \"remaining\": 200,\n",
      "                \"reset\": 1556375522\n",
      "            },\n",
      "            \"/friendships/no_retweets/ids\": {\n",
      "                \"limit\": 15,\n",
      "                \"remaining\": 15,\n",
      "                \"reset\": 1556375522\n",
      "            },\n",
      "            \"/friendships/lookup\": {\n",
      "                \"limit\": 15,\n",
      "                \"remaining\": 15,\n",
      "                \"reset\": 1556375522\n",
      "            },\n",
      "            \"/friendships/incoming\": {\n",
      "                \"limit\": 15,\n",
      "                \"remaining\": 15,\n",
      "                \"reset\": 1556375522\n",
      "            },\n",
      "            \"/friendships/show\": {\n",
      "                \"limit\": 180,\n",
      "                \"remaining\": 180,\n",
      "                \"reset\": 1556375522\n",
      "            }\n",
      "        },\n",
      "        \"guide\": {\n",
      "            \"/guide\": {\n",
      "                \"limit\": 180,\n",
      "                \"remaining\": 180,\n",
      "                \"reset\": 1556375522\n",
      "            }\n",
      "        },\n",
      "        \"auth\": {\n",
      "            \"/auth/csrf_token\": {\n",
      "                \"limit\": 15,\n",
      "                \"remaining\": 15,\n",
      "                \"reset\": 1556375522\n",
      "            }\n",
      "        },\n",
      "        \"blocks\": {\n",
      "            \"/blocks/list\": {\n",
      "                \"limit\": 15,\n",
      "                \"remaining\": 15,\n",
      "                \"reset\": 1556375522\n",
      "            },\n",
      "            \"/blocks/ids\": {\n",
      "                \"limit\": 15,\n",
      "                \"remaining\": 15,\n",
      "                \"reset\": 1556375522\n",
      "            }\n",
      "        },\n",
      "        \"geo\": {\n",
      "            \"/geo/similar_places\": {\n",
      "                \"limit\": 15,\n",
      "                \"remaining\": 15,\n",
      "                \"reset\": 1556375522\n",
      "            },\n",
      "            \"/geo/id/:place_id\": {\n",
      "                \"limit\": 75,\n",
      "                \"remaining\": 75,\n",
      "                \"reset\": 1556375522\n",
      "            },\n",
      "            \"/geo/reverse_geocode\": {\n",
      "                \"limit\": 15,\n",
      "                \"remaining\": 15,\n",
      "                \"reset\": 1556375522\n",
      "            },\n",
      "            \"/geo/search\": {\n",
      "                \"limit\": 15,\n",
      "                \"remaining\": 15,\n",
      "                \"reset\": 1556375522\n",
      "            }\n",
      "        },\n",
      "        \"users\": {\n",
      "            \"/users/report_spam\": {\n",
      "                \"limit\": 15,\n",
      "                \"remaining\": 15,\n",
      "                \"reset\": 1556375522\n",
      "            },\n",
      "            \"/users/contributors/pending\": {\n",
      "                \"limit\": 2000,\n",
      "                \"remaining\": 2000,\n",
      "                \"reset\": 1556375522\n",
      "            },\n",
      "            \"/users/show/:id\": {\n",
      "                \"limit\": 900,\n",
      "                \"remaining\": 900,\n",
      "                \"reset\": 1556375522\n",
      "            },\n",
      "            \"/users/search\": {\n",
      "                \"limit\": 900,\n",
      "                \"remaining\": 900,\n",
      "                \"reset\": 1556375522\n",
      "            },\n",
      "            \"/users/suggestions/:slug\": {\n",
      "                \"limit\": 15,\n",
      "                \"remaining\": 15,\n",
      "                \"reset\": 1556375522\n",
      "            },\n",
      "            \"/users/contributees/pending\": {\n",
      "                \"limit\": 200,\n",
      "                \"remaining\": 200,\n",
      "                \"reset\": 1556375522\n",
      "            },\n",
      "            \"/users/derived_info\": {\n",
      "                \"limit\": 15,\n",
      "                \"remaining\": 15,\n",
      "                \"reset\": 1556375522\n",
      "            },\n",
      "            \"/users/profile_banner\": {\n",
      "                \"limit\": 180,\n",
      "                \"remaining\": 180,\n",
      "                \"reset\": 1556375522\n",
      "            },\n",
      "            \"/users/suggestions/:slug/members\": {\n",
      "                \"limit\": 15,\n",
      "                \"remaining\": 15,\n",
      "                \"reset\": 1556375522\n",
      "            },\n",
      "            \"/users/lookup\": {\n",
      "                \"limit\": 900,\n",
      "                \"remaining\": 900,\n",
      "                \"reset\": 1556375522\n",
      "            },\n",
      "            \"/users/suggestions\": {\n",
      "                \"limit\": 15,\n",
      "                \"remaining\": 15,\n",
      "                \"reset\": 1556375522\n",
      "            }\n",
      "        },\n",
      "        \"followers\": {\n",
      "            \"/followers/ids\": {\n",
      "                \"limit\": 15,\n",
      "                \"remaining\": 15,\n",
      "                \"reset\": 1556375522\n",
      "            },\n",
      "            \"/followers/list\": {\n",
      "                \"limit\": 15,\n",
      "                \"remaining\": 15,\n",
      "                \"reset\": 1556375522\n",
      "            }\n",
      "        },\n",
      "        \"collections\": {\n",
      "            \"/collections/list\": {\n",
      "                \"limit\": 1000,\n",
      "                \"remaining\": 1000,\n",
      "                \"reset\": 1556375522\n",
      "            },\n",
      "            \"/collections/entries\": {\n",
      "                \"limit\": 1000,\n",
      "                \"remaining\": 1000,\n",
      "                \"reset\": 1556375522\n",
      "            },\n",
      "            \"/collections/show\": {\n",
      "                \"limit\": 1000,\n",
      "                \"remaining\": 1000,\n",
      "                \"reset\": 1556375522\n",
      "            }\n",
      "        },\n",
      "        \"statuses\": {\n",
      "            \"/statuses/retweeters/ids\": {\n",
      "                \"limit\": 75,\n",
      "                \"remaining\": 75,\n",
      "                \"reset\": 1556375522\n",
      "            },\n",
      "            \"/statuses/retweets_of_me\": {\n",
      "                \"limit\": 75,\n",
      "                \"remaining\": 75,\n",
      "                \"reset\": 1556375522\n",
      "            },\n",
      "            \"/statuses/home_timeline\": {\n",
      "                \"limit\": 15,\n",
      "                \"remaining\": 15,\n",
      "                \"reset\": 1556375522\n",
      "            },\n",
      "            \"/statuses/show/:id\": {\n",
      "                \"limit\": 900,\n",
      "                \"remaining\": 900,\n",
      "                \"reset\": 1556375522\n",
      "            },\n",
      "            \"/statuses/user_timeline\": {\n",
      "                \"limit\": 900,\n",
      "                \"remaining\": 900,\n",
      "                \"reset\": 1556375522\n",
      "            },\n",
      "            \"/statuses/friends\": {\n",
      "                \"limit\": 15,\n",
      "                \"remaining\": 15,\n",
      "                \"reset\": 1556375522\n",
      "            },\n",
      "            \"/statuses/retweets/:id\": {\n",
      "                \"limit\": 75,\n",
      "                \"remaining\": 75,\n",
      "                \"reset\": 1556375522\n",
      "            },\n",
      "            \"/statuses/mentions_timeline\": {\n",
      "                \"limit\": 75,\n",
      "                \"remaining\": 75,\n",
      "                \"reset\": 1556375522\n",
      "            },\n",
      "            \"/statuses/oembed\": {\n",
      "                \"limit\": 180,\n",
      "                \"remaining\": 180,\n",
      "                \"reset\": 1556375522\n",
      "            },\n",
      "            \"/statuses/lookup\": {\n",
      "                \"limit\": 900,\n",
      "                \"remaining\": 900,\n",
      "                \"reset\": 1556375522\n",
      "            }\n",
      "        },\n",
      "        \"custom_profiles\": {\n",
      "            \"/custom_profiles/list\": {\n",
      "                \"limit\": 180,\n",
      "                \"remaining\": 180,\n",
      "                \"reset\": 1556375522\n",
      "            },\n",
      "            \"/custom_profiles/show\": {\n",
      "                \"limit\": 180,\n",
      "                \"remaining\": 180,\n",
      "                \"reset\": 1556375522\n",
      "            }\n",
      "        },\n",
      "        \"webhooks\": {\n",
      "            \"/webhooks/subscriptions/direct_messages\": {\n",
      "                \"limit\": 15,\n",
      "                \"remaining\": 15,\n",
      "                \"reset\": 1556375522\n",
      "            },\n",
      "            \"/webhooks\": {\n",
      "                \"limit\": 15,\n",
      "                \"remaining\": 15,\n",
      "                \"reset\": 1556375522\n",
      "            }\n",
      "        },\n",
      "        \"contacts\": {\n",
      "            \"/contacts/uploaded_by\": {\n",
      "                \"limit\": 300,\n",
      "                \"remaining\": 300,\n",
      "                \"reset\": 1556375522\n",
      "            },\n",
      "            \"/contacts/users\": {\n",
      "                \"limit\": 300,\n",
      "                \"remaining\": 300,\n",
      "                \"reset\": 1556375522\n",
      "            },\n",
      "            \"/contacts/addressbook\": {\n",
      "                \"limit\": 300,\n",
      "                \"remaining\": 300,\n",
      "                \"reset\": 1556375522\n",
      "            },\n",
      "            \"/contacts/users_and_uploaded_by\": {\n",
      "                \"limit\": 300,\n",
      "                \"remaining\": 300,\n",
      "                \"reset\": 1556375522\n",
      "            },\n",
      "            \"/contacts/delete/status\": {\n",
      "                \"limit\": 300,\n",
      "                \"remaining\": 300,\n",
      "                \"reset\": 1556375522\n",
      "            }\n",
      "        },\n",
      "        \"labs\": {\n",
      "            \"/labs/:version/users\": {\n",
      "                \"limit\": 3000,\n",
      "                \"remaining\": 3000,\n",
      "                \"reset\": 1556375522\n",
      "            },\n",
      "            \"/labs/:version/tweets\": {\n",
      "                \"limit\": 3000,\n",
      "                \"remaining\": 3000,\n",
      "                \"reset\": 1556375522\n",
      "            }\n",
      "        },\n",
      "        \"i\": {\n",
      "            \"/i/config\": {\n",
      "                \"limit\": 15,\n",
      "                \"remaining\": 15,\n",
      "                \"reset\": 1556375522\n",
      "            }\n",
      "        },\n",
      "        \"tweet_prompts\": {\n",
      "            \"/tweet_prompts/report_interaction\": {\n",
      "                \"limit\": 180,\n",
      "                \"remaining\": 180,\n",
      "                \"reset\": 1556375522\n",
      "            },\n",
      "            \"/tweet_prompts/show\": {\n",
      "                \"limit\": 180,\n",
      "                \"remaining\": 180,\n",
      "                \"reset\": 1556375522\n",
      "            }\n",
      "        },\n",
      "        \"moments\": {\n",
      "            \"/moments/statuses/update\": {\n",
      "                \"limit\": 5,\n",
      "                \"remaining\": 5,\n",
      "                \"reset\": 1556375522\n",
      "            },\n",
      "            \"/moments/permissions\": {\n",
      "                \"limit\": 300,\n",
      "                \"remaining\": 300,\n",
      "                \"reset\": 1556375522\n",
      "            }\n",
      "        },\n",
      "        \"help\": {\n",
      "            \"/help/tos\": {\n",
      "                \"limit\": 15,\n",
      "                \"remaining\": 15,\n",
      "                \"reset\": 1556375522\n",
      "            },\n",
      "            \"/help/configuration\": {\n",
      "                \"limit\": 15,\n",
      "                \"remaining\": 15,\n",
      "                \"reset\": 1556375522\n",
      "            },\n",
      "            \"/help/privacy\": {\n",
      "                \"limit\": 15,\n",
      "                \"remaining\": 15,\n",
      "                \"reset\": 1556375522\n",
      "            },\n",
      "            \"/help/settings\": {\n",
      "                \"limit\": 15,\n",
      "                \"remaining\": 15,\n",
      "                \"reset\": 1556375522\n",
      "            },\n",
      "            \"/help/languages\": {\n",
      "                \"limit\": 15,\n",
      "                \"remaining\": 15,\n",
      "                \"reset\": 1556375522\n",
      "            }\n",
      "        },\n",
      "        \"feedback\": {\n",
      "            \"/feedback/show/:id\": {\n",
      "                \"limit\": 180,\n",
      "                \"remaining\": 180,\n",
      "                \"reset\": 1556375522\n",
      "            },\n",
      "            \"/feedback/events\": {\n",
      "                \"limit\": 1000,\n",
      "                \"remaining\": 1000,\n",
      "                \"reset\": 1556375522\n",
      "            }\n",
      "        },\n",
      "        \"business_experience\": {\n",
      "            \"/business_experience/dashboard_settings/destroy\": {\n",
      "                \"limit\": 450,\n",
      "                \"remaining\": 450,\n",
      "                \"reset\": 1556375522\n",
      "            },\n",
      "            \"/business_experience/dashboard_features\": {\n",
      "                \"limit\": 450,\n",
      "                \"remaining\": 450,\n",
      "                \"reset\": 1556375522\n",
      "            },\n",
      "            \"/business_experience/keywords\": {\n",
      "                \"limit\": 450,\n",
      "                \"remaining\": 450,\n",
      "                \"reset\": 1556375522\n",
      "            },\n",
      "            \"/business_experience/dashboard_settings/update\": {\n",
      "                \"limit\": 450,\n",
      "                \"remaining\": 450,\n",
      "                \"reset\": 1556375522\n",
      "            },\n",
      "            \"/business_experience/dashboard_settings/show\": {\n",
      "                \"limit\": 450,\n",
      "                \"remaining\": 450,\n",
      "                \"reset\": 1556375522\n",
      "            }\n",
      "        },\n",
      "        \"graphql&POST\": {\n",
      "            \"/graphql&POST\": {\n",
      "                \"limit\": 2500,\n",
      "                \"remaining\": 2500,\n",
      "                \"reset\": 1556375522\n",
      "            }\n",
      "        },\n",
      "        \"friends\": {\n",
      "            \"/friends/following/ids\": {\n",
      "                \"limit\": 15,\n",
      "                \"remaining\": 15,\n",
      "                \"reset\": 1556375522\n",
      "            },\n",
      "            \"/friends/following/list\": {\n",
      "                \"limit\": 15,\n",
      "                \"remaining\": 15,\n",
      "                \"reset\": 1556375522\n",
      "            },\n",
      "            \"/friends/list\": {\n",
      "                \"limit\": 15,\n",
      "                \"remaining\": 15,\n",
      "                \"reset\": 1556375522\n",
      "            },\n",
      "            \"/friends/ids\": {\n",
      "                \"limit\": 15,\n",
      "                \"remaining\": 15,\n",
      "                \"reset\": 1556375522\n",
      "            }\n",
      "        },\n",
      "        \"sandbox\": {\n",
      "            \"/sandbox/account_activity/webhooks/:id/subscriptions\": {\n",
      "                \"limit\": 500,\n",
      "                \"remaining\": 500,\n",
      "                \"reset\": 1556375522\n",
      "            }\n",
      "        },\n",
      "        \"drafts\": {\n",
      "            \"/drafts/statuses/update\": {\n",
      "                \"limit\": 450,\n",
      "                \"remaining\": 450,\n",
      "                \"reset\": 1556375522\n",
      "            },\n",
      "            \"/drafts/statuses/destroy\": {\n",
      "                \"limit\": 450,\n",
      "                \"remaining\": 450,\n",
      "                \"reset\": 1556375522\n",
      "            },\n",
      "            \"/drafts/statuses/ids\": {\n",
      "                \"limit\": 450,\n",
      "                \"remaining\": 450,\n",
      "                \"reset\": 1556375522\n",
      "            },\n",
      "            \"/drafts/statuses/list\": {\n",
      "                \"limit\": 450,\n",
      "                \"remaining\": 450,\n",
      "                \"reset\": 1556375522\n",
      "            },\n",
      "            \"/drafts/statuses/show\": {\n",
      "                \"limit\": 450,\n",
      "                \"remaining\": 450,\n",
      "                \"reset\": 1556375522\n",
      "            },\n",
      "            \"/drafts/statuses/create\": {\n",
      "                \"limit\": 450,\n",
      "                \"remaining\": 450,\n",
      "                \"reset\": 1556375522\n",
      "            }\n",
      "        },\n",
      "        \"direct_messages\": {\n",
      "            \"/direct_messages/sent\": {\n",
      "                \"limit\": 300,\n",
      "                \"remaining\": 300,\n",
      "                \"reset\": 1556375522\n",
      "            },\n",
      "            \"/direct_messages/broadcasts/list\": {\n",
      "                \"limit\": 60,\n",
      "                \"remaining\": 60,\n",
      "                \"reset\": 1556375522\n",
      "            },\n",
      "            \"/direct_messages/subscribers/lists/members/show\": {\n",
      "                \"limit\": 1000,\n",
      "                \"remaining\": 1000,\n",
      "                \"reset\": 1556375522\n",
      "            },\n",
      "            \"/direct_messages/mark_read\": {\n",
      "                \"limit\": 1000,\n",
      "                \"remaining\": 1000,\n",
      "                \"reset\": 1556375522\n",
      "            },\n",
      "            \"/direct_messages/subscribers/ids\": {\n",
      "                \"limit\": 180,\n",
      "                \"remaining\": 180,\n",
      "                \"reset\": 1556375522\n",
      "            },\n",
      "            \"/direct_messages/sent_and_received\": {\n",
      "                \"limit\": 300,\n",
      "                \"remaining\": 300,\n",
      "                \"reset\": 1556375522\n",
      "            },\n",
      "            \"/direct_messages/broadcasts/statuses/list\": {\n",
      "                \"limit\": 60,\n",
      "                \"remaining\": 60,\n",
      "                \"reset\": 1556375522\n",
      "            },\n",
      "            \"/direct_messages\": {\n",
      "                \"limit\": 300,\n",
      "                \"remaining\": 300,\n",
      "                \"reset\": 1556375522\n",
      "            },\n",
      "            \"/direct_messages/subscribers/lists/members/ids\": {\n",
      "                \"limit\": 180,\n",
      "                \"remaining\": 180,\n",
      "                \"reset\": 1556375522\n",
      "            },\n",
      "            \"/direct_messages/subscribers/show\": {\n",
      "                \"limit\": 180,\n",
      "                \"remaining\": 180,\n",
      "                \"reset\": 1556375522\n",
      "            },\n",
      "            \"/direct_messages/broadcasts/show\": {\n",
      "                \"limit\": 60,\n",
      "                \"remaining\": 60,\n",
      "                \"reset\": 1556375522\n",
      "            },\n",
      "            \"/direct_messages/broadcasts/statuses/show\": {\n",
      "                \"limit\": 60,\n",
      "                \"remaining\": 60,\n",
      "                \"reset\": 1556375522\n",
      "            },\n",
      "            \"/direct_messages/subscribers/lists/list\": {\n",
      "                \"limit\": 180,\n",
      "                \"remaining\": 180,\n",
      "                \"reset\": 1556375522\n",
      "            },\n",
      "            \"/direct_messages/show\": {\n",
      "                \"limit\": 300,\n",
      "                \"remaining\": 300,\n",
      "                \"reset\": 1556375522\n",
      "            },\n",
      "            \"/direct_messages/events/list\": {\n",
      "                \"limit\": 15,\n",
      "                \"remaining\": 15,\n",
      "                \"reset\": 1556375522\n",
      "            },\n",
      "            \"/direct_messages/subscribers/lists/show\": {\n",
      "                \"limit\": 180,\n",
      "                \"remaining\": 180,\n",
      "                \"reset\": 1556375522\n",
      "            },\n",
      "            \"/direct_messages/events/show\": {\n",
      "                \"limit\": 15,\n",
      "                \"remaining\": 15,\n",
      "                \"reset\": 1556375522\n",
      "            }\n",
      "        },\n",
      "        \"media\": {\n",
      "            \"/media/upload\": {\n",
      "                \"limit\": 500,\n",
      "                \"remaining\": 500,\n",
      "                \"reset\": 1556375522\n",
      "            }\n",
      "        },\n",
      "        \"traffic\": {\n",
      "            \"/traffic/map\": {\n",
      "                \"limit\": 15,\n",
      "                \"remaining\": 15,\n",
      "                \"reset\": 1556375522\n",
      "            }\n",
      "        },\n",
      "        \"account_activity\": {\n",
      "            \"/account_activity/all/webhooks\": {\n",
      "                \"limit\": 15,\n",
      "                \"remaining\": 15,\n",
      "                \"reset\": 1556375522\n",
      "            },\n",
      "            \"/account_activity/all/:instance_name/subscriptions\": {\n",
      "                \"limit\": 500,\n",
      "                \"remaining\": 500,\n",
      "                \"reset\": 1556375522\n",
      "            },\n",
      "            \"/account_activity/direct_messages/webhooks\": {\n",
      "                \"limit\": 15,\n",
      "                \"remaining\": 15,\n",
      "                \"reset\": 1556375522\n",
      "            },\n",
      "            \"/account_activity/webhooks/:id/subscriptions/direct_messages/list\": {\n",
      "                \"limit\": 15,\n",
      "                \"remaining\": 15,\n",
      "                \"reset\": 1556375522\n",
      "            },\n",
      "            \"/account_activity/webhooks/:id/subscriptions/all\": {\n",
      "                \"limit\": 500,\n",
      "                \"remaining\": 500,\n",
      "                \"reset\": 1556375522\n",
      "            },\n",
      "            \"/account_activity/direct_messages/:instance_name/webhooks\": {\n",
      "                \"limit\": 15,\n",
      "                \"remaining\": 15,\n",
      "                \"reset\": 1556375522\n",
      "            },\n",
      "            \"/account_activity/webhooks/:id/subscriptions/all/list\": {\n",
      "                \"limit\": 15,\n",
      "                \"remaining\": 15,\n",
      "                \"reset\": 1556375522\n",
      "            },\n",
      "            \"/account_activity/webhooks/:id/subscriptions/direct_messages\": {\n",
      "                \"limit\": 500,\n",
      "                \"remaining\": 500,\n",
      "                \"reset\": 1556375522\n",
      "            },\n",
      "            \"/account_activity/webhooks\": {\n",
      "                \"limit\": 15,\n",
      "                \"remaining\": 15,\n",
      "                \"reset\": 1556375522\n",
      "            },\n",
      "            \"/account_activity/direct_messages/:instance_name/subscriptions\": {\n",
      "                \"limit\": 15,\n",
      "                \"remaining\": 15,\n",
      "                \"reset\": 1556375522\n",
      "            },\n",
      "            \"/account_activity/webhooks/:id/subscriptions\": {\n",
      "                \"limit\": 500,\n",
      "                \"remaining\": 500,\n",
      "                \"reset\": 1556375522\n",
      "            },\n",
      "            \"/account_activity/all/:instance_name/webhooks\": {\n",
      "                \"limit\": 15,\n",
      "                \"remaining\": 15,\n",
      "                \"reset\": 1556375522\n",
      "            }\n",
      "        },\n",
      "        \"account\": {\n",
      "            \"/account/login_verification_enrollment\": {\n",
      "                \"limit\": 15,\n",
      "                \"remaining\": 15,\n",
      "                \"reset\": 1556375522\n",
      "            },\n",
      "            \"/account/update_profile\": {\n",
      "                \"limit\": 15,\n",
      "                \"remaining\": 15,\n",
      "                \"reset\": 1556375522\n",
      "            },\n",
      "            \"/account/verify_credentials\": {\n",
      "                \"limit\": 75,\n",
      "                \"remaining\": 75,\n",
      "                \"reset\": 1556375522\n",
      "            },\n",
      "            \"/account/settings\": {\n",
      "                \"limit\": 15,\n",
      "                \"remaining\": 15,\n",
      "                \"reset\": 1556375522\n",
      "            }\n",
      "        },\n",
      "        \"safety\": {\n",
      "            \"/safety/detection_feedback\": {\n",
      "                \"limit\": 450000,\n",
      "                \"remaining\": 450000,\n",
      "                \"reset\": 1556375522\n",
      "            }\n",
      "        },\n",
      "        \"favorites\": {\n",
      "            \"/favorites/list\": {\n",
      "                \"limit\": 75,\n",
      "                \"remaining\": 75,\n",
      "                \"reset\": 1556375522\n",
      "            }\n",
      "        },\n",
      "        \"device\": {\n",
      "            \"/device/token\": {\n",
      "                \"limit\": 15,\n",
      "                \"remaining\": 15,\n",
      "                \"reset\": 1556375522\n",
      "            }\n",
      "        },\n",
      "        \"tweets\": {\n",
      "            \"/tweets/stream/filter/rules\": {\n",
      "                \"limit\": 450,\n",
      "                \"remaining\": 450,\n",
      "                \"reset\": 1556375522\n",
      "            },\n",
      "            \"/tweets/stream/filter/:instance_name\": {\n",
      "                \"limit\": 50,\n",
      "                \"remaining\": 50,\n",
      "                \"reset\": 1556375522\n",
      "            },\n",
      "            \"/tweets/search/:product/:label\": {\n",
      "                \"limit\": 1800,\n",
      "                \"remaining\": 1800,\n",
      "                \"reset\": 1556375522\n",
      "            },\n",
      "            \"/tweets/search/:product/:instance/counts\": {\n",
      "                \"limit\": 900,\n",
      "                \"remaining\": 900,\n",
      "                \"reset\": 1556375522\n",
      "            },\n",
      "            \"/tweets/stream/filter/rules/:instance_name/validation&POST\": {\n",
      "                \"limit\": 450,\n",
      "                \"remaining\": 450,\n",
      "                \"reset\": 1556375522\n",
      "            },\n",
      "            \"/tweets/stream/filter/rules/:instance_name&POST\": {\n",
      "                \"limit\": 450,\n",
      "                \"remaining\": 450,\n",
      "                \"reset\": 1556375522\n",
      "            },\n",
      "            \"/tweets/stream/filter/rules/:instance_name&DELETE\": {\n",
      "                \"limit\": 450,\n",
      "                \"remaining\": 450,\n",
      "                \"reset\": 1556375522\n",
      "            },\n",
      "            \"/tweets/stream/filter/rules/:instance_name/:rule_id\": {\n",
      "                \"limit\": 450,\n",
      "                \"remaining\": 450,\n",
      "                \"reset\": 1556375522\n",
      "            }\n",
      "        },\n",
      "        \"saved_searches\": {\n",
      "            \"/saved_searches/destroy/:id\": {\n",
      "                \"limit\": 15,\n",
      "                \"remaining\": 15,\n",
      "                \"reset\": 1556375522\n",
      "            },\n",
      "            \"/saved_searches/show/:id\": {\n",
      "                \"limit\": 15,\n",
      "                \"remaining\": 15,\n",
      "                \"reset\": 1556375522\n",
      "            },\n",
      "            \"/saved_searches/list\": {\n",
      "                \"limit\": 15,\n",
      "                \"remaining\": 15,\n",
      "                \"reset\": 1556375522\n",
      "            }\n",
      "        },\n",
      "        \"oauth\": {\n",
      "            \"/oauth/invalidate_token\": {\n",
      "                \"limit\": 450,\n",
      "                \"remaining\": 450,\n",
      "                \"reset\": 1556375522\n",
      "            }\n",
      "        },\n",
      "        \"search\": {\n",
      "            \"/search/tweets\": {\n",
      "                \"limit\": 180,\n",
      "                \"remaining\": 180,\n",
      "                \"reset\": 1556375522\n",
      "            }\n",
      "        },\n",
      "        \"trends\": {\n",
      "            \"/trends/closest\": {\n",
      "                \"limit\": 75,\n",
      "                \"remaining\": 75,\n",
      "                \"reset\": 1556375522\n",
      "            },\n",
      "            \"/trends/available\": {\n",
      "                \"limit\": 75,\n",
      "                \"remaining\": 75,\n",
      "                \"reset\": 1556375522\n",
      "            },\n",
      "            \"/trends/place\": {\n",
      "                \"limit\": 75,\n",
      "                \"remaining\": 75,\n",
      "                \"reset\": 1556375522\n",
      "            }\n",
      "        },\n",
      "        \"live_pipeline\": {\n",
      "            \"/live_pipeline/events\": {\n",
      "                \"limit\": 180,\n",
      "                \"remaining\": 180,\n",
      "                \"reset\": 1556375522\n",
      "            }\n",
      "        }\n",
      "    }\n",
      "}\n"
     ]
    }
   ],
   "source": [
    "consumer_key = 'TOPSECRET'\n",
    "consumer_secret = 'TOPSECRET'\n",
    "access_token = 'ALSOTOPSECRET'\n",
    "access_secret = 'SAMESAMESECRET'\n",
    "\n",
    "auth = tweepy.OAuthHandler(consumer_key, consumer_secret)\n",
    "auth.set_access_token(access_token, access_secret)\n",
    "\n",
    "tweep_api = tweepy.API(auth, wait_on_rate_limit=True, wait_on_rate_limit_notify=True)\n",
    "\n",
    "# first test the tweepy API\n",
    "obj_return = tweep_api.rate_limit_status()\n",
    "print(json.dumps(obj_return, indent=4))\n"
   ]
  },
  {
   "cell_type": "code",
   "execution_count": 9,
   "metadata": {
    "scrolled": true
   },
   "outputs": [
    {
     "name": "stdout",
     "output_type": "stream",
     "text": [
      "['892420643555336193' '892177421306343426' '891815181378084864'\n",
      " '891689557279858688' '891327558926688256' '891087950875897856'\n",
      " '890971913173991426' '890729181411237888' '890609185150312448'\n",
      " '890240255349198849']\n"
     ]
    }
   ],
   "source": [
    "# get the tweet_ids to query (as strings better as int64, as recommended in twitter docs)\n",
    "tweetlist = df_tweetArchive['tweet_id'].astype(str).values\n",
    "print(tweetlist[:10])\n"
   ]
  },
  {
   "cell_type": "markdown",
   "metadata": {},
   "source": [
    "This Code Cell querying the Twitter API with 'tweepy' has been run, then set as a Markdown Cell, to prevent launching this long programmatic Process again\n",
    "\n",
    "#tweet_id = '892420643555336193'# testing the API with one tweet_id\n",
    "#wrong_tweets = ['8975987', '8768745'] # testing the loop with non existing tweet_ids --> catching Exceptions\n",
    "\n",
    "for each_tweet in tweetlist:\n",
    "    try:\n",
    "        status_object = tweep_api.get_status(each_tweet, tweet_mode='extended')\n",
    "        json_string = json.dumps(status_object._json)\n",
    "        # write as a line in tweet_json.txt\n",
    "        with open(jsonfilename, mode='a', encoding='utf-8') as fh:\n",
    "            fh.write(json_string + '\\n')\n",
    "        with open(tweetid_success, mode='a', encoding='utf-8') as file:\n",
    "            file.write(each_tweet + '\\n')\n",
    "    except Exception as e:\n",
    "        #catch all Exceptions and log Error with tweet_id!\n",
    "        with open(tweetid_errors, mode='a', encoding='utf-8') as textfile:\n",
    "            textfile.write(each_tweet + ': ')\n",
    "            textfile.write(str(e) + '\\n')\n",
    "        pass\n"
   ]
  },
  {
   "cell_type": "code",
   "execution_count": 10,
   "metadata": {},
   "outputs": [],
   "source": [
    "# Reading in the tweet_json.txt File in a pandas Dataframe\n",
    "# we read the file line by line, add each resulting JSON Object in a list and finally convert this into a DataFrame\n",
    "list_tweets = []\n",
    "with open(\"tweet_json.txt\", encoding='utf-8') as filehandle:\n",
    "    for line in filehandle: # read line by line\n",
    "        jsonobj = json.loads(line.strip())#not forgetting to strip the character '\\n' from the string\n",
    "        # Append to list of dictionaries\n",
    "        list_tweets.append(jsonobj)\n",
    "        \n",
    "df_tweepy = pd.DataFrame(list_tweets)"
   ]
  },
  {
   "cell_type": "code",
   "execution_count": 11,
   "metadata": {},
   "outputs": [
    {
     "data": {
      "text/html": [
       "<div>\n",
       "<style scoped>\n",
       "    .dataframe tbody tr th:only-of-type {\n",
       "        vertical-align: middle;\n",
       "    }\n",
       "\n",
       "    .dataframe tbody tr th {\n",
       "        vertical-align: top;\n",
       "    }\n",
       "\n",
       "    .dataframe thead th {\n",
       "        text-align: right;\n",
       "    }\n",
       "</style>\n",
       "<table border=\"1\" class=\"dataframe\">\n",
       "  <thead>\n",
       "    <tr style=\"text-align: right;\">\n",
       "      <th></th>\n",
       "      <th>contributors</th>\n",
       "      <th>coordinates</th>\n",
       "      <th>created_at</th>\n",
       "      <th>display_text_range</th>\n",
       "      <th>entities</th>\n",
       "      <th>extended_entities</th>\n",
       "      <th>favorite_count</th>\n",
       "      <th>favorited</th>\n",
       "      <th>full_text</th>\n",
       "      <th>geo</th>\n",
       "      <th>...</th>\n",
       "      <th>quoted_status</th>\n",
       "      <th>quoted_status_id</th>\n",
       "      <th>quoted_status_id_str</th>\n",
       "      <th>quoted_status_permalink</th>\n",
       "      <th>retweet_count</th>\n",
       "      <th>retweeted</th>\n",
       "      <th>retweeted_status</th>\n",
       "      <th>source</th>\n",
       "      <th>truncated</th>\n",
       "      <th>user</th>\n",
       "    </tr>\n",
       "  </thead>\n",
       "  <tbody>\n",
       "    <tr>\n",
       "      <th>0</th>\n",
       "      <td>None</td>\n",
       "      <td>None</td>\n",
       "      <td>Tue Aug 01 16:23:56 +0000 2017</td>\n",
       "      <td>[0, 85]</td>\n",
       "      <td>{'hashtags': [], 'symbols': [], 'user_mentions...</td>\n",
       "      <td>{'media': [{'id': 892420639486877696, 'id_str'...</td>\n",
       "      <td>37702</td>\n",
       "      <td>False</td>\n",
       "      <td>This is Phineas. He's a mystical boy. Only eve...</td>\n",
       "      <td>None</td>\n",
       "      <td>...</td>\n",
       "      <td>NaN</td>\n",
       "      <td>NaN</td>\n",
       "      <td>NaN</td>\n",
       "      <td>NaN</td>\n",
       "      <td>8217</td>\n",
       "      <td>False</td>\n",
       "      <td>NaN</td>\n",
       "      <td>&lt;a href=\"http://twitter.com/download/iphone\" r...</td>\n",
       "      <td>False</td>\n",
       "      <td>{'id': 4196983835, 'id_str': '4196983835', 'na...</td>\n",
       "    </tr>\n",
       "    <tr>\n",
       "      <th>1</th>\n",
       "      <td>None</td>\n",
       "      <td>None</td>\n",
       "      <td>Tue Aug 01 00:17:27 +0000 2017</td>\n",
       "      <td>[0, 138]</td>\n",
       "      <td>{'hashtags': [], 'symbols': [], 'user_mentions...</td>\n",
       "      <td>{'media': [{'id': 892177413194625024, 'id_str'...</td>\n",
       "      <td>32382</td>\n",
       "      <td>False</td>\n",
       "      <td>This is Tilly. She's just checking pup on you....</td>\n",
       "      <td>None</td>\n",
       "      <td>...</td>\n",
       "      <td>NaN</td>\n",
       "      <td>NaN</td>\n",
       "      <td>NaN</td>\n",
       "      <td>NaN</td>\n",
       "      <td>6075</td>\n",
       "      <td>False</td>\n",
       "      <td>NaN</td>\n",
       "      <td>&lt;a href=\"http://twitter.com/download/iphone\" r...</td>\n",
       "      <td>False</td>\n",
       "      <td>{'id': 4196983835, 'id_str': '4196983835', 'na...</td>\n",
       "    </tr>\n",
       "    <tr>\n",
       "      <th>2</th>\n",
       "      <td>None</td>\n",
       "      <td>None</td>\n",
       "      <td>Mon Jul 31 00:18:03 +0000 2017</td>\n",
       "      <td>[0, 121]</td>\n",
       "      <td>{'hashtags': [], 'symbols': [], 'user_mentions...</td>\n",
       "      <td>{'media': [{'id': 891815175371796480, 'id_str'...</td>\n",
       "      <td>24381</td>\n",
       "      <td>False</td>\n",
       "      <td>This is Archie. He is a rare Norwegian Pouncin...</td>\n",
       "      <td>None</td>\n",
       "      <td>...</td>\n",
       "      <td>NaN</td>\n",
       "      <td>NaN</td>\n",
       "      <td>NaN</td>\n",
       "      <td>NaN</td>\n",
       "      <td>4017</td>\n",
       "      <td>False</td>\n",
       "      <td>NaN</td>\n",
       "      <td>&lt;a href=\"http://twitter.com/download/iphone\" r...</td>\n",
       "      <td>False</td>\n",
       "      <td>{'id': 4196983835, 'id_str': '4196983835', 'na...</td>\n",
       "    </tr>\n",
       "    <tr>\n",
       "      <th>3</th>\n",
       "      <td>None</td>\n",
       "      <td>None</td>\n",
       "      <td>Sun Jul 30 15:58:51 +0000 2017</td>\n",
       "      <td>[0, 79]</td>\n",
       "      <td>{'hashtags': [], 'symbols': [], 'user_mentions...</td>\n",
       "      <td>{'media': [{'id': 891689552724799489, 'id_str'...</td>\n",
       "      <td>41016</td>\n",
       "      <td>False</td>\n",
       "      <td>This is Darla. She commenced a snooze mid meal...</td>\n",
       "      <td>None</td>\n",
       "      <td>...</td>\n",
       "      <td>NaN</td>\n",
       "      <td>NaN</td>\n",
       "      <td>NaN</td>\n",
       "      <td>NaN</td>\n",
       "      <td>8370</td>\n",
       "      <td>False</td>\n",
       "      <td>NaN</td>\n",
       "      <td>&lt;a href=\"http://twitter.com/download/iphone\" r...</td>\n",
       "      <td>False</td>\n",
       "      <td>{'id': 4196983835, 'id_str': '4196983835', 'na...</td>\n",
       "    </tr>\n",
       "    <tr>\n",
       "      <th>4</th>\n",
       "      <td>None</td>\n",
       "      <td>None</td>\n",
       "      <td>Sat Jul 29 16:00:24 +0000 2017</td>\n",
       "      <td>[0, 138]</td>\n",
       "      <td>{'hashtags': [{'text': 'BarkWeek', 'indices': ...</td>\n",
       "      <td>{'media': [{'id': 891327551943041024, 'id_str'...</td>\n",
       "      <td>39206</td>\n",
       "      <td>False</td>\n",
       "      <td>This is Franklin. He would like you to stop ca...</td>\n",
       "      <td>None</td>\n",
       "      <td>...</td>\n",
       "      <td>NaN</td>\n",
       "      <td>NaN</td>\n",
       "      <td>NaN</td>\n",
       "      <td>NaN</td>\n",
       "      <td>9075</td>\n",
       "      <td>False</td>\n",
       "      <td>NaN</td>\n",
       "      <td>&lt;a href=\"http://twitter.com/download/iphone\" r...</td>\n",
       "      <td>False</td>\n",
       "      <td>{'id': 4196983835, 'id_str': '4196983835', 'na...</td>\n",
       "    </tr>\n",
       "  </tbody>\n",
       "</table>\n",
       "<p>5 rows × 32 columns</p>\n",
       "</div>"
      ],
      "text/plain": [
       "  contributors coordinates                      created_at display_text_range  \\\n",
       "0         None        None  Tue Aug 01 16:23:56 +0000 2017            [0, 85]   \n",
       "1         None        None  Tue Aug 01 00:17:27 +0000 2017           [0, 138]   \n",
       "2         None        None  Mon Jul 31 00:18:03 +0000 2017           [0, 121]   \n",
       "3         None        None  Sun Jul 30 15:58:51 +0000 2017            [0, 79]   \n",
       "4         None        None  Sat Jul 29 16:00:24 +0000 2017           [0, 138]   \n",
       "\n",
       "                                            entities  \\\n",
       "0  {'hashtags': [], 'symbols': [], 'user_mentions...   \n",
       "1  {'hashtags': [], 'symbols': [], 'user_mentions...   \n",
       "2  {'hashtags': [], 'symbols': [], 'user_mentions...   \n",
       "3  {'hashtags': [], 'symbols': [], 'user_mentions...   \n",
       "4  {'hashtags': [{'text': 'BarkWeek', 'indices': ...   \n",
       "\n",
       "                                   extended_entities  favorite_count  \\\n",
       "0  {'media': [{'id': 892420639486877696, 'id_str'...           37702   \n",
       "1  {'media': [{'id': 892177413194625024, 'id_str'...           32382   \n",
       "2  {'media': [{'id': 891815175371796480, 'id_str'...           24381   \n",
       "3  {'media': [{'id': 891689552724799489, 'id_str'...           41016   \n",
       "4  {'media': [{'id': 891327551943041024, 'id_str'...           39206   \n",
       "\n",
       "   favorited                                          full_text   geo  \\\n",
       "0      False  This is Phineas. He's a mystical boy. Only eve...  None   \n",
       "1      False  This is Tilly. She's just checking pup on you....  None   \n",
       "2      False  This is Archie. He is a rare Norwegian Pouncin...  None   \n",
       "3      False  This is Darla. She commenced a snooze mid meal...  None   \n",
       "4      False  This is Franklin. He would like you to stop ca...  None   \n",
       "\n",
       "                         ...                          quoted_status  \\\n",
       "0                        ...                                    NaN   \n",
       "1                        ...                                    NaN   \n",
       "2                        ...                                    NaN   \n",
       "3                        ...                                    NaN   \n",
       "4                        ...                                    NaN   \n",
       "\n",
       "  quoted_status_id quoted_status_id_str  quoted_status_permalink  \\\n",
       "0              NaN                  NaN                      NaN   \n",
       "1              NaN                  NaN                      NaN   \n",
       "2              NaN                  NaN                      NaN   \n",
       "3              NaN                  NaN                      NaN   \n",
       "4              NaN                  NaN                      NaN   \n",
       "\n",
       "  retweet_count  retweeted retweeted_status  \\\n",
       "0          8217      False              NaN   \n",
       "1          6075      False              NaN   \n",
       "2          4017      False              NaN   \n",
       "3          8370      False              NaN   \n",
       "4          9075      False              NaN   \n",
       "\n",
       "                                              source truncated  \\\n",
       "0  <a href=\"http://twitter.com/download/iphone\" r...     False   \n",
       "1  <a href=\"http://twitter.com/download/iphone\" r...     False   \n",
       "2  <a href=\"http://twitter.com/download/iphone\" r...     False   \n",
       "3  <a href=\"http://twitter.com/download/iphone\" r...     False   \n",
       "4  <a href=\"http://twitter.com/download/iphone\" r...     False   \n",
       "\n",
       "                                                user  \n",
       "0  {'id': 4196983835, 'id_str': '4196983835', 'na...  \n",
       "1  {'id': 4196983835, 'id_str': '4196983835', 'na...  \n",
       "2  {'id': 4196983835, 'id_str': '4196983835', 'na...  \n",
       "3  {'id': 4196983835, 'id_str': '4196983835', 'na...  \n",
       "4  {'id': 4196983835, 'id_str': '4196983835', 'na...  \n",
       "\n",
       "[5 rows x 32 columns]"
      ]
     },
     "execution_count": 11,
     "metadata": {},
     "output_type": "execute_result"
    }
   ],
   "source": [
    "df_tweepy.head()\n",
    "\n",
    "#df_tweepy.id.duplicated().sum()"
   ]
  },
  {
   "cell_type": "code",
   "execution_count": 12,
   "metadata": {},
   "outputs": [
    {
     "data": {
      "text/plain": [
       "(2339, 32)"
      ]
     },
     "execution_count": 12,
     "metadata": {},
     "output_type": "execute_result"
    }
   ],
   "source": [
    "df_tweepy.shape"
   ]
  },
  {
   "cell_type": "markdown",
   "metadata": {},
   "source": [
    "[Back to Top](#top)"
   ]
  },
  {
   "cell_type": "markdown",
   "metadata": {},
   "source": [
    "<a id='assess'></a>\n",
    "## Assessing\n",
    "\n",
    "- [Assessing the Archive DataFrame](#archive)\n",
    "- [Assessing the Tweepy Dataframe](#tweepy)\n",
    "- [Assessing the Predictions Dataframe](#predict)"
   ]
  },
  {
   "cell_type": "markdown",
   "metadata": {},
   "source": [
    "### 1.Assessing the Archive\n",
    "<a id='archive'></a>"
   ]
  },
  {
   "cell_type": "code",
   "execution_count": 13,
   "metadata": {},
   "outputs": [
    {
     "name": "stdout",
     "output_type": "stream",
     "text": [
      "<class 'pandas.core.frame.DataFrame'>\n",
      "RangeIndex: 2356 entries, 0 to 2355\n",
      "Data columns (total 17 columns):\n",
      "tweet_id                      2356 non-null int64\n",
      "in_reply_to_status_id         78 non-null float64\n",
      "in_reply_to_user_id           78 non-null float64\n",
      "timestamp                     2356 non-null object\n",
      "source                        2356 non-null object\n",
      "text                          2356 non-null object\n",
      "retweeted_status_id           181 non-null float64\n",
      "retweeted_status_user_id      181 non-null float64\n",
      "retweeted_status_timestamp    181 non-null object\n",
      "expanded_urls                 2297 non-null object\n",
      "rating_numerator              2356 non-null int64\n",
      "rating_denominator            2356 non-null int64\n",
      "name                          2356 non-null object\n",
      "doggo                         2356 non-null object\n",
      "floofer                       2356 non-null object\n",
      "pupper                        2356 non-null object\n",
      "puppo                         2356 non-null object\n",
      "dtypes: float64(4), int64(3), object(10)\n",
      "memory usage: 313.0+ KB\n"
     ]
    }
   ],
   "source": [
    "df_tweetArchive.info()"
   ]
  },
  {
   "cell_type": "code",
   "execution_count": 14,
   "metadata": {},
   "outputs": [
    {
     "data": {
      "text/html": [
       "<div>\n",
       "<style scoped>\n",
       "    .dataframe tbody tr th:only-of-type {\n",
       "        vertical-align: middle;\n",
       "    }\n",
       "\n",
       "    .dataframe tbody tr th {\n",
       "        vertical-align: top;\n",
       "    }\n",
       "\n",
       "    .dataframe thead th {\n",
       "        text-align: right;\n",
       "    }\n",
       "</style>\n",
       "<table border=\"1\" class=\"dataframe\">\n",
       "  <thead>\n",
       "    <tr style=\"text-align: right;\">\n",
       "      <th></th>\n",
       "      <th>tweet_id</th>\n",
       "      <th>in_reply_to_status_id</th>\n",
       "      <th>in_reply_to_user_id</th>\n",
       "      <th>timestamp</th>\n",
       "      <th>source</th>\n",
       "      <th>text</th>\n",
       "      <th>retweeted_status_id</th>\n",
       "      <th>retweeted_status_user_id</th>\n",
       "      <th>retweeted_status_timestamp</th>\n",
       "      <th>expanded_urls</th>\n",
       "      <th>rating_numerator</th>\n",
       "      <th>rating_denominator</th>\n",
       "      <th>name</th>\n",
       "      <th>doggo</th>\n",
       "      <th>floofer</th>\n",
       "      <th>pupper</th>\n",
       "      <th>puppo</th>\n",
       "    </tr>\n",
       "  </thead>\n",
       "  <tbody>\n",
       "    <tr>\n",
       "      <th>0</th>\n",
       "      <td>892420643555336193</td>\n",
       "      <td>NaN</td>\n",
       "      <td>NaN</td>\n",
       "      <td>2017-08-01 16:23:56 +0000</td>\n",
       "      <td>&lt;a href=\"http://twitter.com/download/iphone\" r...</td>\n",
       "      <td>This is Phineas. He's a mystical boy. Only eve...</td>\n",
       "      <td>NaN</td>\n",
       "      <td>NaN</td>\n",
       "      <td>NaN</td>\n",
       "      <td>https://twitter.com/dog_rates/status/892420643...</td>\n",
       "      <td>13</td>\n",
       "      <td>10</td>\n",
       "      <td>Phineas</td>\n",
       "      <td>None</td>\n",
       "      <td>None</td>\n",
       "      <td>None</td>\n",
       "      <td>None</td>\n",
       "    </tr>\n",
       "    <tr>\n",
       "      <th>1</th>\n",
       "      <td>892177421306343426</td>\n",
       "      <td>NaN</td>\n",
       "      <td>NaN</td>\n",
       "      <td>2017-08-01 00:17:27 +0000</td>\n",
       "      <td>&lt;a href=\"http://twitter.com/download/iphone\" r...</td>\n",
       "      <td>This is Tilly. She's just checking pup on you....</td>\n",
       "      <td>NaN</td>\n",
       "      <td>NaN</td>\n",
       "      <td>NaN</td>\n",
       "      <td>https://twitter.com/dog_rates/status/892177421...</td>\n",
       "      <td>13</td>\n",
       "      <td>10</td>\n",
       "      <td>Tilly</td>\n",
       "      <td>None</td>\n",
       "      <td>None</td>\n",
       "      <td>None</td>\n",
       "      <td>None</td>\n",
       "    </tr>\n",
       "    <tr>\n",
       "      <th>2</th>\n",
       "      <td>891815181378084864</td>\n",
       "      <td>NaN</td>\n",
       "      <td>NaN</td>\n",
       "      <td>2017-07-31 00:18:03 +0000</td>\n",
       "      <td>&lt;a href=\"http://twitter.com/download/iphone\" r...</td>\n",
       "      <td>This is Archie. He is a rare Norwegian Pouncin...</td>\n",
       "      <td>NaN</td>\n",
       "      <td>NaN</td>\n",
       "      <td>NaN</td>\n",
       "      <td>https://twitter.com/dog_rates/status/891815181...</td>\n",
       "      <td>12</td>\n",
       "      <td>10</td>\n",
       "      <td>Archie</td>\n",
       "      <td>None</td>\n",
       "      <td>None</td>\n",
       "      <td>None</td>\n",
       "      <td>None</td>\n",
       "    </tr>\n",
       "  </tbody>\n",
       "</table>\n",
       "</div>"
      ],
      "text/plain": [
       "             tweet_id  in_reply_to_status_id  in_reply_to_user_id  \\\n",
       "0  892420643555336193                    NaN                  NaN   \n",
       "1  892177421306343426                    NaN                  NaN   \n",
       "2  891815181378084864                    NaN                  NaN   \n",
       "\n",
       "                   timestamp  \\\n",
       "0  2017-08-01 16:23:56 +0000   \n",
       "1  2017-08-01 00:17:27 +0000   \n",
       "2  2017-07-31 00:18:03 +0000   \n",
       "\n",
       "                                              source  \\\n",
       "0  <a href=\"http://twitter.com/download/iphone\" r...   \n",
       "1  <a href=\"http://twitter.com/download/iphone\" r...   \n",
       "2  <a href=\"http://twitter.com/download/iphone\" r...   \n",
       "\n",
       "                                                text  retweeted_status_id  \\\n",
       "0  This is Phineas. He's a mystical boy. Only eve...                  NaN   \n",
       "1  This is Tilly. She's just checking pup on you....                  NaN   \n",
       "2  This is Archie. He is a rare Norwegian Pouncin...                  NaN   \n",
       "\n",
       "   retweeted_status_user_id retweeted_status_timestamp  \\\n",
       "0                       NaN                        NaN   \n",
       "1                       NaN                        NaN   \n",
       "2                       NaN                        NaN   \n",
       "\n",
       "                                       expanded_urls  rating_numerator  \\\n",
       "0  https://twitter.com/dog_rates/status/892420643...                13   \n",
       "1  https://twitter.com/dog_rates/status/892177421...                13   \n",
       "2  https://twitter.com/dog_rates/status/891815181...                12   \n",
       "\n",
       "   rating_denominator     name doggo floofer pupper puppo  \n",
       "0                  10  Phineas  None    None   None  None  \n",
       "1                  10    Tilly  None    None   None  None  \n",
       "2                  10   Archie  None    None   None  None  "
      ]
     },
     "execution_count": 14,
     "metadata": {},
     "output_type": "execute_result"
    }
   ],
   "source": [
    "df_tweetArchive.head(3)"
   ]
  },
  {
   "cell_type": "markdown",
   "metadata": {},
   "source": [
    "#### Prepare a Working Copy :\n",
    "We already make a copy of the Archive Dataframe we want to work with, as we want to drop uninteresting Columns, to make a visual Assessment easyier."
   ]
  },
  {
   "cell_type": "code",
   "execution_count": 15,
   "metadata": {},
   "outputs": [
    {
     "data": {
      "text/html": [
       "<div>\n",
       "<style scoped>\n",
       "    .dataframe tbody tr th:only-of-type {\n",
       "        vertical-align: middle;\n",
       "    }\n",
       "\n",
       "    .dataframe tbody tr th {\n",
       "        vertical-align: top;\n",
       "    }\n",
       "\n",
       "    .dataframe thead th {\n",
       "        text-align: right;\n",
       "    }\n",
       "</style>\n",
       "<table border=\"1\" class=\"dataframe\">\n",
       "  <thead>\n",
       "    <tr style=\"text-align: right;\">\n",
       "      <th></th>\n",
       "      <th>tweet_id</th>\n",
       "      <th>timestamp</th>\n",
       "      <th>text</th>\n",
       "      <th>retweeted_status_id</th>\n",
       "      <th>retweeted_status_user_id</th>\n",
       "      <th>expanded_urls</th>\n",
       "      <th>rating_numerator</th>\n",
       "      <th>rating_denominator</th>\n",
       "      <th>name</th>\n",
       "      <th>doggo</th>\n",
       "      <th>floofer</th>\n",
       "      <th>pupper</th>\n",
       "      <th>puppo</th>\n",
       "    </tr>\n",
       "  </thead>\n",
       "  <tbody>\n",
       "    <tr>\n",
       "      <th>0</th>\n",
       "      <td>892420643555336193</td>\n",
       "      <td>2017-08-01 16:23:56 +0000</td>\n",
       "      <td>This is Phineas. He's a mystical boy. Only eve...</td>\n",
       "      <td>NaN</td>\n",
       "      <td>NaN</td>\n",
       "      <td>https://twitter.com/dog_rates/status/892420643...</td>\n",
       "      <td>13</td>\n",
       "      <td>10</td>\n",
       "      <td>Phineas</td>\n",
       "      <td>None</td>\n",
       "      <td>None</td>\n",
       "      <td>None</td>\n",
       "      <td>None</td>\n",
       "    </tr>\n",
       "    <tr>\n",
       "      <th>1</th>\n",
       "      <td>892177421306343426</td>\n",
       "      <td>2017-08-01 00:17:27 +0000</td>\n",
       "      <td>This is Tilly. She's just checking pup on you....</td>\n",
       "      <td>NaN</td>\n",
       "      <td>NaN</td>\n",
       "      <td>https://twitter.com/dog_rates/status/892177421...</td>\n",
       "      <td>13</td>\n",
       "      <td>10</td>\n",
       "      <td>Tilly</td>\n",
       "      <td>None</td>\n",
       "      <td>None</td>\n",
       "      <td>None</td>\n",
       "      <td>None</td>\n",
       "    </tr>\n",
       "    <tr>\n",
       "      <th>2</th>\n",
       "      <td>891815181378084864</td>\n",
       "      <td>2017-07-31 00:18:03 +0000</td>\n",
       "      <td>This is Archie. He is a rare Norwegian Pouncin...</td>\n",
       "      <td>NaN</td>\n",
       "      <td>NaN</td>\n",
       "      <td>https://twitter.com/dog_rates/status/891815181...</td>\n",
       "      <td>12</td>\n",
       "      <td>10</td>\n",
       "      <td>Archie</td>\n",
       "      <td>None</td>\n",
       "      <td>None</td>\n",
       "      <td>None</td>\n",
       "      <td>None</td>\n",
       "    </tr>\n",
       "  </tbody>\n",
       "</table>\n",
       "</div>"
      ],
      "text/plain": [
       "             tweet_id                  timestamp  \\\n",
       "0  892420643555336193  2017-08-01 16:23:56 +0000   \n",
       "1  892177421306343426  2017-08-01 00:17:27 +0000   \n",
       "2  891815181378084864  2017-07-31 00:18:03 +0000   \n",
       "\n",
       "                                                text  retweeted_status_id  \\\n",
       "0  This is Phineas. He's a mystical boy. Only eve...                  NaN   \n",
       "1  This is Tilly. She's just checking pup on you....                  NaN   \n",
       "2  This is Archie. He is a rare Norwegian Pouncin...                  NaN   \n",
       "\n",
       "   retweeted_status_user_id  \\\n",
       "0                       NaN   \n",
       "1                       NaN   \n",
       "2                       NaN   \n",
       "\n",
       "                                       expanded_urls  rating_numerator  \\\n",
       "0  https://twitter.com/dog_rates/status/892420643...                13   \n",
       "1  https://twitter.com/dog_rates/status/892177421...                13   \n",
       "2  https://twitter.com/dog_rates/status/891815181...                12   \n",
       "\n",
       "   rating_denominator     name doggo floofer pupper puppo  \n",
       "0                  10  Phineas  None    None   None  None  \n",
       "1                  10    Tilly  None    None   None  None  \n",
       "2                  10   Archie  None    None   None  None  "
      ]
     },
     "execution_count": 15,
     "metadata": {},
     "output_type": "execute_result"
    }
   ],
   "source": [
    "# Work on a copy of the tweet Archive\n",
    "df_archive = df_tweetArchive.copy()\n",
    "\n",
    "# Drop uninteresting Columns\n",
    "columns_todrop = ['in_reply_to_status_id', 'in_reply_to_user_id', 'source', 'retweeted_status_timestamp']\n",
    "df_archive.drop(columns=columns_todrop, inplace=True)\n",
    "df_archive.head(3)"
   ]
  },
  {
   "cell_type": "markdown",
   "metadata": {},
   "source": [
    "Visual Assessment with ```head(), tail() and sample()``` methods:\n"
   ]
  },
  {
   "cell_type": "code",
   "execution_count": 16,
   "metadata": {},
   "outputs": [
    {
     "data": {
      "text/html": [
       "<div>\n",
       "<style scoped>\n",
       "    .dataframe tbody tr th:only-of-type {\n",
       "        vertical-align: middle;\n",
       "    }\n",
       "\n",
       "    .dataframe tbody tr th {\n",
       "        vertical-align: top;\n",
       "    }\n",
       "\n",
       "    .dataframe thead th {\n",
       "        text-align: right;\n",
       "    }\n",
       "</style>\n",
       "<table border=\"1\" class=\"dataframe\">\n",
       "  <thead>\n",
       "    <tr style=\"text-align: right;\">\n",
       "      <th></th>\n",
       "      <th>tweet_id</th>\n",
       "      <th>timestamp</th>\n",
       "      <th>text</th>\n",
       "      <th>retweeted_status_id</th>\n",
       "      <th>retweeted_status_user_id</th>\n",
       "      <th>expanded_urls</th>\n",
       "      <th>rating_numerator</th>\n",
       "      <th>rating_denominator</th>\n",
       "      <th>name</th>\n",
       "      <th>doggo</th>\n",
       "      <th>floofer</th>\n",
       "      <th>pupper</th>\n",
       "      <th>puppo</th>\n",
       "    </tr>\n",
       "  </thead>\n",
       "  <tbody>\n",
       "    <tr>\n",
       "      <th>559</th>\n",
       "      <td>803276597545603072</td>\n",
       "      <td>2016-11-28 16:37:19 +0000</td>\n",
       "      <td>This is Winston. His selfie game is legendary....</td>\n",
       "      <td>NaN</td>\n",
       "      <td>NaN</td>\n",
       "      <td>https://twitter.com/dog_rates/status/803276597...</td>\n",
       "      <td>11</td>\n",
       "      <td>10</td>\n",
       "      <td>Winston</td>\n",
       "      <td>None</td>\n",
       "      <td>None</td>\n",
       "      <td>None</td>\n",
       "      <td>None</td>\n",
       "    </tr>\n",
       "    <tr>\n",
       "      <th>744</th>\n",
       "      <td>780192070812196864</td>\n",
       "      <td>2016-09-25 23:47:39 +0000</td>\n",
       "      <td>We only rate dogs. Pls stop sending in non-can...</td>\n",
       "      <td>NaN</td>\n",
       "      <td>NaN</td>\n",
       "      <td>https://twitter.com/dog_rates/status/780192070...</td>\n",
       "      <td>11</td>\n",
       "      <td>10</td>\n",
       "      <td>None</td>\n",
       "      <td>None</td>\n",
       "      <td>None</td>\n",
       "      <td>None</td>\n",
       "      <td>None</td>\n",
       "    </tr>\n",
       "    <tr>\n",
       "      <th>802</th>\n",
       "      <td>772193107915964416</td>\n",
       "      <td>2016-09-03 22:02:38 +0000</td>\n",
       "      <td>This is Willem. He's a Penn State pupper. Thin...</td>\n",
       "      <td>NaN</td>\n",
       "      <td>NaN</td>\n",
       "      <td>https://twitter.com/dog_rates/status/772193107...</td>\n",
       "      <td>12</td>\n",
       "      <td>10</td>\n",
       "      <td>Willem</td>\n",
       "      <td>None</td>\n",
       "      <td>None</td>\n",
       "      <td>pupper</td>\n",
       "      <td>None</td>\n",
       "    </tr>\n",
       "    <tr>\n",
       "      <th>1737</th>\n",
       "      <td>679530280114372609</td>\n",
       "      <td>2015-12-23 05:13:38 +0000</td>\n",
       "      <td>Guys this really needs to stop. We've been ove...</td>\n",
       "      <td>NaN</td>\n",
       "      <td>NaN</td>\n",
       "      <td>https://twitter.com/dog_rates/status/679530280...</td>\n",
       "      <td>7</td>\n",
       "      <td>10</td>\n",
       "      <td>a</td>\n",
       "      <td>None</td>\n",
       "      <td>None</td>\n",
       "      <td>None</td>\n",
       "      <td>None</td>\n",
       "    </tr>\n",
       "    <tr>\n",
       "      <th>2030</th>\n",
       "      <td>671789708968640512</td>\n",
       "      <td>2015-12-01 20:35:22 +0000</td>\n",
       "      <td>This is space pup. He's very confused. Tries t...</td>\n",
       "      <td>NaN</td>\n",
       "      <td>NaN</td>\n",
       "      <td>https://twitter.com/dog_rates/status/671789708...</td>\n",
       "      <td>13</td>\n",
       "      <td>10</td>\n",
       "      <td>space</td>\n",
       "      <td>None</td>\n",
       "      <td>None</td>\n",
       "      <td>None</td>\n",
       "      <td>None</td>\n",
       "    </tr>\n",
       "  </tbody>\n",
       "</table>\n",
       "</div>"
      ],
      "text/plain": [
       "                tweet_id                  timestamp  \\\n",
       "559   803276597545603072  2016-11-28 16:37:19 +0000   \n",
       "744   780192070812196864  2016-09-25 23:47:39 +0000   \n",
       "802   772193107915964416  2016-09-03 22:02:38 +0000   \n",
       "1737  679530280114372609  2015-12-23 05:13:38 +0000   \n",
       "2030  671789708968640512  2015-12-01 20:35:22 +0000   \n",
       "\n",
       "                                                   text  retweeted_status_id  \\\n",
       "559   This is Winston. His selfie game is legendary....                  NaN   \n",
       "744   We only rate dogs. Pls stop sending in non-can...                  NaN   \n",
       "802   This is Willem. He's a Penn State pupper. Thin...                  NaN   \n",
       "1737  Guys this really needs to stop. We've been ove...                  NaN   \n",
       "2030  This is space pup. He's very confused. Tries t...                  NaN   \n",
       "\n",
       "      retweeted_status_user_id  \\\n",
       "559                        NaN   \n",
       "744                        NaN   \n",
       "802                        NaN   \n",
       "1737                       NaN   \n",
       "2030                       NaN   \n",
       "\n",
       "                                          expanded_urls  rating_numerator  \\\n",
       "559   https://twitter.com/dog_rates/status/803276597...                11   \n",
       "744   https://twitter.com/dog_rates/status/780192070...                11   \n",
       "802   https://twitter.com/dog_rates/status/772193107...                12   \n",
       "1737  https://twitter.com/dog_rates/status/679530280...                 7   \n",
       "2030  https://twitter.com/dog_rates/status/671789708...                13   \n",
       "\n",
       "      rating_denominator     name doggo floofer  pupper puppo  \n",
       "559                   10  Winston  None    None    None  None  \n",
       "744                   10     None  None    None    None  None  \n",
       "802                   10   Willem  None    None  pupper  None  \n",
       "1737                  10        a  None    None    None  None  \n",
       "2030                  10    space  None    None    None  None  "
      ]
     },
     "execution_count": 16,
     "metadata": {},
     "output_type": "execute_result"
    }
   ],
   "source": [
    "df_samp = df_archive.sample(5)\n",
    "df_samp"
   ]
  },
  {
   "cell_type": "code",
   "execution_count": 17,
   "metadata": {},
   "outputs": [
    {
     "data": {
      "text/html": [
       "<div>\n",
       "<style scoped>\n",
       "    .dataframe tbody tr th:only-of-type {\n",
       "        vertical-align: middle;\n",
       "    }\n",
       "\n",
       "    .dataframe tbody tr th {\n",
       "        vertical-align: top;\n",
       "    }\n",
       "\n",
       "    .dataframe thead th {\n",
       "        text-align: right;\n",
       "    }\n",
       "</style>\n",
       "<table border=\"1\" class=\"dataframe\">\n",
       "  <thead>\n",
       "    <tr style=\"text-align: right;\">\n",
       "      <th></th>\n",
       "      <th>tweet_id</th>\n",
       "      <th>timestamp</th>\n",
       "      <th>text</th>\n",
       "      <th>retweeted_status_id</th>\n",
       "      <th>retweeted_status_user_id</th>\n",
       "      <th>expanded_urls</th>\n",
       "      <th>rating_numerator</th>\n",
       "      <th>rating_denominator</th>\n",
       "      <th>name</th>\n",
       "      <th>doggo</th>\n",
       "      <th>floofer</th>\n",
       "      <th>pupper</th>\n",
       "      <th>puppo</th>\n",
       "    </tr>\n",
       "  </thead>\n",
       "  <tbody>\n",
       "    <tr>\n",
       "      <th>2351</th>\n",
       "      <td>666049248165822465</td>\n",
       "      <td>2015-11-16 00:24:50 +0000</td>\n",
       "      <td>Here we have a 1949 1st generation vulpix. Enj...</td>\n",
       "      <td>NaN</td>\n",
       "      <td>NaN</td>\n",
       "      <td>https://twitter.com/dog_rates/status/666049248...</td>\n",
       "      <td>5</td>\n",
       "      <td>10</td>\n",
       "      <td>None</td>\n",
       "      <td>None</td>\n",
       "      <td>None</td>\n",
       "      <td>None</td>\n",
       "      <td>None</td>\n",
       "    </tr>\n",
       "    <tr>\n",
       "      <th>2352</th>\n",
       "      <td>666044226329800704</td>\n",
       "      <td>2015-11-16 00:04:52 +0000</td>\n",
       "      <td>This is a purebred Piers Morgan. Loves to Netf...</td>\n",
       "      <td>NaN</td>\n",
       "      <td>NaN</td>\n",
       "      <td>https://twitter.com/dog_rates/status/666044226...</td>\n",
       "      <td>6</td>\n",
       "      <td>10</td>\n",
       "      <td>a</td>\n",
       "      <td>None</td>\n",
       "      <td>None</td>\n",
       "      <td>None</td>\n",
       "      <td>None</td>\n",
       "    </tr>\n",
       "    <tr>\n",
       "      <th>2353</th>\n",
       "      <td>666033412701032449</td>\n",
       "      <td>2015-11-15 23:21:54 +0000</td>\n",
       "      <td>Here is a very happy pup. Big fan of well-main...</td>\n",
       "      <td>NaN</td>\n",
       "      <td>NaN</td>\n",
       "      <td>https://twitter.com/dog_rates/status/666033412...</td>\n",
       "      <td>9</td>\n",
       "      <td>10</td>\n",
       "      <td>a</td>\n",
       "      <td>None</td>\n",
       "      <td>None</td>\n",
       "      <td>None</td>\n",
       "      <td>None</td>\n",
       "    </tr>\n",
       "    <tr>\n",
       "      <th>2354</th>\n",
       "      <td>666029285002620928</td>\n",
       "      <td>2015-11-15 23:05:30 +0000</td>\n",
       "      <td>This is a western brown Mitsubishi terrier. Up...</td>\n",
       "      <td>NaN</td>\n",
       "      <td>NaN</td>\n",
       "      <td>https://twitter.com/dog_rates/status/666029285...</td>\n",
       "      <td>7</td>\n",
       "      <td>10</td>\n",
       "      <td>a</td>\n",
       "      <td>None</td>\n",
       "      <td>None</td>\n",
       "      <td>None</td>\n",
       "      <td>None</td>\n",
       "    </tr>\n",
       "    <tr>\n",
       "      <th>2355</th>\n",
       "      <td>666020888022790149</td>\n",
       "      <td>2015-11-15 22:32:08 +0000</td>\n",
       "      <td>Here we have a Japanese Irish Setter. Lost eye...</td>\n",
       "      <td>NaN</td>\n",
       "      <td>NaN</td>\n",
       "      <td>https://twitter.com/dog_rates/status/666020888...</td>\n",
       "      <td>8</td>\n",
       "      <td>10</td>\n",
       "      <td>None</td>\n",
       "      <td>None</td>\n",
       "      <td>None</td>\n",
       "      <td>None</td>\n",
       "      <td>None</td>\n",
       "    </tr>\n",
       "  </tbody>\n",
       "</table>\n",
       "</div>"
      ],
      "text/plain": [
       "                tweet_id                  timestamp  \\\n",
       "2351  666049248165822465  2015-11-16 00:24:50 +0000   \n",
       "2352  666044226329800704  2015-11-16 00:04:52 +0000   \n",
       "2353  666033412701032449  2015-11-15 23:21:54 +0000   \n",
       "2354  666029285002620928  2015-11-15 23:05:30 +0000   \n",
       "2355  666020888022790149  2015-11-15 22:32:08 +0000   \n",
       "\n",
       "                                                   text  retweeted_status_id  \\\n",
       "2351  Here we have a 1949 1st generation vulpix. Enj...                  NaN   \n",
       "2352  This is a purebred Piers Morgan. Loves to Netf...                  NaN   \n",
       "2353  Here is a very happy pup. Big fan of well-main...                  NaN   \n",
       "2354  This is a western brown Mitsubishi terrier. Up...                  NaN   \n",
       "2355  Here we have a Japanese Irish Setter. Lost eye...                  NaN   \n",
       "\n",
       "      retweeted_status_user_id  \\\n",
       "2351                       NaN   \n",
       "2352                       NaN   \n",
       "2353                       NaN   \n",
       "2354                       NaN   \n",
       "2355                       NaN   \n",
       "\n",
       "                                          expanded_urls  rating_numerator  \\\n",
       "2351  https://twitter.com/dog_rates/status/666049248...                 5   \n",
       "2352  https://twitter.com/dog_rates/status/666044226...                 6   \n",
       "2353  https://twitter.com/dog_rates/status/666033412...                 9   \n",
       "2354  https://twitter.com/dog_rates/status/666029285...                 7   \n",
       "2355  https://twitter.com/dog_rates/status/666020888...                 8   \n",
       "\n",
       "      rating_denominator  name doggo floofer pupper puppo  \n",
       "2351                  10  None  None    None   None  None  \n",
       "2352                  10     a  None    None   None  None  \n",
       "2353                  10     a  None    None   None  None  \n",
       "2354                  10     a  None    None   None  None  \n",
       "2355                  10  None  None    None   None  None  "
      ]
     },
     "execution_count": 17,
     "metadata": {},
     "output_type": "execute_result"
    }
   ],
   "source": [
    "df_archive.tail()"
   ]
  },
  {
   "cell_type": "code",
   "execution_count": 18,
   "metadata": {},
   "outputs": [
    {
     "data": {
      "text/plain": [
       "0"
      ]
     },
     "execution_count": 18,
     "metadata": {},
     "output_type": "execute_result"
    }
   ],
   "source": [
    "# Checking for duplicate rows:\n",
    "df_archive.duplicated().sum()"
   ]
  },
  {
   "cell_type": "code",
   "execution_count": 19,
   "metadata": {},
   "outputs": [
    {
     "data": {
      "text/plain": [
       "2356"
      ]
     },
     "execution_count": 19,
     "metadata": {},
     "output_type": "execute_result"
    }
   ],
   "source": [
    "# Checking that each tweet id appears just once.\n",
    "df_archive.tweet_id.nunique()"
   ]
  },
  {
   "cell_type": "markdown",
   "metadata": {},
   "source": [
    "There are no duplicated Records and each row describes a distinct tweet."
   ]
  },
  {
   "cell_type": "markdown",
   "metadata": {},
   "source": [
    "#### Inspecting missing values in the Archive Dataframe:"
   ]
  },
  {
   "cell_type": "markdown",
   "metadata": {},
   "source": [
    "There are missing values in the Columns: 'retweeted_status_id', 'retweeted_status_user_id'and 'expanded_urls'.\n",
    "\n",
    "- For the first two Columns, the non-null Values indicate that the tweet is a re-tweet and we want to drop those,\n",
    "as we only want <i>original</i> Tweets. After this has been done, we will drop these two Columns. So we don't have a completeness issue with missing values here.\n",
    "\n",
    "- The expended_url is the tweet url and should not be missing. We will have to inspect this further."
   ]
  },
  {
   "cell_type": "markdown",
   "metadata": {},
   "source": [
    "#### Quality Issues in the Archive Dataframe:\n",
    "\n",
    "- 1. timestamp should be a datetime Object.\n",
    "- 2. some tweets are obsolete and must be removed (could not be fetched from the tweepy API)\n",
    "- 3. some tweets are retweets (181 non null 'retweeted_status_id') and must be removed\n",
    "- 4. there are missing values in the 'expended_urls' Column."
   ]
  },
  {
   "cell_type": "markdown",
   "metadata": {},
   "source": [
    "Now we inspect the Rating Values:"
   ]
  },
  {
   "cell_type": "code",
   "execution_count": 20,
   "metadata": {},
   "outputs": [
    {
     "data": {
      "text/plain": [
       "10     2333\n",
       "11        3\n",
       "50        3\n",
       "80        2\n",
       "20        2\n",
       "2         1\n",
       "16        1\n",
       "40        1\n",
       "70        1\n",
       "15        1\n",
       "90        1\n",
       "110       1\n",
       "120       1\n",
       "130       1\n",
       "150       1\n",
       "170       1\n",
       "7         1\n",
       "0         1\n",
       "Name: rating_denominator, dtype: int64"
      ]
     },
     "execution_count": 20,
     "metadata": {},
     "output_type": "execute_result"
    }
   ],
   "source": [
    "# Inspecting the ratings\n",
    "df_archive.rating_denominator.value_counts()"
   ]
  },
  {
   "cell_type": "code",
   "execution_count": 21,
   "metadata": {},
   "outputs": [
    {
     "data": {
      "text/plain": [
       "rating_denominator  rating_numerator\n",
       "0                   960                   1\n",
       "2                   1                     1\n",
       "7                   24                    1\n",
       "10                  12                  558\n",
       "                    11                  463\n",
       "                    10                  461\n",
       "                    13                  351\n",
       "                    9                   156\n",
       "                    8                   102\n",
       "                    7                    54\n",
       "                    14                   54\n",
       "                    5                    37\n",
       "                    6                    32\n",
       "                    3                    19\n",
       "                    4                    15\n",
       "                    2                     9\n",
       "                    1                     8\n",
       "                    0                     2\n",
       "                    15                    2\n",
       "                    75                    2\n",
       "                    420                   2\n",
       "                    17                    1\n",
       "                    26                    1\n",
       "                    27                    1\n",
       "                    182                   1\n",
       "                    666                   1\n",
       "                    1776                  1\n",
       "11                  9                     2\n",
       "                    7                     1\n",
       "15                  11                    1\n",
       "16                  20                    1\n",
       "20                  4                     2\n",
       "40                  44                    1\n",
       "50                  45                    1\n",
       "                    50                    1\n",
       "                    60                    1\n",
       "70                  84                    1\n",
       "80                  80                    1\n",
       "                    88                    1\n",
       "90                  99                    1\n",
       "110                 121                   1\n",
       "120                 144                   1\n",
       "130                 143                   1\n",
       "150                 165                   1\n",
       "170                 204                   1\n",
       "Name: rating_numerator, dtype: int64"
      ]
     },
     "execution_count": 21,
     "metadata": {},
     "output_type": "execute_result"
    }
   ],
   "source": [
    "# values of numerator for values of denominator\n",
    "df_archive.groupby(['rating_denominator'])['rating_numerator'].value_counts()"
   ]
  },
  {
   "cell_type": "code",
   "execution_count": 22,
   "metadata": {},
   "outputs": [
    {
     "data": {
      "text/plain": [
       "(23, 13)"
      ]
     },
     "execution_count": 22,
     "metadata": {},
     "output_type": "execute_result"
    }
   ],
   "source": [
    "# Inspect the denominator different than 10:\n",
    "df_archive_denominators = df_archive[df_archive.rating_denominator != 10]\n",
    "df_archive_denominators.shape"
   ]
  },
  {
   "cell_type": "code",
   "execution_count": 23,
   "metadata": {},
   "outputs": [
    {
     "data": {
      "text/html": [
       "<div>\n",
       "<style scoped>\n",
       "    .dataframe tbody tr th:only-of-type {\n",
       "        vertical-align: middle;\n",
       "    }\n",
       "\n",
       "    .dataframe tbody tr th {\n",
       "        vertical-align: top;\n",
       "    }\n",
       "\n",
       "    .dataframe thead th {\n",
       "        text-align: right;\n",
       "    }\n",
       "</style>\n",
       "<table border=\"1\" class=\"dataframe\">\n",
       "  <thead>\n",
       "    <tr style=\"text-align: right;\">\n",
       "      <th></th>\n",
       "      <th>tweet_id</th>\n",
       "      <th>timestamp</th>\n",
       "      <th>text</th>\n",
       "      <th>retweeted_status_id</th>\n",
       "      <th>retweeted_status_user_id</th>\n",
       "      <th>expanded_urls</th>\n",
       "      <th>rating_numerator</th>\n",
       "      <th>rating_denominator</th>\n",
       "      <th>name</th>\n",
       "      <th>doggo</th>\n",
       "      <th>floofer</th>\n",
       "      <th>pupper</th>\n",
       "      <th>puppo</th>\n",
       "    </tr>\n",
       "  </thead>\n",
       "  <tbody>\n",
       "    <tr>\n",
       "      <th>313</th>\n",
       "      <td>835246439529840640</td>\n",
       "      <td>2017-02-24 21:54:03 +0000</td>\n",
       "      <td>@jonnysun @Lin_Manuel ok jomny I know you're e...</td>\n",
       "      <td>NaN</td>\n",
       "      <td>NaN</td>\n",
       "      <td>NaN</td>\n",
       "      <td>960</td>\n",
       "      <td>0</td>\n",
       "      <td>None</td>\n",
       "      <td>None</td>\n",
       "      <td>None</td>\n",
       "      <td>None</td>\n",
       "      <td>None</td>\n",
       "    </tr>\n",
       "    <tr>\n",
       "      <th>342</th>\n",
       "      <td>832088576586297345</td>\n",
       "      <td>2017-02-16 04:45:50 +0000</td>\n",
       "      <td>@docmisterio account started on 11/15/15</td>\n",
       "      <td>NaN</td>\n",
       "      <td>NaN</td>\n",
       "      <td>NaN</td>\n",
       "      <td>11</td>\n",
       "      <td>15</td>\n",
       "      <td>None</td>\n",
       "      <td>None</td>\n",
       "      <td>None</td>\n",
       "      <td>None</td>\n",
       "      <td>None</td>\n",
       "    </tr>\n",
       "    <tr>\n",
       "      <th>433</th>\n",
       "      <td>820690176645140481</td>\n",
       "      <td>2017-01-15 17:52:40 +0000</td>\n",
       "      <td>The floofs have been released I repeat the flo...</td>\n",
       "      <td>NaN</td>\n",
       "      <td>NaN</td>\n",
       "      <td>https://twitter.com/dog_rates/status/820690176...</td>\n",
       "      <td>84</td>\n",
       "      <td>70</td>\n",
       "      <td>None</td>\n",
       "      <td>None</td>\n",
       "      <td>None</td>\n",
       "      <td>None</td>\n",
       "      <td>None</td>\n",
       "    </tr>\n",
       "    <tr>\n",
       "      <th>516</th>\n",
       "      <td>810984652412424192</td>\n",
       "      <td>2016-12-19 23:06:23 +0000</td>\n",
       "      <td>Meet Sam. She smiles 24/7 &amp;amp; secretly aspir...</td>\n",
       "      <td>NaN</td>\n",
       "      <td>NaN</td>\n",
       "      <td>https://www.gofundme.com/sams-smile,https://tw...</td>\n",
       "      <td>24</td>\n",
       "      <td>7</td>\n",
       "      <td>Sam</td>\n",
       "      <td>None</td>\n",
       "      <td>None</td>\n",
       "      <td>None</td>\n",
       "      <td>None</td>\n",
       "    </tr>\n",
       "    <tr>\n",
       "      <th>784</th>\n",
       "      <td>775096608509886464</td>\n",
       "      <td>2016-09-11 22:20:06 +0000</td>\n",
       "      <td>RT @dog_rates: After so many requests, this is...</td>\n",
       "      <td>7.403732e+17</td>\n",
       "      <td>4.196984e+09</td>\n",
       "      <td>https://twitter.com/dog_rates/status/740373189...</td>\n",
       "      <td>9</td>\n",
       "      <td>11</td>\n",
       "      <td>None</td>\n",
       "      <td>None</td>\n",
       "      <td>None</td>\n",
       "      <td>None</td>\n",
       "      <td>None</td>\n",
       "    </tr>\n",
       "    <tr>\n",
       "      <th>902</th>\n",
       "      <td>758467244762497024</td>\n",
       "      <td>2016-07-28 01:00:57 +0000</td>\n",
       "      <td>Why does this never happen at my front door......</td>\n",
       "      <td>NaN</td>\n",
       "      <td>NaN</td>\n",
       "      <td>https://twitter.com/dog_rates/status/758467244...</td>\n",
       "      <td>165</td>\n",
       "      <td>150</td>\n",
       "      <td>None</td>\n",
       "      <td>None</td>\n",
       "      <td>None</td>\n",
       "      <td>None</td>\n",
       "      <td>None</td>\n",
       "    </tr>\n",
       "    <tr>\n",
       "      <th>1068</th>\n",
       "      <td>740373189193256964</td>\n",
       "      <td>2016-06-08 02:41:38 +0000</td>\n",
       "      <td>After so many requests, this is Bretagne. She ...</td>\n",
       "      <td>NaN</td>\n",
       "      <td>NaN</td>\n",
       "      <td>https://twitter.com/dog_rates/status/740373189...</td>\n",
       "      <td>9</td>\n",
       "      <td>11</td>\n",
       "      <td>None</td>\n",
       "      <td>None</td>\n",
       "      <td>None</td>\n",
       "      <td>None</td>\n",
       "      <td>None</td>\n",
       "    </tr>\n",
       "    <tr>\n",
       "      <th>1120</th>\n",
       "      <td>731156023742988288</td>\n",
       "      <td>2016-05-13 16:15:54 +0000</td>\n",
       "      <td>Say hello to this unbelievably well behaved sq...</td>\n",
       "      <td>NaN</td>\n",
       "      <td>NaN</td>\n",
       "      <td>https://twitter.com/dog_rates/status/731156023...</td>\n",
       "      <td>204</td>\n",
       "      <td>170</td>\n",
       "      <td>this</td>\n",
       "      <td>None</td>\n",
       "      <td>None</td>\n",
       "      <td>None</td>\n",
       "      <td>None</td>\n",
       "    </tr>\n",
       "    <tr>\n",
       "      <th>1165</th>\n",
       "      <td>722974582966214656</td>\n",
       "      <td>2016-04-21 02:25:47 +0000</td>\n",
       "      <td>Happy 4/20 from the squad! 13/10 for all https...</td>\n",
       "      <td>NaN</td>\n",
       "      <td>NaN</td>\n",
       "      <td>https://twitter.com/dog_rates/status/722974582...</td>\n",
       "      <td>4</td>\n",
       "      <td>20</td>\n",
       "      <td>None</td>\n",
       "      <td>None</td>\n",
       "      <td>None</td>\n",
       "      <td>None</td>\n",
       "      <td>None</td>\n",
       "    </tr>\n",
       "    <tr>\n",
       "      <th>1202</th>\n",
       "      <td>716439118184652801</td>\n",
       "      <td>2016-04-03 01:36:11 +0000</td>\n",
       "      <td>This is Bluebert. He just saw that both #Final...</td>\n",
       "      <td>NaN</td>\n",
       "      <td>NaN</td>\n",
       "      <td>https://twitter.com/dog_rates/status/716439118...</td>\n",
       "      <td>50</td>\n",
       "      <td>50</td>\n",
       "      <td>Bluebert</td>\n",
       "      <td>None</td>\n",
       "      <td>None</td>\n",
       "      <td>None</td>\n",
       "      <td>None</td>\n",
       "    </tr>\n",
       "    <tr>\n",
       "      <th>1228</th>\n",
       "      <td>713900603437621249</td>\n",
       "      <td>2016-03-27 01:29:02 +0000</td>\n",
       "      <td>Happy Saturday here's 9 puppers on a bench. 99...</td>\n",
       "      <td>NaN</td>\n",
       "      <td>NaN</td>\n",
       "      <td>https://twitter.com/dog_rates/status/713900603...</td>\n",
       "      <td>99</td>\n",
       "      <td>90</td>\n",
       "      <td>None</td>\n",
       "      <td>None</td>\n",
       "      <td>None</td>\n",
       "      <td>None</td>\n",
       "      <td>None</td>\n",
       "    </tr>\n",
       "    <tr>\n",
       "      <th>1254</th>\n",
       "      <td>710658690886586372</td>\n",
       "      <td>2016-03-18 02:46:49 +0000</td>\n",
       "      <td>Here's a brigade of puppers. All look very pre...</td>\n",
       "      <td>NaN</td>\n",
       "      <td>NaN</td>\n",
       "      <td>https://twitter.com/dog_rates/status/710658690...</td>\n",
       "      <td>80</td>\n",
       "      <td>80</td>\n",
       "      <td>None</td>\n",
       "      <td>None</td>\n",
       "      <td>None</td>\n",
       "      <td>None</td>\n",
       "      <td>None</td>\n",
       "    </tr>\n",
       "  </tbody>\n",
       "</table>\n",
       "</div>"
      ],
      "text/plain": [
       "                tweet_id                  timestamp  \\\n",
       "313   835246439529840640  2017-02-24 21:54:03 +0000   \n",
       "342   832088576586297345  2017-02-16 04:45:50 +0000   \n",
       "433   820690176645140481  2017-01-15 17:52:40 +0000   \n",
       "516   810984652412424192  2016-12-19 23:06:23 +0000   \n",
       "784   775096608509886464  2016-09-11 22:20:06 +0000   \n",
       "902   758467244762497024  2016-07-28 01:00:57 +0000   \n",
       "1068  740373189193256964  2016-06-08 02:41:38 +0000   \n",
       "1120  731156023742988288  2016-05-13 16:15:54 +0000   \n",
       "1165  722974582966214656  2016-04-21 02:25:47 +0000   \n",
       "1202  716439118184652801  2016-04-03 01:36:11 +0000   \n",
       "1228  713900603437621249  2016-03-27 01:29:02 +0000   \n",
       "1254  710658690886586372  2016-03-18 02:46:49 +0000   \n",
       "\n",
       "                                                   text  retweeted_status_id  \\\n",
       "313   @jonnysun @Lin_Manuel ok jomny I know you're e...                  NaN   \n",
       "342            @docmisterio account started on 11/15/15                  NaN   \n",
       "433   The floofs have been released I repeat the flo...                  NaN   \n",
       "516   Meet Sam. She smiles 24/7 &amp; secretly aspir...                  NaN   \n",
       "784   RT @dog_rates: After so many requests, this is...         7.403732e+17   \n",
       "902   Why does this never happen at my front door......                  NaN   \n",
       "1068  After so many requests, this is Bretagne. She ...                  NaN   \n",
       "1120  Say hello to this unbelievably well behaved sq...                  NaN   \n",
       "1165  Happy 4/20 from the squad! 13/10 for all https...                  NaN   \n",
       "1202  This is Bluebert. He just saw that both #Final...                  NaN   \n",
       "1228  Happy Saturday here's 9 puppers on a bench. 99...                  NaN   \n",
       "1254  Here's a brigade of puppers. All look very pre...                  NaN   \n",
       "\n",
       "      retweeted_status_user_id  \\\n",
       "313                        NaN   \n",
       "342                        NaN   \n",
       "433                        NaN   \n",
       "516                        NaN   \n",
       "784               4.196984e+09   \n",
       "902                        NaN   \n",
       "1068                       NaN   \n",
       "1120                       NaN   \n",
       "1165                       NaN   \n",
       "1202                       NaN   \n",
       "1228                       NaN   \n",
       "1254                       NaN   \n",
       "\n",
       "                                          expanded_urls  rating_numerator  \\\n",
       "313                                                 NaN               960   \n",
       "342                                                 NaN                11   \n",
       "433   https://twitter.com/dog_rates/status/820690176...                84   \n",
       "516   https://www.gofundme.com/sams-smile,https://tw...                24   \n",
       "784   https://twitter.com/dog_rates/status/740373189...                 9   \n",
       "902   https://twitter.com/dog_rates/status/758467244...               165   \n",
       "1068  https://twitter.com/dog_rates/status/740373189...                 9   \n",
       "1120  https://twitter.com/dog_rates/status/731156023...               204   \n",
       "1165  https://twitter.com/dog_rates/status/722974582...                 4   \n",
       "1202  https://twitter.com/dog_rates/status/716439118...                50   \n",
       "1228  https://twitter.com/dog_rates/status/713900603...                99   \n",
       "1254  https://twitter.com/dog_rates/status/710658690...                80   \n",
       "\n",
       "      rating_denominator      name doggo floofer pupper puppo  \n",
       "313                    0      None  None    None   None  None  \n",
       "342                   15      None  None    None   None  None  \n",
       "433                   70      None  None    None   None  None  \n",
       "516                    7       Sam  None    None   None  None  \n",
       "784                   11      None  None    None   None  None  \n",
       "902                  150      None  None    None   None  None  \n",
       "1068                  11      None  None    None   None  None  \n",
       "1120                 170      this  None    None   None  None  \n",
       "1165                  20      None  None    None   None  None  \n",
       "1202                  50  Bluebert  None    None   None  None  \n",
       "1228                  90      None  None    None   None  None  \n",
       "1254                  80      None  None    None   None  None  "
      ]
     },
     "execution_count": 23,
     "metadata": {},
     "output_type": "execute_result"
    }
   ],
   "source": [
    "df_archive_denominators.head(12)"
   ]
  },
  {
   "cell_type": "code",
   "execution_count": 24,
   "metadata": {},
   "outputs": [
    {
     "data": {
      "text/html": [
       "<div>\n",
       "<style scoped>\n",
       "    .dataframe tbody tr th:only-of-type {\n",
       "        vertical-align: middle;\n",
       "    }\n",
       "\n",
       "    .dataframe tbody tr th {\n",
       "        vertical-align: top;\n",
       "    }\n",
       "\n",
       "    .dataframe thead th {\n",
       "        text-align: right;\n",
       "    }\n",
       "</style>\n",
       "<table border=\"1\" class=\"dataframe\">\n",
       "  <thead>\n",
       "    <tr style=\"text-align: right;\">\n",
       "      <th></th>\n",
       "      <th>tweet_id</th>\n",
       "      <th>timestamp</th>\n",
       "      <th>text</th>\n",
       "      <th>retweeted_status_id</th>\n",
       "      <th>retweeted_status_user_id</th>\n",
       "      <th>expanded_urls</th>\n",
       "      <th>rating_numerator</th>\n",
       "      <th>rating_denominator</th>\n",
       "      <th>name</th>\n",
       "      <th>doggo</th>\n",
       "      <th>floofer</th>\n",
       "      <th>pupper</th>\n",
       "      <th>puppo</th>\n",
       "    </tr>\n",
       "  </thead>\n",
       "  <tbody>\n",
       "    <tr>\n",
       "      <th>1254</th>\n",
       "      <td>710658690886586372</td>\n",
       "      <td>2016-03-18 02:46:49 +0000</td>\n",
       "      <td>Here's a brigade of puppers. All look very pre...</td>\n",
       "      <td>NaN</td>\n",
       "      <td>NaN</td>\n",
       "      <td>https://twitter.com/dog_rates/status/710658690...</td>\n",
       "      <td>80</td>\n",
       "      <td>80</td>\n",
       "      <td>None</td>\n",
       "      <td>None</td>\n",
       "      <td>None</td>\n",
       "      <td>None</td>\n",
       "      <td>None</td>\n",
       "    </tr>\n",
       "    <tr>\n",
       "      <th>1274</th>\n",
       "      <td>709198395643068416</td>\n",
       "      <td>2016-03-14 02:04:08 +0000</td>\n",
       "      <td>From left to right:\\nCletus, Jerome, Alejandro...</td>\n",
       "      <td>NaN</td>\n",
       "      <td>NaN</td>\n",
       "      <td>https://twitter.com/dog_rates/status/709198395...</td>\n",
       "      <td>45</td>\n",
       "      <td>50</td>\n",
       "      <td>None</td>\n",
       "      <td>None</td>\n",
       "      <td>None</td>\n",
       "      <td>None</td>\n",
       "      <td>None</td>\n",
       "    </tr>\n",
       "    <tr>\n",
       "      <th>1351</th>\n",
       "      <td>704054845121142784</td>\n",
       "      <td>2016-02-28 21:25:30 +0000</td>\n",
       "      <td>Here is a whole flock of puppers.  60/50 I'll ...</td>\n",
       "      <td>NaN</td>\n",
       "      <td>NaN</td>\n",
       "      <td>https://twitter.com/dog_rates/status/704054845...</td>\n",
       "      <td>60</td>\n",
       "      <td>50</td>\n",
       "      <td>a</td>\n",
       "      <td>None</td>\n",
       "      <td>None</td>\n",
       "      <td>None</td>\n",
       "      <td>None</td>\n",
       "    </tr>\n",
       "    <tr>\n",
       "      <th>1433</th>\n",
       "      <td>697463031882764288</td>\n",
       "      <td>2016-02-10 16:51:59 +0000</td>\n",
       "      <td>Happy Wednesday here's a bucket of pups. 44/40...</td>\n",
       "      <td>NaN</td>\n",
       "      <td>NaN</td>\n",
       "      <td>https://twitter.com/dog_rates/status/697463031...</td>\n",
       "      <td>44</td>\n",
       "      <td>40</td>\n",
       "      <td>None</td>\n",
       "      <td>None</td>\n",
       "      <td>None</td>\n",
       "      <td>None</td>\n",
       "      <td>None</td>\n",
       "    </tr>\n",
       "    <tr>\n",
       "      <th>1598</th>\n",
       "      <td>686035780142297088</td>\n",
       "      <td>2016-01-10 04:04:10 +0000</td>\n",
       "      <td>Yes I do realize a rating of 4/20 would've bee...</td>\n",
       "      <td>NaN</td>\n",
       "      <td>NaN</td>\n",
       "      <td>NaN</td>\n",
       "      <td>4</td>\n",
       "      <td>20</td>\n",
       "      <td>None</td>\n",
       "      <td>None</td>\n",
       "      <td>None</td>\n",
       "      <td>None</td>\n",
       "      <td>None</td>\n",
       "    </tr>\n",
       "    <tr>\n",
       "      <th>1634</th>\n",
       "      <td>684225744407494656</td>\n",
       "      <td>2016-01-05 04:11:44 +0000</td>\n",
       "      <td>Two sneaky puppers were not initially seen, mo...</td>\n",
       "      <td>NaN</td>\n",
       "      <td>NaN</td>\n",
       "      <td>https://twitter.com/dog_rates/status/684225744...</td>\n",
       "      <td>143</td>\n",
       "      <td>130</td>\n",
       "      <td>None</td>\n",
       "      <td>None</td>\n",
       "      <td>None</td>\n",
       "      <td>None</td>\n",
       "      <td>None</td>\n",
       "    </tr>\n",
       "    <tr>\n",
       "      <th>1635</th>\n",
       "      <td>684222868335505415</td>\n",
       "      <td>2016-01-05 04:00:18 +0000</td>\n",
       "      <td>Someone help the girl is being mugged. Several...</td>\n",
       "      <td>NaN</td>\n",
       "      <td>NaN</td>\n",
       "      <td>https://twitter.com/dog_rates/status/684222868...</td>\n",
       "      <td>121</td>\n",
       "      <td>110</td>\n",
       "      <td>None</td>\n",
       "      <td>None</td>\n",
       "      <td>None</td>\n",
       "      <td>None</td>\n",
       "      <td>None</td>\n",
       "    </tr>\n",
       "    <tr>\n",
       "      <th>1662</th>\n",
       "      <td>682962037429899265</td>\n",
       "      <td>2016-01-01 16:30:13 +0000</td>\n",
       "      <td>This is Darrel. He just robbed a 7/11 and is i...</td>\n",
       "      <td>NaN</td>\n",
       "      <td>NaN</td>\n",
       "      <td>https://twitter.com/dog_rates/status/682962037...</td>\n",
       "      <td>7</td>\n",
       "      <td>11</td>\n",
       "      <td>Darrel</td>\n",
       "      <td>None</td>\n",
       "      <td>None</td>\n",
       "      <td>None</td>\n",
       "      <td>None</td>\n",
       "    </tr>\n",
       "    <tr>\n",
       "      <th>1663</th>\n",
       "      <td>682808988178739200</td>\n",
       "      <td>2016-01-01 06:22:03 +0000</td>\n",
       "      <td>I'm aware that I could've said 20/16, but here...</td>\n",
       "      <td>NaN</td>\n",
       "      <td>NaN</td>\n",
       "      <td>NaN</td>\n",
       "      <td>20</td>\n",
       "      <td>16</td>\n",
       "      <td>None</td>\n",
       "      <td>None</td>\n",
       "      <td>None</td>\n",
       "      <td>None</td>\n",
       "      <td>None</td>\n",
       "    </tr>\n",
       "    <tr>\n",
       "      <th>1779</th>\n",
       "      <td>677716515794329600</td>\n",
       "      <td>2015-12-18 05:06:23 +0000</td>\n",
       "      <td>IT'S PUPPERGEDDON. Total of 144/120 ...I think...</td>\n",
       "      <td>NaN</td>\n",
       "      <td>NaN</td>\n",
       "      <td>https://twitter.com/dog_rates/status/677716515...</td>\n",
       "      <td>144</td>\n",
       "      <td>120</td>\n",
       "      <td>None</td>\n",
       "      <td>None</td>\n",
       "      <td>None</td>\n",
       "      <td>None</td>\n",
       "      <td>None</td>\n",
       "    </tr>\n",
       "    <tr>\n",
       "      <th>1843</th>\n",
       "      <td>675853064436391936</td>\n",
       "      <td>2015-12-13 01:41:41 +0000</td>\n",
       "      <td>Here we have an entire platoon of puppers. Tot...</td>\n",
       "      <td>NaN</td>\n",
       "      <td>NaN</td>\n",
       "      <td>https://twitter.com/dog_rates/status/675853064...</td>\n",
       "      <td>88</td>\n",
       "      <td>80</td>\n",
       "      <td>None</td>\n",
       "      <td>None</td>\n",
       "      <td>None</td>\n",
       "      <td>None</td>\n",
       "      <td>None</td>\n",
       "    </tr>\n",
       "    <tr>\n",
       "      <th>2335</th>\n",
       "      <td>666287406224695296</td>\n",
       "      <td>2015-11-16 16:11:11 +0000</td>\n",
       "      <td>This is an Albanian 3 1/2 legged  Episcopalian...</td>\n",
       "      <td>NaN</td>\n",
       "      <td>NaN</td>\n",
       "      <td>https://twitter.com/dog_rates/status/666287406...</td>\n",
       "      <td>1</td>\n",
       "      <td>2</td>\n",
       "      <td>an</td>\n",
       "      <td>None</td>\n",
       "      <td>None</td>\n",
       "      <td>None</td>\n",
       "      <td>None</td>\n",
       "    </tr>\n",
       "  </tbody>\n",
       "</table>\n",
       "</div>"
      ],
      "text/plain": [
       "                tweet_id                  timestamp  \\\n",
       "1254  710658690886586372  2016-03-18 02:46:49 +0000   \n",
       "1274  709198395643068416  2016-03-14 02:04:08 +0000   \n",
       "1351  704054845121142784  2016-02-28 21:25:30 +0000   \n",
       "1433  697463031882764288  2016-02-10 16:51:59 +0000   \n",
       "1598  686035780142297088  2016-01-10 04:04:10 +0000   \n",
       "1634  684225744407494656  2016-01-05 04:11:44 +0000   \n",
       "1635  684222868335505415  2016-01-05 04:00:18 +0000   \n",
       "1662  682962037429899265  2016-01-01 16:30:13 +0000   \n",
       "1663  682808988178739200  2016-01-01 06:22:03 +0000   \n",
       "1779  677716515794329600  2015-12-18 05:06:23 +0000   \n",
       "1843  675853064436391936  2015-12-13 01:41:41 +0000   \n",
       "2335  666287406224695296  2015-11-16 16:11:11 +0000   \n",
       "\n",
       "                                                   text  retweeted_status_id  \\\n",
       "1254  Here's a brigade of puppers. All look very pre...                  NaN   \n",
       "1274  From left to right:\\nCletus, Jerome, Alejandro...                  NaN   \n",
       "1351  Here is a whole flock of puppers.  60/50 I'll ...                  NaN   \n",
       "1433  Happy Wednesday here's a bucket of pups. 44/40...                  NaN   \n",
       "1598  Yes I do realize a rating of 4/20 would've bee...                  NaN   \n",
       "1634  Two sneaky puppers were not initially seen, mo...                  NaN   \n",
       "1635  Someone help the girl is being mugged. Several...                  NaN   \n",
       "1662  This is Darrel. He just robbed a 7/11 and is i...                  NaN   \n",
       "1663  I'm aware that I could've said 20/16, but here...                  NaN   \n",
       "1779  IT'S PUPPERGEDDON. Total of 144/120 ...I think...                  NaN   \n",
       "1843  Here we have an entire platoon of puppers. Tot...                  NaN   \n",
       "2335  This is an Albanian 3 1/2 legged  Episcopalian...                  NaN   \n",
       "\n",
       "      retweeted_status_user_id  \\\n",
       "1254                       NaN   \n",
       "1274                       NaN   \n",
       "1351                       NaN   \n",
       "1433                       NaN   \n",
       "1598                       NaN   \n",
       "1634                       NaN   \n",
       "1635                       NaN   \n",
       "1662                       NaN   \n",
       "1663                       NaN   \n",
       "1779                       NaN   \n",
       "1843                       NaN   \n",
       "2335                       NaN   \n",
       "\n",
       "                                          expanded_urls  rating_numerator  \\\n",
       "1254  https://twitter.com/dog_rates/status/710658690...                80   \n",
       "1274  https://twitter.com/dog_rates/status/709198395...                45   \n",
       "1351  https://twitter.com/dog_rates/status/704054845...                60   \n",
       "1433  https://twitter.com/dog_rates/status/697463031...                44   \n",
       "1598                                                NaN                 4   \n",
       "1634  https://twitter.com/dog_rates/status/684225744...               143   \n",
       "1635  https://twitter.com/dog_rates/status/684222868...               121   \n",
       "1662  https://twitter.com/dog_rates/status/682962037...                 7   \n",
       "1663                                                NaN                20   \n",
       "1779  https://twitter.com/dog_rates/status/677716515...               144   \n",
       "1843  https://twitter.com/dog_rates/status/675853064...                88   \n",
       "2335  https://twitter.com/dog_rates/status/666287406...                 1   \n",
       "\n",
       "      rating_denominator    name doggo floofer pupper puppo  \n",
       "1254                  80    None  None    None   None  None  \n",
       "1274                  50    None  None    None   None  None  \n",
       "1351                  50       a  None    None   None  None  \n",
       "1433                  40    None  None    None   None  None  \n",
       "1598                  20    None  None    None   None  None  \n",
       "1634                 130    None  None    None   None  None  \n",
       "1635                 110    None  None    None   None  None  \n",
       "1662                  11  Darrel  None    None   None  None  \n",
       "1663                  16    None  None    None   None  None  \n",
       "1779                 120    None  None    None   None  None  \n",
       "1843                  80    None  None    None   None  None  \n",
       "2335                   2      an  None    None   None  None  "
      ]
     },
     "execution_count": 24,
     "metadata": {},
     "output_type": "execute_result"
    }
   ],
   "source": [
    "df_archive_denominators.tail(12)"
   ]
  },
  {
   "cell_type": "markdown",
   "metadata": {},
   "source": [
    "We want to have a closer look at the texts of the tweets these rating denominators were extracted from:"
   ]
  },
  {
   "cell_type": "code",
   "execution_count": 25,
   "metadata": {},
   "outputs": [
    {
     "name": "stdout",
     "output_type": "stream",
     "text": [
      "@jonnysun @Lin_Manuel ok jomny I know you're excited but 960/00 isn't a valid rating, 13/10 is tho\n",
      "@docmisterio account started on 11/15/15\n",
      "The floofs have been released I repeat the floofs have been released. 84/70 https://t.co/NIYC820tmd\n",
      "Meet Sam. She smiles 24/7 &amp; secretly aspires to be a reindeer. \n",
      "Keep Sam smiling by clicking and sharing this link:\n",
      "https://t.co/98tB8y7y7t https://t.co/LouL5vdvxx\n",
      "RT @dog_rates: After so many requests, this is Bretagne. She was the last surviving 9/11 search dog, and our second ever 14/10. RIP https:/…\n",
      "Why does this never happen at my front door... 165/150 https://t.co/HmwrdfEfUE\n",
      "After so many requests, this is Bretagne. She was the last surviving 9/11 search dog, and our second ever 14/10. RIP https://t.co/XAVDNDaVgQ\n",
      "Say hello to this unbelievably well behaved squad of doggos. 204/170 would try to pet all at once https://t.co/yGQI3He3xv\n",
      "Happy 4/20 from the squad! 13/10 for all https://t.co/eV1diwds8a\n",
      "This is Bluebert. He just saw that both #FinalFur match ups are split 50/50. Amazed af. 11/10 https://t.co/Kky1DPG4iq\n",
      "Happy Saturday here's 9 puppers on a bench. 99/90 good work everybody https://t.co/mpvaVxKmc1\n",
      "Here's a brigade of puppers. All look very prepared for whatever happens next. 80/80 https://t.co/0eb7R1Om12\n",
      "From left to right:\n",
      "Cletus, Jerome, Alejandro, Burp, &amp; Titson\n",
      "None know where camera is. 45/50 would hug all at once https://t.co/sedre1ivTK\n",
      "Here is a whole flock of puppers.  60/50 I'll take the lot https://t.co/9dpcw6MdWa\n",
      "Happy Wednesday here's a bucket of pups. 44/40 would pet all at once https://t.co/HppvrYuamZ\n",
      "Yes I do realize a rating of 4/20 would've been fitting. However, it would be unjust to give these cooperative pups that low of a rating\n",
      "Two sneaky puppers were not initially seen, moving the rating to 143/130. Please forgive us. Thank you https://t.co/kRK51Y5ac3\n",
      "Someone help the girl is being mugged. Several are distracting her while two steal her shoes. Clever puppers 121/110 https://t.co/1zfnTJLt55\n",
      "This is Darrel. He just robbed a 7/11 and is in a high speed police chase. Was just spotted by the helicopter 10/10 https://t.co/7EsP8LmSp5\n",
      "I'm aware that I could've said 20/16, but here at WeRateDogs we are very professional. An inconsistent rating scale is simply irresponsible\n",
      "IT'S PUPPERGEDDON. Total of 144/120 ...I think https://t.co/ZanVtAtvIq\n",
      "Here we have an entire platoon of puppers. Total score: 88/80 would pet all at once https://t.co/y93p6FLvVw\n",
      "This is an Albanian 3 1/2 legged  Episcopalian. Loves well-polished hardwood flooring. Penis on the collar. 9/10 https://t.co/d9NcXFKwLv\n"
     ]
    }
   ],
   "source": [
    "for i in df_archive_denominators.index:\n",
    "    print(df_archive_denominators.loc[i].text)"
   ]
  },
  {
   "cell_type": "markdown",
   "metadata": {},
   "source": [
    "Now we want to inspect the values for the numerator, where the denominator is \"normal\", equal to 10"
   ]
  },
  {
   "cell_type": "code",
   "execution_count": 26,
   "metadata": {},
   "outputs": [
    {
     "data": {
      "text/plain": [
       "12      558\n",
       "11      463\n",
       "10      461\n",
       "13      351\n",
       "9       156\n",
       "8       102\n",
       "14       54\n",
       "7        54\n",
       "5        37\n",
       "6        32\n",
       "3        19\n",
       "4        15\n",
       "2         9\n",
       "1         8\n",
       "75        2\n",
       "0         2\n",
       "420       2\n",
       "15        2\n",
       "26        1\n",
       "182       1\n",
       "27        1\n",
       "1776      1\n",
       "17        1\n",
       "666       1\n",
       "Name: rating_numerator, dtype: int64"
      ]
     },
     "execution_count": 26,
     "metadata": {},
     "output_type": "execute_result"
    }
   ],
   "source": [
    "# inspect the numerator for valid denominator\n",
    "df_archive.query('rating_denominator == 10')['rating_numerator'].value_counts()"
   ]
  },
  {
   "cell_type": "code",
   "execution_count": 27,
   "metadata": {},
   "outputs": [],
   "source": [
    "# Inspect the tweets with denominator 10 and with weird values..."
   ]
  },
  {
   "cell_type": "code",
   "execution_count": 28,
   "metadata": {},
   "outputs": [
    {
     "name": "stdout",
     "output_type": "stream",
     "text": [
      "(12, 13)\n",
      "@roushfenway These are good dogs but 17/10 is an emotional impulse rating. More like 13/10s\n",
      "@dhmontgomery We also gave snoop dogg a 420/10 but I think that predated your research\n",
      "@s8n You tried very hard to portray this good boy as not so good, but you have ultimately failed. His goodness shines through. 666/10\n",
      "RT @KibaDva: I collected all the good dogs!! 15/10 @dog_rates #GoodDogs https://t.co/6UCGFczlOI\n",
      "@markhoppus 182/10\n",
      "@bragg6of8 @Andy_Pace_ we are still looking for the first 15/10\n",
      "RT @dog_rates: This is Logan, the Chow who lived. He solemnly swears he's up to lots of good. H*ckin magical af 9.75/10 https://t.co/yBO5wu…\n",
      "This is Logan, the Chow who lived. He solemnly swears he's up to lots of good. H*ckin magical af 9.75/10 https://t.co/yBO5wuqaPS\n",
      "This is Sophie. She's a Jubilant Bush Pupper. Super h*ckin rare. Appears at random just to smile at the locals. 11.27/10 would smile back https://t.co/QFaUiIHxHq\n",
      "This is Atticus. He's quite simply America af. 1776/10 https://t.co/GRXwMxLBkh\n",
      "Here we have uncovered an entire battalion of holiday puppers. Average of 11.26/10 https://t.co/eNm2S6p9BD\n",
      "After so many requests... here you go.\n",
      "\n",
      "Good dogg. 420/10 https://t.co/yfAAo1gdeY\n"
     ]
    }
   ],
   "source": [
    "df_weird_num = df_archive.query('rating_denominator == 10 and rating_numerator >14')\n",
    "print(df_weird_num.shape)\n",
    "for i in df_weird_num.index:\n",
    "    print(df_weird_num.loc[i].text)"
   ]
  },
  {
   "cell_type": "code",
   "execution_count": 29,
   "metadata": {},
   "outputs": [
    {
     "data": {
      "text/html": [
       "<div>\n",
       "<style scoped>\n",
       "    .dataframe tbody tr th:only-of-type {\n",
       "        vertical-align: middle;\n",
       "    }\n",
       "\n",
       "    .dataframe tbody tr th {\n",
       "        vertical-align: top;\n",
       "    }\n",
       "\n",
       "    .dataframe thead th {\n",
       "        text-align: right;\n",
       "    }\n",
       "</style>\n",
       "<table border=\"1\" class=\"dataframe\">\n",
       "  <thead>\n",
       "    <tr style=\"text-align: right;\">\n",
       "      <th></th>\n",
       "      <th>tweet_id</th>\n",
       "      <th>timestamp</th>\n",
       "      <th>text</th>\n",
       "      <th>retweeted_status_id</th>\n",
       "      <th>retweeted_status_user_id</th>\n",
       "      <th>expanded_urls</th>\n",
       "      <th>rating_numerator</th>\n",
       "      <th>rating_denominator</th>\n",
       "      <th>name</th>\n",
       "      <th>doggo</th>\n",
       "      <th>floofer</th>\n",
       "      <th>pupper</th>\n",
       "      <th>puppo</th>\n",
       "    </tr>\n",
       "  </thead>\n",
       "  <tbody>\n",
       "    <tr>\n",
       "      <th>979</th>\n",
       "      <td>749981277374128128</td>\n",
       "      <td>2016-07-04 15:00:45 +0000</td>\n",
       "      <td>This is Atticus. He's quite simply America af....</td>\n",
       "      <td>NaN</td>\n",
       "      <td>NaN</td>\n",
       "      <td>https://twitter.com/dog_rates/status/749981277...</td>\n",
       "      <td>1776</td>\n",
       "      <td>10</td>\n",
       "      <td>Atticus</td>\n",
       "      <td>None</td>\n",
       "      <td>None</td>\n",
       "      <td>None</td>\n",
       "      <td>None</td>\n",
       "    </tr>\n",
       "    <tr>\n",
       "      <th>1712</th>\n",
       "      <td>680494726643068929</td>\n",
       "      <td>2015-12-25 21:06:00 +0000</td>\n",
       "      <td>Here we have uncovered an entire battalion of ...</td>\n",
       "      <td>NaN</td>\n",
       "      <td>NaN</td>\n",
       "      <td>https://twitter.com/dog_rates/status/680494726...</td>\n",
       "      <td>26</td>\n",
       "      <td>10</td>\n",
       "      <td>None</td>\n",
       "      <td>None</td>\n",
       "      <td>None</td>\n",
       "      <td>None</td>\n",
       "      <td>None</td>\n",
       "    </tr>\n",
       "    <tr>\n",
       "      <th>2074</th>\n",
       "      <td>670842764863651840</td>\n",
       "      <td>2015-11-29 05:52:33 +0000</td>\n",
       "      <td>After so many requests... here you go.\\n\\nGood...</td>\n",
       "      <td>NaN</td>\n",
       "      <td>NaN</td>\n",
       "      <td>https://twitter.com/dog_rates/status/670842764...</td>\n",
       "      <td>420</td>\n",
       "      <td>10</td>\n",
       "      <td>None</td>\n",
       "      <td>None</td>\n",
       "      <td>None</td>\n",
       "      <td>None</td>\n",
       "      <td>None</td>\n",
       "    </tr>\n",
       "  </tbody>\n",
       "</table>\n",
       "</div>"
      ],
      "text/plain": [
       "                tweet_id                  timestamp  \\\n",
       "979   749981277374128128  2016-07-04 15:00:45 +0000   \n",
       "1712  680494726643068929  2015-12-25 21:06:00 +0000   \n",
       "2074  670842764863651840  2015-11-29 05:52:33 +0000   \n",
       "\n",
       "                                                   text  retweeted_status_id  \\\n",
       "979   This is Atticus. He's quite simply America af....                  NaN   \n",
       "1712  Here we have uncovered an entire battalion of ...                  NaN   \n",
       "2074  After so many requests... here you go.\\n\\nGood...                  NaN   \n",
       "\n",
       "      retweeted_status_user_id  \\\n",
       "979                        NaN   \n",
       "1712                       NaN   \n",
       "2074                       NaN   \n",
       "\n",
       "                                          expanded_urls  rating_numerator  \\\n",
       "979   https://twitter.com/dog_rates/status/749981277...              1776   \n",
       "1712  https://twitter.com/dog_rates/status/680494726...                26   \n",
       "2074  https://twitter.com/dog_rates/status/670842764...               420   \n",
       "\n",
       "      rating_denominator     name doggo floofer pupper puppo  \n",
       "979                   10  Atticus  None    None   None  None  \n",
       "1712                  10     None  None    None   None  None  \n",
       "2074                  10     None  None    None   None  None  "
      ]
     },
     "execution_count": 29,
     "metadata": {},
     "output_type": "execute_result"
    }
   ],
   "source": [
    "df_weird_num.tail(3)"
   ]
  },
  {
   "cell_type": "markdown",
   "metadata": {},
   "source": [
    "#### Assessments and Decisions made about how to handle the rating numerator and denominator:\n",
    "\n",
    "- It seems that the Ratings were sometimes not correctly parsed, and that the method used for this, only looked for a \"/\" Character in the text. So any expression like \"She smiles 24/7\" or a Reference to \"9/11\" would be mistaken for a rating, leading to an accuracy issue.\n",
    "- Also, some ratings are intentionally inconsistent like '960/00' or often a fantasy way of aggregating all ratings together, when there would be several dogs in a tweet, like rating 9 dogs with 99/90 or 8 dogs with 80/80, for instance.\n",
    "- Another Problem I could identify is that the parsing method used, did not work with float numbers as numerator. For instance '9.75/10' was parsed as '75' for the numerator.\n",
    "\n",
    "So we can enumerate the corresponding following Issues:"
   ]
  },
  {
   "cell_type": "markdown",
   "metadata": {},
   "source": [
    "#### Quality Issue in the Archive\n",
    "- 5. The ratings were parsed from the Text with a Method that led to accuracy issues\n",
    "- 6. the data type for the numerator should be a float, not an integer\n",
    "- 7. Some Ratings voluntary are 'fantasy' Values. We decide to keep only tweets that have a rating between 0 and 14 (there is enough fantasy in this anyway). "
   ]
  },
  {
   "cell_type": "markdown",
   "metadata": {},
   "source": [
    "#### Tidiness Issue in the Archive\n",
    "- 1. The rating for each record is kept in two Columns 'rating_numerator' and 'rating_denominator'. We want each Variable describe in one Column.\n"
   ]
  },
  {
   "cell_type": "code",
   "execution_count": 30,
   "metadata": {},
   "outputs": [
    {
     "data": {
      "text/plain": [
       "None         745\n",
       "a             55\n",
       "Charlie       12\n",
       "Oliver        11\n",
       "Lucy          11\n",
       "Cooper        11\n",
       "Lola          10\n",
       "Penny         10\n",
       "Tucker        10\n",
       "Winston        9\n",
       "Bo             9\n",
       "Sadie          8\n",
       "the            8\n",
       "an             7\n",
       "Daisy          7\n",
       "Bailey         7\n",
       "Toby           7\n",
       "Buddy          7\n",
       "Jax            6\n",
       "Dave           6\n",
       "Oscar          6\n",
       "Stanley        6\n",
       "Rusty          6\n",
       "Leo            6\n",
       "Jack           6\n",
       "Koda           6\n",
       "Scout          6\n",
       "Milo           6\n",
       "Bella          6\n",
       "Sammy          5\n",
       "            ... \n",
       "Gustaf         1\n",
       "Chaz           1\n",
       "Rontu          1\n",
       "Jangle         1\n",
       "Ralpher        1\n",
       "Sky            1\n",
       "Grey           1\n",
       "Luther         1\n",
       "Laela          1\n",
       "Jeffrie        1\n",
       "Fido           1\n",
       "Staniel        1\n",
       "Genevieve      1\n",
       "Akumi          1\n",
       "Colin          1\n",
       "Pavlov         1\n",
       "Jareld         1\n",
       "Emma           1\n",
       "Marlee         1\n",
       "Snickers       1\n",
       "Sojourner      1\n",
       "Rascal         1\n",
       "Sage           1\n",
       "Ebby           1\n",
       "Kayla          1\n",
       "Gustav         1\n",
       "Glacier        1\n",
       "Bluebert       1\n",
       "Tilly          1\n",
       "Pinot          1\n",
       "Name: name, Length: 957, dtype: int64"
      ]
     },
     "execution_count": 30,
     "metadata": {},
     "output_type": "execute_result"
    }
   ],
   "source": [
    "# Inspecting the name\n",
    "df_archive.name.value_counts()"
   ]
  },
  {
   "cell_type": "code",
   "execution_count": 31,
   "metadata": {},
   "outputs": [
    {
     "data": {
      "text/html": [
       "<div>\n",
       "<style scoped>\n",
       "    .dataframe tbody tr th:only-of-type {\n",
       "        vertical-align: middle;\n",
       "    }\n",
       "\n",
       "    .dataframe tbody tr th {\n",
       "        vertical-align: top;\n",
       "    }\n",
       "\n",
       "    .dataframe thead th {\n",
       "        text-align: right;\n",
       "    }\n",
       "</style>\n",
       "<table border=\"1\" class=\"dataframe\">\n",
       "  <thead>\n",
       "    <tr style=\"text-align: right;\">\n",
       "      <th></th>\n",
       "      <th>tweet_id</th>\n",
       "      <th>timestamp</th>\n",
       "      <th>text</th>\n",
       "      <th>retweeted_status_id</th>\n",
       "      <th>retweeted_status_user_id</th>\n",
       "      <th>expanded_urls</th>\n",
       "      <th>rating_numerator</th>\n",
       "      <th>rating_denominator</th>\n",
       "      <th>name</th>\n",
       "      <th>doggo</th>\n",
       "      <th>floofer</th>\n",
       "      <th>pupper</th>\n",
       "      <th>puppo</th>\n",
       "    </tr>\n",
       "  </thead>\n",
       "  <tbody>\n",
       "    <tr>\n",
       "      <th>5</th>\n",
       "      <td>891087950875897856</td>\n",
       "      <td>2017-07-29 00:08:17 +0000</td>\n",
       "      <td>Here we have a majestic great white breaching ...</td>\n",
       "      <td>NaN</td>\n",
       "      <td>NaN</td>\n",
       "      <td>https://twitter.com/dog_rates/status/891087950...</td>\n",
       "      <td>13</td>\n",
       "      <td>10</td>\n",
       "      <td>None</td>\n",
       "      <td>None</td>\n",
       "      <td>None</td>\n",
       "      <td>None</td>\n",
       "      <td>None</td>\n",
       "    </tr>\n",
       "    <tr>\n",
       "      <th>7</th>\n",
       "      <td>890729181411237888</td>\n",
       "      <td>2017-07-28 00:22:40 +0000</td>\n",
       "      <td>When you watch your owner call another dog a g...</td>\n",
       "      <td>NaN</td>\n",
       "      <td>NaN</td>\n",
       "      <td>https://twitter.com/dog_rates/status/890729181...</td>\n",
       "      <td>13</td>\n",
       "      <td>10</td>\n",
       "      <td>None</td>\n",
       "      <td>None</td>\n",
       "      <td>None</td>\n",
       "      <td>None</td>\n",
       "      <td>None</td>\n",
       "    </tr>\n",
       "    <tr>\n",
       "      <th>12</th>\n",
       "      <td>889665388333682689</td>\n",
       "      <td>2017-07-25 01:55:32 +0000</td>\n",
       "      <td>Here's a puppo that seems to be on the fence a...</td>\n",
       "      <td>NaN</td>\n",
       "      <td>NaN</td>\n",
       "      <td>https://twitter.com/dog_rates/status/889665388...</td>\n",
       "      <td>13</td>\n",
       "      <td>10</td>\n",
       "      <td>None</td>\n",
       "      <td>None</td>\n",
       "      <td>None</td>\n",
       "      <td>None</td>\n",
       "      <td>puppo</td>\n",
       "    </tr>\n",
       "    <tr>\n",
       "      <th>24</th>\n",
       "      <td>887343217045368832</td>\n",
       "      <td>2017-07-18 16:08:03 +0000</td>\n",
       "      <td>You may not have known you needed to see this ...</td>\n",
       "      <td>NaN</td>\n",
       "      <td>NaN</td>\n",
       "      <td>https://twitter.com/dog_rates/status/887343217...</td>\n",
       "      <td>13</td>\n",
       "      <td>10</td>\n",
       "      <td>None</td>\n",
       "      <td>None</td>\n",
       "      <td>None</td>\n",
       "      <td>None</td>\n",
       "      <td>None</td>\n",
       "    </tr>\n",
       "    <tr>\n",
       "      <th>25</th>\n",
       "      <td>887101392804085760</td>\n",
       "      <td>2017-07-18 00:07:08 +0000</td>\n",
       "      <td>This... is a Jubilant Antarctic House Bear. We...</td>\n",
       "      <td>NaN</td>\n",
       "      <td>NaN</td>\n",
       "      <td>https://twitter.com/dog_rates/status/887101392...</td>\n",
       "      <td>12</td>\n",
       "      <td>10</td>\n",
       "      <td>None</td>\n",
       "      <td>None</td>\n",
       "      <td>None</td>\n",
       "      <td>None</td>\n",
       "      <td>None</td>\n",
       "    </tr>\n",
       "    <tr>\n",
       "      <th>30</th>\n",
       "      <td>886267009285017600</td>\n",
       "      <td>2017-07-15 16:51:35 +0000</td>\n",
       "      <td>@NonWhiteHat @MayhewMayhem omg hello tanner yo...</td>\n",
       "      <td>NaN</td>\n",
       "      <td>NaN</td>\n",
       "      <td>NaN</td>\n",
       "      <td>12</td>\n",
       "      <td>10</td>\n",
       "      <td>None</td>\n",
       "      <td>None</td>\n",
       "      <td>None</td>\n",
       "      <td>None</td>\n",
       "      <td>None</td>\n",
       "    </tr>\n",
       "    <tr>\n",
       "      <th>32</th>\n",
       "      <td>886054160059072513</td>\n",
       "      <td>2017-07-15 02:45:48 +0000</td>\n",
       "      <td>RT @Athletics: 12/10 #BATP https://t.co/WxwJmv...</td>\n",
       "      <td>8.860537e+17</td>\n",
       "      <td>19607400.0</td>\n",
       "      <td>https://twitter.com/dog_rates/status/886053434...</td>\n",
       "      <td>12</td>\n",
       "      <td>10</td>\n",
       "      <td>None</td>\n",
       "      <td>None</td>\n",
       "      <td>None</td>\n",
       "      <td>None</td>\n",
       "      <td>None</td>\n",
       "    </tr>\n",
       "    <tr>\n",
       "      <th>35</th>\n",
       "      <td>885518971528720385</td>\n",
       "      <td>2017-07-13 15:19:09 +0000</td>\n",
       "      <td>I have a new hero and his name is Howard. 14/1...</td>\n",
       "      <td>NaN</td>\n",
       "      <td>NaN</td>\n",
       "      <td>https://twitter.com/4bonds2carbon/status/88551...</td>\n",
       "      <td>14</td>\n",
       "      <td>10</td>\n",
       "      <td>None</td>\n",
       "      <td>None</td>\n",
       "      <td>None</td>\n",
       "      <td>None</td>\n",
       "      <td>None</td>\n",
       "    </tr>\n",
       "    <tr>\n",
       "      <th>37</th>\n",
       "      <td>885167619883638784</td>\n",
       "      <td>2017-07-12 16:03:00 +0000</td>\n",
       "      <td>Here we have a corgi undercover as a malamute....</td>\n",
       "      <td>NaN</td>\n",
       "      <td>NaN</td>\n",
       "      <td>https://twitter.com/dog_rates/status/885167619...</td>\n",
       "      <td>13</td>\n",
       "      <td>10</td>\n",
       "      <td>None</td>\n",
       "      <td>None</td>\n",
       "      <td>None</td>\n",
       "      <td>None</td>\n",
       "      <td>None</td>\n",
       "    </tr>\n",
       "    <tr>\n",
       "      <th>41</th>\n",
       "      <td>884441805382717440</td>\n",
       "      <td>2017-07-10 15:58:53 +0000</td>\n",
       "      <td>I present to you, Pup in Hat. Pup in Hat is gr...</td>\n",
       "      <td>NaN</td>\n",
       "      <td>NaN</td>\n",
       "      <td>https://twitter.com/dog_rates/status/884441805...</td>\n",
       "      <td>14</td>\n",
       "      <td>10</td>\n",
       "      <td>None</td>\n",
       "      <td>None</td>\n",
       "      <td>None</td>\n",
       "      <td>None</td>\n",
       "      <td>None</td>\n",
       "    </tr>\n",
       "    <tr>\n",
       "      <th>42</th>\n",
       "      <td>884247878851493888</td>\n",
       "      <td>2017-07-10 03:08:17 +0000</td>\n",
       "      <td>OMG HE DIDN'T MEAN TO HE WAS JUST TRYING A LIT...</td>\n",
       "      <td>NaN</td>\n",
       "      <td>NaN</td>\n",
       "      <td>https://twitter.com/kaijohnson_19/status/88396...</td>\n",
       "      <td>13</td>\n",
       "      <td>10</td>\n",
       "      <td>None</td>\n",
       "      <td>None</td>\n",
       "      <td>None</td>\n",
       "      <td>None</td>\n",
       "      <td>None</td>\n",
       "    </tr>\n",
       "    <tr>\n",
       "      <th>47</th>\n",
       "      <td>883117836046086144</td>\n",
       "      <td>2017-07-07 00:17:54 +0000</td>\n",
       "      <td>Please only send dogs. We don't rate mechanics...</td>\n",
       "      <td>NaN</td>\n",
       "      <td>NaN</td>\n",
       "      <td>https://twitter.com/dog_rates/status/883117836...</td>\n",
       "      <td>13</td>\n",
       "      <td>10</td>\n",
       "      <td>None</td>\n",
       "      <td>None</td>\n",
       "      <td>None</td>\n",
       "      <td>None</td>\n",
       "      <td>None</td>\n",
       "    </tr>\n",
       "    <tr>\n",
       "      <th>55</th>\n",
       "      <td>881633300179243008</td>\n",
       "      <td>2017-07-02 21:58:53 +0000</td>\n",
       "      <td>@roushfenway These are good dogs but 17/10 is ...</td>\n",
       "      <td>NaN</td>\n",
       "      <td>NaN</td>\n",
       "      <td>NaN</td>\n",
       "      <td>17</td>\n",
       "      <td>10</td>\n",
       "      <td>None</td>\n",
       "      <td>None</td>\n",
       "      <td>None</td>\n",
       "      <td>None</td>\n",
       "      <td>None</td>\n",
       "    </tr>\n",
       "    <tr>\n",
       "      <th>59</th>\n",
       "      <td>880872448815771648</td>\n",
       "      <td>2017-06-30 19:35:32 +0000</td>\n",
       "      <td>Ugh not again. We only rate dogs. Please don't...</td>\n",
       "      <td>NaN</td>\n",
       "      <td>NaN</td>\n",
       "      <td>https://twitter.com/dog_rates/status/880872448...</td>\n",
       "      <td>12</td>\n",
       "      <td>10</td>\n",
       "      <td>None</td>\n",
       "      <td>None</td>\n",
       "      <td>None</td>\n",
       "      <td>None</td>\n",
       "      <td>None</td>\n",
       "    </tr>\n",
       "    <tr>\n",
       "      <th>62</th>\n",
       "      <td>880095782870896641</td>\n",
       "      <td>2017-06-28 16:09:20 +0000</td>\n",
       "      <td>Please don't send in photos without dogs in th...</td>\n",
       "      <td>NaN</td>\n",
       "      <td>NaN</td>\n",
       "      <td>https://twitter.com/dog_rates/status/880095782...</td>\n",
       "      <td>11</td>\n",
       "      <td>10</td>\n",
       "      <td>None</td>\n",
       "      <td>None</td>\n",
       "      <td>None</td>\n",
       "      <td>None</td>\n",
       "      <td>None</td>\n",
       "    </tr>\n",
       "    <tr>\n",
       "      <th>64</th>\n",
       "      <td>879674319642796034</td>\n",
       "      <td>2017-06-27 12:14:36 +0000</td>\n",
       "      <td>@RealKentMurphy 14/10 confirmed</td>\n",
       "      <td>NaN</td>\n",
       "      <td>NaN</td>\n",
       "      <td>NaN</td>\n",
       "      <td>14</td>\n",
       "      <td>10</td>\n",
       "      <td>None</td>\n",
       "      <td>None</td>\n",
       "      <td>None</td>\n",
       "      <td>None</td>\n",
       "      <td>None</td>\n",
       "    </tr>\n",
       "    <tr>\n",
       "      <th>72</th>\n",
       "      <td>878604707211726852</td>\n",
       "      <td>2017-06-24 13:24:20 +0000</td>\n",
       "      <td>Martha is stunning how h*ckin dare you. 13/10 ...</td>\n",
       "      <td>NaN</td>\n",
       "      <td>NaN</td>\n",
       "      <td>https://twitter.com/bbcworld/status/8785998685...</td>\n",
       "      <td>13</td>\n",
       "      <td>10</td>\n",
       "      <td>None</td>\n",
       "      <td>None</td>\n",
       "      <td>None</td>\n",
       "      <td>None</td>\n",
       "      <td>None</td>\n",
       "    </tr>\n",
       "    <tr>\n",
       "      <th>78</th>\n",
       "      <td>877611172832227328</td>\n",
       "      <td>2017-06-21 19:36:23 +0000</td>\n",
       "      <td>RT @rachel2195: @dog_rates the boyfriend and h...</td>\n",
       "      <td>8.768508e+17</td>\n",
       "      <td>512804507.0</td>\n",
       "      <td>https://twitter.com/rachel2195/status/87685077...</td>\n",
       "      <td>14</td>\n",
       "      <td>10</td>\n",
       "      <td>None</td>\n",
       "      <td>None</td>\n",
       "      <td>None</td>\n",
       "      <td>pupper</td>\n",
       "      <td>None</td>\n",
       "    </tr>\n",
       "    <tr>\n",
       "      <th>83</th>\n",
       "      <td>876537666061221889</td>\n",
       "      <td>2017-06-18 20:30:39 +0000</td>\n",
       "      <td>I can say with the pupmost confidence that the...</td>\n",
       "      <td>NaN</td>\n",
       "      <td>NaN</td>\n",
       "      <td>https://twitter.com/mpstowerham/status/8761629...</td>\n",
       "      <td>14</td>\n",
       "      <td>10</td>\n",
       "      <td>None</td>\n",
       "      <td>None</td>\n",
       "      <td>None</td>\n",
       "      <td>None</td>\n",
       "      <td>None</td>\n",
       "    </tr>\n",
       "    <tr>\n",
       "      <th>88</th>\n",
       "      <td>875097192612077568</td>\n",
       "      <td>2017-06-14 21:06:43 +0000</td>\n",
       "      <td>You'll get your package when that precious man...</td>\n",
       "      <td>NaN</td>\n",
       "      <td>NaN</td>\n",
       "      <td>https://twitter.com/drboondoc/status/874413398...</td>\n",
       "      <td>13</td>\n",
       "      <td>10</td>\n",
       "      <td>None</td>\n",
       "      <td>None</td>\n",
       "      <td>None</td>\n",
       "      <td>None</td>\n",
       "      <td>None</td>\n",
       "    </tr>\n",
       "  </tbody>\n",
       "</table>\n",
       "</div>"
      ],
      "text/plain": [
       "              tweet_id                  timestamp  \\\n",
       "5   891087950875897856  2017-07-29 00:08:17 +0000   \n",
       "7   890729181411237888  2017-07-28 00:22:40 +0000   \n",
       "12  889665388333682689  2017-07-25 01:55:32 +0000   \n",
       "24  887343217045368832  2017-07-18 16:08:03 +0000   \n",
       "25  887101392804085760  2017-07-18 00:07:08 +0000   \n",
       "30  886267009285017600  2017-07-15 16:51:35 +0000   \n",
       "32  886054160059072513  2017-07-15 02:45:48 +0000   \n",
       "35  885518971528720385  2017-07-13 15:19:09 +0000   \n",
       "37  885167619883638784  2017-07-12 16:03:00 +0000   \n",
       "41  884441805382717440  2017-07-10 15:58:53 +0000   \n",
       "42  884247878851493888  2017-07-10 03:08:17 +0000   \n",
       "47  883117836046086144  2017-07-07 00:17:54 +0000   \n",
       "55  881633300179243008  2017-07-02 21:58:53 +0000   \n",
       "59  880872448815771648  2017-06-30 19:35:32 +0000   \n",
       "62  880095782870896641  2017-06-28 16:09:20 +0000   \n",
       "64  879674319642796034  2017-06-27 12:14:36 +0000   \n",
       "72  878604707211726852  2017-06-24 13:24:20 +0000   \n",
       "78  877611172832227328  2017-06-21 19:36:23 +0000   \n",
       "83  876537666061221889  2017-06-18 20:30:39 +0000   \n",
       "88  875097192612077568  2017-06-14 21:06:43 +0000   \n",
       "\n",
       "                                                 text  retweeted_status_id  \\\n",
       "5   Here we have a majestic great white breaching ...                  NaN   \n",
       "7   When you watch your owner call another dog a g...                  NaN   \n",
       "12  Here's a puppo that seems to be on the fence a...                  NaN   \n",
       "24  You may not have known you needed to see this ...                  NaN   \n",
       "25  This... is a Jubilant Antarctic House Bear. We...                  NaN   \n",
       "30  @NonWhiteHat @MayhewMayhem omg hello tanner yo...                  NaN   \n",
       "32  RT @Athletics: 12/10 #BATP https://t.co/WxwJmv...         8.860537e+17   \n",
       "35  I have a new hero and his name is Howard. 14/1...                  NaN   \n",
       "37  Here we have a corgi undercover as a malamute....                  NaN   \n",
       "41  I present to you, Pup in Hat. Pup in Hat is gr...                  NaN   \n",
       "42  OMG HE DIDN'T MEAN TO HE WAS JUST TRYING A LIT...                  NaN   \n",
       "47  Please only send dogs. We don't rate mechanics...                  NaN   \n",
       "55  @roushfenway These are good dogs but 17/10 is ...                  NaN   \n",
       "59  Ugh not again. We only rate dogs. Please don't...                  NaN   \n",
       "62  Please don't send in photos without dogs in th...                  NaN   \n",
       "64                    @RealKentMurphy 14/10 confirmed                  NaN   \n",
       "72  Martha is stunning how h*ckin dare you. 13/10 ...                  NaN   \n",
       "78  RT @rachel2195: @dog_rates the boyfriend and h...         8.768508e+17   \n",
       "83  I can say with the pupmost confidence that the...                  NaN   \n",
       "88  You'll get your package when that precious man...                  NaN   \n",
       "\n",
       "    retweeted_status_user_id  \\\n",
       "5                        NaN   \n",
       "7                        NaN   \n",
       "12                       NaN   \n",
       "24                       NaN   \n",
       "25                       NaN   \n",
       "30                       NaN   \n",
       "32                19607400.0   \n",
       "35                       NaN   \n",
       "37                       NaN   \n",
       "41                       NaN   \n",
       "42                       NaN   \n",
       "47                       NaN   \n",
       "55                       NaN   \n",
       "59                       NaN   \n",
       "62                       NaN   \n",
       "64                       NaN   \n",
       "72                       NaN   \n",
       "78               512804507.0   \n",
       "83                       NaN   \n",
       "88                       NaN   \n",
       "\n",
       "                                        expanded_urls  rating_numerator  \\\n",
       "5   https://twitter.com/dog_rates/status/891087950...                13   \n",
       "7   https://twitter.com/dog_rates/status/890729181...                13   \n",
       "12  https://twitter.com/dog_rates/status/889665388...                13   \n",
       "24  https://twitter.com/dog_rates/status/887343217...                13   \n",
       "25  https://twitter.com/dog_rates/status/887101392...                12   \n",
       "30                                                NaN                12   \n",
       "32  https://twitter.com/dog_rates/status/886053434...                12   \n",
       "35  https://twitter.com/4bonds2carbon/status/88551...                14   \n",
       "37  https://twitter.com/dog_rates/status/885167619...                13   \n",
       "41  https://twitter.com/dog_rates/status/884441805...                14   \n",
       "42  https://twitter.com/kaijohnson_19/status/88396...                13   \n",
       "47  https://twitter.com/dog_rates/status/883117836...                13   \n",
       "55                                                NaN                17   \n",
       "59  https://twitter.com/dog_rates/status/880872448...                12   \n",
       "62  https://twitter.com/dog_rates/status/880095782...                11   \n",
       "64                                                NaN                14   \n",
       "72  https://twitter.com/bbcworld/status/8785998685...                13   \n",
       "78  https://twitter.com/rachel2195/status/87685077...                14   \n",
       "83  https://twitter.com/mpstowerham/status/8761629...                14   \n",
       "88  https://twitter.com/drboondoc/status/874413398...                13   \n",
       "\n",
       "    rating_denominator  name doggo floofer  pupper  puppo  \n",
       "5                   10  None  None    None    None   None  \n",
       "7                   10  None  None    None    None   None  \n",
       "12                  10  None  None    None    None  puppo  \n",
       "24                  10  None  None    None    None   None  \n",
       "25                  10  None  None    None    None   None  \n",
       "30                  10  None  None    None    None   None  \n",
       "32                  10  None  None    None    None   None  \n",
       "35                  10  None  None    None    None   None  \n",
       "37                  10  None  None    None    None   None  \n",
       "41                  10  None  None    None    None   None  \n",
       "42                  10  None  None    None    None   None  \n",
       "47                  10  None  None    None    None   None  \n",
       "55                  10  None  None    None    None   None  \n",
       "59                  10  None  None    None    None   None  \n",
       "62                  10  None  None    None    None   None  \n",
       "64                  10  None  None    None    None   None  \n",
       "72                  10  None  None    None    None   None  \n",
       "78                  10  None  None    None  pupper   None  \n",
       "83                  10  None  None    None    None   None  \n",
       "88                  10  None  None    None    None   None  "
      ]
     },
     "execution_count": 31,
     "metadata": {},
     "output_type": "execute_result"
    }
   ],
   "source": [
    "# Inspecting Dogs with missing names:\n",
    "df_missing_names = df_archive[df_archive.name == 'None']\n",
    "df_missing_names.head(20)\n"
   ]
  },
  {
   "cell_type": "code",
   "execution_count": 32,
   "metadata": {},
   "outputs": [
    {
     "name": "stdout",
     "output_type": "stream",
     "text": [
      "[\"Here we have a majestic great white breaching off South Africa's coast. Absolutely h*ckin breathtaking. 13/10 (IG: tucker_marlo) #BarkWeek https://t.co/kQ04fDDRmh\"\n",
      " \"When you watch your owner call another dog a good boy but then they turn back to you and say you're a great boy. 13/10 https://t.co/v0nONBcwxq\"\n",
      " \"Here's a puppo that seems to be on the fence about something haha no but seriously someone help her. 13/10 https://t.co/BxvuXk0UCm\"\n",
      " 'You may not have known you needed to see this today. 13/10 please enjoy (IG: emmylouroo) https://t.co/WZqNqygEyV'\n",
      " 'This... is a Jubilant Antarctic House Bear. We only rate dogs. Please only send dogs. Thank you... 12/10 would suffocate in floof https://t.co/4Ad1jzJSdp'\n",
      " '@NonWhiteHat @MayhewMayhem omg hello tanner you are a scary good boy 12/10 would pet with extreme caution'\n",
      " 'RT @Athletics: 12/10 #BATP https://t.co/WxwJmvjfxo'\n",
      " 'I have a new hero and his name is Howard. 14/10 https://t.co/gzLHboL7Sk'\n",
      " 'Here we have a corgi undercover as a malamute. Pawbably doing important investigative work. Zero control over tongue happenings. 13/10 https://t.co/44ItaMubBf'\n",
      " 'I present to you, Pup in Hat. Pup in Hat is great for all occasions. Extremely versatile. Compact as h*ck. 14/10 (IG: itselizabethgales) https://t.co/vvBOcC2VdC']\n"
     ]
    }
   ],
   "source": [
    "# Inspecting the text\n",
    "text_list_missing_names = []\n",
    "text_list_missing_names = df_missing_names.text.values\n",
    "len(text_list_missing_names)\n",
    "type(text_list_missing_names)\n",
    "print(text_list_missing_names[:10])"
   ]
  },
  {
   "cell_type": "markdown",
   "metadata": {},
   "source": [
    "#### Assessment and Decisions about missing names.\n",
    "\n",
    "We can see that the dog names are often not to be found in the text for these Records. So there is no possible way to acquire this missing data. We will keep the name value as 'None'."
   ]
  },
  {
   "cell_type": "code",
   "execution_count": 33,
   "metadata": {},
   "outputs": [
    {
     "data": {
      "text/html": [
       "<div>\n",
       "<style scoped>\n",
       "    .dataframe tbody tr th:only-of-type {\n",
       "        vertical-align: middle;\n",
       "    }\n",
       "\n",
       "    .dataframe tbody tr th {\n",
       "        vertical-align: top;\n",
       "    }\n",
       "\n",
       "    .dataframe thead th {\n",
       "        text-align: right;\n",
       "    }\n",
       "</style>\n",
       "<table border=\"1\" class=\"dataframe\">\n",
       "  <thead>\n",
       "    <tr style=\"text-align: right;\">\n",
       "      <th></th>\n",
       "      <th>tweet_id</th>\n",
       "      <th>timestamp</th>\n",
       "      <th>text</th>\n",
       "      <th>retweeted_status_id</th>\n",
       "      <th>retweeted_status_user_id</th>\n",
       "      <th>expanded_urls</th>\n",
       "      <th>rating_numerator</th>\n",
       "      <th>rating_denominator</th>\n",
       "      <th>name</th>\n",
       "      <th>doggo</th>\n",
       "      <th>floofer</th>\n",
       "      <th>pupper</th>\n",
       "      <th>puppo</th>\n",
       "    </tr>\n",
       "  </thead>\n",
       "  <tbody>\n",
       "    <tr>\n",
       "      <th>56</th>\n",
       "      <td>881536004380872706</td>\n",
       "      <td>2017-07-02 15:32:16 +0000</td>\n",
       "      <td>Here is a pupper approaching maximum borkdrive...</td>\n",
       "      <td>NaN</td>\n",
       "      <td>NaN</td>\n",
       "      <td>https://twitter.com/dog_rates/status/881536004...</td>\n",
       "      <td>14</td>\n",
       "      <td>10</td>\n",
       "      <td>a</td>\n",
       "      <td>None</td>\n",
       "      <td>None</td>\n",
       "      <td>pupper</td>\n",
       "      <td>None</td>\n",
       "    </tr>\n",
       "    <tr>\n",
       "      <th>649</th>\n",
       "      <td>792913359805018113</td>\n",
       "      <td>2016-10-31 02:17:31 +0000</td>\n",
       "      <td>Here is a perfect example of someone who has t...</td>\n",
       "      <td>NaN</td>\n",
       "      <td>NaN</td>\n",
       "      <td>https://twitter.com/dog_rates/status/792913359...</td>\n",
       "      <td>13</td>\n",
       "      <td>10</td>\n",
       "      <td>a</td>\n",
       "      <td>None</td>\n",
       "      <td>None</td>\n",
       "      <td>None</td>\n",
       "      <td>None</td>\n",
       "    </tr>\n",
       "    <tr>\n",
       "      <th>801</th>\n",
       "      <td>772581559778025472</td>\n",
       "      <td>2016-09-04 23:46:12 +0000</td>\n",
       "      <td>Guys this is getting so out of hand. We only r...</td>\n",
       "      <td>NaN</td>\n",
       "      <td>NaN</td>\n",
       "      <td>https://twitter.com/dog_rates/status/772581559...</td>\n",
       "      <td>10</td>\n",
       "      <td>10</td>\n",
       "      <td>a</td>\n",
       "      <td>None</td>\n",
       "      <td>None</td>\n",
       "      <td>None</td>\n",
       "      <td>None</td>\n",
       "    </tr>\n",
       "    <tr>\n",
       "      <th>1002</th>\n",
       "      <td>747885874273214464</td>\n",
       "      <td>2016-06-28 20:14:22 +0000</td>\n",
       "      <td>This is a mighty rare blue-tailed hammer sherk...</td>\n",
       "      <td>NaN</td>\n",
       "      <td>NaN</td>\n",
       "      <td>https://twitter.com/dog_rates/status/747885874...</td>\n",
       "      <td>8</td>\n",
       "      <td>10</td>\n",
       "      <td>a</td>\n",
       "      <td>None</td>\n",
       "      <td>None</td>\n",
       "      <td>None</td>\n",
       "      <td>None</td>\n",
       "    </tr>\n",
       "    <tr>\n",
       "      <th>1004</th>\n",
       "      <td>747816857231626240</td>\n",
       "      <td>2016-06-28 15:40:07 +0000</td>\n",
       "      <td>Viewer discretion is advised. This is a terrib...</td>\n",
       "      <td>NaN</td>\n",
       "      <td>NaN</td>\n",
       "      <td>https://twitter.com/dog_rates/status/747816857...</td>\n",
       "      <td>4</td>\n",
       "      <td>10</td>\n",
       "      <td>a</td>\n",
       "      <td>None</td>\n",
       "      <td>None</td>\n",
       "      <td>None</td>\n",
       "      <td>None</td>\n",
       "    </tr>\n",
       "  </tbody>\n",
       "</table>\n",
       "</div>"
      ],
      "text/plain": [
       "                tweet_id                  timestamp  \\\n",
       "56    881536004380872706  2017-07-02 15:32:16 +0000   \n",
       "649   792913359805018113  2016-10-31 02:17:31 +0000   \n",
       "801   772581559778025472  2016-09-04 23:46:12 +0000   \n",
       "1002  747885874273214464  2016-06-28 20:14:22 +0000   \n",
       "1004  747816857231626240  2016-06-28 15:40:07 +0000   \n",
       "\n",
       "                                                   text  retweeted_status_id  \\\n",
       "56    Here is a pupper approaching maximum borkdrive...                  NaN   \n",
       "649   Here is a perfect example of someone who has t...                  NaN   \n",
       "801   Guys this is getting so out of hand. We only r...                  NaN   \n",
       "1002  This is a mighty rare blue-tailed hammer sherk...                  NaN   \n",
       "1004  Viewer discretion is advised. This is a terrib...                  NaN   \n",
       "\n",
       "      retweeted_status_user_id  \\\n",
       "56                         NaN   \n",
       "649                        NaN   \n",
       "801                        NaN   \n",
       "1002                       NaN   \n",
       "1004                       NaN   \n",
       "\n",
       "                                          expanded_urls  rating_numerator  \\\n",
       "56    https://twitter.com/dog_rates/status/881536004...                14   \n",
       "649   https://twitter.com/dog_rates/status/792913359...                13   \n",
       "801   https://twitter.com/dog_rates/status/772581559...                10   \n",
       "1002  https://twitter.com/dog_rates/status/747885874...                 8   \n",
       "1004  https://twitter.com/dog_rates/status/747816857...                 4   \n",
       "\n",
       "      rating_denominator name doggo floofer  pupper puppo  \n",
       "56                    10    a  None    None  pupper  None  \n",
       "649                   10    a  None    None    None  None  \n",
       "801                   10    a  None    None    None  None  \n",
       "1002                  10    a  None    None    None  None  \n",
       "1004                  10    a  None    None    None  None  "
      ]
     },
     "execution_count": 33,
     "metadata": {},
     "output_type": "execute_result"
    }
   ],
   "source": [
    "# Inspecting Dogs with wrong names: (Accuracy Issue)\n",
    "df_wrong_names = df_archive[df_tweetArchive.name == 'a']\n",
    "df_wrong_names.head()"
   ]
  },
  {
   "cell_type": "code",
   "execution_count": 34,
   "metadata": {},
   "outputs": [
    {
     "name": "stdout",
     "output_type": "stream",
     "text": [
      "['Here is a pupper approaching maximum borkdrive. Zooming at never before seen speeds. 14/10 paw-inspiring af \\n(IG: puffie_the_chow) https://t.co/ghXBIIeQZF'\n",
      " 'Here is a perfect example of someone who has their priorities in order. 13/10 for both owner and Forrest https://t.co/LRyMrU7Wfq'\n",
      " 'Guys this is getting so out of hand. We only rate dogs. This is a Galapagos Speed Panda. Pls only send dogs... 10/10 https://t.co/8lpAGaZRFn'\n",
      " 'This is a mighty rare blue-tailed hammer sherk. Human almost lost a limb trying to take these. Be careful guys. 8/10 https://t.co/TGenMeXreW'\n",
      " 'Viewer discretion is advised. This is a terrible attack in progress. Not even in water (tragic af). 4/10 bad sherk https://t.co/L3U0j14N5R'\n",
      " 'This is a carrot. We only rate dogs. Please only send in dogs. You all really should know this by now ...11/10 https://t.co/9e48aPrBm2'\n",
      " 'This is a very rare Great Alaskan Bush Pupper. Hard to stumble upon without spooking. 12/10 would pet passionately https://t.co/xOBKCdpzaa'\n",
      " 'People please. This is a Deadly Mediterranean Plop T-Rex. We only rate dogs. Only send in dogs. Thanks you... 11/10 https://t.co/2ATDsgHD4n'\n",
      " 'This is a taco. We only rate dogs. Please only send in dogs. Dogs are what we rate. Not tacos. Thank you... 10/10 https://t.co/cxl6xGY8B9'\n",
      " 'Here is a heartbreaking scene of an incredible pupper being laid to rest. 10/10 RIP pupper https://t.co/81mvJ0rGRu'\n",
      " \"Here is a whole flock of puppers.  60/50 I'll take the lot https://t.co/9dpcw6MdWa\"\n",
      " \"This is a Butternut Cumberfloof. It's not windy they just look like that. 11/10 back at it again with the red socks https://t.co/hMjzhdUHaW\"\n",
      " 'This is a Wild Tuscan Poofwiggle. Careful not to startle. Rare tongue slip. One eye magical. 12/10 would def pet https://t.co/4EnShAQjv6'\n",
      " '\"Pupper is a present to world. Here is a bow for pupper.\" 12/10 precious as hell https://t.co/ItSsE92gCW'\n",
      " 'This is a rare Arctic Wubberfloof. Unamused by the happenings. No longer has the appetites. 12/10 would totally hug https://t.co/krvbacIX0N']\n"
     ]
    }
   ],
   "source": [
    "print(df_wrong_names.text.values[:15])"
   ]
  },
  {
   "cell_type": "markdown",
   "metadata": {},
   "source": [
    "#### Assessment and Decisions about wrong names:\n",
    "We see that the method used to extract the name from the text, expected the name to be following \"This is\" or \"Here is\", at the beginning of the string. We see by assessing the text columns of these Records, that the names are missing in these strings. Instead there is a description about the dog in form of \"This is a\" or \"Here is a\" starting Sentence. Which is why the Character \"a\" was mistaken for a dog name.\n",
    "We cannot reliably find any dog name for all these Records, we decide therefore to set the name value to 'None'."
   ]
  },
  {
   "cell_type": "markdown",
   "metadata": {},
   "source": [
    "#### Quality Issue in the Archive:\n",
    "\n",
    "- 8. Incorrect parsed dog names \"a\""
   ]
  },
  {
   "cell_type": "markdown",
   "metadata": {},
   "source": [
    "#### Assessing dog stages:"
   ]
  },
  {
   "cell_type": "code",
   "execution_count": 35,
   "metadata": {},
   "outputs": [
    {
     "data": {
      "text/plain": [
       "None      2099\n",
       "pupper     257\n",
       "Name: pupper, dtype: int64"
      ]
     },
     "execution_count": 35,
     "metadata": {},
     "output_type": "execute_result"
    }
   ],
   "source": [
    "df_archive.pupper.value_counts()"
   ]
  },
  {
   "cell_type": "code",
   "execution_count": 36,
   "metadata": {},
   "outputs": [
    {
     "data": {
      "text/plain": [
       "None     2259\n",
       "doggo      97\n",
       "Name: doggo, dtype: int64"
      ]
     },
     "execution_count": 36,
     "metadata": {},
     "output_type": "execute_result"
    }
   ],
   "source": [
    "df_archive.doggo.value_counts()"
   ]
  },
  {
   "cell_type": "code",
   "execution_count": 37,
   "metadata": {},
   "outputs": [
    {
     "data": {
      "text/plain": [
       "None       2346\n",
       "floofer      10\n",
       "Name: floofer, dtype: int64"
      ]
     },
     "execution_count": 37,
     "metadata": {},
     "output_type": "execute_result"
    }
   ],
   "source": [
    "df_archive.floofer.value_counts()"
   ]
  },
  {
   "cell_type": "code",
   "execution_count": 38,
   "metadata": {},
   "outputs": [
    {
     "data": {
      "text/plain": [
       "None     2326\n",
       "puppo      30\n",
       "Name: puppo, dtype: int64"
      ]
     },
     "execution_count": 38,
     "metadata": {},
     "output_type": "execute_result"
    }
   ],
   "source": [
    "df_archive.puppo.value_counts()"
   ]
  },
  {
   "cell_type": "markdown",
   "metadata": {},
   "source": [
    "Each value of dog stage ('doggo', 'floofer', 'pupper', 'puppo') is contained as a Column/Variable in the Dataframe. The values are either 'None' or the name of the variable itself.\n",
    "Instead of this, we want a single variable/column 'dog_stage', containing each one of the possible value(s),or 'None'."
   ]
  },
  {
   "cell_type": "code",
   "execution_count": 39,
   "metadata": {},
   "outputs": [
    {
     "data": {
      "text/plain": [
       "NoneNoneNoneNone        1976\n",
       "NonepupperNoneNone       245\n",
       "doggoNoneNoneNone         83\n",
       "NoneNonepuppoNone         29\n",
       "doggopupperNoneNone       12\n",
       "NoneNoneNonefloofer        9\n",
       "doggoNonepuppoNone         1\n",
       "doggoNoneNonefloofer       1\n",
       "Name: dog_stage_aggregated, dtype: int64"
      ]
     },
     "execution_count": 39,
     "metadata": {},
     "output_type": "execute_result"
    }
   ],
   "source": [
    "df_archive['dog_stage_aggregated'] = df_archive.doggo+df_archive.pupper+df_archive.puppo+\\\n",
    "                                            df_archive.floofer\n",
    "df_archive.dog_stage_aggregated.value_counts()"
   ]
  },
  {
   "cell_type": "markdown",
   "metadata": {},
   "source": [
    "Let's try and reparse the dog stage from the text of the tweet again:\n",
    "The Values we consider for the possible dog_stages are the four unique values, or the value 'Multiple' when a Tweet has several dog_stages, the most plausible reason being that there are more than one Dog in this tweet, or 'None', when no dog_stage(s) was/were found    "
   ]
  },
  {
   "cell_type": "code",
   "execution_count": 40,
   "metadata": {},
   "outputs": [],
   "source": [
    "dogs_stages= ['doggo', 'floofer', 'pupper', 'puppo']\n",
    "df_test = pd.DataFrame()\n",
    "\n",
    "def parse_dog_stages(text):\n",
    "    stages = ' , '.join([stage for stage in dogs_stages if stage in text])\n",
    "    if ',' in stages:\n",
    "        return 'Multiple'\n",
    "    if stages:\n",
    "        return stages.capitalize()\n",
    "    else:\n",
    "        return 'None'\n",
    "    \n",
    "df_test['dog_stage'] = df_archive.text.map(parse_dog_stages)"
   ]
  },
  {
   "cell_type": "code",
   "execution_count": 41,
   "metadata": {
    "scrolled": true
   },
   "outputs": [
    {
     "data": {
      "text/plain": [
       "None        1957\n",
       "Pupper       262\n",
       "Doggo         86\n",
       "Puppo         35\n",
       "Multiple      12\n",
       "Floofer        4\n",
       "Name: dog_stage, dtype: int64"
      ]
     },
     "execution_count": 41,
     "metadata": {},
     "output_type": "execute_result"
    }
   ],
   "source": [
    "df_test.dog_stage.value_counts()"
   ]
  },
  {
   "cell_type": "code",
   "execution_count": 42,
   "metadata": {},
   "outputs": [],
   "source": [
    "# dropping the previous aggregated column we just used for assessing purposes:\n",
    "df_archive.drop(columns='dog_stage_aggregated', inplace=True)"
   ]
  },
  {
   "cell_type": "markdown",
   "metadata": {},
   "source": [
    "#### Assessments and Decisions made for the \"dog stages\" Variable:\n",
    "We will keep the Values resulting from parsing the text, as we gained more information compared to the aggregated values that were obtained from the dog stages variables/columns of the Archive.\n",
    "We can summarize the following Issues related to the dog stages like so:"
   ]
  },
  {
   "cell_type": "markdown",
   "metadata": {},
   "source": [
    "#### Tidiness Issue in the Archive\n",
    "- 2. The values corresponding to the \"dog stage\" Variable is contained in four columns: \"doggo\", \"pupper\", \"puppo\", \"fluffer\" "
   ]
  },
  {
   "cell_type": "markdown",
   "metadata": {},
   "source": [
    "[Back to top](#top)"
   ]
  },
  {
   "cell_type": "markdown",
   "metadata": {},
   "source": [
    "<a id='tweepy'></a>\n",
    "### 2. Assessing the Tweepy Dataframe"
   ]
  },
  {
   "cell_type": "code",
   "execution_count": 43,
   "metadata": {},
   "outputs": [
    {
     "name": "stdout",
     "output_type": "stream",
     "text": [
      "<class 'pandas.core.frame.DataFrame'>\n",
      "RangeIndex: 2339 entries, 0 to 2338\n",
      "Data columns (total 32 columns):\n",
      "contributors                     0 non-null object\n",
      "coordinates                      0 non-null object\n",
      "created_at                       2339 non-null object\n",
      "display_text_range               2339 non-null object\n",
      "entities                         2339 non-null object\n",
      "extended_entities                2065 non-null object\n",
      "favorite_count                   2339 non-null int64\n",
      "favorited                        2339 non-null bool\n",
      "full_text                        2339 non-null object\n",
      "geo                              0 non-null object\n",
      "id                               2339 non-null int64\n",
      "id_str                           2339 non-null object\n",
      "in_reply_to_screen_name          77 non-null object\n",
      "in_reply_to_status_id            77 non-null float64\n",
      "in_reply_to_status_id_str        77 non-null object\n",
      "in_reply_to_user_id              77 non-null float64\n",
      "in_reply_to_user_id_str          77 non-null object\n",
      "is_quote_status                  2339 non-null bool\n",
      "lang                             2339 non-null object\n",
      "place                            1 non-null object\n",
      "possibly_sensitive               2203 non-null object\n",
      "possibly_sensitive_appealable    2203 non-null object\n",
      "quoted_status                    24 non-null object\n",
      "quoted_status_id                 26 non-null float64\n",
      "quoted_status_id_str             26 non-null object\n",
      "quoted_status_permalink          26 non-null object\n",
      "retweet_count                    2339 non-null int64\n",
      "retweeted                        2339 non-null bool\n",
      "retweeted_status                 167 non-null object\n",
      "source                           2339 non-null object\n",
      "truncated                        2339 non-null bool\n",
      "user                             2339 non-null object\n",
      "dtypes: bool(4), float64(3), int64(3), object(22)\n",
      "memory usage: 520.9+ KB\n"
     ]
    }
   ],
   "source": [
    "df_tweepy.info()"
   ]
  },
  {
   "cell_type": "markdown",
   "metadata": {},
   "source": [
    "#### Inspecting the quote/retweet Variables"
   ]
  },
  {
   "cell_type": "code",
   "execution_count": 44,
   "metadata": {},
   "outputs": [
    {
     "data": {
      "text/plain": [
       "False    2308\n",
       "True       31\n",
       "Name: is_quote_status, dtype: int64"
      ]
     },
     "execution_count": 44,
     "metadata": {},
     "output_type": "execute_result"
    }
   ],
   "source": [
    "df_tweepy.is_quote_status.value_counts()"
   ]
  },
  {
   "cell_type": "code",
   "execution_count": 45,
   "metadata": {},
   "outputs": [
    {
     "data": {
      "text/plain": [
       "(31, 32)"
      ]
     },
     "execution_count": 45,
     "metadata": {},
     "output_type": "execute_result"
    }
   ],
   "source": [
    "df_tweepy_quotes = df_tweepy[df_tweepy['is_quote_status'] == True]\n",
    "df_tweepy_quotes.shape"
   ]
  },
  {
   "cell_type": "code",
   "execution_count": 46,
   "metadata": {},
   "outputs": [
    {
     "data": {
      "text/html": [
       "<div>\n",
       "<style scoped>\n",
       "    .dataframe tbody tr th:only-of-type {\n",
       "        vertical-align: middle;\n",
       "    }\n",
       "\n",
       "    .dataframe tbody tr th {\n",
       "        vertical-align: top;\n",
       "    }\n",
       "\n",
       "    .dataframe thead th {\n",
       "        text-align: right;\n",
       "    }\n",
       "</style>\n",
       "<table border=\"1\" class=\"dataframe\">\n",
       "  <thead>\n",
       "    <tr style=\"text-align: right;\">\n",
       "      <th></th>\n",
       "      <th>id</th>\n",
       "      <th>is_quote_status</th>\n",
       "      <th>quoted_status_id</th>\n",
       "      <th>quoted_status</th>\n",
       "      <th>retweeted_status</th>\n",
       "    </tr>\n",
       "  </thead>\n",
       "  <tbody>\n",
       "    <tr>\n",
       "      <th>34</th>\n",
       "      <td>885518971528720385</td>\n",
       "      <td>True</td>\n",
       "      <td>NaN</td>\n",
       "      <td>NaN</td>\n",
       "      <td>NaN</td>\n",
       "    </tr>\n",
       "    <tr>\n",
       "      <th>183</th>\n",
       "      <td>855857698524602368</td>\n",
       "      <td>True</td>\n",
       "      <td>NaN</td>\n",
       "      <td>NaN</td>\n",
       "      <td>NaN</td>\n",
       "    </tr>\n",
       "    <tr>\n",
       "      <th>248</th>\n",
       "      <td>843981021012017153</td>\n",
       "      <td>True</td>\n",
       "      <td>NaN</td>\n",
       "      <td>NaN</td>\n",
       "      <td>NaN</td>\n",
       "    </tr>\n",
       "    <tr>\n",
       "      <th>313</th>\n",
       "      <td>834089966724603904</td>\n",
       "      <td>True</td>\n",
       "      <td>NaN</td>\n",
       "      <td>NaN</td>\n",
       "      <td>NaN</td>\n",
       "    </tr>\n",
       "    <tr>\n",
       "      <th>1024</th>\n",
       "      <td>744223424764059648</td>\n",
       "      <td>True</td>\n",
       "      <td>6.721083e+17</td>\n",
       "      <td>NaN</td>\n",
       "      <td>NaN</td>\n",
       "    </tr>\n",
       "  </tbody>\n",
       "</table>\n",
       "</div>"
      ],
      "text/plain": [
       "                      id  is_quote_status  quoted_status_id quoted_status  \\\n",
       "34    885518971528720385             True               NaN           NaN   \n",
       "183   855857698524602368             True               NaN           NaN   \n",
       "248   843981021012017153             True               NaN           NaN   \n",
       "313   834089966724603904             True               NaN           NaN   \n",
       "1024  744223424764059648             True      6.721083e+17           NaN   \n",
       "\n",
       "     retweeted_status  \n",
       "34                NaN  \n",
       "183               NaN  \n",
       "248               NaN  \n",
       "313               NaN  \n",
       "1024              NaN  "
      ]
     },
     "execution_count": 46,
     "metadata": {},
     "output_type": "execute_result"
    }
   ],
   "source": [
    "df_quotes_without_obj = df_tweepy_quotes[df_tweepy_quotes.quoted_status.isna() & df_tweepy_quotes.retweeted_status.isna()]\n",
    "df_quotes_without_obj = df_quotes_without_obj.loc[:, ['id', 'is_quote_status', 'quoted_status_id', 'quoted_status',\\\n",
    "                                                     'retweeted_status']]\n",
    "df_quotes_without_obj\n"
   ]
  },
  {
   "cell_type": "markdown",
   "metadata": {},
   "source": [
    "All these Tweets are unavailable."
   ]
  },
  {
   "cell_type": "code",
   "execution_count": 47,
   "metadata": {},
   "outputs": [
    {
     "name": "stdout",
     "output_type": "stream",
     "text": [
      "(26, 5)\n"
     ]
    },
    {
     "data": {
      "text/html": [
       "<div>\n",
       "<style scoped>\n",
       "    .dataframe tbody tr th:only-of-type {\n",
       "        vertical-align: middle;\n",
       "    }\n",
       "\n",
       "    .dataframe tbody tr th {\n",
       "        vertical-align: top;\n",
       "    }\n",
       "\n",
       "    .dataframe thead th {\n",
       "        text-align: right;\n",
       "    }\n",
       "</style>\n",
       "<table border=\"1\" class=\"dataframe\">\n",
       "  <thead>\n",
       "    <tr style=\"text-align: right;\">\n",
       "      <th></th>\n",
       "      <th>id</th>\n",
       "      <th>is_quote_status</th>\n",
       "      <th>quoted_status_id</th>\n",
       "      <th>quoted_status</th>\n",
       "      <th>retweeted_status</th>\n",
       "    </tr>\n",
       "  </thead>\n",
       "  <tbody>\n",
       "    <tr>\n",
       "      <th>31</th>\n",
       "      <td>886054160059072513</td>\n",
       "      <td>True</td>\n",
       "      <td>8.860534e+17</td>\n",
       "      <td>NaN</td>\n",
       "      <td>{'created_at': 'Sat Jul 15 02:44:07 +0000 2017...</td>\n",
       "    </tr>\n",
       "    <tr>\n",
       "      <th>41</th>\n",
       "      <td>884247878851493888</td>\n",
       "      <td>True</td>\n",
       "      <td>8.839657e+17</td>\n",
       "      <td>{'created_at': 'Sun Jul 09 08:26:49 +0000 2017...</td>\n",
       "      <td>NaN</td>\n",
       "    </tr>\n",
       "    <tr>\n",
       "      <th>71</th>\n",
       "      <td>878604707211726852</td>\n",
       "      <td>True</td>\n",
       "      <td>8.785999e+17</td>\n",
       "      <td>{'created_at': 'Sat Jun 24 13:05:06 +0000 2017...</td>\n",
       "      <td>NaN</td>\n",
       "    </tr>\n",
       "    <tr>\n",
       "      <th>82</th>\n",
       "      <td>876537666061221889</td>\n",
       "      <td>True</td>\n",
       "      <td>8.761630e+17</td>\n",
       "      <td>{'created_at': 'Sat Jun 17 19:41:50 +0000 2017...</td>\n",
       "      <td>NaN</td>\n",
       "    </tr>\n",
       "    <tr>\n",
       "      <th>87</th>\n",
       "      <td>875097192612077568</td>\n",
       "      <td>True</td>\n",
       "      <td>8.744134e+17</td>\n",
       "      <td>{'created_at': 'Mon Jun 12 23:49:34 +0000 2017...</td>\n",
       "      <td>NaN</td>\n",
       "    </tr>\n",
       "    <tr>\n",
       "      <th>106</th>\n",
       "      <td>871102520638267392</td>\n",
       "      <td>True</td>\n",
       "      <td>8.710758e+17</td>\n",
       "      <td>{'created_at': 'Sat Jun 03 18:46:59 +0000 2017...</td>\n",
       "      <td>NaN</td>\n",
       "    </tr>\n",
       "    <tr>\n",
       "      <th>127</th>\n",
       "      <td>866720684873056260</td>\n",
       "      <td>True</td>\n",
       "      <td>8.664587e+17</td>\n",
       "      <td>{'created_at': 'Mon May 22 01:00:31 +0000 2017...</td>\n",
       "      <td>NaN</td>\n",
       "    </tr>\n",
       "    <tr>\n",
       "      <th>185</th>\n",
       "      <td>855818117272018944</td>\n",
       "      <td>True</td>\n",
       "      <td>8.556564e+17</td>\n",
       "      <td>{'created_at': 'Sat Apr 22 05:36:05 +0000 2017...</td>\n",
       "      <td>NaN</td>\n",
       "    </tr>\n",
       "    <tr>\n",
       "      <th>234</th>\n",
       "      <td>846505985330044928</td>\n",
       "      <td>True</td>\n",
       "      <td>8.464848e+17</td>\n",
       "      <td>{'created_at': 'Mon Mar 27 22:11:17 +0000 2017...</td>\n",
       "      <td>NaN</td>\n",
       "    </tr>\n",
       "    <tr>\n",
       "      <th>236</th>\n",
       "      <td>846139713627017216</td>\n",
       "      <td>True</td>\n",
       "      <td>8.460885e+17</td>\n",
       "      <td>{'created_at': 'Sun Mar 26 19:56:27 +0000 2017...</td>\n",
       "      <td>NaN</td>\n",
       "    </tr>\n",
       "    <tr>\n",
       "      <th>260</th>\n",
       "      <td>841320156043304961</td>\n",
       "      <td>True</td>\n",
       "      <td>8.413114e+17</td>\n",
       "      <td>{'created_at': 'Mon Mar 13 15:34:02 +0000 2017...</td>\n",
       "      <td>NaN</td>\n",
       "    </tr>\n",
       "    <tr>\n",
       "      <th>274</th>\n",
       "      <td>838952994649550848</td>\n",
       "      <td>True</td>\n",
       "      <td>8.389487e+17</td>\n",
       "      <td>{'created_at': 'Tue Mar 07 03:05:35 +0000 2017...</td>\n",
       "      <td>NaN</td>\n",
       "    </tr>\n",
       "    <tr>\n",
       "      <th>324</th>\n",
       "      <td>832682457690300417</td>\n",
       "      <td>True</td>\n",
       "      <td>8.322683e+17</td>\n",
       "      <td>{'created_at': 'Thu Feb 16 16:40:00 +0000 2017...</td>\n",
       "      <td>NaN</td>\n",
       "    </tr>\n",
       "    <tr>\n",
       "      <th>393</th>\n",
       "      <td>824025158776213504</td>\n",
       "      <td>True</td>\n",
       "      <td>8.239662e+17</td>\n",
       "      <td>{'created_at': 'Tue Jan 24 18:50:25 +0000 2017...</td>\n",
       "      <td>NaN</td>\n",
       "    </tr>\n",
       "    <tr>\n",
       "      <th>447</th>\n",
       "      <td>817908911860748288</td>\n",
       "      <td>True</td>\n",
       "      <td>8.179021e+17</td>\n",
       "      <td>{'created_at': 'Sun Jan 08 01:13:46 +0000 2017...</td>\n",
       "      <td>NaN</td>\n",
       "    </tr>\n",
       "    <tr>\n",
       "      <th>527</th>\n",
       "      <td>806576416489959424</td>\n",
       "      <td>True</td>\n",
       "      <td>8.065709e+17</td>\n",
       "      <td>{'created_at': 'Wed Dec 07 18:47:50 +0000 2016...</td>\n",
       "      <td>NaN</td>\n",
       "    </tr>\n",
       "    <tr>\n",
       "      <th>539</th>\n",
       "      <td>804475857670639616</td>\n",
       "      <td>True</td>\n",
       "      <td>8.044179e+17</td>\n",
       "      <td>{'created_at': 'Thu Dec 01 20:12:17 +0000 2016...</td>\n",
       "      <td>NaN</td>\n",
       "    </tr>\n",
       "    <tr>\n",
       "      <th>564</th>\n",
       "      <td>800855607700029440</td>\n",
       "      <td>True</td>\n",
       "      <td>NaN</td>\n",
       "      <td>NaN</td>\n",
       "      <td>{'created_at': 'Tue Nov 22 00:10:52 +0000 2016...</td>\n",
       "    </tr>\n",
       "    <tr>\n",
       "      <th>607</th>\n",
       "      <td>796125600683540480</td>\n",
       "      <td>True</td>\n",
       "      <td>7.961237e+17</td>\n",
       "      <td>{'created_at': 'Tue Nov 08 22:54:11 +0000 2016...</td>\n",
       "      <td>NaN</td>\n",
       "    </tr>\n",
       "    <tr>\n",
       "      <th>663</th>\n",
       "      <td>789314372632018944</td>\n",
       "      <td>True</td>\n",
       "      <td>7.888183e+17</td>\n",
       "      <td>{'created_at': 'Wed Oct 19 19:05:19 +0000 2016...</td>\n",
       "      <td>NaN</td>\n",
       "    </tr>\n",
       "    <tr>\n",
       "      <th>793</th>\n",
       "      <td>771908950375665664</td>\n",
       "      <td>True</td>\n",
       "      <td>7.719056e+17</td>\n",
       "      <td>{'created_at': 'Sat Sep 03 03:00:03 +0000 2016...</td>\n",
       "      <td>NaN</td>\n",
       "    </tr>\n",
       "    <tr>\n",
       "      <th>878</th>\n",
       "      <td>759446261539934208</td>\n",
       "      <td>True</td>\n",
       "      <td>7.591676e+17</td>\n",
       "      <td>{'created_at': 'Fri Jul 29 23:23:45 +0000 2016...</td>\n",
       "      <td>NaN</td>\n",
       "    </tr>\n",
       "    <tr>\n",
       "      <th>1138</th>\n",
       "      <td>725458796924002305</td>\n",
       "      <td>True</td>\n",
       "      <td>7.251361e+17</td>\n",
       "      <td>{'created_at': 'Wed Apr 27 01:34:44 +0000 2016...</td>\n",
       "      <td>NaN</td>\n",
       "    </tr>\n",
       "    <tr>\n",
       "      <th>1184</th>\n",
       "      <td>716730379797970944</td>\n",
       "      <td>True</td>\n",
       "      <td>7.166371e+17</td>\n",
       "      <td>{'created_at': 'Sun Apr 03 14:42:59 +0000 2016...</td>\n",
       "      <td>NaN</td>\n",
       "    </tr>\n",
       "    <tr>\n",
       "      <th>1221</th>\n",
       "      <td>712309440758808576</td>\n",
       "      <td>True</td>\n",
       "      <td>7.099191e+17</td>\n",
       "      <td>{'created_at': 'Wed Mar 16 01:48:07 +0000 2016...</td>\n",
       "      <td>NaN</td>\n",
       "    </tr>\n",
       "    <tr>\n",
       "      <th>1308</th>\n",
       "      <td>706169069255446529</td>\n",
       "      <td>True</td>\n",
       "      <td>7.061659e+17</td>\n",
       "      <td>{'created_at': 'Sat Mar 05 17:14:10 +0000 2016...</td>\n",
       "      <td>NaN</td>\n",
       "    </tr>\n",
       "  </tbody>\n",
       "</table>\n",
       "</div>"
      ],
      "text/plain": [
       "                      id  is_quote_status  quoted_status_id  \\\n",
       "31    886054160059072513             True      8.860534e+17   \n",
       "41    884247878851493888             True      8.839657e+17   \n",
       "71    878604707211726852             True      8.785999e+17   \n",
       "82    876537666061221889             True      8.761630e+17   \n",
       "87    875097192612077568             True      8.744134e+17   \n",
       "106   871102520638267392             True      8.710758e+17   \n",
       "127   866720684873056260             True      8.664587e+17   \n",
       "185   855818117272018944             True      8.556564e+17   \n",
       "234   846505985330044928             True      8.464848e+17   \n",
       "236   846139713627017216             True      8.460885e+17   \n",
       "260   841320156043304961             True      8.413114e+17   \n",
       "274   838952994649550848             True      8.389487e+17   \n",
       "324   832682457690300417             True      8.322683e+17   \n",
       "393   824025158776213504             True      8.239662e+17   \n",
       "447   817908911860748288             True      8.179021e+17   \n",
       "527   806576416489959424             True      8.065709e+17   \n",
       "539   804475857670639616             True      8.044179e+17   \n",
       "564   800855607700029440             True               NaN   \n",
       "607   796125600683540480             True      7.961237e+17   \n",
       "663   789314372632018944             True      7.888183e+17   \n",
       "793   771908950375665664             True      7.719056e+17   \n",
       "878   759446261539934208             True      7.591676e+17   \n",
       "1138  725458796924002305             True      7.251361e+17   \n",
       "1184  716730379797970944             True      7.166371e+17   \n",
       "1221  712309440758808576             True      7.099191e+17   \n",
       "1308  706169069255446529             True      7.061659e+17   \n",
       "\n",
       "                                          quoted_status  \\\n",
       "31                                                  NaN   \n",
       "41    {'created_at': 'Sun Jul 09 08:26:49 +0000 2017...   \n",
       "71    {'created_at': 'Sat Jun 24 13:05:06 +0000 2017...   \n",
       "82    {'created_at': 'Sat Jun 17 19:41:50 +0000 2017...   \n",
       "87    {'created_at': 'Mon Jun 12 23:49:34 +0000 2017...   \n",
       "106   {'created_at': 'Sat Jun 03 18:46:59 +0000 2017...   \n",
       "127   {'created_at': 'Mon May 22 01:00:31 +0000 2017...   \n",
       "185   {'created_at': 'Sat Apr 22 05:36:05 +0000 2017...   \n",
       "234   {'created_at': 'Mon Mar 27 22:11:17 +0000 2017...   \n",
       "236   {'created_at': 'Sun Mar 26 19:56:27 +0000 2017...   \n",
       "260   {'created_at': 'Mon Mar 13 15:34:02 +0000 2017...   \n",
       "274   {'created_at': 'Tue Mar 07 03:05:35 +0000 2017...   \n",
       "324   {'created_at': 'Thu Feb 16 16:40:00 +0000 2017...   \n",
       "393   {'created_at': 'Tue Jan 24 18:50:25 +0000 2017...   \n",
       "447   {'created_at': 'Sun Jan 08 01:13:46 +0000 2017...   \n",
       "527   {'created_at': 'Wed Dec 07 18:47:50 +0000 2016...   \n",
       "539   {'created_at': 'Thu Dec 01 20:12:17 +0000 2016...   \n",
       "564                                                 NaN   \n",
       "607   {'created_at': 'Tue Nov 08 22:54:11 +0000 2016...   \n",
       "663   {'created_at': 'Wed Oct 19 19:05:19 +0000 2016...   \n",
       "793   {'created_at': 'Sat Sep 03 03:00:03 +0000 2016...   \n",
       "878   {'created_at': 'Fri Jul 29 23:23:45 +0000 2016...   \n",
       "1138  {'created_at': 'Wed Apr 27 01:34:44 +0000 2016...   \n",
       "1184  {'created_at': 'Sun Apr 03 14:42:59 +0000 2016...   \n",
       "1221  {'created_at': 'Wed Mar 16 01:48:07 +0000 2016...   \n",
       "1308  {'created_at': 'Sat Mar 05 17:14:10 +0000 2016...   \n",
       "\n",
       "                                       retweeted_status  \n",
       "31    {'created_at': 'Sat Jul 15 02:44:07 +0000 2017...  \n",
       "41                                                  NaN  \n",
       "71                                                  NaN  \n",
       "82                                                  NaN  \n",
       "87                                                  NaN  \n",
       "106                                                 NaN  \n",
       "127                                                 NaN  \n",
       "185                                                 NaN  \n",
       "234                                                 NaN  \n",
       "236                                                 NaN  \n",
       "260                                                 NaN  \n",
       "274                                                 NaN  \n",
       "324                                                 NaN  \n",
       "393                                                 NaN  \n",
       "447                                                 NaN  \n",
       "527                                                 NaN  \n",
       "539                                                 NaN  \n",
       "564   {'created_at': 'Tue Nov 22 00:10:52 +0000 2016...  \n",
       "607                                                 NaN  \n",
       "663                                                 NaN  \n",
       "793                                                 NaN  \n",
       "878                                                 NaN  \n",
       "1138                                                NaN  \n",
       "1184                                                NaN  \n",
       "1221                                                NaN  \n",
       "1308                                                NaN  "
      ]
     },
     "execution_count": 47,
     "metadata": {},
     "output_type": "execute_result"
    }
   ],
   "source": [
    "df_quotes_with_obj = df_tweepy_quotes[df_tweepy_quotes.retweeted_status.notnull()|df_tweepy_quotes.quoted_status.notnull()]\n",
    "df_quotes_with_obj = df_quotes_with_obj.loc[:, ['id', 'is_quote_status', 'quoted_status_id', 'quoted_status', 'retweeted_status']]\n",
    "print(df_quotes_with_obj.shape)\n",
    "df_quotes_with_obj"
   ]
  },
  {
   "cell_type": "code",
   "execution_count": 48,
   "metadata": {},
   "outputs": [
    {
     "data": {
      "text/plain": [
       "29"
      ]
     },
     "execution_count": 48,
     "metadata": {},
     "output_type": "execute_result"
    }
   ],
   "source": [
    "sum(df_tweepy_quotes.retweeted_status.isnull())"
   ]
  },
  {
   "cell_type": "code",
   "execution_count": 49,
   "metadata": {},
   "outputs": [
    {
     "data": {
      "text/html": [
       "<div>\n",
       "<style scoped>\n",
       "    .dataframe tbody tr th:only-of-type {\n",
       "        vertical-align: middle;\n",
       "    }\n",
       "\n",
       "    .dataframe tbody tr th {\n",
       "        vertical-align: top;\n",
       "    }\n",
       "\n",
       "    .dataframe thead th {\n",
       "        text-align: right;\n",
       "    }\n",
       "</style>\n",
       "<table border=\"1\" class=\"dataframe\">\n",
       "  <thead>\n",
       "    <tr style=\"text-align: right;\">\n",
       "      <th></th>\n",
       "      <th>id</th>\n",
       "      <th>quoted_status</th>\n",
       "      <th>quoted_status_id</th>\n",
       "      <th>quoted_status_permalink</th>\n",
       "      <th>retweeted_status</th>\n",
       "    </tr>\n",
       "  </thead>\n",
       "  <tbody>\n",
       "    <tr>\n",
       "      <th>31</th>\n",
       "      <td>886054160059072513</td>\n",
       "      <td>NaN</td>\n",
       "      <td>8.860534e+17</td>\n",
       "      <td>{'url': 'https://t.co/WxwJmvjfxo', 'expanded':...</td>\n",
       "      <td>{'created_at': 'Sat Jul 15 02:44:07 +0000 2017...</td>\n",
       "    </tr>\n",
       "    <tr>\n",
       "      <th>34</th>\n",
       "      <td>885518971528720385</td>\n",
       "      <td>NaN</td>\n",
       "      <td>NaN</td>\n",
       "      <td>NaN</td>\n",
       "      <td>NaN</td>\n",
       "    </tr>\n",
       "    <tr>\n",
       "      <th>41</th>\n",
       "      <td>884247878851493888</td>\n",
       "      <td>{'created_at': 'Sun Jul 09 08:26:49 +0000 2017...</td>\n",
       "      <td>8.839657e+17</td>\n",
       "      <td>{'url': 'https://t.co/uF3pQ8Wubj', 'expanded':...</td>\n",
       "      <td>NaN</td>\n",
       "    </tr>\n",
       "    <tr>\n",
       "      <th>71</th>\n",
       "      <td>878604707211726852</td>\n",
       "      <td>{'created_at': 'Sat Jun 24 13:05:06 +0000 2017...</td>\n",
       "      <td>8.785999e+17</td>\n",
       "      <td>{'url': 'https://t.co/9uABQXgjwa', 'expanded':...</td>\n",
       "      <td>NaN</td>\n",
       "    </tr>\n",
       "    <tr>\n",
       "      <th>82</th>\n",
       "      <td>876537666061221889</td>\n",
       "      <td>{'created_at': 'Sat Jun 17 19:41:50 +0000 2017...</td>\n",
       "      <td>8.761630e+17</td>\n",
       "      <td>{'url': 'https://t.co/8yoc1CNTsu', 'expanded':...</td>\n",
       "      <td>NaN</td>\n",
       "    </tr>\n",
       "  </tbody>\n",
       "</table>\n",
       "</div>"
      ],
      "text/plain": [
       "                    id                                      quoted_status  \\\n",
       "31  886054160059072513                                                NaN   \n",
       "34  885518971528720385                                                NaN   \n",
       "41  884247878851493888  {'created_at': 'Sun Jul 09 08:26:49 +0000 2017...   \n",
       "71  878604707211726852  {'created_at': 'Sat Jun 24 13:05:06 +0000 2017...   \n",
       "82  876537666061221889  {'created_at': 'Sat Jun 17 19:41:50 +0000 2017...   \n",
       "\n",
       "    quoted_status_id                            quoted_status_permalink  \\\n",
       "31      8.860534e+17  {'url': 'https://t.co/WxwJmvjfxo', 'expanded':...   \n",
       "34               NaN                                                NaN   \n",
       "41      8.839657e+17  {'url': 'https://t.co/uF3pQ8Wubj', 'expanded':...   \n",
       "71      8.785999e+17  {'url': 'https://t.co/9uABQXgjwa', 'expanded':...   \n",
       "82      8.761630e+17  {'url': 'https://t.co/8yoc1CNTsu', 'expanded':...   \n",
       "\n",
       "                                     retweeted_status  \n",
       "31  {'created_at': 'Sat Jul 15 02:44:07 +0000 2017...  \n",
       "34                                                NaN  \n",
       "41                                                NaN  \n",
       "71                                                NaN  \n",
       "82                                                NaN  "
      ]
     },
     "execution_count": 49,
     "metadata": {},
     "output_type": "execute_result"
    }
   ],
   "source": [
    "df_tweepy_nonoriginal = df_tweepy_quotes.loc[:, ['id', 'quoted_status', 'quoted_status_id', 'quoted_status_permalink',\\\n",
    "                                              'retweeted_status']]\n",
    "df_tweepy_nonoriginal.head()"
   ]
  },
  {
   "cell_type": "code",
   "execution_count": 50,
   "metadata": {},
   "outputs": [
    {
     "data": {
      "text/plain": [
       "(167, 32)"
      ]
     },
     "execution_count": 50,
     "metadata": {},
     "output_type": "execute_result"
    }
   ],
   "source": [
    "df_tweepy_retweets = df_tweepy[df_tweepy.retweeted_status.notnull()]\n",
    "df_tweepy_retweets.shape"
   ]
  },
  {
   "cell_type": "code",
   "execution_count": 51,
   "metadata": {},
   "outputs": [
    {
     "data": {
      "text/plain": [
       "(165, 32)"
      ]
     },
     "execution_count": 51,
     "metadata": {},
     "output_type": "execute_result"
    }
   ],
   "source": [
    "df_tweepy_noquotes = df_tweepy[~df_tweepy.is_quote_status & (df_tweepy.quoted_status.notnull() | \\\n",
    "                                                              df_tweepy.retweeted_status.notnull())]\n",
    "df_tweepy_noquotes.head()\n",
    "df_tweepy_noquotes.shape"
   ]
  },
  {
   "cell_type": "markdown",
   "metadata": {},
   "source": [
    "#### Quality Issue in the tweepy Dataframe:\n",
    "- 9. There are Retweets and Quotes in the tweepy Dataframe. We want to make sure these are consistent with the Retweets/Quotes from the Archive and that removing them from the Archive remove them all from this Dataframe."
   ]
  },
  {
   "cell_type": "markdown",
   "metadata": {},
   "source": [
    "#### Assessing the favorite and retweet counts:"
   ]
  },
  {
   "cell_type": "code",
   "execution_count": 52,
   "metadata": {},
   "outputs": [
    {
     "data": {
      "text/plain": [
       "count     2339.000000\n",
       "mean      2896.364686\n",
       "std       4884.851943\n",
       "min          1.000000\n",
       "25%        582.000000\n",
       "50%       1352.000000\n",
       "75%       3375.000000\n",
       "max      82815.000000\n",
       "Name: retweet_count, dtype: float64"
      ]
     },
     "execution_count": 52,
     "metadata": {},
     "output_type": "execute_result"
    }
   ],
   "source": [
    "df_tweepy.retweet_count.describe()"
   ]
  },
  {
   "cell_type": "code",
   "execution_count": 53,
   "metadata": {},
   "outputs": [
    {
     "data": {
      "text/plain": [
       "count      2339.000000\n",
       "mean       7882.915776\n",
       "std       12216.192497\n",
       "min           0.000000\n",
       "25%        1365.000000\n",
       "50%        3429.000000\n",
       "75%        9652.500000\n",
       "max      162739.000000\n",
       "Name: favorite_count, dtype: float64"
      ]
     },
     "execution_count": 53,
     "metadata": {},
     "output_type": "execute_result"
    }
   ],
   "source": [
    "df_tweepy.favorite_count.describe()"
   ]
  },
  {
   "cell_type": "markdown",
   "metadata": {},
   "source": [
    "Inspecting the tweets with a \"favorite_count\" of zero:\n",
    "I am wondering how it can be that tweets that were not popular at all would still be retweeted (the minimum of retweet_count is 1!)"
   ]
  },
  {
   "cell_type": "code",
   "execution_count": 54,
   "metadata": {},
   "outputs": [
    {
     "data": {
      "text/html": [
       "<div>\n",
       "<style scoped>\n",
       "    .dataframe tbody tr th:only-of-type {\n",
       "        vertical-align: middle;\n",
       "    }\n",
       "\n",
       "    .dataframe tbody tr th {\n",
       "        vertical-align: top;\n",
       "    }\n",
       "\n",
       "    .dataframe thead th {\n",
       "        text-align: right;\n",
       "    }\n",
       "</style>\n",
       "<table border=\"1\" class=\"dataframe\">\n",
       "  <thead>\n",
       "    <tr style=\"text-align: right;\">\n",
       "      <th></th>\n",
       "      <th>contributors</th>\n",
       "      <th>coordinates</th>\n",
       "      <th>created_at</th>\n",
       "      <th>display_text_range</th>\n",
       "      <th>entities</th>\n",
       "      <th>extended_entities</th>\n",
       "      <th>favorite_count</th>\n",
       "      <th>favorited</th>\n",
       "      <th>full_text</th>\n",
       "      <th>geo</th>\n",
       "      <th>...</th>\n",
       "      <th>quoted_status</th>\n",
       "      <th>quoted_status_id</th>\n",
       "      <th>quoted_status_id_str</th>\n",
       "      <th>quoted_status_permalink</th>\n",
       "      <th>retweet_count</th>\n",
       "      <th>retweeted</th>\n",
       "      <th>retweeted_status</th>\n",
       "      <th>source</th>\n",
       "      <th>truncated</th>\n",
       "      <th>user</th>\n",
       "    </tr>\n",
       "  </thead>\n",
       "  <tbody>\n",
       "    <tr>\n",
       "      <th>31</th>\n",
       "      <td>None</td>\n",
       "      <td>None</td>\n",
       "      <td>Sat Jul 15 02:45:48 +0000 2017</td>\n",
       "      <td>[0, 50]</td>\n",
       "      <td>{'hashtags': [{'text': 'BATP', 'indices': [21,...</td>\n",
       "      <td>NaN</td>\n",
       "      <td>0</td>\n",
       "      <td>False</td>\n",
       "      <td>RT @Athletics: 12/10 #BATP https://t.co/WxwJmv...</td>\n",
       "      <td>None</td>\n",
       "      <td>...</td>\n",
       "      <td>NaN</td>\n",
       "      <td>8.860534e+17</td>\n",
       "      <td>886053434075471873</td>\n",
       "      <td>{'url': 'https://t.co/WxwJmvjfxo', 'expanded':...</td>\n",
       "      <td>105</td>\n",
       "      <td>False</td>\n",
       "      <td>{'created_at': 'Sat Jul 15 02:44:07 +0000 2017...</td>\n",
       "      <td>&lt;a href=\"http://twitter.com/download/iphone\" r...</td>\n",
       "      <td>False</td>\n",
       "      <td>{'id': 4196983835, 'id_str': '4196983835', 'na...</td>\n",
       "    </tr>\n",
       "    <tr>\n",
       "      <th>35</th>\n",
       "      <td>None</td>\n",
       "      <td>None</td>\n",
       "      <td>Thu Jul 13 01:35:06 +0000 2017</td>\n",
       "      <td>[0, 133]</td>\n",
       "      <td>{'hashtags': [], 'symbols': [], 'user_mentions...</td>\n",
       "      <td>{'media': [{'id': 830583314243268608, 'id_str'...</td>\n",
       "      <td>0</td>\n",
       "      <td>False</td>\n",
       "      <td>RT @dog_rates: This is Lilly. She just paralle...</td>\n",
       "      <td>None</td>\n",
       "      <td>...</td>\n",
       "      <td>NaN</td>\n",
       "      <td>NaN</td>\n",
       "      <td>NaN</td>\n",
       "      <td>NaN</td>\n",
       "      <td>17968</td>\n",
       "      <td>False</td>\n",
       "      <td>{'created_at': 'Sun Feb 12 01:04:29 +0000 2017...</td>\n",
       "      <td>&lt;a href=\"http://twitter.com/download/iphone\" r...</td>\n",
       "      <td>False</td>\n",
       "      <td>{'id': 4196983835, 'id_str': '4196983835', 'na...</td>\n",
       "    </tr>\n",
       "    <tr>\n",
       "      <th>67</th>\n",
       "      <td>None</td>\n",
       "      <td>None</td>\n",
       "      <td>Mon Jun 26 00:13:58 +0000 2017</td>\n",
       "      <td>[0, 140]</td>\n",
       "      <td>{'hashtags': [], 'symbols': [], 'user_mentions...</td>\n",
       "      <td>NaN</td>\n",
       "      <td>0</td>\n",
       "      <td>False</td>\n",
       "      <td>RT @dog_rates: This is Emmy. She was adopted t...</td>\n",
       "      <td>None</td>\n",
       "      <td>...</td>\n",
       "      <td>NaN</td>\n",
       "      <td>NaN</td>\n",
       "      <td>NaN</td>\n",
       "      <td>NaN</td>\n",
       "      <td>6617</td>\n",
       "      <td>False</td>\n",
       "      <td>{'created_at': 'Fri Jun 23 01:10:23 +0000 2017...</td>\n",
       "      <td>&lt;a href=\"http://twitter.com/download/iphone\" r...</td>\n",
       "      <td>False</td>\n",
       "      <td>{'id': 4196983835, 'id_str': '4196983835', 'na...</td>\n",
       "    </tr>\n",
       "    <tr>\n",
       "      <th>72</th>\n",
       "      <td>None</td>\n",
       "      <td>None</td>\n",
       "      <td>Sat Jun 24 00:09:53 +0000 2017</td>\n",
       "      <td>[0, 140]</td>\n",
       "      <td>{'hashtags': [], 'symbols': [], 'user_mentions...</td>\n",
       "      <td>NaN</td>\n",
       "      <td>0</td>\n",
       "      <td>False</td>\n",
       "      <td>RT @dog_rates: Meet Shadow. In an attempt to r...</td>\n",
       "      <td>None</td>\n",
       "      <td>...</td>\n",
       "      <td>NaN</td>\n",
       "      <td>NaN</td>\n",
       "      <td>NaN</td>\n",
       "      <td>NaN</td>\n",
       "      <td>1249</td>\n",
       "      <td>False</td>\n",
       "      <td>{'created_at': 'Fri Jun 23 16:00:04 +0000 2017...</td>\n",
       "      <td>&lt;a href=\"http://twitter.com/download/iphone\" r...</td>\n",
       "      <td>False</td>\n",
       "      <td>{'id': 4196983835, 'id_str': '4196983835', 'na...</td>\n",
       "    </tr>\n",
       "    <tr>\n",
       "      <th>73</th>\n",
       "      <td>None</td>\n",
       "      <td>None</td>\n",
       "      <td>Fri Jun 23 18:17:33 +0000 2017</td>\n",
       "      <td>[0, 140]</td>\n",
       "      <td>{'hashtags': [], 'symbols': [], 'user_mentions...</td>\n",
       "      <td>NaN</td>\n",
       "      <td>0</td>\n",
       "      <td>False</td>\n",
       "      <td>RT @dog_rates: Meet Terrance. He's being yelle...</td>\n",
       "      <td>None</td>\n",
       "      <td>...</td>\n",
       "      <td>NaN</td>\n",
       "      <td>NaN</td>\n",
       "      <td>NaN</td>\n",
       "      <td>NaN</td>\n",
       "      <td>6461</td>\n",
       "      <td>False</td>\n",
       "      <td>{'created_at': 'Tue Nov 24 03:51:38 +0000 2015...</td>\n",
       "      <td>&lt;a href=\"http://twitter.com/download/iphone\" r...</td>\n",
       "      <td>False</td>\n",
       "      <td>{'id': 4196983835, 'id_str': '4196983835', 'na...</td>\n",
       "    </tr>\n",
       "  </tbody>\n",
       "</table>\n",
       "<p>5 rows × 32 columns</p>\n",
       "</div>"
      ],
      "text/plain": [
       "   contributors coordinates                      created_at  \\\n",
       "31         None        None  Sat Jul 15 02:45:48 +0000 2017   \n",
       "35         None        None  Thu Jul 13 01:35:06 +0000 2017   \n",
       "67         None        None  Mon Jun 26 00:13:58 +0000 2017   \n",
       "72         None        None  Sat Jun 24 00:09:53 +0000 2017   \n",
       "73         None        None  Fri Jun 23 18:17:33 +0000 2017   \n",
       "\n",
       "   display_text_range                                           entities  \\\n",
       "31            [0, 50]  {'hashtags': [{'text': 'BATP', 'indices': [21,...   \n",
       "35           [0, 133]  {'hashtags': [], 'symbols': [], 'user_mentions...   \n",
       "67           [0, 140]  {'hashtags': [], 'symbols': [], 'user_mentions...   \n",
       "72           [0, 140]  {'hashtags': [], 'symbols': [], 'user_mentions...   \n",
       "73           [0, 140]  {'hashtags': [], 'symbols': [], 'user_mentions...   \n",
       "\n",
       "                                    extended_entities  favorite_count  \\\n",
       "31                                                NaN               0   \n",
       "35  {'media': [{'id': 830583314243268608, 'id_str'...               0   \n",
       "67                                                NaN               0   \n",
       "72                                                NaN               0   \n",
       "73                                                NaN               0   \n",
       "\n",
       "    favorited                                          full_text   geo  \\\n",
       "31      False  RT @Athletics: 12/10 #BATP https://t.co/WxwJmv...  None   \n",
       "35      False  RT @dog_rates: This is Lilly. She just paralle...  None   \n",
       "67      False  RT @dog_rates: This is Emmy. She was adopted t...  None   \n",
       "72      False  RT @dog_rates: Meet Shadow. In an attempt to r...  None   \n",
       "73      False  RT @dog_rates: Meet Terrance. He's being yelle...  None   \n",
       "\n",
       "                          ...                          quoted_status  \\\n",
       "31                        ...                                    NaN   \n",
       "35                        ...                                    NaN   \n",
       "67                        ...                                    NaN   \n",
       "72                        ...                                    NaN   \n",
       "73                        ...                                    NaN   \n",
       "\n",
       "   quoted_status_id quoted_status_id_str  \\\n",
       "31     8.860534e+17   886053434075471873   \n",
       "35              NaN                  NaN   \n",
       "67              NaN                  NaN   \n",
       "72              NaN                  NaN   \n",
       "73              NaN                  NaN   \n",
       "\n",
       "                              quoted_status_permalink retweet_count  \\\n",
       "31  {'url': 'https://t.co/WxwJmvjfxo', 'expanded':...           105   \n",
       "35                                                NaN         17968   \n",
       "67                                                NaN          6617   \n",
       "72                                                NaN          1249   \n",
       "73                                                NaN          6461   \n",
       "\n",
       "    retweeted                                   retweeted_status  \\\n",
       "31      False  {'created_at': 'Sat Jul 15 02:44:07 +0000 2017...   \n",
       "35      False  {'created_at': 'Sun Feb 12 01:04:29 +0000 2017...   \n",
       "67      False  {'created_at': 'Fri Jun 23 01:10:23 +0000 2017...   \n",
       "72      False  {'created_at': 'Fri Jun 23 16:00:04 +0000 2017...   \n",
       "73      False  {'created_at': 'Tue Nov 24 03:51:38 +0000 2015...   \n",
       "\n",
       "                                               source truncated  \\\n",
       "31  <a href=\"http://twitter.com/download/iphone\" r...     False   \n",
       "35  <a href=\"http://twitter.com/download/iphone\" r...     False   \n",
       "67  <a href=\"http://twitter.com/download/iphone\" r...     False   \n",
       "72  <a href=\"http://twitter.com/download/iphone\" r...     False   \n",
       "73  <a href=\"http://twitter.com/download/iphone\" r...     False   \n",
       "\n",
       "                                                 user  \n",
       "31  {'id': 4196983835, 'id_str': '4196983835', 'na...  \n",
       "35  {'id': 4196983835, 'id_str': '4196983835', 'na...  \n",
       "67  {'id': 4196983835, 'id_str': '4196983835', 'na...  \n",
       "72  {'id': 4196983835, 'id_str': '4196983835', 'na...  \n",
       "73  {'id': 4196983835, 'id_str': '4196983835', 'na...  \n",
       "\n",
       "[5 rows x 32 columns]"
      ]
     },
     "execution_count": 54,
     "metadata": {},
     "output_type": "execute_result"
    }
   ],
   "source": [
    "df_nofavorite = df_tweepy.query('favorite_count == 0')\n",
    "df_nofavorite.head()"
   ]
  },
  {
   "cell_type": "code",
   "execution_count": 55,
   "metadata": {},
   "outputs": [
    {
     "name": "stdout",
     "output_type": "stream",
     "text": [
      "0\n"
     ]
    }
   ],
   "source": [
    "print(sum(df_nofavorite.retweeted_status.isnull()))"
   ]
  },
  {
   "cell_type": "markdown",
   "metadata": {},
   "source": [
    "So the reason is, that all these Tweets with a favorite_count of zero are retweets."
   ]
  },
  {
   "cell_type": "markdown",
   "metadata": {},
   "source": [
    "We only are interested in the favorite count and the retweet count from this table. And this should be merged to the Archive Table/Dataset, since this information is part of a Tweet Unit.\n",
    "So we can summarize with following tidiness Issue:"
   ]
  },
  {
   "cell_type": "markdown",
   "metadata": {},
   "source": [
    "#### Tidiness Issue:\n",
    "- 3. The favorite and retweet counts fo each tweet should be part of the Archive Dataframe. "
   ]
  },
  {
   "cell_type": "markdown",
   "metadata": {},
   "source": [
    "[Back to top](#top)"
   ]
  },
  {
   "cell_type": "markdown",
   "metadata": {},
   "source": [
    "<a id='predict'></a>\n",
    "### 3. Assessing the Prediction Dataframe:"
   ]
  },
  {
   "cell_type": "code",
   "execution_count": 56,
   "metadata": {},
   "outputs": [
    {
     "data": {
      "text/html": [
       "<div>\n",
       "<style scoped>\n",
       "    .dataframe tbody tr th:only-of-type {\n",
       "        vertical-align: middle;\n",
       "    }\n",
       "\n",
       "    .dataframe tbody tr th {\n",
       "        vertical-align: top;\n",
       "    }\n",
       "\n",
       "    .dataframe thead th {\n",
       "        text-align: right;\n",
       "    }\n",
       "</style>\n",
       "<table border=\"1\" class=\"dataframe\">\n",
       "  <thead>\n",
       "    <tr style=\"text-align: right;\">\n",
       "      <th></th>\n",
       "      <th>tweet_id</th>\n",
       "      <th>jpg_url</th>\n",
       "      <th>img_num</th>\n",
       "      <th>p1</th>\n",
       "      <th>p1_conf</th>\n",
       "      <th>p1_dog</th>\n",
       "      <th>p2</th>\n",
       "      <th>p2_conf</th>\n",
       "      <th>p2_dog</th>\n",
       "      <th>p3</th>\n",
       "      <th>p3_conf</th>\n",
       "      <th>p3_dog</th>\n",
       "    </tr>\n",
       "  </thead>\n",
       "  <tbody>\n",
       "    <tr>\n",
       "      <th>0</th>\n",
       "      <td>666020888022790149</td>\n",
       "      <td>https://pbs.twimg.com/media/CT4udn0WwAA0aMy.jpg</td>\n",
       "      <td>1</td>\n",
       "      <td>Welsh_springer_spaniel</td>\n",
       "      <td>0.465074</td>\n",
       "      <td>True</td>\n",
       "      <td>collie</td>\n",
       "      <td>0.156665</td>\n",
       "      <td>True</td>\n",
       "      <td>Shetland_sheepdog</td>\n",
       "      <td>0.061428</td>\n",
       "      <td>True</td>\n",
       "    </tr>\n",
       "    <tr>\n",
       "      <th>1</th>\n",
       "      <td>666029285002620928</td>\n",
       "      <td>https://pbs.twimg.com/media/CT42GRgUYAA5iDo.jpg</td>\n",
       "      <td>1</td>\n",
       "      <td>redbone</td>\n",
       "      <td>0.506826</td>\n",
       "      <td>True</td>\n",
       "      <td>miniature_pinscher</td>\n",
       "      <td>0.074192</td>\n",
       "      <td>True</td>\n",
       "      <td>Rhodesian_ridgeback</td>\n",
       "      <td>0.072010</td>\n",
       "      <td>True</td>\n",
       "    </tr>\n",
       "    <tr>\n",
       "      <th>2</th>\n",
       "      <td>666033412701032449</td>\n",
       "      <td>https://pbs.twimg.com/media/CT4521TWwAEvMyu.jpg</td>\n",
       "      <td>1</td>\n",
       "      <td>German_shepherd</td>\n",
       "      <td>0.596461</td>\n",
       "      <td>True</td>\n",
       "      <td>malinois</td>\n",
       "      <td>0.138584</td>\n",
       "      <td>True</td>\n",
       "      <td>bloodhound</td>\n",
       "      <td>0.116197</td>\n",
       "      <td>True</td>\n",
       "    </tr>\n",
       "    <tr>\n",
       "      <th>3</th>\n",
       "      <td>666044226329800704</td>\n",
       "      <td>https://pbs.twimg.com/media/CT5Dr8HUEAA-lEu.jpg</td>\n",
       "      <td>1</td>\n",
       "      <td>Rhodesian_ridgeback</td>\n",
       "      <td>0.408143</td>\n",
       "      <td>True</td>\n",
       "      <td>redbone</td>\n",
       "      <td>0.360687</td>\n",
       "      <td>True</td>\n",
       "      <td>miniature_pinscher</td>\n",
       "      <td>0.222752</td>\n",
       "      <td>True</td>\n",
       "    </tr>\n",
       "    <tr>\n",
       "      <th>4</th>\n",
       "      <td>666049248165822465</td>\n",
       "      <td>https://pbs.twimg.com/media/CT5IQmsXIAAKY4A.jpg</td>\n",
       "      <td>1</td>\n",
       "      <td>miniature_pinscher</td>\n",
       "      <td>0.560311</td>\n",
       "      <td>True</td>\n",
       "      <td>Rottweiler</td>\n",
       "      <td>0.243682</td>\n",
       "      <td>True</td>\n",
       "      <td>Doberman</td>\n",
       "      <td>0.154629</td>\n",
       "      <td>True</td>\n",
       "    </tr>\n",
       "    <tr>\n",
       "      <th>5</th>\n",
       "      <td>666050758794694657</td>\n",
       "      <td>https://pbs.twimg.com/media/CT5Jof1WUAEuVxN.jpg</td>\n",
       "      <td>1</td>\n",
       "      <td>Bernese_mountain_dog</td>\n",
       "      <td>0.651137</td>\n",
       "      <td>True</td>\n",
       "      <td>English_springer</td>\n",
       "      <td>0.263788</td>\n",
       "      <td>True</td>\n",
       "      <td>Greater_Swiss_Mountain_dog</td>\n",
       "      <td>0.016199</td>\n",
       "      <td>True</td>\n",
       "    </tr>\n",
       "    <tr>\n",
       "      <th>6</th>\n",
       "      <td>666051853826850816</td>\n",
       "      <td>https://pbs.twimg.com/media/CT5KoJ1WoAAJash.jpg</td>\n",
       "      <td>1</td>\n",
       "      <td>box_turtle</td>\n",
       "      <td>0.933012</td>\n",
       "      <td>False</td>\n",
       "      <td>mud_turtle</td>\n",
       "      <td>0.045885</td>\n",
       "      <td>False</td>\n",
       "      <td>terrapin</td>\n",
       "      <td>0.017885</td>\n",
       "      <td>False</td>\n",
       "    </tr>\n",
       "    <tr>\n",
       "      <th>7</th>\n",
       "      <td>666055525042405380</td>\n",
       "      <td>https://pbs.twimg.com/media/CT5N9tpXIAAifs1.jpg</td>\n",
       "      <td>1</td>\n",
       "      <td>chow</td>\n",
       "      <td>0.692517</td>\n",
       "      <td>True</td>\n",
       "      <td>Tibetan_mastiff</td>\n",
       "      <td>0.058279</td>\n",
       "      <td>True</td>\n",
       "      <td>fur_coat</td>\n",
       "      <td>0.054449</td>\n",
       "      <td>False</td>\n",
       "    </tr>\n",
       "    <tr>\n",
       "      <th>8</th>\n",
       "      <td>666057090499244032</td>\n",
       "      <td>https://pbs.twimg.com/media/CT5PY90WoAAQGLo.jpg</td>\n",
       "      <td>1</td>\n",
       "      <td>shopping_cart</td>\n",
       "      <td>0.962465</td>\n",
       "      <td>False</td>\n",
       "      <td>shopping_basket</td>\n",
       "      <td>0.014594</td>\n",
       "      <td>False</td>\n",
       "      <td>golden_retriever</td>\n",
       "      <td>0.007959</td>\n",
       "      <td>True</td>\n",
       "    </tr>\n",
       "    <tr>\n",
       "      <th>9</th>\n",
       "      <td>666058600524156928</td>\n",
       "      <td>https://pbs.twimg.com/media/CT5Qw94XAAA_2dP.jpg</td>\n",
       "      <td>1</td>\n",
       "      <td>miniature_poodle</td>\n",
       "      <td>0.201493</td>\n",
       "      <td>True</td>\n",
       "      <td>komondor</td>\n",
       "      <td>0.192305</td>\n",
       "      <td>True</td>\n",
       "      <td>soft-coated_wheaten_terrier</td>\n",
       "      <td>0.082086</td>\n",
       "      <td>True</td>\n",
       "    </tr>\n",
       "  </tbody>\n",
       "</table>\n",
       "</div>"
      ],
      "text/plain": [
       "             tweet_id                                          jpg_url  \\\n",
       "0  666020888022790149  https://pbs.twimg.com/media/CT4udn0WwAA0aMy.jpg   \n",
       "1  666029285002620928  https://pbs.twimg.com/media/CT42GRgUYAA5iDo.jpg   \n",
       "2  666033412701032449  https://pbs.twimg.com/media/CT4521TWwAEvMyu.jpg   \n",
       "3  666044226329800704  https://pbs.twimg.com/media/CT5Dr8HUEAA-lEu.jpg   \n",
       "4  666049248165822465  https://pbs.twimg.com/media/CT5IQmsXIAAKY4A.jpg   \n",
       "5  666050758794694657  https://pbs.twimg.com/media/CT5Jof1WUAEuVxN.jpg   \n",
       "6  666051853826850816  https://pbs.twimg.com/media/CT5KoJ1WoAAJash.jpg   \n",
       "7  666055525042405380  https://pbs.twimg.com/media/CT5N9tpXIAAifs1.jpg   \n",
       "8  666057090499244032  https://pbs.twimg.com/media/CT5PY90WoAAQGLo.jpg   \n",
       "9  666058600524156928  https://pbs.twimg.com/media/CT5Qw94XAAA_2dP.jpg   \n",
       "\n",
       "   img_num                      p1   p1_conf  p1_dog                  p2  \\\n",
       "0        1  Welsh_springer_spaniel  0.465074    True              collie   \n",
       "1        1                 redbone  0.506826    True  miniature_pinscher   \n",
       "2        1         German_shepherd  0.596461    True            malinois   \n",
       "3        1     Rhodesian_ridgeback  0.408143    True             redbone   \n",
       "4        1      miniature_pinscher  0.560311    True          Rottweiler   \n",
       "5        1    Bernese_mountain_dog  0.651137    True    English_springer   \n",
       "6        1              box_turtle  0.933012   False          mud_turtle   \n",
       "7        1                    chow  0.692517    True     Tibetan_mastiff   \n",
       "8        1           shopping_cart  0.962465   False     shopping_basket   \n",
       "9        1        miniature_poodle  0.201493    True            komondor   \n",
       "\n",
       "    p2_conf  p2_dog                           p3   p3_conf  p3_dog  \n",
       "0  0.156665    True            Shetland_sheepdog  0.061428    True  \n",
       "1  0.074192    True          Rhodesian_ridgeback  0.072010    True  \n",
       "2  0.138584    True                   bloodhound  0.116197    True  \n",
       "3  0.360687    True           miniature_pinscher  0.222752    True  \n",
       "4  0.243682    True                     Doberman  0.154629    True  \n",
       "5  0.263788    True   Greater_Swiss_Mountain_dog  0.016199    True  \n",
       "6  0.045885   False                     terrapin  0.017885   False  \n",
       "7  0.058279    True                     fur_coat  0.054449   False  \n",
       "8  0.014594   False             golden_retriever  0.007959    True  \n",
       "9  0.192305    True  soft-coated_wheaten_terrier  0.082086    True  "
      ]
     },
     "execution_count": 56,
     "metadata": {},
     "output_type": "execute_result"
    }
   ],
   "source": [
    "df_image_predictions.head(10)"
   ]
  },
  {
   "cell_type": "code",
   "execution_count": 57,
   "metadata": {},
   "outputs": [
    {
     "data": {
      "text/plain": [
       "(2075, 12)"
      ]
     },
     "execution_count": 57,
     "metadata": {},
     "output_type": "execute_result"
    }
   ],
   "source": [
    "df_image_predictions.shape"
   ]
  },
  {
   "cell_type": "code",
   "execution_count": 58,
   "metadata": {},
   "outputs": [
    {
     "name": "stdout",
     "output_type": "stream",
     "text": [
      "<class 'pandas.core.frame.DataFrame'>\n",
      "RangeIndex: 2075 entries, 0 to 2074\n",
      "Data columns (total 12 columns):\n",
      "tweet_id    2075 non-null int64\n",
      "jpg_url     2075 non-null object\n",
      "img_num     2075 non-null int64\n",
      "p1          2075 non-null object\n",
      "p1_conf     2075 non-null float64\n",
      "p1_dog      2075 non-null bool\n",
      "p2          2075 non-null object\n",
      "p2_conf     2075 non-null float64\n",
      "p2_dog      2075 non-null bool\n",
      "p3          2075 non-null object\n",
      "p3_conf     2075 non-null float64\n",
      "p3_dog      2075 non-null bool\n",
      "dtypes: bool(3), float64(3), int64(2), object(4)\n",
      "memory usage: 152.1+ KB\n"
     ]
    }
   ],
   "source": [
    "df_image_predictions.info()"
   ]
  },
  {
   "cell_type": "markdown",
   "metadata": {},
   "source": [
    "Inspecting the number of images:"
   ]
  },
  {
   "cell_type": "code",
   "execution_count": 59,
   "metadata": {},
   "outputs": [
    {
     "data": {
      "text/plain": [
       "1    1780\n",
       "2     198\n",
       "3      66\n",
       "4      31\n",
       "Name: img_num, dtype: int64"
      ]
     },
     "execution_count": 59,
     "metadata": {},
     "output_type": "execute_result"
    }
   ],
   "source": [
    "df_image_predictions.img_num.value_counts()"
   ]
  },
  {
   "cell_type": "markdown",
   "metadata": {},
   "source": [
    "#### Assessing the predictions for each tweet representing a dog:"
   ]
  },
  {
   "cell_type": "code",
   "execution_count": 60,
   "metadata": {},
   "outputs": [
    {
     "data": {
      "text/plain": [
       "True     1751\n",
       "False     324\n",
       "Name: is_dog, dtype: int64"
      ]
     },
     "execution_count": 60,
     "metadata": {},
     "output_type": "execute_result"
    }
   ],
   "source": [
    "df_image_predictions['is_dog'] = df_image_predictions.p1_dog | df_image_predictions.p2_dog | \\\n",
    "                                    df_image_predictions.p3_dog\n",
    "df_image_predictions.is_dog.value_counts()"
   ]
  },
  {
   "cell_type": "code",
   "execution_count": 61,
   "metadata": {},
   "outputs": [
    {
     "data": {
      "text/html": [
       "<div>\n",
       "<style scoped>\n",
       "    .dataframe tbody tr th:only-of-type {\n",
       "        vertical-align: middle;\n",
       "    }\n",
       "\n",
       "    .dataframe tbody tr th {\n",
       "        vertical-align: top;\n",
       "    }\n",
       "\n",
       "    .dataframe thead th {\n",
       "        text-align: right;\n",
       "    }\n",
       "</style>\n",
       "<table border=\"1\" class=\"dataframe\">\n",
       "  <thead>\n",
       "    <tr style=\"text-align: right;\">\n",
       "      <th></th>\n",
       "      <th>tweet_id</th>\n",
       "      <th>jpg_url</th>\n",
       "      <th>img_num</th>\n",
       "      <th>p1</th>\n",
       "      <th>p1_conf</th>\n",
       "      <th>p1_dog</th>\n",
       "      <th>p2</th>\n",
       "      <th>p2_conf</th>\n",
       "      <th>p2_dog</th>\n",
       "      <th>p3</th>\n",
       "      <th>p3_conf</th>\n",
       "      <th>p3_dog</th>\n",
       "      <th>is_dog</th>\n",
       "    </tr>\n",
       "  </thead>\n",
       "  <tbody>\n",
       "    <tr>\n",
       "      <th>6</th>\n",
       "      <td>666051853826850816</td>\n",
       "      <td>https://pbs.twimg.com/media/CT5KoJ1WoAAJash.jpg</td>\n",
       "      <td>1</td>\n",
       "      <td>box_turtle</td>\n",
       "      <td>0.933012</td>\n",
       "      <td>False</td>\n",
       "      <td>mud_turtle</td>\n",
       "      <td>0.045885</td>\n",
       "      <td>False</td>\n",
       "      <td>terrapin</td>\n",
       "      <td>0.017885</td>\n",
       "      <td>False</td>\n",
       "      <td>False</td>\n",
       "    </tr>\n",
       "    <tr>\n",
       "      <th>17</th>\n",
       "      <td>666104133288665088</td>\n",
       "      <td>https://pbs.twimg.com/media/CT56LSZWoAAlJj2.jpg</td>\n",
       "      <td>1</td>\n",
       "      <td>hen</td>\n",
       "      <td>0.965932</td>\n",
       "      <td>False</td>\n",
       "      <td>cock</td>\n",
       "      <td>0.033919</td>\n",
       "      <td>False</td>\n",
       "      <td>partridge</td>\n",
       "      <td>0.000052</td>\n",
       "      <td>False</td>\n",
       "      <td>False</td>\n",
       "    </tr>\n",
       "    <tr>\n",
       "      <th>18</th>\n",
       "      <td>666268910803644416</td>\n",
       "      <td>https://pbs.twimg.com/media/CT8QCd1WEAADXws.jpg</td>\n",
       "      <td>1</td>\n",
       "      <td>desktop_computer</td>\n",
       "      <td>0.086502</td>\n",
       "      <td>False</td>\n",
       "      <td>desk</td>\n",
       "      <td>0.085547</td>\n",
       "      <td>False</td>\n",
       "      <td>bookcase</td>\n",
       "      <td>0.079480</td>\n",
       "      <td>False</td>\n",
       "      <td>False</td>\n",
       "    </tr>\n",
       "    <tr>\n",
       "      <th>21</th>\n",
       "      <td>666293911632134144</td>\n",
       "      <td>https://pbs.twimg.com/media/CT8mx7KW4AEQu8N.jpg</td>\n",
       "      <td>1</td>\n",
       "      <td>three-toed_sloth</td>\n",
       "      <td>0.914671</td>\n",
       "      <td>False</td>\n",
       "      <td>otter</td>\n",
       "      <td>0.015250</td>\n",
       "      <td>False</td>\n",
       "      <td>great_grey_owl</td>\n",
       "      <td>0.013207</td>\n",
       "      <td>False</td>\n",
       "      <td>False</td>\n",
       "    </tr>\n",
       "    <tr>\n",
       "      <th>25</th>\n",
       "      <td>666362758909284353</td>\n",
       "      <td>https://pbs.twimg.com/media/CT9lXGsUcAAyUFt.jpg</td>\n",
       "      <td>1</td>\n",
       "      <td>guinea_pig</td>\n",
       "      <td>0.996496</td>\n",
       "      <td>False</td>\n",
       "      <td>skunk</td>\n",
       "      <td>0.002402</td>\n",
       "      <td>False</td>\n",
       "      <td>hamster</td>\n",
       "      <td>0.000461</td>\n",
       "      <td>False</td>\n",
       "      <td>False</td>\n",
       "    </tr>\n",
       "  </tbody>\n",
       "</table>\n",
       "</div>"
      ],
      "text/plain": [
       "              tweet_id                                          jpg_url  \\\n",
       "6   666051853826850816  https://pbs.twimg.com/media/CT5KoJ1WoAAJash.jpg   \n",
       "17  666104133288665088  https://pbs.twimg.com/media/CT56LSZWoAAlJj2.jpg   \n",
       "18  666268910803644416  https://pbs.twimg.com/media/CT8QCd1WEAADXws.jpg   \n",
       "21  666293911632134144  https://pbs.twimg.com/media/CT8mx7KW4AEQu8N.jpg   \n",
       "25  666362758909284353  https://pbs.twimg.com/media/CT9lXGsUcAAyUFt.jpg   \n",
       "\n",
       "    img_num                p1   p1_conf  p1_dog          p2   p2_conf  p2_dog  \\\n",
       "6         1        box_turtle  0.933012   False  mud_turtle  0.045885   False   \n",
       "17        1               hen  0.965932   False        cock  0.033919   False   \n",
       "18        1  desktop_computer  0.086502   False        desk  0.085547   False   \n",
       "21        1  three-toed_sloth  0.914671   False       otter  0.015250   False   \n",
       "25        1        guinea_pig  0.996496   False       skunk  0.002402   False   \n",
       "\n",
       "                p3   p3_conf  p3_dog  is_dog  \n",
       "6         terrapin  0.017885   False   False  \n",
       "17       partridge  0.000052   False   False  \n",
       "18        bookcase  0.079480   False   False  \n",
       "21  great_grey_owl  0.013207   False   False  \n",
       "25         hamster  0.000461   False   False  "
      ]
     },
     "execution_count": 61,
     "metadata": {},
     "output_type": "execute_result"
    }
   ],
   "source": [
    "df_nodogs = df_image_predictions.query('is_dog == False')\n",
    "df_nodogs.head()"
   ]
  },
  {
   "cell_type": "markdown",
   "metadata": {},
   "source": [
    "There are 324 tweets that are not representing dogs in the Dataset that we need to remove."
   ]
  },
  {
   "cell_type": "markdown",
   "metadata": {},
   "source": [
    "#### Quality Issue in the Prediction DataFrame:\n",
    "- 10. Some tweets do not represent dogs."
   ]
  },
  {
   "cell_type": "markdown",
   "metadata": {},
   "source": [
    "We want to be sure that every Tweet we will base our Analysis on, has an image: "
   ]
  },
  {
   "cell_type": "markdown",
   "metadata": {},
   "source": [
    "#### Quality Issue on the Archive Dataframe:\n",
    "- 11. Some tweets do not have an image. All the Records from the Archive (2356 entries) should also be in the Prediction Dataframe(2075 entries)."
   ]
  },
  {
   "cell_type": "markdown",
   "metadata": {},
   "source": [
    "Assessing dog's breeds:"
   ]
  },
  {
   "cell_type": "code",
   "execution_count": 62,
   "metadata": {},
   "outputs": [
    {
     "data": {
      "text/plain": [
       "(1751, 13)"
      ]
     },
     "execution_count": 62,
     "metadata": {},
     "output_type": "execute_result"
    }
   ],
   "source": [
    "df_dogs = df_image_predictions[df_image_predictions.is_dog]\n",
    "df_dogs.shape"
   ]
  },
  {
   "cell_type": "code",
   "execution_count": 63,
   "metadata": {},
   "outputs": [
    {
     "data": {
      "text/plain": [
       "golden_retriever               150\n",
       "Labrador_retriever             100\n",
       "Pembroke                        89\n",
       "Chihuahua                       83\n",
       "pug                             57\n",
       "chow                            44\n",
       "Samoyed                         43\n",
       "toy_poodle                      39\n",
       "Pomeranian                      38\n",
       "cocker_spaniel                  30\n",
       "malamute                        30\n",
       "French_bulldog                  26\n",
       "Chesapeake_Bay_retriever        23\n",
       "miniature_pinscher              23\n",
       "seat_belt                       21\n",
       "Siberian_husky                  20\n",
       "Staffordshire_bullterrier       20\n",
       "German_shepherd                 20\n",
       "Cardigan                        19\n",
       "Eskimo_dog                      18\n",
       "beagle                          18\n",
       "Shetland_sheepdog               18\n",
       "Maltese_dog                     18\n",
       "Lakeland_terrier                17\n",
       "Shih-Tzu                        17\n",
       "Rottweiler                      17\n",
       "Italian_greyhound               16\n",
       "kuvasz                          16\n",
       "West_Highland_white_terrier     14\n",
       "Great_Pyrenees                  14\n",
       "                              ... \n",
       "standard_schnauzer               1\n",
       "rain_barrel                      1\n",
       "paper_towel                      1\n",
       "wallaby                          1\n",
       "toyshop                          1\n",
       "hare                             1\n",
       "Japanese_spaniel                 1\n",
       "stone_wall                       1\n",
       "earthstar                        1\n",
       "wood_rabbit                      1\n",
       "comic_book                       1\n",
       "tabby                            1\n",
       "bookshop                         1\n",
       "guinea_pig                       1\n",
       "hippopotamus                     1\n",
       "rapeseed                         1\n",
       "feather_boa                      1\n",
       "shower_curtain                   1\n",
       "soccer_ball                      1\n",
       "giant_panda                      1\n",
       "hay                              1\n",
       "carousel                         1\n",
       "maillot                          1\n",
       "timber_wolf                      1\n",
       "cowboy_boot                      1\n",
       "ice_lolly                        1\n",
       "seashore                         1\n",
       "mortarboard                      1\n",
       "basketball                       1\n",
       "street_sign                      1\n",
       "Name: p1, Length: 215, dtype: int64"
      ]
     },
     "execution_count": 63,
     "metadata": {},
     "output_type": "execute_result"
    }
   ],
   "source": [
    "df_dogs.p1.value_counts()"
   ]
  },
  {
   "cell_type": "code",
   "execution_count": 64,
   "metadata": {},
   "outputs": [
    {
     "data": {
      "text/plain": [
       "Labrador_retriever                104\n",
       "golden_retriever                   92\n",
       "Cardigan                           73\n",
       "Chihuahua                          44\n",
       "Pomeranian                         42\n",
       "French_bulldog                     41\n",
       "Chesapeake_Bay_retriever           41\n",
       "toy_poodle                         37\n",
       "cocker_spaniel                     34\n",
       "Siberian_husky                     33\n",
       "miniature_poodle                   33\n",
       "beagle                             28\n",
       "Eskimo_dog                         27\n",
       "Pembroke                           27\n",
       "collie                             27\n",
       "kuvasz                             26\n",
       "Italian_greyhound                  22\n",
       "American_Staffordshire_terrier     21\n",
       "Pekinese                           21\n",
       "Samoyed                            20\n",
       "toy_terrier                        20\n",
       "malinois                           20\n",
       "chow                               20\n",
       "miniature_pinscher                 20\n",
       "Norwegian_elkhound                 19\n",
       "Boston_bull                        19\n",
       "Staffordshire_bullterrier          18\n",
       "Irish_terrier                      17\n",
       "pug                                17\n",
       "kelpie                             16\n",
       "                                 ... \n",
       "sock                                1\n",
       "snorkel                             1\n",
       "gibbon                              1\n",
       "neck_brace                          1\n",
       "mosquito_net                        1\n",
       "goose                               1\n",
       "minivan                             1\n",
       "chain_saw                           1\n",
       "loggerhead                          1\n",
       "water_buffalo                       1\n",
       "komondor                            1\n",
       "plow                                1\n",
       "koala                               1\n",
       "barrel                              1\n",
       "wood_rabbit                         1\n",
       "sombrero                            1\n",
       "racket                              1\n",
       "Kerry_blue_terrier                  1\n",
       "Bernese_mountain_dog                1\n",
       "quilt                               1\n",
       "ram                                 1\n",
       "stove                               1\n",
       "Japanese_spaniel                    1\n",
       "bow_tie                             1\n",
       "hare                                1\n",
       "EntleBucher                         1\n",
       "crib                                1\n",
       "macaque                             1\n",
       "oxygen_mask                         1\n",
       "cougar                              1\n",
       "Name: p2, Length: 229, dtype: int64"
      ]
     },
     "execution_count": 64,
     "metadata": {},
     "output_type": "execute_result"
    }
   ],
   "source": [
    "df_dogs.p2.value_counts()"
   ]
  },
  {
   "cell_type": "code",
   "execution_count": 65,
   "metadata": {},
   "outputs": [
    {
     "data": {
      "text/plain": [
       "Labrador_retriever                79\n",
       "Chihuahua                         58\n",
       "golden_retriever                  48\n",
       "Eskimo_dog                        38\n",
       "kelpie                            35\n",
       "kuvasz                            34\n",
       "chow                              32\n",
       "Staffordshire_bullterrier         32\n",
       "beagle                            31\n",
       "cocker_spaniel                    31\n",
       "Pekinese                          29\n",
       "Pomeranian                        29\n",
       "toy_poodle                        29\n",
       "Pembroke                          27\n",
       "Great_Pyrenees                    27\n",
       "Chesapeake_Bay_retriever          27\n",
       "malamute                          26\n",
       "French_bulldog                    26\n",
       "American_Staffordshire_terrier    24\n",
       "pug                               23\n",
       "Cardigan                          23\n",
       "basenji                           21\n",
       "toy_terrier                       20\n",
       "bull_mastiff                      20\n",
       "Siberian_husky                    19\n",
       "Boston_bull                       17\n",
       "Shetland_sheepdog                 17\n",
       "Lakeland_terrier                  16\n",
       "boxer                             16\n",
       "dingo                             15\n",
       "                                  ..\n",
       "zebra                              1\n",
       "sliding_door                       1\n",
       "book_jacket                        1\n",
       "mousetrap                          1\n",
       "consomme                           1\n",
       "buckeye                            1\n",
       "Indian_elephant                    1\n",
       "pillow                             1\n",
       "tripod                             1\n",
       "lion                               1\n",
       "shovel                             1\n",
       "tiger_cat                          1\n",
       "grey_fox                           1\n",
       "coyote                             1\n",
       "spatula                            1\n",
       "soccer_ball                        1\n",
       "bonnet                             1\n",
       "red_wolf                           1\n",
       "bagel                              1\n",
       "hand_blower                        1\n",
       "nipple                             1\n",
       "terrapin                           1\n",
       "minibus                            1\n",
       "grocery_store                      1\n",
       "standard_schnauzer                 1\n",
       "squirrel_monkey                    1\n",
       "bucket                             1\n",
       "king_penguin                       1\n",
       "wild_boar                          1\n",
       "water_buffalo                      1\n",
       "Name: p3, Length: 235, dtype: int64"
      ]
     },
     "execution_count": 65,
     "metadata": {},
     "output_type": "execute_result"
    }
   ],
   "source": [
    "df_dogs.p3.value_counts()"
   ]
  },
  {
   "cell_type": "code",
   "execution_count": 66,
   "metadata": {},
   "outputs": [
    {
     "data": {
      "text/plain": [
       "(1751, 13)"
      ]
     },
     "execution_count": 66,
     "metadata": {},
     "output_type": "execute_result"
    }
   ],
   "source": [
    "df_predicted = df_dogs[(df_dogs.p1_conf > df_dogs.p2_conf) & (df_dogs.p2_conf > df_dogs.p3_conf)]\n",
    "df_predicted.shape"
   ]
  },
  {
   "cell_type": "code",
   "execution_count": 67,
   "metadata": {},
   "outputs": [
    {
     "data": {
      "text/html": [
       "<div>\n",
       "<style scoped>\n",
       "    .dataframe tbody tr th:only-of-type {\n",
       "        vertical-align: middle;\n",
       "    }\n",
       "\n",
       "    .dataframe tbody tr th {\n",
       "        vertical-align: top;\n",
       "    }\n",
       "\n",
       "    .dataframe thead th {\n",
       "        text-align: right;\n",
       "    }\n",
       "</style>\n",
       "<table border=\"1\" class=\"dataframe\">\n",
       "  <thead>\n",
       "    <tr style=\"text-align: right;\">\n",
       "      <th></th>\n",
       "      <th>tweet_id</th>\n",
       "      <th>jpg_url</th>\n",
       "      <th>img_num</th>\n",
       "      <th>p1</th>\n",
       "      <th>p1_conf</th>\n",
       "      <th>p1_dog</th>\n",
       "      <th>p2</th>\n",
       "      <th>p2_conf</th>\n",
       "      <th>p2_dog</th>\n",
       "      <th>p3</th>\n",
       "      <th>p3_conf</th>\n",
       "      <th>p3_dog</th>\n",
       "      <th>is_dog</th>\n",
       "    </tr>\n",
       "  </thead>\n",
       "  <tbody>\n",
       "    <tr>\n",
       "      <th>0</th>\n",
       "      <td>666020888022790149</td>\n",
       "      <td>https://pbs.twimg.com/media/CT4udn0WwAA0aMy.jpg</td>\n",
       "      <td>1</td>\n",
       "      <td>Welsh_springer_spaniel</td>\n",
       "      <td>0.465074</td>\n",
       "      <td>True</td>\n",
       "      <td>collie</td>\n",
       "      <td>0.156665</td>\n",
       "      <td>True</td>\n",
       "      <td>Shetland_sheepdog</td>\n",
       "      <td>0.061428</td>\n",
       "      <td>True</td>\n",
       "      <td>True</td>\n",
       "    </tr>\n",
       "    <tr>\n",
       "      <th>1</th>\n",
       "      <td>666029285002620928</td>\n",
       "      <td>https://pbs.twimg.com/media/CT42GRgUYAA5iDo.jpg</td>\n",
       "      <td>1</td>\n",
       "      <td>redbone</td>\n",
       "      <td>0.506826</td>\n",
       "      <td>True</td>\n",
       "      <td>miniature_pinscher</td>\n",
       "      <td>0.074192</td>\n",
       "      <td>True</td>\n",
       "      <td>Rhodesian_ridgeback</td>\n",
       "      <td>0.072010</td>\n",
       "      <td>True</td>\n",
       "      <td>True</td>\n",
       "    </tr>\n",
       "    <tr>\n",
       "      <th>2</th>\n",
       "      <td>666033412701032449</td>\n",
       "      <td>https://pbs.twimg.com/media/CT4521TWwAEvMyu.jpg</td>\n",
       "      <td>1</td>\n",
       "      <td>German_shepherd</td>\n",
       "      <td>0.596461</td>\n",
       "      <td>True</td>\n",
       "      <td>malinois</td>\n",
       "      <td>0.138584</td>\n",
       "      <td>True</td>\n",
       "      <td>bloodhound</td>\n",
       "      <td>0.116197</td>\n",
       "      <td>True</td>\n",
       "      <td>True</td>\n",
       "    </tr>\n",
       "    <tr>\n",
       "      <th>3</th>\n",
       "      <td>666044226329800704</td>\n",
       "      <td>https://pbs.twimg.com/media/CT5Dr8HUEAA-lEu.jpg</td>\n",
       "      <td>1</td>\n",
       "      <td>Rhodesian_ridgeback</td>\n",
       "      <td>0.408143</td>\n",
       "      <td>True</td>\n",
       "      <td>redbone</td>\n",
       "      <td>0.360687</td>\n",
       "      <td>True</td>\n",
       "      <td>miniature_pinscher</td>\n",
       "      <td>0.222752</td>\n",
       "      <td>True</td>\n",
       "      <td>True</td>\n",
       "    </tr>\n",
       "    <tr>\n",
       "      <th>4</th>\n",
       "      <td>666049248165822465</td>\n",
       "      <td>https://pbs.twimg.com/media/CT5IQmsXIAAKY4A.jpg</td>\n",
       "      <td>1</td>\n",
       "      <td>miniature_pinscher</td>\n",
       "      <td>0.560311</td>\n",
       "      <td>True</td>\n",
       "      <td>Rottweiler</td>\n",
       "      <td>0.243682</td>\n",
       "      <td>True</td>\n",
       "      <td>Doberman</td>\n",
       "      <td>0.154629</td>\n",
       "      <td>True</td>\n",
       "      <td>True</td>\n",
       "    </tr>\n",
       "  </tbody>\n",
       "</table>\n",
       "</div>"
      ],
      "text/plain": [
       "             tweet_id                                          jpg_url  \\\n",
       "0  666020888022790149  https://pbs.twimg.com/media/CT4udn0WwAA0aMy.jpg   \n",
       "1  666029285002620928  https://pbs.twimg.com/media/CT42GRgUYAA5iDo.jpg   \n",
       "2  666033412701032449  https://pbs.twimg.com/media/CT4521TWwAEvMyu.jpg   \n",
       "3  666044226329800704  https://pbs.twimg.com/media/CT5Dr8HUEAA-lEu.jpg   \n",
       "4  666049248165822465  https://pbs.twimg.com/media/CT5IQmsXIAAKY4A.jpg   \n",
       "\n",
       "   img_num                      p1   p1_conf  p1_dog                  p2  \\\n",
       "0        1  Welsh_springer_spaniel  0.465074    True              collie   \n",
       "1        1                 redbone  0.506826    True  miniature_pinscher   \n",
       "2        1         German_shepherd  0.596461    True            malinois   \n",
       "3        1     Rhodesian_ridgeback  0.408143    True             redbone   \n",
       "4        1      miniature_pinscher  0.560311    True          Rottweiler   \n",
       "\n",
       "    p2_conf  p2_dog                   p3   p3_conf  p3_dog  is_dog  \n",
       "0  0.156665    True    Shetland_sheepdog  0.061428    True    True  \n",
       "1  0.074192    True  Rhodesian_ridgeback  0.072010    True    True  \n",
       "2  0.138584    True           bloodhound  0.116197    True    True  \n",
       "3  0.360687    True   miniature_pinscher  0.222752    True    True  \n",
       "4  0.243682    True             Doberman  0.154629    True    True  "
      ]
     },
     "execution_count": 67,
     "metadata": {},
     "output_type": "execute_result"
    }
   ],
   "source": [
    "df_predicted.head()"
   ]
  },
  {
   "cell_type": "code",
   "execution_count": 68,
   "metadata": {},
   "outputs": [
    {
     "data": {
      "text/plain": [
       "True     1532\n",
       "False     219\n",
       "Name: p1_dog, dtype: int64"
      ]
     },
     "execution_count": 68,
     "metadata": {},
     "output_type": "execute_result"
    }
   ],
   "source": [
    "df_predicted.p1_dog.value_counts()"
   ]
  },
  {
   "cell_type": "code",
   "execution_count": 125,
   "metadata": {},
   "outputs": [
    {
     "data": {
      "text/plain": [
       "True     1553\n",
       "False     198\n",
       "Name: p2_dog, dtype: int64"
      ]
     },
     "execution_count": 125,
     "metadata": {},
     "output_type": "execute_result"
    }
   ],
   "source": [
    "df_predicted.p2_dog.value_counts()"
   ]
  },
  {
   "cell_type": "code",
   "execution_count": 126,
   "metadata": {},
   "outputs": [
    {
     "data": {
      "text/plain": [
       "True     1499\n",
       "False     252\n",
       "Name: p3_dog, dtype: int64"
      ]
     },
     "execution_count": 126,
     "metadata": {},
     "output_type": "execute_result"
    }
   ],
   "source": [
    "df_predicted.p3_dog.value_counts()"
   ]
  },
  {
   "cell_type": "markdown",
   "metadata": {},
   "source": [
    "We want to keep the \"best predicted breed\", from the three Predictions, for our Analysis. It means, that for each row, we should retrieve \"px\", the Breed, where \"px_isdog\" is true and px_conf = max(p1_conf,p2_conf,p3_conf). "
   ]
  },
  {
   "cell_type": "markdown",
   "metadata": {},
   "source": [
    "#### Tidiness Issues in the Prediction Dataframe:\n",
    "- 4. There are several possible values for the predicted breed. We want to keep the most plausible one\n",
    "- 5. The \"best\" predicted breed \"column\" should be added to our Master Dataframe. "
   ]
  },
  {
   "cell_type": "code",
   "execution_count": 131,
   "metadata": {},
   "outputs": [],
   "source": [
    "def get_best_predicted_breed(row):\n",
    "    breeds = []\n",
    "    predictions = []\n",
    "    if (row['p1_dog']):\n",
    "        breeds.append(row['p1'])\n",
    "        predictions.append(row['p1_conf'])\n",
    "    if (row['p2_dog']):\n",
    "        breeds.append(row['p2'])\n",
    "        predictions.append(row['p2_conf'])\n",
    "    if (row['p3_dog']):\n",
    "        breeds.append(row['p3'])\n",
    "        predictions.append(row['p3_conf'])\n",
    "    #index_max = predictions.index(max(predictions))\n",
    "    return breeds[0] # since p1_conf > p2_conf > p3_conf and the order in which we append\n",
    "    # the values, the breed for the highest confidence is always at index 0."
   ]
  },
  {
   "cell_type": "code",
   "execution_count": 145,
   "metadata": {},
   "outputs": [
    {
     "data": {
      "text/plain": [
       "(20, 13)"
      ]
     },
     "execution_count": 145,
     "metadata": {},
     "output_type": "execute_result"
    }
   ],
   "source": [
    "df_predicted_small = df_predicted.iloc[:20]\n",
    "df_predicted_small.shape"
   ]
  },
  {
   "cell_type": "code",
   "execution_count": 133,
   "metadata": {},
   "outputs": [
    {
     "data": {
      "text/html": [
       "<div>\n",
       "<style scoped>\n",
       "    .dataframe tbody tr th:only-of-type {\n",
       "        vertical-align: middle;\n",
       "    }\n",
       "\n",
       "    .dataframe tbody tr th {\n",
       "        vertical-align: top;\n",
       "    }\n",
       "\n",
       "    .dataframe thead th {\n",
       "        text-align: right;\n",
       "    }\n",
       "</style>\n",
       "<table border=\"1\" class=\"dataframe\">\n",
       "  <thead>\n",
       "    <tr style=\"text-align: right;\">\n",
       "      <th></th>\n",
       "      <th>tweet_id</th>\n",
       "      <th>jpg_url</th>\n",
       "      <th>img_num</th>\n",
       "      <th>p1</th>\n",
       "      <th>p1_conf</th>\n",
       "      <th>p1_dog</th>\n",
       "      <th>p2</th>\n",
       "      <th>p2_conf</th>\n",
       "      <th>p2_dog</th>\n",
       "      <th>p3</th>\n",
       "      <th>p3_conf</th>\n",
       "      <th>p3_dog</th>\n",
       "      <th>is_dog</th>\n",
       "      <th>best_breed</th>\n",
       "    </tr>\n",
       "  </thead>\n",
       "  <tbody>\n",
       "    <tr>\n",
       "      <th>0</th>\n",
       "      <td>666020888022790149</td>\n",
       "      <td>https://pbs.twimg.com/media/CT4udn0WwAA0aMy.jpg</td>\n",
       "      <td>1</td>\n",
       "      <td>Welsh_springer_spaniel</td>\n",
       "      <td>0.465074</td>\n",
       "      <td>True</td>\n",
       "      <td>collie</td>\n",
       "      <td>0.156665</td>\n",
       "      <td>True</td>\n",
       "      <td>Shetland_sheepdog</td>\n",
       "      <td>0.061428</td>\n",
       "      <td>True</td>\n",
       "      <td>True</td>\n",
       "      <td>Welsh_springer_spaniel</td>\n",
       "    </tr>\n",
       "    <tr>\n",
       "      <th>1</th>\n",
       "      <td>666029285002620928</td>\n",
       "      <td>https://pbs.twimg.com/media/CT42GRgUYAA5iDo.jpg</td>\n",
       "      <td>1</td>\n",
       "      <td>redbone</td>\n",
       "      <td>0.506826</td>\n",
       "      <td>True</td>\n",
       "      <td>miniature_pinscher</td>\n",
       "      <td>0.074192</td>\n",
       "      <td>True</td>\n",
       "      <td>Rhodesian_ridgeback</td>\n",
       "      <td>0.072010</td>\n",
       "      <td>True</td>\n",
       "      <td>True</td>\n",
       "      <td>redbone</td>\n",
       "    </tr>\n",
       "    <tr>\n",
       "      <th>2</th>\n",
       "      <td>666033412701032449</td>\n",
       "      <td>https://pbs.twimg.com/media/CT4521TWwAEvMyu.jpg</td>\n",
       "      <td>1</td>\n",
       "      <td>German_shepherd</td>\n",
       "      <td>0.596461</td>\n",
       "      <td>True</td>\n",
       "      <td>malinois</td>\n",
       "      <td>0.138584</td>\n",
       "      <td>True</td>\n",
       "      <td>bloodhound</td>\n",
       "      <td>0.116197</td>\n",
       "      <td>True</td>\n",
       "      <td>True</td>\n",
       "      <td>German_shepherd</td>\n",
       "    </tr>\n",
       "    <tr>\n",
       "      <th>3</th>\n",
       "      <td>666044226329800704</td>\n",
       "      <td>https://pbs.twimg.com/media/CT5Dr8HUEAA-lEu.jpg</td>\n",
       "      <td>1</td>\n",
       "      <td>Rhodesian_ridgeback</td>\n",
       "      <td>0.408143</td>\n",
       "      <td>True</td>\n",
       "      <td>redbone</td>\n",
       "      <td>0.360687</td>\n",
       "      <td>True</td>\n",
       "      <td>miniature_pinscher</td>\n",
       "      <td>0.222752</td>\n",
       "      <td>True</td>\n",
       "      <td>True</td>\n",
       "      <td>Rhodesian_ridgeback</td>\n",
       "    </tr>\n",
       "    <tr>\n",
       "      <th>4</th>\n",
       "      <td>666049248165822465</td>\n",
       "      <td>https://pbs.twimg.com/media/CT5IQmsXIAAKY4A.jpg</td>\n",
       "      <td>1</td>\n",
       "      <td>miniature_pinscher</td>\n",
       "      <td>0.560311</td>\n",
       "      <td>True</td>\n",
       "      <td>Rottweiler</td>\n",
       "      <td>0.243682</td>\n",
       "      <td>True</td>\n",
       "      <td>Doberman</td>\n",
       "      <td>0.154629</td>\n",
       "      <td>True</td>\n",
       "      <td>True</td>\n",
       "      <td>miniature_pinscher</td>\n",
       "    </tr>\n",
       "    <tr>\n",
       "      <th>5</th>\n",
       "      <td>666050758794694657</td>\n",
       "      <td>https://pbs.twimg.com/media/CT5Jof1WUAEuVxN.jpg</td>\n",
       "      <td>1</td>\n",
       "      <td>Bernese_mountain_dog</td>\n",
       "      <td>0.651137</td>\n",
       "      <td>True</td>\n",
       "      <td>English_springer</td>\n",
       "      <td>0.263788</td>\n",
       "      <td>True</td>\n",
       "      <td>Greater_Swiss_Mountain_dog</td>\n",
       "      <td>0.016199</td>\n",
       "      <td>True</td>\n",
       "      <td>True</td>\n",
       "      <td>Bernese_mountain_dog</td>\n",
       "    </tr>\n",
       "    <tr>\n",
       "      <th>7</th>\n",
       "      <td>666055525042405380</td>\n",
       "      <td>https://pbs.twimg.com/media/CT5N9tpXIAAifs1.jpg</td>\n",
       "      <td>1</td>\n",
       "      <td>chow</td>\n",
       "      <td>0.692517</td>\n",
       "      <td>True</td>\n",
       "      <td>Tibetan_mastiff</td>\n",
       "      <td>0.058279</td>\n",
       "      <td>True</td>\n",
       "      <td>fur_coat</td>\n",
       "      <td>0.054449</td>\n",
       "      <td>False</td>\n",
       "      <td>True</td>\n",
       "      <td>chow</td>\n",
       "    </tr>\n",
       "    <tr>\n",
       "      <th>8</th>\n",
       "      <td>666057090499244032</td>\n",
       "      <td>https://pbs.twimg.com/media/CT5PY90WoAAQGLo.jpg</td>\n",
       "      <td>1</td>\n",
       "      <td>shopping_cart</td>\n",
       "      <td>0.962465</td>\n",
       "      <td>False</td>\n",
       "      <td>shopping_basket</td>\n",
       "      <td>0.014594</td>\n",
       "      <td>False</td>\n",
       "      <td>golden_retriever</td>\n",
       "      <td>0.007959</td>\n",
       "      <td>True</td>\n",
       "      <td>True</td>\n",
       "      <td>golden_retriever</td>\n",
       "    </tr>\n",
       "    <tr>\n",
       "      <th>9</th>\n",
       "      <td>666058600524156928</td>\n",
       "      <td>https://pbs.twimg.com/media/CT5Qw94XAAA_2dP.jpg</td>\n",
       "      <td>1</td>\n",
       "      <td>miniature_poodle</td>\n",
       "      <td>0.201493</td>\n",
       "      <td>True</td>\n",
       "      <td>komondor</td>\n",
       "      <td>0.192305</td>\n",
       "      <td>True</td>\n",
       "      <td>soft-coated_wheaten_terrier</td>\n",
       "      <td>0.082086</td>\n",
       "      <td>True</td>\n",
       "      <td>True</td>\n",
       "      <td>miniature_poodle</td>\n",
       "    </tr>\n",
       "    <tr>\n",
       "      <th>10</th>\n",
       "      <td>666063827256086533</td>\n",
       "      <td>https://pbs.twimg.com/media/CT5Vg_wXIAAXfnj.jpg</td>\n",
       "      <td>1</td>\n",
       "      <td>golden_retriever</td>\n",
       "      <td>0.775930</td>\n",
       "      <td>True</td>\n",
       "      <td>Tibetan_mastiff</td>\n",
       "      <td>0.093718</td>\n",
       "      <td>True</td>\n",
       "      <td>Labrador_retriever</td>\n",
       "      <td>0.072427</td>\n",
       "      <td>True</td>\n",
       "      <td>True</td>\n",
       "      <td>golden_retriever</td>\n",
       "    </tr>\n",
       "    <tr>\n",
       "      <th>11</th>\n",
       "      <td>666071193221509120</td>\n",
       "      <td>https://pbs.twimg.com/media/CT5cN_3WEAAlOoZ.jpg</td>\n",
       "      <td>1</td>\n",
       "      <td>Gordon_setter</td>\n",
       "      <td>0.503672</td>\n",
       "      <td>True</td>\n",
       "      <td>Yorkshire_terrier</td>\n",
       "      <td>0.174201</td>\n",
       "      <td>True</td>\n",
       "      <td>Pekinese</td>\n",
       "      <td>0.109454</td>\n",
       "      <td>True</td>\n",
       "      <td>True</td>\n",
       "      <td>Gordon_setter</td>\n",
       "    </tr>\n",
       "    <tr>\n",
       "      <th>12</th>\n",
       "      <td>666073100786774016</td>\n",
       "      <td>https://pbs.twimg.com/media/CT5d9DZXAAALcwe.jpg</td>\n",
       "      <td>1</td>\n",
       "      <td>Walker_hound</td>\n",
       "      <td>0.260857</td>\n",
       "      <td>True</td>\n",
       "      <td>English_foxhound</td>\n",
       "      <td>0.175382</td>\n",
       "      <td>True</td>\n",
       "      <td>Ibizan_hound</td>\n",
       "      <td>0.097471</td>\n",
       "      <td>True</td>\n",
       "      <td>True</td>\n",
       "      <td>Walker_hound</td>\n",
       "    </tr>\n",
       "    <tr>\n",
       "      <th>13</th>\n",
       "      <td>666082916733198337</td>\n",
       "      <td>https://pbs.twimg.com/media/CT5m4VGWEAAtKc8.jpg</td>\n",
       "      <td>1</td>\n",
       "      <td>pug</td>\n",
       "      <td>0.489814</td>\n",
       "      <td>True</td>\n",
       "      <td>bull_mastiff</td>\n",
       "      <td>0.404722</td>\n",
       "      <td>True</td>\n",
       "      <td>French_bulldog</td>\n",
       "      <td>0.048960</td>\n",
       "      <td>True</td>\n",
       "      <td>True</td>\n",
       "      <td>pug</td>\n",
       "    </tr>\n",
       "    <tr>\n",
       "      <th>14</th>\n",
       "      <td>666094000022159362</td>\n",
       "      <td>https://pbs.twimg.com/media/CT5w9gUW4AAsBNN.jpg</td>\n",
       "      <td>1</td>\n",
       "      <td>bloodhound</td>\n",
       "      <td>0.195217</td>\n",
       "      <td>True</td>\n",
       "      <td>German_shepherd</td>\n",
       "      <td>0.078260</td>\n",
       "      <td>True</td>\n",
       "      <td>malinois</td>\n",
       "      <td>0.075628</td>\n",
       "      <td>True</td>\n",
       "      <td>True</td>\n",
       "      <td>bloodhound</td>\n",
       "    </tr>\n",
       "    <tr>\n",
       "      <th>15</th>\n",
       "      <td>666099513787052032</td>\n",
       "      <td>https://pbs.twimg.com/media/CT51-JJUEAA6hV8.jpg</td>\n",
       "      <td>1</td>\n",
       "      <td>Lhasa</td>\n",
       "      <td>0.582330</td>\n",
       "      <td>True</td>\n",
       "      <td>Shih-Tzu</td>\n",
       "      <td>0.166192</td>\n",
       "      <td>True</td>\n",
       "      <td>Dandie_Dinmont</td>\n",
       "      <td>0.089688</td>\n",
       "      <td>True</td>\n",
       "      <td>True</td>\n",
       "      <td>Lhasa</td>\n",
       "    </tr>\n",
       "    <tr>\n",
       "      <th>16</th>\n",
       "      <td>666102155909144576</td>\n",
       "      <td>https://pbs.twimg.com/media/CT54YGiWUAEZnoK.jpg</td>\n",
       "      <td>1</td>\n",
       "      <td>English_setter</td>\n",
       "      <td>0.298617</td>\n",
       "      <td>True</td>\n",
       "      <td>Newfoundland</td>\n",
       "      <td>0.149842</td>\n",
       "      <td>True</td>\n",
       "      <td>borzoi</td>\n",
       "      <td>0.133649</td>\n",
       "      <td>True</td>\n",
       "      <td>True</td>\n",
       "      <td>English_setter</td>\n",
       "    </tr>\n",
       "    <tr>\n",
       "      <th>19</th>\n",
       "      <td>666273097616637952</td>\n",
       "      <td>https://pbs.twimg.com/media/CT8T1mtUwAA3aqm.jpg</td>\n",
       "      <td>1</td>\n",
       "      <td>Italian_greyhound</td>\n",
       "      <td>0.176053</td>\n",
       "      <td>True</td>\n",
       "      <td>toy_terrier</td>\n",
       "      <td>0.111884</td>\n",
       "      <td>True</td>\n",
       "      <td>basenji</td>\n",
       "      <td>0.111152</td>\n",
       "      <td>True</td>\n",
       "      <td>True</td>\n",
       "      <td>Italian_greyhound</td>\n",
       "    </tr>\n",
       "    <tr>\n",
       "      <th>20</th>\n",
       "      <td>666287406224695296</td>\n",
       "      <td>https://pbs.twimg.com/media/CT8g3BpUEAAuFjg.jpg</td>\n",
       "      <td>1</td>\n",
       "      <td>Maltese_dog</td>\n",
       "      <td>0.857531</td>\n",
       "      <td>True</td>\n",
       "      <td>toy_poodle</td>\n",
       "      <td>0.063064</td>\n",
       "      <td>True</td>\n",
       "      <td>miniature_poodle</td>\n",
       "      <td>0.025581</td>\n",
       "      <td>True</td>\n",
       "      <td>True</td>\n",
       "      <td>Maltese_dog</td>\n",
       "    </tr>\n",
       "    <tr>\n",
       "      <th>22</th>\n",
       "      <td>666337882303524864</td>\n",
       "      <td>https://pbs.twimg.com/media/CT9OwFIWEAMuRje.jpg</td>\n",
       "      <td>1</td>\n",
       "      <td>ox</td>\n",
       "      <td>0.416669</td>\n",
       "      <td>False</td>\n",
       "      <td>Newfoundland</td>\n",
       "      <td>0.278407</td>\n",
       "      <td>True</td>\n",
       "      <td>groenendael</td>\n",
       "      <td>0.102643</td>\n",
       "      <td>True</td>\n",
       "      <td>True</td>\n",
       "      <td>Newfoundland</td>\n",
       "    </tr>\n",
       "    <tr>\n",
       "      <th>23</th>\n",
       "      <td>666345417576210432</td>\n",
       "      <td>https://pbs.twimg.com/media/CT9Vn7PWoAA_ZCM.jpg</td>\n",
       "      <td>1</td>\n",
       "      <td>golden_retriever</td>\n",
       "      <td>0.858744</td>\n",
       "      <td>True</td>\n",
       "      <td>Chesapeake_Bay_retriever</td>\n",
       "      <td>0.054787</td>\n",
       "      <td>True</td>\n",
       "      <td>Labrador_retriever</td>\n",
       "      <td>0.014241</td>\n",
       "      <td>True</td>\n",
       "      <td>True</td>\n",
       "      <td>golden_retriever</td>\n",
       "    </tr>\n",
       "  </tbody>\n",
       "</table>\n",
       "</div>"
      ],
      "text/plain": [
       "              tweet_id                                          jpg_url  \\\n",
       "0   666020888022790149  https://pbs.twimg.com/media/CT4udn0WwAA0aMy.jpg   \n",
       "1   666029285002620928  https://pbs.twimg.com/media/CT42GRgUYAA5iDo.jpg   \n",
       "2   666033412701032449  https://pbs.twimg.com/media/CT4521TWwAEvMyu.jpg   \n",
       "3   666044226329800704  https://pbs.twimg.com/media/CT5Dr8HUEAA-lEu.jpg   \n",
       "4   666049248165822465  https://pbs.twimg.com/media/CT5IQmsXIAAKY4A.jpg   \n",
       "5   666050758794694657  https://pbs.twimg.com/media/CT5Jof1WUAEuVxN.jpg   \n",
       "7   666055525042405380  https://pbs.twimg.com/media/CT5N9tpXIAAifs1.jpg   \n",
       "8   666057090499244032  https://pbs.twimg.com/media/CT5PY90WoAAQGLo.jpg   \n",
       "9   666058600524156928  https://pbs.twimg.com/media/CT5Qw94XAAA_2dP.jpg   \n",
       "10  666063827256086533  https://pbs.twimg.com/media/CT5Vg_wXIAAXfnj.jpg   \n",
       "11  666071193221509120  https://pbs.twimg.com/media/CT5cN_3WEAAlOoZ.jpg   \n",
       "12  666073100786774016  https://pbs.twimg.com/media/CT5d9DZXAAALcwe.jpg   \n",
       "13  666082916733198337  https://pbs.twimg.com/media/CT5m4VGWEAAtKc8.jpg   \n",
       "14  666094000022159362  https://pbs.twimg.com/media/CT5w9gUW4AAsBNN.jpg   \n",
       "15  666099513787052032  https://pbs.twimg.com/media/CT51-JJUEAA6hV8.jpg   \n",
       "16  666102155909144576  https://pbs.twimg.com/media/CT54YGiWUAEZnoK.jpg   \n",
       "19  666273097616637952  https://pbs.twimg.com/media/CT8T1mtUwAA3aqm.jpg   \n",
       "20  666287406224695296  https://pbs.twimg.com/media/CT8g3BpUEAAuFjg.jpg   \n",
       "22  666337882303524864  https://pbs.twimg.com/media/CT9OwFIWEAMuRje.jpg   \n",
       "23  666345417576210432  https://pbs.twimg.com/media/CT9Vn7PWoAA_ZCM.jpg   \n",
       "\n",
       "    img_num                      p1   p1_conf  p1_dog  \\\n",
       "0         1  Welsh_springer_spaniel  0.465074    True   \n",
       "1         1                 redbone  0.506826    True   \n",
       "2         1         German_shepherd  0.596461    True   \n",
       "3         1     Rhodesian_ridgeback  0.408143    True   \n",
       "4         1      miniature_pinscher  0.560311    True   \n",
       "5         1    Bernese_mountain_dog  0.651137    True   \n",
       "7         1                    chow  0.692517    True   \n",
       "8         1           shopping_cart  0.962465   False   \n",
       "9         1        miniature_poodle  0.201493    True   \n",
       "10        1        golden_retriever  0.775930    True   \n",
       "11        1           Gordon_setter  0.503672    True   \n",
       "12        1            Walker_hound  0.260857    True   \n",
       "13        1                     pug  0.489814    True   \n",
       "14        1              bloodhound  0.195217    True   \n",
       "15        1                   Lhasa  0.582330    True   \n",
       "16        1          English_setter  0.298617    True   \n",
       "19        1       Italian_greyhound  0.176053    True   \n",
       "20        1             Maltese_dog  0.857531    True   \n",
       "22        1                      ox  0.416669   False   \n",
       "23        1        golden_retriever  0.858744    True   \n",
       "\n",
       "                          p2   p2_conf  p2_dog                           p3  \\\n",
       "0                     collie  0.156665    True            Shetland_sheepdog   \n",
       "1         miniature_pinscher  0.074192    True          Rhodesian_ridgeback   \n",
       "2                   malinois  0.138584    True                   bloodhound   \n",
       "3                    redbone  0.360687    True           miniature_pinscher   \n",
       "4                 Rottweiler  0.243682    True                     Doberman   \n",
       "5           English_springer  0.263788    True   Greater_Swiss_Mountain_dog   \n",
       "7            Tibetan_mastiff  0.058279    True                     fur_coat   \n",
       "8            shopping_basket  0.014594   False             golden_retriever   \n",
       "9                   komondor  0.192305    True  soft-coated_wheaten_terrier   \n",
       "10           Tibetan_mastiff  0.093718    True           Labrador_retriever   \n",
       "11         Yorkshire_terrier  0.174201    True                     Pekinese   \n",
       "12          English_foxhound  0.175382    True                 Ibizan_hound   \n",
       "13              bull_mastiff  0.404722    True               French_bulldog   \n",
       "14           German_shepherd  0.078260    True                     malinois   \n",
       "15                  Shih-Tzu  0.166192    True               Dandie_Dinmont   \n",
       "16              Newfoundland  0.149842    True                       borzoi   \n",
       "19               toy_terrier  0.111884    True                      basenji   \n",
       "20                toy_poodle  0.063064    True             miniature_poodle   \n",
       "22              Newfoundland  0.278407    True                  groenendael   \n",
       "23  Chesapeake_Bay_retriever  0.054787    True           Labrador_retriever   \n",
       "\n",
       "     p3_conf  p3_dog  is_dog              best_breed  \n",
       "0   0.061428    True    True  Welsh_springer_spaniel  \n",
       "1   0.072010    True    True                 redbone  \n",
       "2   0.116197    True    True         German_shepherd  \n",
       "3   0.222752    True    True     Rhodesian_ridgeback  \n",
       "4   0.154629    True    True      miniature_pinscher  \n",
       "5   0.016199    True    True    Bernese_mountain_dog  \n",
       "7   0.054449   False    True                    chow  \n",
       "8   0.007959    True    True        golden_retriever  \n",
       "9   0.082086    True    True        miniature_poodle  \n",
       "10  0.072427    True    True        golden_retriever  \n",
       "11  0.109454    True    True           Gordon_setter  \n",
       "12  0.097471    True    True            Walker_hound  \n",
       "13  0.048960    True    True                     pug  \n",
       "14  0.075628    True    True              bloodhound  \n",
       "15  0.089688    True    True                   Lhasa  \n",
       "16  0.133649    True    True          English_setter  \n",
       "19  0.111152    True    True       Italian_greyhound  \n",
       "20  0.025581    True    True             Maltese_dog  \n",
       "22  0.102643    True    True            Newfoundland  \n",
       "23  0.014241    True    True        golden_retriever  "
      ]
     },
     "execution_count": 133,
     "metadata": {},
     "output_type": "execute_result"
    }
   ],
   "source": [
    "# Test my function on a Subset of the Prediction Dataframe\n",
    "df_predicted_small.loc[:, 'best_breed'] = df_predicted_small.apply(get_best_predicted_breed, axis=1)\n",
    "df_predicted_small"
   ]
  },
  {
   "cell_type": "markdown",
   "metadata": {},
   "source": [
    "[Back to top](#top)"
   ]
  },
  {
   "cell_type": "markdown",
   "metadata": {},
   "source": [
    "<a id='clean'></a>\n",
    "## Cleaning\n",
    "\n",
    "### Plan:\n",
    "\n",
    "I) We first will want to adress the Issues that make our three Dataframes \"match\" together. It means that we want to keep the tweets in the Archive that were not deleted and also are in the tweepy Dataframe. Also each tweet of the Archive and Tweepy Dataframe, should have a Picture and be in the Prediction Dataframe. [Connecting 3 Dataframes](#connect)<br>\n",
    "II) We want to adress the Issues where Data is missing [Missing Values](#missing)<br>\n",
    "III) We want to adress Tidiness Issues [Tidiness Issues](#tidiness)<br>\n",
    "IV) We finally want to work on the remaining Quality Issues. [Quality Issues remaining](#remaining)<br>\n",
    "\n",
    "Here is a summary ouf the Issues we assessed:<br>\n",
    "\n",
    "#### Quality Issues in the Archive Dataframe:\n",
    "\n",
    "- 1. timestamp should be a datetime Object.\n",
    "- 2. some tweets are obsolete and must be removed (could not be fetched from the tweepy API)\n",
    "- 3. some tweets are retweets (181 non null 'retweeted_status_id') and must be removed\n",
    "- 4. there are missing values in the 'expended_urls' Column.\n",
    "- 5. The ratings were parsed from the Text with a Method that led to accuracy issues\n",
    "- 6. the data type for the rating numerator should be a float, not an integer\n",
    "- 7. Some Ratings voluntary have inacurrate ('fantasy') Values. We decide to keep only tweets that have a rating between 0 and 14 over 10, (there is enough fantasy in this already!)\n",
    "- 8. Incorrect parsed dog names \"a\"\n",
    "- 11. Some tweets do not have an image. All the Records from the Archive (2356 entries) should also be in the Prediction Dataframe(2075 entries).\n",
    "\n",
    "#### Quality Issue in the tweepy Dataframe:\n",
    "- 9. There are Retweets and Quotes in the tweepy Dataframe. We want to make sure these are consistent with the Retweets/Quotes from the Archive.\n",
    "\n",
    "#### Quality Issue in the Prediction DataFrame:\n",
    "- 10. Some tweets do not represent dogs.\n",
    "\n",
    "\n",
    "#### Tidiness Issues in the Archive\n",
    "- 1. The rating for each record is kept in two Columns 'rating_numerator' and 'rating_denominator'\n",
    "- 2. The values corresponding to the \"dog stage\" Variable is contained in four columns: \"doggo\", \"pupper\", \"puppo\", \"fluffer\"\n",
    "\n",
    "#### Tidiness Issue in the tweepy Dataframe\n",
    "- 3. The favorite and retweet counts fo each tweet should be part of the Archive Dataframe.\n",
    "\n",
    "#### Tidiness Issues in the Prediction Dataframe:\n",
    "- 4. There are several possible values for the predicted breed. We want to keep the most plausible one\n",
    "- 5. The \"best\" predicted breed \"column\" should be added to our Master Dataframe. "
   ]
  },
  {
   "cell_type": "markdown",
   "metadata": {},
   "source": [
    "<a id='connect'></a>\n",
    "### I) Connecting the three Dataframes:"
   ]
  },
  {
   "cell_type": "markdown",
   "metadata": {},
   "source": [
    "#### Making a working copy of our Dataframes before cleaning:"
   ]
  },
  {
   "cell_type": "code",
   "execution_count": 280,
   "metadata": {},
   "outputs": [],
   "source": [
    "df_archive_clean = df_archive.copy()\n",
    "df_tweepy_clean = df_tweepy.copy()\n",
    "df_images_clean = df_image_predictions.copy()"
   ]
  },
  {
   "cell_type": "markdown",
   "metadata": {},
   "source": [
    "#### Quality Issue: 2. some tweets in the Archive are obsolete and must be removed (could not be fetched from the tweepy API)"
   ]
  },
  {
   "cell_type": "markdown",
   "metadata": {},
   "source": [
    "#### Define:\n",
    "Remove all the Tweets from the Archive, which Id is not in the Tweepy Dataframe."
   ]
  },
  {
   "cell_type": "markdown",
   "metadata": {},
   "source": [
    "#### Code:"
   ]
  },
  {
   "cell_type": "code",
   "execution_count": 281,
   "metadata": {},
   "outputs": [
    {
     "name": "stdout",
     "output_type": "stream",
     "text": [
      "(2356, 13)\n",
      "(2339, 32)\n"
     ]
    }
   ],
   "source": [
    "print(df_archive_clean.shape)\n",
    "print(df_tweepy_clean.shape)"
   ]
  },
  {
   "cell_type": "code",
   "execution_count": 282,
   "metadata": {},
   "outputs": [],
   "source": [
    "df_archive_clean = df_archive_clean[df_archive_clean.tweet_id.isin(df_tweepy_clean.id)]\n"
   ]
  },
  {
   "cell_type": "markdown",
   "metadata": {},
   "source": [
    "#### Test:"
   ]
  },
  {
   "cell_type": "code",
   "execution_count": 283,
   "metadata": {},
   "outputs": [
    {
     "data": {
      "text/plain": [
       "(2339, 13)"
      ]
     },
     "execution_count": 283,
     "metadata": {},
     "output_type": "execute_result"
    }
   ],
   "source": [
    "df_archive_clean.shape"
   ]
  },
  {
   "cell_type": "markdown",
   "metadata": {},
   "source": [
    "We kept all the ids of the tweets that we could not fetch from the Tweepy API in a local text file called \"tweetid_errors.txt\". We can load these ids and verify there are not in the Archive anymore:"
   ]
  },
  {
   "cell_type": "code",
   "execution_count": 284,
   "metadata": {},
   "outputs": [
    {
     "name": "stdout",
     "output_type": "stream",
     "text": [
      "['888202515573088257', '873697596434513921', '872668790621863937', '872261713294495745', '869988702071779329', '866816280283807744', '861769973181624320', '845459076796616705', '842892208864923648', '837012587749474308', '827228250799742977', '812747805718642688', '802247111496568832', '775096608509886464', '770743923962707968', '754011816964026368', '680055455951884288']\n"
     ]
    }
   ],
   "source": [
    "error_ids = []\n",
    "with open('tweetid_errors.txt', encoding='utf-8')as fh:\n",
    "    for line in fh:\n",
    "        splitted = line.split(':') # the line format is <Id Number as string>:<Description of the Exception Error> \n",
    "        error_ids.append(splitted[0])\n",
    "print(error_ids)"
   ]
  },
  {
   "cell_type": "code",
   "execution_count": 285,
   "metadata": {},
   "outputs": [
    {
     "name": "stdout",
     "output_type": "stream",
     "text": [
      "True\n"
     ]
    }
   ],
   "source": [
    "print(all(id not in df_archive_clean.tweet_id.astype(str) for id in error_ids))\n",
    "# The Ids from the textfile, are not in the Archive, in the \"tweet_id\" Column anymore."
   ]
  },
  {
   "cell_type": "markdown",
   "metadata": {},
   "source": [
    "#### Quality Issue: 11. Some tweets do not have an image. All the Records from the Archive and the Tweepy Dataframe, should also be in the Prediction Dataframe. "
   ]
  },
  {
   "cell_type": "markdown",
   "metadata": {},
   "source": [
    "#### Define:\n",
    "Remove all the tweets in the Archive and Tweepy Dataframe, which \"tweet_id\" are <b>not</b> in the Prediction Dataframe.  "
   ]
  },
  {
   "cell_type": "markdown",
   "metadata": {},
   "source": [
    "#### Code:"
   ]
  },
  {
   "cell_type": "code",
   "execution_count": 286,
   "metadata": {},
   "outputs": [
    {
     "data": {
      "text/plain": [
       "(2075, 13)"
      ]
     },
     "execution_count": 286,
     "metadata": {},
     "output_type": "execute_result"
    }
   ],
   "source": [
    "df_images_clean.shape"
   ]
  },
  {
   "cell_type": "code",
   "execution_count": 287,
   "metadata": {},
   "outputs": [
    {
     "name": "stdout",
     "output_type": "stream",
     "text": [
      "(2066, 13)\n"
     ]
    }
   ],
   "source": [
    "df_archive_clean = df_archive_clean[df_archive_clean.tweet_id.isin(df_images_clean.tweet_id)]\n",
    "print(df_archive_clean.shape)"
   ]
  },
  {
   "cell_type": "code",
   "execution_count": 288,
   "metadata": {},
   "outputs": [
    {
     "name": "stdout",
     "output_type": "stream",
     "text": [
      "(2066, 32)\n"
     ]
    }
   ],
   "source": [
    "df_tweepy_clean = df_tweepy_clean[df_tweepy_clean.id.isin(df_images_clean.tweet_id)]\n",
    "print(df_tweepy_clean.shape)"
   ]
  },
  {
   "cell_type": "code",
   "execution_count": 289,
   "metadata": {},
   "outputs": [
    {
     "name": "stdout",
     "output_type": "stream",
     "text": [
      "(2066, 13)\n"
     ]
    }
   ],
   "source": [
    "# All the images in the Prediction Table should correspond to an available tweet from \n",
    "# the Archive\n",
    "# Inspecting Records in the Prediction Table that are not in the Archive.\n",
    "df_images_clean = df_images_clean[df_images_clean.tweet_id.isin(df_archive_clean.tweet_id)]\n",
    "print(df_images_clean.shape)"
   ]
  },
  {
   "cell_type": "markdown",
   "metadata": {},
   "source": [
    "#### Test:"
   ]
  },
  {
   "cell_type": "code",
   "execution_count": 290,
   "metadata": {},
   "outputs": [
    {
     "name": "stdout",
     "output_type": "stream",
     "text": [
      "True\n"
     ]
    }
   ],
   "source": [
    "# all the Id's found in the Archive are also in the Prediction Table.\n",
    "print(all( id in df_images_clean.tweet_id.values for id in df_archive_clean.tweet_id.values))"
   ]
  },
  {
   "cell_type": "code",
   "execution_count": 291,
   "metadata": {},
   "outputs": [
    {
     "name": "stdout",
     "output_type": "stream",
     "text": [
      "True\n"
     ]
    }
   ],
   "source": [
    "# all the Id's found in the Tweepy Dataframe are also in the Prediction Table.\n",
    "print(all( id in df_images_clean.tweet_id.values for id in df_tweepy_clean.id.values))"
   ]
  },
  {
   "cell_type": "code",
   "execution_count": 292,
   "metadata": {},
   "outputs": [
    {
     "name": "stdout",
     "output_type": "stream",
     "text": [
      "True\n"
     ]
    }
   ],
   "source": [
    "# all the Id's found in the Prediction Table are also in the Archive.\n",
    "print(all( id in df_archive_clean.tweet_id.values for id in df_images_clean.tweet_id.values))"
   ]
  },
  {
   "cell_type": "markdown",
   "metadata": {},
   "source": [
    "#### Quality Issue in the tweepy Dataframe: 9. There are Retweets and Quotes in the tweepy Dataframe. We want to make sure these are consistent with the Retweets/Quotes from the Archive.\n"
   ]
  },
  {
   "cell_type": "markdown",
   "metadata": {},
   "source": [
    "Count the number of Quotes and Retweets in the Tweepy Dataframe. Make sure there are the same Objects than the ones we identified in the Archive. If not remove these Records."
   ]
  },
  {
   "cell_type": "code",
   "execution_count": 293,
   "metadata": {},
   "outputs": [
    {
     "name": "stdout",
     "output_type": "stream",
     "text": [
      "<class 'pandas.core.frame.DataFrame'>\n",
      "Int64Index: 2066 entries, 0 to 2338\n",
      "Data columns (total 32 columns):\n",
      "contributors                     0 non-null object\n",
      "coordinates                      0 non-null object\n",
      "created_at                       2066 non-null object\n",
      "display_text_range               2066 non-null object\n",
      "entities                         2066 non-null object\n",
      "extended_entities                2065 non-null object\n",
      "favorite_count                   2066 non-null int64\n",
      "favorited                        2066 non-null bool\n",
      "full_text                        2066 non-null object\n",
      "geo                              0 non-null object\n",
      "id                               2066 non-null int64\n",
      "id_str                           2066 non-null object\n",
      "in_reply_to_screen_name          23 non-null object\n",
      "in_reply_to_status_id            23 non-null float64\n",
      "in_reply_to_status_id_str        23 non-null object\n",
      "in_reply_to_user_id              23 non-null float64\n",
      "in_reply_to_user_id_str          23 non-null object\n",
      "is_quote_status                  2066 non-null bool\n",
      "lang                             2066 non-null object\n",
      "place                            1 non-null object\n",
      "possibly_sensitive               2065 non-null object\n",
      "possibly_sensitive_appealable    2065 non-null object\n",
      "quoted_status                    0 non-null object\n",
      "quoted_status_id                 0 non-null float64\n",
      "quoted_status_id_str             0 non-null object\n",
      "quoted_status_permalink          0 non-null object\n",
      "retweet_count                    2066 non-null int64\n",
      "retweeted                        2066 non-null bool\n",
      "retweeted_status                 75 non-null object\n",
      "source                           2066 non-null object\n",
      "truncated                        2066 non-null bool\n",
      "user                             2066 non-null object\n",
      "dtypes: bool(4), float64(3), int64(3), object(22)\n",
      "memory usage: 476.1+ KB\n"
     ]
    }
   ],
   "source": [
    "df_tweepy_clean.info()"
   ]
  },
  {
   "cell_type": "code",
   "execution_count": 294,
   "metadata": {},
   "outputs": [
    {
     "data": {
      "text/plain": [
       "0"
      ]
     },
     "execution_count": 294,
     "metadata": {},
     "output_type": "execute_result"
    }
   ],
   "source": [
    "df_tweepy_clean.quoted_status.count()"
   ]
  },
  {
   "cell_type": "markdown",
   "metadata": {},
   "source": [
    "There are no Quotes anymore to take care of."
   ]
  },
  {
   "cell_type": "code",
   "execution_count": 295,
   "metadata": {},
   "outputs": [
    {
     "data": {
      "text/plain": [
       "75"
      ]
     },
     "execution_count": 295,
     "metadata": {},
     "output_type": "execute_result"
    }
   ],
   "source": [
    "df_tweepy_clean.retweeted_status.count()"
   ]
  },
  {
   "cell_type": "code",
   "execution_count": 296,
   "metadata": {},
   "outputs": [
    {
     "data": {
      "text/plain": [
       "75"
      ]
     },
     "execution_count": 296,
     "metadata": {},
     "output_type": "execute_result"
    }
   ],
   "source": [
    "df_archive_clean.retweeted_status_id.count()\n"
   ]
  },
  {
   "cell_type": "code",
   "execution_count": 297,
   "metadata": {},
   "outputs": [
    {
     "data": {
      "text/plain": [
       "(75, 13)"
      ]
     },
     "execution_count": 297,
     "metadata": {},
     "output_type": "execute_result"
    }
   ],
   "source": [
    "df_archive_retweets = df_archive_clean[df_archive_clean.retweeted_status_id.notnull()]\n",
    "df_archive_retweets.shape"
   ]
  },
  {
   "cell_type": "code",
   "execution_count": 298,
   "metadata": {},
   "outputs": [],
   "source": [
    "df_tweepy_clean_retweets = df_tweepy_clean[df_tweepy_clean.retweeted_status.notnull()]"
   ]
  },
  {
   "cell_type": "code",
   "execution_count": 299,
   "metadata": {},
   "outputs": [
    {
     "name": "stdout",
     "output_type": "stream",
     "text": [
      "True\n"
     ]
    }
   ],
   "source": [
    "print(all(df_tweepy_clean_retweets.id.isin(df_archive_retweets.tweet_id)))"
   ]
  },
  {
   "cell_type": "markdown",
   "metadata": {},
   "source": [
    "We made sure there is no Retweet in the tweepy Dataframe that is not also in the Archive.\n",
    "So this Issue will be solved by removing all the Retweets from the Archive (Quality Issue #3)"
   ]
  },
  {
   "cell_type": "markdown",
   "metadata": {},
   "source": [
    "[Back to Cleaning Plan](#clean)"
   ]
  },
  {
   "cell_type": "markdown",
   "metadata": {},
   "source": [
    "<a id='missing'></a>\n",
    "### II) Missing Values:"
   ]
  },
  {
   "cell_type": "markdown",
   "metadata": {},
   "source": [
    "#### Quality Issue: 4. there are missing values in the 'expended_urls' Column."
   ]
  },
  {
   "cell_type": "code",
   "execution_count": 300,
   "metadata": {},
   "outputs": [
    {
     "name": "stdout",
     "output_type": "stream",
     "text": [
      "<class 'pandas.core.frame.DataFrame'>\n",
      "Int64Index: 2066 entries, 0 to 2355\n",
      "Data columns (total 13 columns):\n",
      "tweet_id                    2066 non-null int64\n",
      "timestamp                   2066 non-null object\n",
      "text                        2066 non-null object\n",
      "retweeted_status_id         75 non-null float64\n",
      "retweeted_status_user_id    75 non-null float64\n",
      "expanded_urls               2066 non-null object\n",
      "rating_numerator            2066 non-null int64\n",
      "rating_denominator          2066 non-null int64\n",
      "name                        2066 non-null object\n",
      "doggo                       2066 non-null object\n",
      "floofer                     2066 non-null object\n",
      "pupper                      2066 non-null object\n",
      "puppo                       2066 non-null object\n",
      "dtypes: float64(2), int64(3), object(8)\n",
      "memory usage: 226.0+ KB\n"
     ]
    }
   ],
   "source": [
    "df_archive_clean.info()"
   ]
  },
  {
   "cell_type": "markdown",
   "metadata": {},
   "source": [
    "Removing Tweets from the Archive that were obsolete and did not have a picture solved the problems of missing 'expanded urls'"
   ]
  },
  {
   "cell_type": "markdown",
   "metadata": {},
   "source": [
    "<a id='tidiness'></a>\n",
    "### III) Tidiness Issues:\n",
    "### We can now address the Tidiness Issues (taken in Order of Preference):"
   ]
  },
  {
   "cell_type": "markdown",
   "metadata": {},
   "source": [
    "#### Tidiness Issues in the tweepy Dataframe: 3. The favorite and retweet counts fo each tweet should be part of the Archive Dataframe."
   ]
  },
  {
   "cell_type": "markdown",
   "metadata": {},
   "source": [
    "#### Define: \n",
    "Extract the 'id', 'favorite_count' and 'retweet_count' Columns of the Tweepy Dataframe and merge this resulting Dataframe with the Archive, on the 'Id' Column of the Tweet.\n"
   ]
  },
  {
   "cell_type": "markdown",
   "metadata": {},
   "source": [
    "#### Code:"
   ]
  },
  {
   "cell_type": "code",
   "execution_count": 301,
   "metadata": {},
   "outputs": [],
   "source": [
    "df_tweepy_clean_extracted = df_tweepy_clean[['id', 'favorite_count', 'retweet_count']]"
   ]
  },
  {
   "cell_type": "code",
   "execution_count": 302,
   "metadata": {},
   "outputs": [
    {
     "data": {
      "text/html": [
       "<div>\n",
       "<style scoped>\n",
       "    .dataframe tbody tr th:only-of-type {\n",
       "        vertical-align: middle;\n",
       "    }\n",
       "\n",
       "    .dataframe tbody tr th {\n",
       "        vertical-align: top;\n",
       "    }\n",
       "\n",
       "    .dataframe thead th {\n",
       "        text-align: right;\n",
       "    }\n",
       "</style>\n",
       "<table border=\"1\" class=\"dataframe\">\n",
       "  <thead>\n",
       "    <tr style=\"text-align: right;\">\n",
       "      <th></th>\n",
       "      <th>id</th>\n",
       "      <th>favorite_count</th>\n",
       "      <th>retweet_count</th>\n",
       "    </tr>\n",
       "  </thead>\n",
       "  <tbody>\n",
       "    <tr>\n",
       "      <th>0</th>\n",
       "      <td>892420643555336193</td>\n",
       "      <td>37702</td>\n",
       "      <td>8217</td>\n",
       "    </tr>\n",
       "    <tr>\n",
       "      <th>1</th>\n",
       "      <td>892177421306343426</td>\n",
       "      <td>32382</td>\n",
       "      <td>6075</td>\n",
       "    </tr>\n",
       "    <tr>\n",
       "      <th>2</th>\n",
       "      <td>891815181378084864</td>\n",
       "      <td>24381</td>\n",
       "      <td>4017</td>\n",
       "    </tr>\n",
       "    <tr>\n",
       "      <th>3</th>\n",
       "      <td>891689557279858688</td>\n",
       "      <td>41016</td>\n",
       "      <td>8370</td>\n",
       "    </tr>\n",
       "    <tr>\n",
       "      <th>4</th>\n",
       "      <td>891327558926688256</td>\n",
       "      <td>39206</td>\n",
       "      <td>9075</td>\n",
       "    </tr>\n",
       "  </tbody>\n",
       "</table>\n",
       "</div>"
      ],
      "text/plain": [
       "                   id  favorite_count  retweet_count\n",
       "0  892420643555336193           37702           8217\n",
       "1  892177421306343426           32382           6075\n",
       "2  891815181378084864           24381           4017\n",
       "3  891689557279858688           41016           8370\n",
       "4  891327558926688256           39206           9075"
      ]
     },
     "execution_count": 302,
     "metadata": {},
     "output_type": "execute_result"
    }
   ],
   "source": [
    "df_tweepy_clean_extracted.head()"
   ]
  },
  {
   "cell_type": "code",
   "execution_count": 303,
   "metadata": {},
   "outputs": [
    {
     "name": "stdout",
     "output_type": "stream",
     "text": [
      "<class 'pandas.core.frame.DataFrame'>\n",
      "Int64Index: 2066 entries, 0 to 2338\n",
      "Data columns (total 3 columns):\n",
      "id                2066 non-null int64\n",
      "favorite_count    2066 non-null int64\n",
      "retweet_count     2066 non-null int64\n",
      "dtypes: int64(3)\n",
      "memory usage: 64.6 KB\n"
     ]
    }
   ],
   "source": [
    "df_tweepy_clean_extracted.info()"
   ]
  },
  {
   "cell_type": "code",
   "execution_count": 663,
   "metadata": {},
   "outputs": [
    {
     "name": "stdout",
     "output_type": "stream",
     "text": [
      "<class 'pandas.core.frame.DataFrame'>\n",
      "Int64Index: 2066 entries, 0 to 2338\n",
      "Data columns (total 3 columns):\n",
      "tweet_id          2066 non-null int64\n",
      "favorite_count    2066 non-null int64\n",
      "retweet_count     2066 non-null int64\n",
      "dtypes: int64(3)\n",
      "memory usage: 64.6 KB\n"
     ]
    },
    {
     "name": "stderr",
     "output_type": "stream",
     "text": [
      "/Users/RinkaLaOne/anaconda3/lib/python3.7/site-packages/pandas/core/frame.py:3781: SettingWithCopyWarning: \n",
      "A value is trying to be set on a copy of a slice from a DataFrame\n",
      "\n",
      "See the caveats in the documentation: http://pandas.pydata.org/pandas-docs/stable/indexing.html#indexing-view-versus-copy\n",
      "  return super(DataFrame, self).rename(**kwargs)\n"
     ]
    }
   ],
   "source": [
    "# change the column name from 'id' to 'tweet_id', in the tweepy Dataframe\n",
    "# to merge on the same column:\n",
    "df_tweepy_clean_extracted.rename(columns={'id':'tweet_id'}, inplace=True)\n",
    "df_tweepy_clean_extracted.info()\n"
   ]
  },
  {
   "cell_type": "code",
   "execution_count": 305,
   "metadata": {},
   "outputs": [],
   "source": [
    "# Merge the extracted tweepy Dataframe with the Archive:\n",
    "df_archive_clean = pd.merge(df_archive_clean, df_tweepy_clean_extracted, on='tweet_id', \\\n",
    "                             how='left')"
   ]
  },
  {
   "cell_type": "markdown",
   "metadata": {},
   "source": [
    "#### Test:"
   ]
  },
  {
   "cell_type": "code",
   "execution_count": 306,
   "metadata": {},
   "outputs": [
    {
     "name": "stdout",
     "output_type": "stream",
     "text": [
      "<class 'pandas.core.frame.DataFrame'>\n",
      "Int64Index: 2066 entries, 0 to 2065\n",
      "Data columns (total 15 columns):\n",
      "tweet_id                    2066 non-null int64\n",
      "timestamp                   2066 non-null object\n",
      "text                        2066 non-null object\n",
      "retweeted_status_id         75 non-null float64\n",
      "retweeted_status_user_id    75 non-null float64\n",
      "expanded_urls               2066 non-null object\n",
      "rating_numerator            2066 non-null int64\n",
      "rating_denominator          2066 non-null int64\n",
      "name                        2066 non-null object\n",
      "doggo                       2066 non-null object\n",
      "floofer                     2066 non-null object\n",
      "pupper                      2066 non-null object\n",
      "puppo                       2066 non-null object\n",
      "favorite_count              2066 non-null int64\n",
      "retweet_count               2066 non-null int64\n",
      "dtypes: float64(2), int64(5), object(8)\n",
      "memory usage: 258.2+ KB\n"
     ]
    }
   ],
   "source": [
    "df_archive_clean.info()"
   ]
  },
  {
   "cell_type": "code",
   "execution_count": 307,
   "metadata": {},
   "outputs": [
    {
     "data": {
      "text/html": [
       "<div>\n",
       "<style scoped>\n",
       "    .dataframe tbody tr th:only-of-type {\n",
       "        vertical-align: middle;\n",
       "    }\n",
       "\n",
       "    .dataframe tbody tr th {\n",
       "        vertical-align: top;\n",
       "    }\n",
       "\n",
       "    .dataframe thead th {\n",
       "        text-align: right;\n",
       "    }\n",
       "</style>\n",
       "<table border=\"1\" class=\"dataframe\">\n",
       "  <thead>\n",
       "    <tr style=\"text-align: right;\">\n",
       "      <th></th>\n",
       "      <th>tweet_id</th>\n",
       "      <th>timestamp</th>\n",
       "      <th>text</th>\n",
       "      <th>retweeted_status_id</th>\n",
       "      <th>retweeted_status_user_id</th>\n",
       "      <th>expanded_urls</th>\n",
       "      <th>rating_numerator</th>\n",
       "      <th>rating_denominator</th>\n",
       "      <th>name</th>\n",
       "      <th>doggo</th>\n",
       "      <th>floofer</th>\n",
       "      <th>pupper</th>\n",
       "      <th>puppo</th>\n",
       "      <th>favorite_count</th>\n",
       "      <th>retweet_count</th>\n",
       "    </tr>\n",
       "  </thead>\n",
       "  <tbody>\n",
       "    <tr>\n",
       "      <th>0</th>\n",
       "      <td>892420643555336193</td>\n",
       "      <td>2017-08-01 16:23:56 +0000</td>\n",
       "      <td>This is Phineas. He's a mystical boy. Only eve...</td>\n",
       "      <td>NaN</td>\n",
       "      <td>NaN</td>\n",
       "      <td>https://twitter.com/dog_rates/status/892420643...</td>\n",
       "      <td>13</td>\n",
       "      <td>10</td>\n",
       "      <td>Phineas</td>\n",
       "      <td>None</td>\n",
       "      <td>None</td>\n",
       "      <td>None</td>\n",
       "      <td>None</td>\n",
       "      <td>37702</td>\n",
       "      <td>8217</td>\n",
       "    </tr>\n",
       "    <tr>\n",
       "      <th>1</th>\n",
       "      <td>892177421306343426</td>\n",
       "      <td>2017-08-01 00:17:27 +0000</td>\n",
       "      <td>This is Tilly. She's just checking pup on you....</td>\n",
       "      <td>NaN</td>\n",
       "      <td>NaN</td>\n",
       "      <td>https://twitter.com/dog_rates/status/892177421...</td>\n",
       "      <td>13</td>\n",
       "      <td>10</td>\n",
       "      <td>Tilly</td>\n",
       "      <td>None</td>\n",
       "      <td>None</td>\n",
       "      <td>None</td>\n",
       "      <td>None</td>\n",
       "      <td>32382</td>\n",
       "      <td>6075</td>\n",
       "    </tr>\n",
       "    <tr>\n",
       "      <th>2</th>\n",
       "      <td>891815181378084864</td>\n",
       "      <td>2017-07-31 00:18:03 +0000</td>\n",
       "      <td>This is Archie. He is a rare Norwegian Pouncin...</td>\n",
       "      <td>NaN</td>\n",
       "      <td>NaN</td>\n",
       "      <td>https://twitter.com/dog_rates/status/891815181...</td>\n",
       "      <td>12</td>\n",
       "      <td>10</td>\n",
       "      <td>Archie</td>\n",
       "      <td>None</td>\n",
       "      <td>None</td>\n",
       "      <td>None</td>\n",
       "      <td>None</td>\n",
       "      <td>24381</td>\n",
       "      <td>4017</td>\n",
       "    </tr>\n",
       "    <tr>\n",
       "      <th>3</th>\n",
       "      <td>891689557279858688</td>\n",
       "      <td>2017-07-30 15:58:51 +0000</td>\n",
       "      <td>This is Darla. She commenced a snooze mid meal...</td>\n",
       "      <td>NaN</td>\n",
       "      <td>NaN</td>\n",
       "      <td>https://twitter.com/dog_rates/status/891689557...</td>\n",
       "      <td>13</td>\n",
       "      <td>10</td>\n",
       "      <td>Darla</td>\n",
       "      <td>None</td>\n",
       "      <td>None</td>\n",
       "      <td>None</td>\n",
       "      <td>None</td>\n",
       "      <td>41016</td>\n",
       "      <td>8370</td>\n",
       "    </tr>\n",
       "    <tr>\n",
       "      <th>4</th>\n",
       "      <td>891327558926688256</td>\n",
       "      <td>2017-07-29 16:00:24 +0000</td>\n",
       "      <td>This is Franklin. He would like you to stop ca...</td>\n",
       "      <td>NaN</td>\n",
       "      <td>NaN</td>\n",
       "      <td>https://twitter.com/dog_rates/status/891327558...</td>\n",
       "      <td>12</td>\n",
       "      <td>10</td>\n",
       "      <td>Franklin</td>\n",
       "      <td>None</td>\n",
       "      <td>None</td>\n",
       "      <td>None</td>\n",
       "      <td>None</td>\n",
       "      <td>39206</td>\n",
       "      <td>9075</td>\n",
       "    </tr>\n",
       "  </tbody>\n",
       "</table>\n",
       "</div>"
      ],
      "text/plain": [
       "             tweet_id                  timestamp  \\\n",
       "0  892420643555336193  2017-08-01 16:23:56 +0000   \n",
       "1  892177421306343426  2017-08-01 00:17:27 +0000   \n",
       "2  891815181378084864  2017-07-31 00:18:03 +0000   \n",
       "3  891689557279858688  2017-07-30 15:58:51 +0000   \n",
       "4  891327558926688256  2017-07-29 16:00:24 +0000   \n",
       "\n",
       "                                                text  retweeted_status_id  \\\n",
       "0  This is Phineas. He's a mystical boy. Only eve...                  NaN   \n",
       "1  This is Tilly. She's just checking pup on you....                  NaN   \n",
       "2  This is Archie. He is a rare Norwegian Pouncin...                  NaN   \n",
       "3  This is Darla. She commenced a snooze mid meal...                  NaN   \n",
       "4  This is Franklin. He would like you to stop ca...                  NaN   \n",
       "\n",
       "   retweeted_status_user_id  \\\n",
       "0                       NaN   \n",
       "1                       NaN   \n",
       "2                       NaN   \n",
       "3                       NaN   \n",
       "4                       NaN   \n",
       "\n",
       "                                       expanded_urls  rating_numerator  \\\n",
       "0  https://twitter.com/dog_rates/status/892420643...                13   \n",
       "1  https://twitter.com/dog_rates/status/892177421...                13   \n",
       "2  https://twitter.com/dog_rates/status/891815181...                12   \n",
       "3  https://twitter.com/dog_rates/status/891689557...                13   \n",
       "4  https://twitter.com/dog_rates/status/891327558...                12   \n",
       "\n",
       "   rating_denominator      name doggo floofer pupper puppo  favorite_count  \\\n",
       "0                  10   Phineas  None    None   None  None           37702   \n",
       "1                  10     Tilly  None    None   None  None           32382   \n",
       "2                  10    Archie  None    None   None  None           24381   \n",
       "3                  10     Darla  None    None   None  None           41016   \n",
       "4                  10  Franklin  None    None   None  None           39206   \n",
       "\n",
       "   retweet_count  \n",
       "0           8217  \n",
       "1           6075  \n",
       "2           4017  \n",
       "3           8370  \n",
       "4           9075  "
      ]
     },
     "execution_count": 307,
     "metadata": {},
     "output_type": "execute_result"
    }
   ],
   "source": [
    "df_archive_clean.head()"
   ]
  },
  {
   "cell_type": "markdown",
   "metadata": {},
   "source": [
    "#### Tidiness Issue in the Archive: 2. The values corresponding to the \"dog stage\" Variable is contained in four columns: \"doggo\", \"pupper\", \"puppo\", \"fluffer\""
   ]
  },
  {
   "cell_type": "markdown",
   "metadata": {},
   "source": [
    "#### Define:\n",
    "Parse the dog stage from the Text of each Tweet and add the value in a new Column 'dog_stage'. Drop the old Columns: \"doggo\", \"pupper\", \"puppo\", \"fluffer\". \n",
    "\n",
    "The distinct Values for the possible dog_stages are the four unique values: 'doggo', 'floofer', 'pupper', 'puppo', the value 'Multiple' when more than one stage is found in the text(the most plausible reason being that there are more than one Dog in this tweet), or 'None', when no dog_stage(s) was/were found. "
   ]
  },
  {
   "cell_type": "markdown",
   "metadata": {},
   "source": [
    "#### Code:"
   ]
  },
  {
   "cell_type": "code",
   "execution_count": 308,
   "metadata": {},
   "outputs": [],
   "source": [
    "dogs_stages= ['doggo', 'floofer', 'pupper', 'puppo']\n",
    "\n",
    "def parse_dog_stages(text):\n",
    "    stages = ' , '.join([stage for stage in dogs_stages if stage in text])\n",
    "    if ',' in stages:\n",
    "        return 'Multiple'\n",
    "    if stages:\n",
    "        return stages.capitalize()\n",
    "    else:\n",
    "        return 'None'\n",
    "    \n",
    "df_archive_clean['dog_stage'] = df_archive_clean.text.map(parse_dog_stages)\n",
    "df_archive_clean.drop(columns=['doggo', 'floofer', 'pupper', 'puppo'], inplace=True)"
   ]
  },
  {
   "cell_type": "markdown",
   "metadata": {},
   "source": [
    "#### Test:"
   ]
  },
  {
   "cell_type": "code",
   "execution_count": 309,
   "metadata": {},
   "outputs": [
    {
     "name": "stdout",
     "output_type": "stream",
     "text": [
      "<class 'pandas.core.frame.DataFrame'>\n",
      "Int64Index: 2066 entries, 0 to 2065\n",
      "Data columns (total 12 columns):\n",
      "tweet_id                    2066 non-null int64\n",
      "timestamp                   2066 non-null object\n",
      "text                        2066 non-null object\n",
      "retweeted_status_id         75 non-null float64\n",
      "retweeted_status_user_id    75 non-null float64\n",
      "expanded_urls               2066 non-null object\n",
      "rating_numerator            2066 non-null int64\n",
      "rating_denominator          2066 non-null int64\n",
      "name                        2066 non-null object\n",
      "favorite_count              2066 non-null int64\n",
      "retweet_count               2066 non-null int64\n",
      "dog_stage                   2066 non-null object\n",
      "dtypes: float64(2), int64(5), object(5)\n",
      "memory usage: 209.8+ KB\n"
     ]
    }
   ],
   "source": [
    "df_archive_clean.info()"
   ]
  },
  {
   "cell_type": "code",
   "execution_count": 310,
   "metadata": {},
   "outputs": [
    {
     "data": {
      "text/plain": [
       "None        1728\n",
       "Pupper       228\n",
       "Doggo         68\n",
       "Puppo         27\n",
       "Multiple      12\n",
       "Floofer        3\n",
       "Name: dog_stage, dtype: int64"
      ]
     },
     "execution_count": 310,
     "metadata": {},
     "output_type": "execute_result"
    }
   ],
   "source": [
    "df_archive_clean.dog_stage.value_counts()"
   ]
  },
  {
   "cell_type": "markdown",
   "metadata": {},
   "source": [
    "#### Tidiness Issue in the Prediction Dataframe: 4. There are three columns for one Variable, holding the predicted breed of dog."
   ]
  },
  {
   "cell_type": "markdown",
   "metadata": {},
   "source": [
    "*For solving this Issue, we first need to drop all the Rows that are not representing dogs (i.e. for which, all 3 Predictions of recognizing a dog in the picture were false)*\n",
    "\n",
    "This also mean, we first need to solve the **Quality Issue #10: \"Some tweets do not represent dogs\".**"
   ]
  },
  {
   "cell_type": "markdown",
   "metadata": {},
   "source": [
    "#### Define:\n",
    "Drop all Records from the Prediction Table where all three \"px_isdog\" are False (where x=1,2,3)."
   ]
  },
  {
   "cell_type": "markdown",
   "metadata": {},
   "source": [
    "#### Code:"
   ]
  },
  {
   "cell_type": "code",
   "execution_count": 311,
   "metadata": {},
   "outputs": [
    {
     "name": "stdout",
     "output_type": "stream",
     "text": [
      "<class 'pandas.core.frame.DataFrame'>\n",
      "Int64Index: 2066 entries, 0 to 2074\n",
      "Data columns (total 13 columns):\n",
      "tweet_id    2066 non-null int64\n",
      "jpg_url     2066 non-null object\n",
      "img_num     2066 non-null int64\n",
      "p1          2066 non-null object\n",
      "p1_conf     2066 non-null float64\n",
      "p1_dog      2066 non-null bool\n",
      "p2          2066 non-null object\n",
      "p2_conf     2066 non-null float64\n",
      "p2_dog      2066 non-null bool\n",
      "p3          2066 non-null object\n",
      "p3_conf     2066 non-null float64\n",
      "p3_dog      2066 non-null bool\n",
      "is_dog      2066 non-null bool\n",
      "dtypes: bool(4), float64(3), int64(2), object(4)\n",
      "memory usage: 169.5+ KB\n"
     ]
    }
   ],
   "source": [
    "df_images_clean.info()"
   ]
  },
  {
   "cell_type": "code",
   "execution_count": 312,
   "metadata": {},
   "outputs": [
    {
     "data": {
      "text/plain": [
       "True     1743\n",
       "False     323\n",
       "Name: is_dog, dtype: int64"
      ]
     },
     "execution_count": 312,
     "metadata": {},
     "output_type": "execute_result"
    }
   ],
   "source": [
    "df_images_clean.is_dog.value_counts()"
   ]
  },
  {
   "cell_type": "code",
   "execution_count": 313,
   "metadata": {},
   "outputs": [],
   "source": [
    "df_images_clean = df_images_clean.query('is_dog == True')"
   ]
  },
  {
   "cell_type": "markdown",
   "metadata": {},
   "source": [
    "#### Test:"
   ]
  },
  {
   "cell_type": "code",
   "execution_count": 314,
   "metadata": {},
   "outputs": [
    {
     "data": {
      "text/plain": [
       "True    1743\n",
       "Name: is_dog, dtype: int64"
      ]
     },
     "execution_count": 314,
     "metadata": {},
     "output_type": "execute_result"
    }
   ],
   "source": [
    "df_images_clean.is_dog.value_counts()"
   ]
  },
  {
   "cell_type": "markdown",
   "metadata": {},
   "source": [
    "#### Now we can solve the Tidiness Issue #4:"
   ]
  },
  {
   "cell_type": "markdown",
   "metadata": {},
   "source": [
    "#### Define: \n",
    "Add a new Column 'best_predicted_breed', containing the breed of each Record, for the highest Prediction Confidence, when a Dog was recognized in the Picture.<br>\n",
    "We write a function to apply on each row, to retrieve \"px\", the Breed, where \"px_isdog\" is true and px_conf = max(p1_conf,p2_conf,p3_conf).\n"
   ]
  },
  {
   "cell_type": "markdown",
   "metadata": {},
   "source": [
    "#### Code:"
   ]
  },
  {
   "cell_type": "code",
   "execution_count": 315,
   "metadata": {},
   "outputs": [],
   "source": [
    "def get_best_predicted_breed(row):\n",
    "    breeds = []\n",
    "    predictions = []\n",
    "    if (row['p1_dog']):\n",
    "        breeds.append(row['p1'])\n",
    "        predictions.append(row['p1_conf'])\n",
    "    if (row['p2_dog']):\n",
    "        breeds.append(row['p2'])\n",
    "        predictions.append(row['p2_conf'])\n",
    "    if (row['p3_dog']):\n",
    "        breeds.append(row['p3'])\n",
    "        predictions.append(row['p3_conf'])\n",
    "    #index_max = predictions.index(max(predictions))\n",
    "    return breeds[0] # since p1_conf > p2_conf > p3_conf and the order in which we append\n",
    "    # the values, the breed for the highest confidence is always at index 0."
   ]
  },
  {
   "cell_type": "code",
   "execution_count": 316,
   "metadata": {},
   "outputs": [],
   "source": [
    "df_images_clean.loc[:, 'best_predicted_breed'] = df_images_clean.apply(get_best_predicted_breed, axis=1)"
   ]
  },
  {
   "cell_type": "markdown",
   "metadata": {},
   "source": [
    "#### Test:"
   ]
  },
  {
   "cell_type": "code",
   "execution_count": 317,
   "metadata": {},
   "outputs": [
    {
     "data": {
      "text/html": [
       "<div>\n",
       "<style scoped>\n",
       "    .dataframe tbody tr th:only-of-type {\n",
       "        vertical-align: middle;\n",
       "    }\n",
       "\n",
       "    .dataframe tbody tr th {\n",
       "        vertical-align: top;\n",
       "    }\n",
       "\n",
       "    .dataframe thead th {\n",
       "        text-align: right;\n",
       "    }\n",
       "</style>\n",
       "<table border=\"1\" class=\"dataframe\">\n",
       "  <thead>\n",
       "    <tr style=\"text-align: right;\">\n",
       "      <th></th>\n",
       "      <th>tweet_id</th>\n",
       "      <th>jpg_url</th>\n",
       "      <th>img_num</th>\n",
       "      <th>p1</th>\n",
       "      <th>p1_conf</th>\n",
       "      <th>p1_dog</th>\n",
       "      <th>p2</th>\n",
       "      <th>p2_conf</th>\n",
       "      <th>p2_dog</th>\n",
       "      <th>p3</th>\n",
       "      <th>p3_conf</th>\n",
       "      <th>p3_dog</th>\n",
       "      <th>is_dog</th>\n",
       "      <th>best_predicted_breed</th>\n",
       "    </tr>\n",
       "  </thead>\n",
       "  <tbody>\n",
       "    <tr>\n",
       "      <th>1942</th>\n",
       "      <td>861288531465048066</td>\n",
       "      <td>https://pbs.twimg.com/ext_tw_video_thumb/86128...</td>\n",
       "      <td>1</td>\n",
       "      <td>syringe</td>\n",
       "      <td>0.144712</td>\n",
       "      <td>False</td>\n",
       "      <td>oxygen_mask</td>\n",
       "      <td>0.106684</td>\n",
       "      <td>False</td>\n",
       "      <td>Bouvier_des_Flandres</td>\n",
       "      <td>0.082610</td>\n",
       "      <td>True</td>\n",
       "      <td>True</td>\n",
       "      <td>Bouvier_des_Flandres</td>\n",
       "    </tr>\n",
       "    <tr>\n",
       "      <th>281</th>\n",
       "      <td>671122204919246848</td>\n",
       "      <td>https://pbs.twimg.com/media/CVBOFTLWwAAzlNi.jpg</td>\n",
       "      <td>1</td>\n",
       "      <td>goose</td>\n",
       "      <td>0.351957</td>\n",
       "      <td>False</td>\n",
       "      <td>Chihuahua</td>\n",
       "      <td>0.101228</td>\n",
       "      <td>True</td>\n",
       "      <td>hen</td>\n",
       "      <td>0.065818</td>\n",
       "      <td>False</td>\n",
       "      <td>True</td>\n",
       "      <td>Chihuahua</td>\n",
       "    </tr>\n",
       "    <tr>\n",
       "      <th>1046</th>\n",
       "      <td>713175907180089344</td>\n",
       "      <td>https://pbs.twimg.com/media/CeW1tERWAAAA9Q2.jpg</td>\n",
       "      <td>1</td>\n",
       "      <td>timber_wolf</td>\n",
       "      <td>0.503788</td>\n",
       "      <td>False</td>\n",
       "      <td>malamute</td>\n",
       "      <td>0.430624</td>\n",
       "      <td>True</td>\n",
       "      <td>Siberian_husky</td>\n",
       "      <td>0.028454</td>\n",
       "      <td>True</td>\n",
       "      <td>True</td>\n",
       "      <td>malamute</td>\n",
       "    </tr>\n",
       "    <tr>\n",
       "      <th>1539</th>\n",
       "      <td>790946055508652032</td>\n",
       "      <td>https://pbs.twimg.com/media/CvoBPWRWgAA4het.jpg</td>\n",
       "      <td>1</td>\n",
       "      <td>dishwasher</td>\n",
       "      <td>0.700466</td>\n",
       "      <td>False</td>\n",
       "      <td>golden_retriever</td>\n",
       "      <td>0.245773</td>\n",
       "      <td>True</td>\n",
       "      <td>chow</td>\n",
       "      <td>0.039012</td>\n",
       "      <td>True</td>\n",
       "      <td>True</td>\n",
       "      <td>golden_retriever</td>\n",
       "    </tr>\n",
       "    <tr>\n",
       "      <th>1334</th>\n",
       "      <td>757741869644341248</td>\n",
       "      <td>https://pbs.twimg.com/media/CoQKNY7XYAE_cuX.jpg</td>\n",
       "      <td>1</td>\n",
       "      <td>skunk</td>\n",
       "      <td>0.609715</td>\n",
       "      <td>False</td>\n",
       "      <td>Old_English_sheepdog</td>\n",
       "      <td>0.128899</td>\n",
       "      <td>True</td>\n",
       "      <td>Siberian_husky</td>\n",
       "      <td>0.019076</td>\n",
       "      <td>True</td>\n",
       "      <td>True</td>\n",
       "      <td>Old_English_sheepdog</td>\n",
       "    </tr>\n",
       "  </tbody>\n",
       "</table>\n",
       "</div>"
      ],
      "text/plain": [
       "                tweet_id                                            jpg_url  \\\n",
       "1942  861288531465048066  https://pbs.twimg.com/ext_tw_video_thumb/86128...   \n",
       "281   671122204919246848    https://pbs.twimg.com/media/CVBOFTLWwAAzlNi.jpg   \n",
       "1046  713175907180089344    https://pbs.twimg.com/media/CeW1tERWAAAA9Q2.jpg   \n",
       "1539  790946055508652032    https://pbs.twimg.com/media/CvoBPWRWgAA4het.jpg   \n",
       "1334  757741869644341248    https://pbs.twimg.com/media/CoQKNY7XYAE_cuX.jpg   \n",
       "\n",
       "      img_num           p1   p1_conf  p1_dog                    p2   p2_conf  \\\n",
       "1942        1      syringe  0.144712   False           oxygen_mask  0.106684   \n",
       "281         1        goose  0.351957   False             Chihuahua  0.101228   \n",
       "1046        1  timber_wolf  0.503788   False              malamute  0.430624   \n",
       "1539        1   dishwasher  0.700466   False      golden_retriever  0.245773   \n",
       "1334        1        skunk  0.609715   False  Old_English_sheepdog  0.128899   \n",
       "\n",
       "      p2_dog                    p3   p3_conf  p3_dog  is_dog  \\\n",
       "1942   False  Bouvier_des_Flandres  0.082610    True    True   \n",
       "281     True                   hen  0.065818   False    True   \n",
       "1046    True        Siberian_husky  0.028454    True    True   \n",
       "1539    True                  chow  0.039012    True    True   \n",
       "1334    True        Siberian_husky  0.019076    True    True   \n",
       "\n",
       "      best_predicted_breed  \n",
       "1942  Bouvier_des_Flandres  \n",
       "281              Chihuahua  \n",
       "1046              malamute  \n",
       "1539      golden_retriever  \n",
       "1334  Old_English_sheepdog  "
      ]
     },
     "execution_count": 317,
     "metadata": {},
     "output_type": "execute_result"
    }
   ],
   "source": [
    "df_images_clean[df_images_clean.p1_dog == False].sample(5)"
   ]
  },
  {
   "cell_type": "code",
   "execution_count": 318,
   "metadata": {},
   "outputs": [
    {
     "data": {
      "text/plain": [
       "golden_retriever      173\n",
       "Labrador_retriever    112\n",
       "Pembroke               95\n",
       "Chihuahua              93\n",
       "pug                    65\n",
       "toy_poodle             52\n",
       "chow                   51\n",
       "Samoyed                45\n",
       "Pomeranian             42\n",
       "malamute               34\n",
       "Name: best_predicted_breed, dtype: int64"
      ]
     },
     "execution_count": 318,
     "metadata": {},
     "output_type": "execute_result"
    }
   ],
   "source": [
    "df_images_clean.best_predicted_breed.value_counts()[:10]"
   ]
  },
  {
   "cell_type": "markdown",
   "metadata": {},
   "source": [
    "#### Tidiness Issue in the Prediction Table: 5. The \"best predicted breed\" Column should be added to our Master Dataframe. "
   ]
  },
  {
   "cell_type": "markdown",
   "metadata": {},
   "source": [
    "Each observational Unit should be in the same Table. The 'best_predicted_breed' and 'jpg_url' are the two variables, from the Prediction Table, both giving valuable Information about a Tweet, that we want to add to the Archive. "
   ]
  },
  {
   "cell_type": "markdown",
   "metadata": {},
   "source": [
    "#### Define:\n",
    "Extract the Columns 'tweet_id', 'best_predicted_breed' and 'jpg_url' from the Prediction Table and merge the resulting Dataframe with the Archive, on the 'tweet_id' Column."
   ]
  },
  {
   "cell_type": "markdown",
   "metadata": {},
   "source": [
    "*Note that we only want Tweets representing Dogs in the Archive, (Quality Issue #10), so merging on 'the tweet-id' Column of the Prediction Table, will assure that the unwanted Tweets will be removed from the Archive.*"
   ]
  },
  {
   "cell_type": "markdown",
   "metadata": {},
   "source": [
    "#### Code:"
   ]
  },
  {
   "cell_type": "code",
   "execution_count": 319,
   "metadata": {},
   "outputs": [],
   "source": [
    "df_images_clean_extracted = df_images_clean[['tweet_id', 'best_predicted_breed', 'jpg_url']]"
   ]
  },
  {
   "cell_type": "code",
   "execution_count": 320,
   "metadata": {},
   "outputs": [
    {
     "data": {
      "text/html": [
       "<div>\n",
       "<style scoped>\n",
       "    .dataframe tbody tr th:only-of-type {\n",
       "        vertical-align: middle;\n",
       "    }\n",
       "\n",
       "    .dataframe tbody tr th {\n",
       "        vertical-align: top;\n",
       "    }\n",
       "\n",
       "    .dataframe thead th {\n",
       "        text-align: right;\n",
       "    }\n",
       "</style>\n",
       "<table border=\"1\" class=\"dataframe\">\n",
       "  <thead>\n",
       "    <tr style=\"text-align: right;\">\n",
       "      <th></th>\n",
       "      <th>tweet_id</th>\n",
       "      <th>best_predicted_breed</th>\n",
       "      <th>jpg_url</th>\n",
       "    </tr>\n",
       "  </thead>\n",
       "  <tbody>\n",
       "    <tr>\n",
       "      <th>0</th>\n",
       "      <td>666020888022790149</td>\n",
       "      <td>Welsh_springer_spaniel</td>\n",
       "      <td>https://pbs.twimg.com/media/CT4udn0WwAA0aMy.jpg</td>\n",
       "    </tr>\n",
       "    <tr>\n",
       "      <th>1</th>\n",
       "      <td>666029285002620928</td>\n",
       "      <td>redbone</td>\n",
       "      <td>https://pbs.twimg.com/media/CT42GRgUYAA5iDo.jpg</td>\n",
       "    </tr>\n",
       "    <tr>\n",
       "      <th>2</th>\n",
       "      <td>666033412701032449</td>\n",
       "      <td>German_shepherd</td>\n",
       "      <td>https://pbs.twimg.com/media/CT4521TWwAEvMyu.jpg</td>\n",
       "    </tr>\n",
       "    <tr>\n",
       "      <th>3</th>\n",
       "      <td>666044226329800704</td>\n",
       "      <td>Rhodesian_ridgeback</td>\n",
       "      <td>https://pbs.twimg.com/media/CT5Dr8HUEAA-lEu.jpg</td>\n",
       "    </tr>\n",
       "    <tr>\n",
       "      <th>4</th>\n",
       "      <td>666049248165822465</td>\n",
       "      <td>miniature_pinscher</td>\n",
       "      <td>https://pbs.twimg.com/media/CT5IQmsXIAAKY4A.jpg</td>\n",
       "    </tr>\n",
       "  </tbody>\n",
       "</table>\n",
       "</div>"
      ],
      "text/plain": [
       "             tweet_id    best_predicted_breed  \\\n",
       "0  666020888022790149  Welsh_springer_spaniel   \n",
       "1  666029285002620928                 redbone   \n",
       "2  666033412701032449         German_shepherd   \n",
       "3  666044226329800704     Rhodesian_ridgeback   \n",
       "4  666049248165822465      miniature_pinscher   \n",
       "\n",
       "                                           jpg_url  \n",
       "0  https://pbs.twimg.com/media/CT4udn0WwAA0aMy.jpg  \n",
       "1  https://pbs.twimg.com/media/CT42GRgUYAA5iDo.jpg  \n",
       "2  https://pbs.twimg.com/media/CT4521TWwAEvMyu.jpg  \n",
       "3  https://pbs.twimg.com/media/CT5Dr8HUEAA-lEu.jpg  \n",
       "4  https://pbs.twimg.com/media/CT5IQmsXIAAKY4A.jpg  "
      ]
     },
     "execution_count": 320,
     "metadata": {},
     "output_type": "execute_result"
    }
   ],
   "source": [
    "df_images_clean_extracted.head()"
   ]
  },
  {
   "cell_type": "code",
   "execution_count": 321,
   "metadata": {},
   "outputs": [],
   "source": [
    "# merge the archive with the extracted Dataframe\n",
    "df_archive_clean = pd.merge(df_archive_clean, df_images_clean_extracted, on='tweet_id', how='right')"
   ]
  },
  {
   "cell_type": "markdown",
   "metadata": {},
   "source": [
    "#### Test:"
   ]
  },
  {
   "cell_type": "code",
   "execution_count": 322,
   "metadata": {},
   "outputs": [
    {
     "data": {
      "text/plain": [
       "(1743, 14)"
      ]
     },
     "execution_count": 322,
     "metadata": {},
     "output_type": "execute_result"
    }
   ],
   "source": [
    "df_archive_clean.shape"
   ]
  },
  {
   "cell_type": "markdown",
   "metadata": {},
   "source": [
    "There are the same number of rows in the Archive, than on the cleaned Prediction Table."
   ]
  },
  {
   "cell_type": "code",
   "execution_count": 323,
   "metadata": {},
   "outputs": [
    {
     "data": {
      "text/html": [
       "<div>\n",
       "<style scoped>\n",
       "    .dataframe tbody tr th:only-of-type {\n",
       "        vertical-align: middle;\n",
       "    }\n",
       "\n",
       "    .dataframe tbody tr th {\n",
       "        vertical-align: top;\n",
       "    }\n",
       "\n",
       "    .dataframe thead th {\n",
       "        text-align: right;\n",
       "    }\n",
       "</style>\n",
       "<table border=\"1\" class=\"dataframe\">\n",
       "  <thead>\n",
       "    <tr style=\"text-align: right;\">\n",
       "      <th></th>\n",
       "      <th>tweet_id</th>\n",
       "      <th>timestamp</th>\n",
       "      <th>text</th>\n",
       "      <th>retweeted_status_id</th>\n",
       "      <th>retweeted_status_user_id</th>\n",
       "      <th>expanded_urls</th>\n",
       "      <th>rating_numerator</th>\n",
       "      <th>rating_denominator</th>\n",
       "      <th>name</th>\n",
       "      <th>favorite_count</th>\n",
       "      <th>retweet_count</th>\n",
       "      <th>dog_stage</th>\n",
       "      <th>best_predicted_breed</th>\n",
       "      <th>jpg_url</th>\n",
       "    </tr>\n",
       "  </thead>\n",
       "  <tbody>\n",
       "    <tr>\n",
       "      <th>0</th>\n",
       "      <td>892177421306343426</td>\n",
       "      <td>2017-08-01 00:17:27 +0000</td>\n",
       "      <td>This is Tilly. She's just checking pup on you....</td>\n",
       "      <td>NaN</td>\n",
       "      <td>NaN</td>\n",
       "      <td>https://twitter.com/dog_rates/status/892177421...</td>\n",
       "      <td>13</td>\n",
       "      <td>10</td>\n",
       "      <td>Tilly</td>\n",
       "      <td>32382</td>\n",
       "      <td>6075</td>\n",
       "      <td>None</td>\n",
       "      <td>Chihuahua</td>\n",
       "      <td>https://pbs.twimg.com/media/DGGmoV4XsAAUL6n.jpg</td>\n",
       "    </tr>\n",
       "    <tr>\n",
       "      <th>1</th>\n",
       "      <td>891815181378084864</td>\n",
       "      <td>2017-07-31 00:18:03 +0000</td>\n",
       "      <td>This is Archie. He is a rare Norwegian Pouncin...</td>\n",
       "      <td>NaN</td>\n",
       "      <td>NaN</td>\n",
       "      <td>https://twitter.com/dog_rates/status/891815181...</td>\n",
       "      <td>12</td>\n",
       "      <td>10</td>\n",
       "      <td>Archie</td>\n",
       "      <td>24381</td>\n",
       "      <td>4017</td>\n",
       "      <td>None</td>\n",
       "      <td>Chihuahua</td>\n",
       "      <td>https://pbs.twimg.com/media/DGBdLU1WsAANxJ9.jpg</td>\n",
       "    </tr>\n",
       "    <tr>\n",
       "      <th>2</th>\n",
       "      <td>891689557279858688</td>\n",
       "      <td>2017-07-30 15:58:51 +0000</td>\n",
       "      <td>This is Darla. She commenced a snooze mid meal...</td>\n",
       "      <td>NaN</td>\n",
       "      <td>NaN</td>\n",
       "      <td>https://twitter.com/dog_rates/status/891689557...</td>\n",
       "      <td>13</td>\n",
       "      <td>10</td>\n",
       "      <td>Darla</td>\n",
       "      <td>41016</td>\n",
       "      <td>8370</td>\n",
       "      <td>None</td>\n",
       "      <td>Labrador_retriever</td>\n",
       "      <td>https://pbs.twimg.com/media/DF_q7IAWsAEuuN8.jpg</td>\n",
       "    </tr>\n",
       "    <tr>\n",
       "      <th>3</th>\n",
       "      <td>891327558926688256</td>\n",
       "      <td>2017-07-29 16:00:24 +0000</td>\n",
       "      <td>This is Franklin. He would like you to stop ca...</td>\n",
       "      <td>NaN</td>\n",
       "      <td>NaN</td>\n",
       "      <td>https://twitter.com/dog_rates/status/891327558...</td>\n",
       "      <td>12</td>\n",
       "      <td>10</td>\n",
       "      <td>Franklin</td>\n",
       "      <td>39206</td>\n",
       "      <td>9075</td>\n",
       "      <td>None</td>\n",
       "      <td>basset</td>\n",
       "      <td>https://pbs.twimg.com/media/DF6hr6BUMAAzZgT.jpg</td>\n",
       "    </tr>\n",
       "    <tr>\n",
       "      <th>4</th>\n",
       "      <td>891087950875897856</td>\n",
       "      <td>2017-07-29 00:08:17 +0000</td>\n",
       "      <td>Here we have a majestic great white breaching ...</td>\n",
       "      <td>NaN</td>\n",
       "      <td>NaN</td>\n",
       "      <td>https://twitter.com/dog_rates/status/891087950...</td>\n",
       "      <td>13</td>\n",
       "      <td>10</td>\n",
       "      <td>None</td>\n",
       "      <td>19714</td>\n",
       "      <td>3010</td>\n",
       "      <td>None</td>\n",
       "      <td>Chesapeake_Bay_retriever</td>\n",
       "      <td>https://pbs.twimg.com/media/DF3HwyEWsAABqE6.jpg</td>\n",
       "    </tr>\n",
       "  </tbody>\n",
       "</table>\n",
       "</div>"
      ],
      "text/plain": [
       "             tweet_id                  timestamp  \\\n",
       "0  892177421306343426  2017-08-01 00:17:27 +0000   \n",
       "1  891815181378084864  2017-07-31 00:18:03 +0000   \n",
       "2  891689557279858688  2017-07-30 15:58:51 +0000   \n",
       "3  891327558926688256  2017-07-29 16:00:24 +0000   \n",
       "4  891087950875897856  2017-07-29 00:08:17 +0000   \n",
       "\n",
       "                                                text  retweeted_status_id  \\\n",
       "0  This is Tilly. She's just checking pup on you....                  NaN   \n",
       "1  This is Archie. He is a rare Norwegian Pouncin...                  NaN   \n",
       "2  This is Darla. She commenced a snooze mid meal...                  NaN   \n",
       "3  This is Franklin. He would like you to stop ca...                  NaN   \n",
       "4  Here we have a majestic great white breaching ...                  NaN   \n",
       "\n",
       "   retweeted_status_user_id  \\\n",
       "0                       NaN   \n",
       "1                       NaN   \n",
       "2                       NaN   \n",
       "3                       NaN   \n",
       "4                       NaN   \n",
       "\n",
       "                                       expanded_urls  rating_numerator  \\\n",
       "0  https://twitter.com/dog_rates/status/892177421...                13   \n",
       "1  https://twitter.com/dog_rates/status/891815181...                12   \n",
       "2  https://twitter.com/dog_rates/status/891689557...                13   \n",
       "3  https://twitter.com/dog_rates/status/891327558...                12   \n",
       "4  https://twitter.com/dog_rates/status/891087950...                13   \n",
       "\n",
       "   rating_denominator      name  favorite_count  retweet_count dog_stage  \\\n",
       "0                  10     Tilly           32382           6075      None   \n",
       "1                  10    Archie           24381           4017      None   \n",
       "2                  10     Darla           41016           8370      None   \n",
       "3                  10  Franklin           39206           9075      None   \n",
       "4                  10      None           19714           3010      None   \n",
       "\n",
       "       best_predicted_breed                                          jpg_url  \n",
       "0                 Chihuahua  https://pbs.twimg.com/media/DGGmoV4XsAAUL6n.jpg  \n",
       "1                 Chihuahua  https://pbs.twimg.com/media/DGBdLU1WsAANxJ9.jpg  \n",
       "2        Labrador_retriever  https://pbs.twimg.com/media/DF_q7IAWsAEuuN8.jpg  \n",
       "3                    basset  https://pbs.twimg.com/media/DF6hr6BUMAAzZgT.jpg  \n",
       "4  Chesapeake_Bay_retriever  https://pbs.twimg.com/media/DF3HwyEWsAABqE6.jpg  "
      ]
     },
     "execution_count": 323,
     "metadata": {},
     "output_type": "execute_result"
    }
   ],
   "source": [
    "df_archive_clean.head()"
   ]
  },
  {
   "cell_type": "markdown",
   "metadata": {},
   "source": [
    "#### Last Tidiness Issue: 1. The rating for each record is kept in two Columns 'rating_numerator' and 'rating_denominator'. We want the Rating Variable kept in one Column.\n",
    "\n",
    "*To solve this Issue, we first need to solve all the Quality Issues related to the \"Rating Columns\".*"
   ]
  },
  {
   "cell_type": "markdown",
   "metadata": {},
   "source": [
    "#### Quality Issue #6: the data type for the numerator should be a float, not an integer"
   ]
  },
  {
   "cell_type": "markdown",
   "metadata": {},
   "source": [
    "#### Define: \n",
    "Change the type of the 'rating_numerator' Column from int to float"
   ]
  },
  {
   "cell_type": "markdown",
   "metadata": {},
   "source": [
    "#### Code:"
   ]
  },
  {
   "cell_type": "code",
   "execution_count": 324,
   "metadata": {},
   "outputs": [
    {
     "data": {
      "text/plain": [
       "tweet_id                      int64\n",
       "timestamp                    object\n",
       "text                         object\n",
       "retweeted_status_id         float64\n",
       "retweeted_status_user_id    float64\n",
       "expanded_urls                object\n",
       "rating_numerator              int64\n",
       "rating_denominator            int64\n",
       "name                         object\n",
       "favorite_count                int64\n",
       "retweet_count                 int64\n",
       "dog_stage                    object\n",
       "best_predicted_breed         object\n",
       "jpg_url                      object\n",
       "dtype: object"
      ]
     },
     "execution_count": 324,
     "metadata": {},
     "output_type": "execute_result"
    }
   ],
   "source": [
    "df_archive_clean.dtypes"
   ]
  },
  {
   "cell_type": "code",
   "execution_count": 325,
   "metadata": {},
   "outputs": [],
   "source": [
    "df_archive_clean.rating_numerator = df_archive_clean.rating_numerator.astype('float64')"
   ]
  },
  {
   "cell_type": "markdown",
   "metadata": {},
   "source": [
    "#### Test:"
   ]
  },
  {
   "cell_type": "code",
   "execution_count": 326,
   "metadata": {},
   "outputs": [
    {
     "data": {
      "text/plain": [
       "tweet_id                      int64\n",
       "timestamp                    object\n",
       "text                         object\n",
       "retweeted_status_id         float64\n",
       "retweeted_status_user_id    float64\n",
       "expanded_urls                object\n",
       "rating_numerator            float64\n",
       "rating_denominator            int64\n",
       "name                         object\n",
       "favorite_count                int64\n",
       "retweet_count                 int64\n",
       "dog_stage                    object\n",
       "best_predicted_breed         object\n",
       "jpg_url                      object\n",
       "dtype: object"
      ]
     },
     "execution_count": 326,
     "metadata": {},
     "output_type": "execute_result"
    }
   ],
   "source": [
    "df_archive_clean.dtypes"
   ]
  },
  {
   "cell_type": "markdown",
   "metadata": {},
   "source": [
    "#### Quality Issue #5: The ratings were parsed from the Text with a Method that led to accuracy issues<br> and<br>Quality Issue #7: Some Ratings voluntary are 'fantasy' Values. "
   ]
  },
  {
   "cell_type": "markdown",
   "metadata": {},
   "source": [
    "#### Define:\n",
    "Extract the rating numerator and denominator from the text with a regular expression. The Numerator can be a float, it can take up to 2 digits. The Denominator must be '10'."
   ]
  },
  {
   "cell_type": "markdown",
   "metadata": {},
   "source": [
    "#### Code:"
   ]
  },
  {
   "cell_type": "code",
   "execution_count": 327,
   "metadata": {},
   "outputs": [],
   "source": [
    "res = pd.DataFrame()\n",
    "\n",
    "res = df_archive_clean.text.str.extract(r'(?P<num>\\d{1,2}\\.?\\d*)/10')\n"
   ]
  },
  {
   "cell_type": "code",
   "execution_count": 328,
   "metadata": {},
   "outputs": [
    {
     "data": {
      "text/html": [
       "<div>\n",
       "<style scoped>\n",
       "    .dataframe tbody tr th:only-of-type {\n",
       "        vertical-align: middle;\n",
       "    }\n",
       "\n",
       "    .dataframe tbody tr th {\n",
       "        vertical-align: top;\n",
       "    }\n",
       "\n",
       "    .dataframe thead th {\n",
       "        text-align: right;\n",
       "    }\n",
       "</style>\n",
       "<table border=\"1\" class=\"dataframe\">\n",
       "  <thead>\n",
       "    <tr style=\"text-align: right;\">\n",
       "      <th></th>\n",
       "      <th>num</th>\n",
       "    </tr>\n",
       "  </thead>\n",
       "  <tbody>\n",
       "    <tr>\n",
       "      <th>0</th>\n",
       "      <td>13</td>\n",
       "    </tr>\n",
       "    <tr>\n",
       "      <th>1</th>\n",
       "      <td>12</td>\n",
       "    </tr>\n",
       "    <tr>\n",
       "      <th>2</th>\n",
       "      <td>13</td>\n",
       "    </tr>\n",
       "    <tr>\n",
       "      <th>3</th>\n",
       "      <td>12</td>\n",
       "    </tr>\n",
       "    <tr>\n",
       "      <th>4</th>\n",
       "      <td>13</td>\n",
       "    </tr>\n",
       "  </tbody>\n",
       "</table>\n",
       "</div>"
      ],
      "text/plain": [
       "  num\n",
       "0  13\n",
       "1  12\n",
       "2  13\n",
       "3  12\n",
       "4  13"
      ]
     },
     "execution_count": 328,
     "metadata": {},
     "output_type": "execute_result"
    }
   ],
   "source": [
    "res.head()"
   ]
  },
  {
   "cell_type": "code",
   "execution_count": 329,
   "metadata": {},
   "outputs": [
    {
     "data": {
      "text/plain": [
       "(1743, 1)"
      ]
     },
     "execution_count": 329,
     "metadata": {},
     "output_type": "execute_result"
    }
   ],
   "source": [
    "res.shape"
   ]
  },
  {
   "cell_type": "code",
   "execution_count": 330,
   "metadata": {},
   "outputs": [
    {
     "data": {
      "text/plain": [
       "12       444\n",
       "11       371\n",
       "10       367\n",
       "13       244\n",
       "9        133\n",
       "8         68\n",
       "7         31\n",
       "14        26\n",
       "6         16\n",
       "5         13\n",
       "4          6\n",
       "3          5\n",
       "2          2\n",
       "11.26      1\n",
       "9.75       1\n",
       "11.27      1\n",
       "0          1\n",
       "13.5       1\n",
       "Name: num, dtype: int64"
      ]
     },
     "execution_count": 330,
     "metadata": {},
     "output_type": "execute_result"
    }
   ],
   "source": [
    "res.num.value_counts()"
   ]
  },
  {
   "cell_type": "code",
   "execution_count": 331,
   "metadata": {},
   "outputs": [
    {
     "name": "stdout",
     "output_type": "stream",
     "text": [
      "<class 'pandas.core.frame.DataFrame'>\n",
      "Int64Index: 1743 entries, 0 to 1742\n",
      "Data columns (total 1 columns):\n",
      "num    1731 non-null object\n",
      "dtypes: object(1)\n",
      "memory usage: 27.2+ KB\n"
     ]
    }
   ],
   "source": [
    "res.info()"
   ]
  },
  {
   "cell_type": "markdown",
   "metadata": {},
   "source": [
    "The rating numerators that are null, are indicating ratings in tweets, that does not follow the Scheme we want to hold on to, so we will drop these Records from the Archive Dataframe:"
   ]
  },
  {
   "cell_type": "code",
   "execution_count": 332,
   "metadata": {},
   "outputs": [
    {
     "data": {
      "text/plain": [
       "(1743, 14)"
      ]
     },
     "execution_count": 332,
     "metadata": {},
     "output_type": "execute_result"
    }
   ],
   "source": [
    "df_archive_clean.shape"
   ]
  },
  {
   "cell_type": "code",
   "execution_count": 333,
   "metadata": {},
   "outputs": [
    {
     "data": {
      "text/plain": [
       "(1731, 14)"
      ]
     },
     "execution_count": 333,
     "metadata": {},
     "output_type": "execute_result"
    }
   ],
   "source": [
    "df_archive_clean = df_archive_clean.loc[res.dropna().index]\n",
    "df_archive_clean.shape"
   ]
  },
  {
   "cell_type": "markdown",
   "metadata": {},
   "source": [
    "Now we can correct the values of the 'rating_numerator' Variable: "
   ]
  },
  {
   "cell_type": "code",
   "execution_count": 334,
   "metadata": {},
   "outputs": [],
   "source": [
    "df_archive_clean.loc[:, 'rating_numerator'] = res.num.astype(float)"
   ]
  },
  {
   "cell_type": "code",
   "execution_count": 335,
   "metadata": {},
   "outputs": [
    {
     "data": {
      "text/plain": [
       "(1731, 14)"
      ]
     },
     "execution_count": 335,
     "metadata": {},
     "output_type": "execute_result"
    }
   ],
   "source": [
    "df_archive_clean.shape"
   ]
  },
  {
   "cell_type": "markdown",
   "metadata": {},
   "source": [
    "#### Test:"
   ]
  },
  {
   "cell_type": "code",
   "execution_count": 336,
   "metadata": {},
   "outputs": [
    {
     "data": {
      "text/plain": [
       "12.00    444\n",
       "11.00    371\n",
       "10.00    367\n",
       "13.00    244\n",
       "9.00     133\n",
       "8.00      68\n",
       "7.00      31\n",
       "14.00     26\n",
       "6.00      16\n",
       "5.00      13\n",
       "4.00       6\n",
       "3.00       5\n",
       "2.00       2\n",
       "13.50      1\n",
       "11.27      1\n",
       "0.00       1\n",
       "11.26      1\n",
       "9.75       1\n",
       "Name: rating_numerator, dtype: int64"
      ]
     },
     "execution_count": 336,
     "metadata": {},
     "output_type": "execute_result"
    }
   ],
   "source": [
    "df_archive_clean.rating_numerator.value_counts()"
   ]
  },
  {
   "cell_type": "markdown",
   "metadata": {},
   "source": [
    "#### Now we can solve the Tidiness Issue #1: The rating for each record is kept in two Columns 'rating_numerator' and 'rating_denominator'. We want the Rating Variable kept in one Column. "
   ]
  },
  {
   "cell_type": "markdown",
   "metadata": {},
   "source": [
    "#### Define:\n",
    "Drop the 'rating_denominator' Column, which is now useless, as we stated that the Denominator  must be 10."
   ]
  },
  {
   "cell_type": "markdown",
   "metadata": {},
   "source": [
    "#### Code:"
   ]
  },
  {
   "cell_type": "code",
   "execution_count": 337,
   "metadata": {},
   "outputs": [
    {
     "data": {
      "text/plain": [
       "Index(['tweet_id', 'timestamp', 'text', 'retweeted_status_id',\n",
       "       'retweeted_status_user_id', 'expanded_urls', 'rating_numerator',\n",
       "       'rating_denominator', 'name', 'favorite_count', 'retweet_count',\n",
       "       'dog_stage', 'best_predicted_breed', 'jpg_url'],\n",
       "      dtype='object')"
      ]
     },
     "execution_count": 337,
     "metadata": {},
     "output_type": "execute_result"
    }
   ],
   "source": [
    "df_archive_clean.columns"
   ]
  },
  {
   "cell_type": "code",
   "execution_count": 338,
   "metadata": {},
   "outputs": [],
   "source": [
    "df_archive_clean.drop(columns=['rating_denominator'], inplace=True)"
   ]
  },
  {
   "cell_type": "markdown",
   "metadata": {},
   "source": [
    "#### Test:"
   ]
  },
  {
   "cell_type": "code",
   "execution_count": 339,
   "metadata": {},
   "outputs": [
    {
     "data": {
      "text/plain": [
       "Index(['tweet_id', 'timestamp', 'text', 'retweeted_status_id',\n",
       "       'retweeted_status_user_id', 'expanded_urls', 'rating_numerator', 'name',\n",
       "       'favorite_count', 'retweet_count', 'dog_stage', 'best_predicted_breed',\n",
       "       'jpg_url'],\n",
       "      dtype='object')"
      ]
     },
     "execution_count": 339,
     "metadata": {},
     "output_type": "execute_result"
    }
   ],
   "source": [
    "df_archive_clean.columns"
   ]
  },
  {
   "cell_type": "markdown",
   "metadata": {},
   "source": [
    "[Back to Cleaning Plan](#clean)"
   ]
  },
  {
   "cell_type": "markdown",
   "metadata": {},
   "source": [
    "<a id='remaining'></a>\n",
    "### IV) Remaining Quality Issues<br>"
   ]
  },
  {
   "cell_type": "markdown",
   "metadata": {},
   "source": [
    "#### Quality Issue #3: some tweets are retweets and must be removed"
   ]
  },
  {
   "cell_type": "markdown",
   "metadata": {},
   "source": [
    "#### Define:\n",
    "Remove the tweets where the 'retweets_status_id' is not null"
   ]
  },
  {
   "cell_type": "markdown",
   "metadata": {},
   "source": [
    "#### Code:"
   ]
  },
  {
   "cell_type": "code",
   "execution_count": 340,
   "metadata": {},
   "outputs": [
    {
     "name": "stdout",
     "output_type": "stream",
     "text": [
      "<class 'pandas.core.frame.DataFrame'>\n",
      "Int64Index: 1731 entries, 0 to 1742\n",
      "Data columns (total 13 columns):\n",
      "tweet_id                    1731 non-null int64\n",
      "timestamp                   1731 non-null object\n",
      "text                        1731 non-null object\n",
      "retweeted_status_id         60 non-null float64\n",
      "retweeted_status_user_id    60 non-null float64\n",
      "expanded_urls               1731 non-null object\n",
      "rating_numerator            1731 non-null float64\n",
      "name                        1731 non-null object\n",
      "favorite_count              1731 non-null int64\n",
      "retweet_count               1731 non-null int64\n",
      "dog_stage                   1731 non-null object\n",
      "best_predicted_breed        1731 non-null object\n",
      "jpg_url                     1731 non-null object\n",
      "dtypes: float64(3), int64(3), object(7)\n",
      "memory usage: 189.3+ KB\n"
     ]
    }
   ],
   "source": [
    "df_archive_clean.info()"
   ]
  },
  {
   "cell_type": "code",
   "execution_count": 341,
   "metadata": {},
   "outputs": [],
   "source": [
    "df_archive_clean = df_archive_clean[df_archive_clean.retweeted_status_id.isnull()]"
   ]
  },
  {
   "cell_type": "markdown",
   "metadata": {},
   "source": [
    "#### Test:"
   ]
  },
  {
   "cell_type": "code",
   "execution_count": 342,
   "metadata": {},
   "outputs": [
    {
     "name": "stdout",
     "output_type": "stream",
     "text": [
      "<class 'pandas.core.frame.DataFrame'>\n",
      "Int64Index: 1671 entries, 0 to 1742\n",
      "Data columns (total 13 columns):\n",
      "tweet_id                    1671 non-null int64\n",
      "timestamp                   1671 non-null object\n",
      "text                        1671 non-null object\n",
      "retweeted_status_id         0 non-null float64\n",
      "retweeted_status_user_id    0 non-null float64\n",
      "expanded_urls               1671 non-null object\n",
      "rating_numerator            1671 non-null float64\n",
      "name                        1671 non-null object\n",
      "favorite_count              1671 non-null int64\n",
      "retweet_count               1671 non-null int64\n",
      "dog_stage                   1671 non-null object\n",
      "best_predicted_breed        1671 non-null object\n",
      "jpg_url                     1671 non-null object\n",
      "dtypes: float64(3), int64(3), object(7)\n",
      "memory usage: 182.8+ KB\n"
     ]
    }
   ],
   "source": [
    "df_archive_clean.info()"
   ]
  },
  {
   "cell_type": "markdown",
   "metadata": {},
   "source": [
    "#### Quality Issue #1: 'timestamp' should be a datetime Object."
   ]
  },
  {
   "cell_type": "markdown",
   "metadata": {},
   "source": [
    "#### Define:\n",
    "Cast the 'timestamp' Column to a Pandas 'datetime64' type"
   ]
  },
  {
   "cell_type": "markdown",
   "metadata": {},
   "source": [
    "#### Code:"
   ]
  },
  {
   "cell_type": "code",
   "execution_count": 347,
   "metadata": {},
   "outputs": [],
   "source": [
    "df_archive_clean.timestamp = df_archive_clean.timestamp.astype('datetime64')"
   ]
  },
  {
   "cell_type": "markdown",
   "metadata": {},
   "source": [
    "#### Test:"
   ]
  },
  {
   "cell_type": "code",
   "execution_count": 354,
   "metadata": {},
   "outputs": [
    {
     "name": "stdout",
     "output_type": "stream",
     "text": [
      "<class 'pandas.core.frame.DataFrame'>\n",
      "Int64Index: 1671 entries, 0 to 1742\n",
      "Data columns (total 13 columns):\n",
      "tweet_id                    1671 non-null int64\n",
      "timestamp                   1671 non-null datetime64[ns]\n",
      "text                        1671 non-null object\n",
      "retweeted_status_id         0 non-null float64\n",
      "retweeted_status_user_id    0 non-null float64\n",
      "expanded_urls               1671 non-null object\n",
      "rating_numerator            1671 non-null float64\n",
      "name                        1671 non-null object\n",
      "favorite_count              1671 non-null int64\n",
      "retweet_count               1671 non-null int64\n",
      "dog_stage                   1671 non-null object\n",
      "best_predicted_breed        1671 non-null object\n",
      "jpg_url                     1671 non-null object\n",
      "dtypes: datetime64[ns](1), float64(3), int64(3), object(6)\n",
      "memory usage: 262.8+ KB\n"
     ]
    }
   ],
   "source": [
    "df_archive_clean.info()"
   ]
  },
  {
   "cell_type": "markdown",
   "metadata": {},
   "source": [
    "We can now drop the Columns 'retweeted_status_id' and 'retweeted_status_user_id':"
   ]
  },
  {
   "cell_type": "code",
   "execution_count": 355,
   "metadata": {},
   "outputs": [
    {
     "data": {
      "text/plain": [
       "Index(['tweet_id', 'timestamp', 'text', 'expanded_urls', 'rating_numerator',\n",
       "       'name', 'favorite_count', 'retweet_count', 'dog_stage',\n",
       "       'best_predicted_breed', 'jpg_url'],\n",
       "      dtype='object')"
      ]
     },
     "execution_count": 355,
     "metadata": {},
     "output_type": "execute_result"
    }
   ],
   "source": [
    "df_archive_clean.drop(columns=['retweeted_status_id', 'retweeted_status_user_id'], inplace=True)\n",
    "df_archive_clean.columns"
   ]
  },
  {
   "cell_type": "markdown",
   "metadata": {},
   "source": [
    "#### Quality Issue #8: Incorrect parsed dog names \"a\""
   ]
  },
  {
   "cell_type": "markdown",
   "metadata": {},
   "source": [
    "#### Define:\n",
    "Set all the 'name' values, wrongly parsed as 'a', to 'None'"
   ]
  },
  {
   "cell_type": "markdown",
   "metadata": {},
   "source": [
    "#### Code:"
   ]
  },
  {
   "cell_type": "code",
   "execution_count": 350,
   "metadata": {},
   "outputs": [
    {
     "name": "stdout",
     "output_type": "stream",
     "text": [
      "(45, 13)\n"
     ]
    },
    {
     "data": {
      "text/html": [
       "<div>\n",
       "<style scoped>\n",
       "    .dataframe tbody tr th:only-of-type {\n",
       "        vertical-align: middle;\n",
       "    }\n",
       "\n",
       "    .dataframe tbody tr th {\n",
       "        vertical-align: top;\n",
       "    }\n",
       "\n",
       "    .dataframe thead th {\n",
       "        text-align: right;\n",
       "    }\n",
       "</style>\n",
       "<table border=\"1\" class=\"dataframe\">\n",
       "  <thead>\n",
       "    <tr style=\"text-align: right;\">\n",
       "      <th></th>\n",
       "      <th>tweet_id</th>\n",
       "      <th>timestamp</th>\n",
       "      <th>text</th>\n",
       "      <th>retweeted_status_id</th>\n",
       "      <th>retweeted_status_user_id</th>\n",
       "      <th>expanded_urls</th>\n",
       "      <th>rating_numerator</th>\n",
       "      <th>name</th>\n",
       "      <th>favorite_count</th>\n",
       "      <th>retweet_count</th>\n",
       "      <th>dog_stage</th>\n",
       "      <th>best_predicted_breed</th>\n",
       "      <th>jpg_url</th>\n",
       "    </tr>\n",
       "  </thead>\n",
       "  <tbody>\n",
       "    <tr>\n",
       "      <th>47</th>\n",
       "      <td>881536004380872706</td>\n",
       "      <td>2017-07-02 15:32:16</td>\n",
       "      <td>Here is a pupper approaching maximum borkdrive...</td>\n",
       "      <td>NaN</td>\n",
       "      <td>NaN</td>\n",
       "      <td>https://twitter.com/dog_rates/status/881536004...</td>\n",
       "      <td>14.0</td>\n",
       "      <td>a</td>\n",
       "      <td>48150</td>\n",
       "      <td>15485</td>\n",
       "      <td>Pupper</td>\n",
       "      <td>Samoyed</td>\n",
       "      <td>https://pbs.twimg.com/ext_tw_video_thumb/88153...</td>\n",
       "    </tr>\n",
       "    <tr>\n",
       "      <th>573</th>\n",
       "      <td>772581559778025472</td>\n",
       "      <td>2016-09-04 23:46:12</td>\n",
       "      <td>Guys this is getting so out of hand. We only r...</td>\n",
       "      <td>NaN</td>\n",
       "      <td>NaN</td>\n",
       "      <td>https://twitter.com/dog_rates/status/772581559...</td>\n",
       "      <td>10.0</td>\n",
       "      <td>a</td>\n",
       "      <td>6833</td>\n",
       "      <td>1814</td>\n",
       "      <td>None</td>\n",
       "      <td>Newfoundland</td>\n",
       "      <td>https://pbs.twimg.com/media/CrjC0JAWAAAjz6n.jpg</td>\n",
       "    </tr>\n",
       "    <tr>\n",
       "      <th>722</th>\n",
       "      <td>747885874273214464</td>\n",
       "      <td>2016-06-28 20:14:22</td>\n",
       "      <td>This is a mighty rare blue-tailed hammer sherk...</td>\n",
       "      <td>NaN</td>\n",
       "      <td>NaN</td>\n",
       "      <td>https://twitter.com/dog_rates/status/747885874...</td>\n",
       "      <td>8.0</td>\n",
       "      <td>a</td>\n",
       "      <td>3070</td>\n",
       "      <td>1045</td>\n",
       "      <td>None</td>\n",
       "      <td>kuvasz</td>\n",
       "      <td>https://pbs.twimg.com/media/CmEGMSvUYAAl3ZM.jpg</td>\n",
       "    </tr>\n",
       "    <tr>\n",
       "      <th>724</th>\n",
       "      <td>747816857231626240</td>\n",
       "      <td>2016-06-28 15:40:07</td>\n",
       "      <td>Viewer discretion is advised. This is a terrib...</td>\n",
       "      <td>NaN</td>\n",
       "      <td>NaN</td>\n",
       "      <td>https://twitter.com/dog_rates/status/747816857...</td>\n",
       "      <td>4.0</td>\n",
       "      <td>a</td>\n",
       "      <td>5046</td>\n",
       "      <td>1230</td>\n",
       "      <td>None</td>\n",
       "      <td>Pembroke</td>\n",
       "      <td>https://pbs.twimg.com/media/CmDHdCoWkAACTB4.jpg</td>\n",
       "    </tr>\n",
       "    <tr>\n",
       "      <th>730</th>\n",
       "      <td>746872823977771008</td>\n",
       "      <td>2016-06-26 01:08:52</td>\n",
       "      <td>This is a carrot. We only rate dogs. Please on...</td>\n",
       "      <td>NaN</td>\n",
       "      <td>NaN</td>\n",
       "      <td>https://twitter.com/dog_rates/status/746872823...</td>\n",
       "      <td>11.0</td>\n",
       "      <td>a</td>\n",
       "      <td>6243</td>\n",
       "      <td>2279</td>\n",
       "      <td>None</td>\n",
       "      <td>Pembroke</td>\n",
       "      <td>https://pbs.twimg.com/media/Cl1s1p7WMAA44Vk.jpg</td>\n",
       "    </tr>\n",
       "  </tbody>\n",
       "</table>\n",
       "</div>"
      ],
      "text/plain": [
       "               tweet_id           timestamp  \\\n",
       "47   881536004380872706 2017-07-02 15:32:16   \n",
       "573  772581559778025472 2016-09-04 23:46:12   \n",
       "722  747885874273214464 2016-06-28 20:14:22   \n",
       "724  747816857231626240 2016-06-28 15:40:07   \n",
       "730  746872823977771008 2016-06-26 01:08:52   \n",
       "\n",
       "                                                  text  retweeted_status_id  \\\n",
       "47   Here is a pupper approaching maximum borkdrive...                  NaN   \n",
       "573  Guys this is getting so out of hand. We only r...                  NaN   \n",
       "722  This is a mighty rare blue-tailed hammer sherk...                  NaN   \n",
       "724  Viewer discretion is advised. This is a terrib...                  NaN   \n",
       "730  This is a carrot. We only rate dogs. Please on...                  NaN   \n",
       "\n",
       "     retweeted_status_user_id  \\\n",
       "47                        NaN   \n",
       "573                       NaN   \n",
       "722                       NaN   \n",
       "724                       NaN   \n",
       "730                       NaN   \n",
       "\n",
       "                                         expanded_urls  rating_numerator name  \\\n",
       "47   https://twitter.com/dog_rates/status/881536004...              14.0    a   \n",
       "573  https://twitter.com/dog_rates/status/772581559...              10.0    a   \n",
       "722  https://twitter.com/dog_rates/status/747885874...               8.0    a   \n",
       "724  https://twitter.com/dog_rates/status/747816857...               4.0    a   \n",
       "730  https://twitter.com/dog_rates/status/746872823...              11.0    a   \n",
       "\n",
       "     favorite_count  retweet_count dog_stage best_predicted_breed  \\\n",
       "47            48150          15485    Pupper              Samoyed   \n",
       "573            6833           1814      None         Newfoundland   \n",
       "722            3070           1045      None               kuvasz   \n",
       "724            5046           1230      None             Pembroke   \n",
       "730            6243           2279      None             Pembroke   \n",
       "\n",
       "                                               jpg_url  \n",
       "47   https://pbs.twimg.com/ext_tw_video_thumb/88153...  \n",
       "573    https://pbs.twimg.com/media/CrjC0JAWAAAjz6n.jpg  \n",
       "722    https://pbs.twimg.com/media/CmEGMSvUYAAl3ZM.jpg  \n",
       "724    https://pbs.twimg.com/media/CmDHdCoWkAACTB4.jpg  \n",
       "730    https://pbs.twimg.com/media/Cl1s1p7WMAA44Vk.jpg  "
      ]
     },
     "execution_count": 350,
     "metadata": {},
     "output_type": "execute_result"
    }
   ],
   "source": [
    "df_a_name = df_archive_clean.query('name == \"a\"')\n",
    "print(df_a_name.shape)\n",
    "df_a_name.head()"
   ]
  },
  {
   "cell_type": "code",
   "execution_count": 351,
   "metadata": {},
   "outputs": [],
   "source": [
    "df_archive_clean.loc[df_a_name.index, 'name'] = 'None'"
   ]
  },
  {
   "cell_type": "markdown",
   "metadata": {},
   "source": [
    "#### Test:"
   ]
  },
  {
   "cell_type": "code",
   "execution_count": 352,
   "metadata": {},
   "outputs": [
    {
     "name": "stdout",
     "output_type": "stream",
     "text": [
      "(0, 13)\n"
     ]
    }
   ],
   "source": [
    "print(df_archive_clean.query('name == \"a\"').shape)"
   ]
  },
  {
   "cell_type": "markdown",
   "metadata": {},
   "source": [
    "[Back to Top](#top)"
   ]
  },
  {
   "cell_type": "markdown",
   "metadata": {},
   "source": [
    "### Store the final, assessed and cleaned Dataset<br>\n",
    "We can now locally store our master Dataset in a 'csv'File:\n"
   ]
  },
  {
   "cell_type": "code",
   "execution_count": 356,
   "metadata": {},
   "outputs": [],
   "source": [
    "df_archive_clean.to_csv('twitter_archive_master.csv', index=False)"
   ]
  },
  {
   "cell_type": "code",
   "execution_count": 357,
   "metadata": {},
   "outputs": [
    {
     "data": {
      "text/plain": [
       "['.DS_Store',\n",
       " '.ipynb_checkpoints',\n",
       " 'cleaning_overview.ipynb',\n",
       " 'Help',\n",
       " 'image-predictions.tsv',\n",
       " 'old',\n",
       " 'ReadMe.txt',\n",
       " 'regex_wrangle.txt',\n",
       " 'tweet_json Kopie.txt',\n",
       " 'tweet_json.txt',\n",
       " 'tweetid_errors.txt',\n",
       " 'tweetid_success.txt',\n",
       " 'twitter-archive-enhanced Kopie.csv',\n",
       " 'twitter-archive-enhanced.csv',\n",
       " 'twitter_archive_master.csv',\n",
       " 'twitterKeys.txt',\n",
       " 'wrangle_act.ipynb']"
      ]
     },
     "execution_count": 357,
     "metadata": {},
     "output_type": "execute_result"
    }
   ],
   "source": [
    "os.listdir()"
   ]
  },
  {
   "cell_type": "markdown",
   "metadata": {},
   "source": [
    "<a id='analyse'></a>\n",
    "## Analyze & Visualize the wrangled Data"
   ]
  },
  {
   "cell_type": "code",
   "execution_count": 358,
   "metadata": {},
   "outputs": [],
   "source": [
    "#import needed modules\n",
    "import seaborn as sns"
   ]
  },
  {
   "cell_type": "code",
   "execution_count": 359,
   "metadata": {},
   "outputs": [
    {
     "data": {
      "text/html": [
       "<div>\n",
       "<style scoped>\n",
       "    .dataframe tbody tr th:only-of-type {\n",
       "        vertical-align: middle;\n",
       "    }\n",
       "\n",
       "    .dataframe tbody tr th {\n",
       "        vertical-align: top;\n",
       "    }\n",
       "\n",
       "    .dataframe thead th {\n",
       "        text-align: right;\n",
       "    }\n",
       "</style>\n",
       "<table border=\"1\" class=\"dataframe\">\n",
       "  <thead>\n",
       "    <tr style=\"text-align: right;\">\n",
       "      <th></th>\n",
       "      <th>tweet_id</th>\n",
       "      <th>timestamp</th>\n",
       "      <th>text</th>\n",
       "      <th>expanded_urls</th>\n",
       "      <th>rating_numerator</th>\n",
       "      <th>name</th>\n",
       "      <th>favorite_count</th>\n",
       "      <th>retweet_count</th>\n",
       "      <th>dog_stage</th>\n",
       "      <th>best_predicted_breed</th>\n",
       "      <th>jpg_url</th>\n",
       "    </tr>\n",
       "  </thead>\n",
       "  <tbody>\n",
       "    <tr>\n",
       "      <th>0</th>\n",
       "      <td>892177421306343426</td>\n",
       "      <td>2017-08-01 00:17:27</td>\n",
       "      <td>This is Tilly. She's just checking pup on you....</td>\n",
       "      <td>https://twitter.com/dog_rates/status/892177421...</td>\n",
       "      <td>13.0</td>\n",
       "      <td>Tilly</td>\n",
       "      <td>32382</td>\n",
       "      <td>6075</td>\n",
       "      <td>None</td>\n",
       "      <td>Chihuahua</td>\n",
       "      <td>https://pbs.twimg.com/media/DGGmoV4XsAAUL6n.jpg</td>\n",
       "    </tr>\n",
       "    <tr>\n",
       "      <th>1</th>\n",
       "      <td>891815181378084864</td>\n",
       "      <td>2017-07-31 00:18:03</td>\n",
       "      <td>This is Archie. He is a rare Norwegian Pouncin...</td>\n",
       "      <td>https://twitter.com/dog_rates/status/891815181...</td>\n",
       "      <td>12.0</td>\n",
       "      <td>Archie</td>\n",
       "      <td>24381</td>\n",
       "      <td>4017</td>\n",
       "      <td>None</td>\n",
       "      <td>Chihuahua</td>\n",
       "      <td>https://pbs.twimg.com/media/DGBdLU1WsAANxJ9.jpg</td>\n",
       "    </tr>\n",
       "    <tr>\n",
       "      <th>2</th>\n",
       "      <td>891689557279858688</td>\n",
       "      <td>2017-07-30 15:58:51</td>\n",
       "      <td>This is Darla. She commenced a snooze mid meal...</td>\n",
       "      <td>https://twitter.com/dog_rates/status/891689557...</td>\n",
       "      <td>13.0</td>\n",
       "      <td>Darla</td>\n",
       "      <td>41016</td>\n",
       "      <td>8370</td>\n",
       "      <td>None</td>\n",
       "      <td>Labrador_retriever</td>\n",
       "      <td>https://pbs.twimg.com/media/DF_q7IAWsAEuuN8.jpg</td>\n",
       "    </tr>\n",
       "    <tr>\n",
       "      <th>3</th>\n",
       "      <td>891327558926688256</td>\n",
       "      <td>2017-07-29 16:00:24</td>\n",
       "      <td>This is Franklin. He would like you to stop ca...</td>\n",
       "      <td>https://twitter.com/dog_rates/status/891327558...</td>\n",
       "      <td>12.0</td>\n",
       "      <td>Franklin</td>\n",
       "      <td>39206</td>\n",
       "      <td>9075</td>\n",
       "      <td>None</td>\n",
       "      <td>basset</td>\n",
       "      <td>https://pbs.twimg.com/media/DF6hr6BUMAAzZgT.jpg</td>\n",
       "    </tr>\n",
       "    <tr>\n",
       "      <th>4</th>\n",
       "      <td>891087950875897856</td>\n",
       "      <td>2017-07-29 00:08:17</td>\n",
       "      <td>Here we have a majestic great white breaching ...</td>\n",
       "      <td>https://twitter.com/dog_rates/status/891087950...</td>\n",
       "      <td>13.0</td>\n",
       "      <td>None</td>\n",
       "      <td>19714</td>\n",
       "      <td>3010</td>\n",
       "      <td>None</td>\n",
       "      <td>Chesapeake_Bay_retriever</td>\n",
       "      <td>https://pbs.twimg.com/media/DF3HwyEWsAABqE6.jpg</td>\n",
       "    </tr>\n",
       "  </tbody>\n",
       "</table>\n",
       "</div>"
      ],
      "text/plain": [
       "             tweet_id            timestamp  \\\n",
       "0  892177421306343426  2017-08-01 00:17:27   \n",
       "1  891815181378084864  2017-07-31 00:18:03   \n",
       "2  891689557279858688  2017-07-30 15:58:51   \n",
       "3  891327558926688256  2017-07-29 16:00:24   \n",
       "4  891087950875897856  2017-07-29 00:08:17   \n",
       "\n",
       "                                                text  \\\n",
       "0  This is Tilly. She's just checking pup on you....   \n",
       "1  This is Archie. He is a rare Norwegian Pouncin...   \n",
       "2  This is Darla. She commenced a snooze mid meal...   \n",
       "3  This is Franklin. He would like you to stop ca...   \n",
       "4  Here we have a majestic great white breaching ...   \n",
       "\n",
       "                                       expanded_urls  rating_numerator  \\\n",
       "0  https://twitter.com/dog_rates/status/892177421...              13.0   \n",
       "1  https://twitter.com/dog_rates/status/891815181...              12.0   \n",
       "2  https://twitter.com/dog_rates/status/891689557...              13.0   \n",
       "3  https://twitter.com/dog_rates/status/891327558...              12.0   \n",
       "4  https://twitter.com/dog_rates/status/891087950...              13.0   \n",
       "\n",
       "       name  favorite_count  retweet_count dog_stage  \\\n",
       "0     Tilly           32382           6075      None   \n",
       "1    Archie           24381           4017      None   \n",
       "2     Darla           41016           8370      None   \n",
       "3  Franklin           39206           9075      None   \n",
       "4      None           19714           3010      None   \n",
       "\n",
       "       best_predicted_breed                                          jpg_url  \n",
       "0                 Chihuahua  https://pbs.twimg.com/media/DGGmoV4XsAAUL6n.jpg  \n",
       "1                 Chihuahua  https://pbs.twimg.com/media/DGBdLU1WsAANxJ9.jpg  \n",
       "2        Labrador_retriever  https://pbs.twimg.com/media/DF_q7IAWsAEuuN8.jpg  \n",
       "3                    basset  https://pbs.twimg.com/media/DF6hr6BUMAAzZgT.jpg  \n",
       "4  Chesapeake_Bay_retriever  https://pbs.twimg.com/media/DF3HwyEWsAABqE6.jpg  "
      ]
     },
     "execution_count": 359,
     "metadata": {},
     "output_type": "execute_result"
    }
   ],
   "source": [
    "# freshly import the Dataset we wrangled:\n",
    "df_master = pd.read_csv('twitter_archive_master.csv')\n",
    "df_master.head()"
   ]
  },
  {
   "cell_type": "code",
   "execution_count": 360,
   "metadata": {},
   "outputs": [
    {
     "data": {
      "text/html": [
       "<div>\n",
       "<style scoped>\n",
       "    .dataframe tbody tr th:only-of-type {\n",
       "        vertical-align: middle;\n",
       "    }\n",
       "\n",
       "    .dataframe tbody tr th {\n",
       "        vertical-align: top;\n",
       "    }\n",
       "\n",
       "    .dataframe thead th {\n",
       "        text-align: right;\n",
       "    }\n",
       "</style>\n",
       "<table border=\"1\" class=\"dataframe\">\n",
       "  <thead>\n",
       "    <tr style=\"text-align: right;\">\n",
       "      <th></th>\n",
       "      <th>tweet_id</th>\n",
       "      <th>rating_numerator</th>\n",
       "      <th>favorite_count</th>\n",
       "      <th>retweet_count</th>\n",
       "    </tr>\n",
       "  </thead>\n",
       "  <tbody>\n",
       "    <tr>\n",
       "      <th>count</th>\n",
       "      <td>1.671000e+03</td>\n",
       "      <td>1671.000000</td>\n",
       "      <td>1671.000000</td>\n",
       "      <td>1671.000000</td>\n",
       "    </tr>\n",
       "    <tr>\n",
       "      <th>mean</th>\n",
       "      <td>7.393519e+17</td>\n",
       "      <td>10.838887</td>\n",
       "      <td>9003.634949</td>\n",
       "      <td>2678.550569</td>\n",
       "    </tr>\n",
       "    <tr>\n",
       "      <th>std</th>\n",
       "      <td>6.807905e+16</td>\n",
       "      <td>1.778713</td>\n",
       "      <td>13182.815158</td>\n",
       "      <td>4855.857907</td>\n",
       "    </tr>\n",
       "    <tr>\n",
       "      <th>min</th>\n",
       "      <td>6.660209e+17</td>\n",
       "      <td>0.000000</td>\n",
       "      <td>77.000000</td>\n",
       "      <td>11.000000</td>\n",
       "    </tr>\n",
       "    <tr>\n",
       "      <th>25%</th>\n",
       "      <td>6.773218e+17</td>\n",
       "      <td>10.000000</td>\n",
       "      <td>2025.500000</td>\n",
       "      <td>596.000000</td>\n",
       "    </tr>\n",
       "    <tr>\n",
       "      <th>50%</th>\n",
       "      <td>7.137612e+17</td>\n",
       "      <td>11.000000</td>\n",
       "      <td>4219.000000</td>\n",
       "      <td>1327.000000</td>\n",
       "    </tr>\n",
       "    <tr>\n",
       "      <th>75%</th>\n",
       "      <td>7.931884e+17</td>\n",
       "      <td>12.000000</td>\n",
       "      <td>11158.000000</td>\n",
       "      <td>3022.000000</td>\n",
       "    </tr>\n",
       "    <tr>\n",
       "      <th>max</th>\n",
       "      <td>8.921774e+17</td>\n",
       "      <td>14.000000</td>\n",
       "      <td>162739.000000</td>\n",
       "      <td>82815.000000</td>\n",
       "    </tr>\n",
       "  </tbody>\n",
       "</table>\n",
       "</div>"
      ],
      "text/plain": [
       "           tweet_id  rating_numerator  favorite_count  retweet_count\n",
       "count  1.671000e+03       1671.000000     1671.000000    1671.000000\n",
       "mean   7.393519e+17         10.838887     9003.634949    2678.550569\n",
       "std    6.807905e+16          1.778713    13182.815158    4855.857907\n",
       "min    6.660209e+17          0.000000       77.000000      11.000000\n",
       "25%    6.773218e+17         10.000000     2025.500000     596.000000\n",
       "50%    7.137612e+17         11.000000     4219.000000    1327.000000\n",
       "75%    7.931884e+17         12.000000    11158.000000    3022.000000\n",
       "max    8.921774e+17         14.000000   162739.000000   82815.000000"
      ]
     },
     "execution_count": 360,
     "metadata": {},
     "output_type": "execute_result"
    }
   ],
   "source": [
    "df_master.describe()"
   ]
  },
  {
   "cell_type": "code",
   "execution_count": 532,
   "metadata": {},
   "outputs": [
    {
     "data": {
      "image/png": "[encoded data removed]",
      "text/plain": [
       "<Figure size 432x288 with 4 Axes>"
      ]
     },
     "metadata": {
      "needs_background": "light"
     },
     "output_type": "display_data"
    }
   ],
   "source": [
    "df_master.hist();"
   ]
  },
  {
   "cell_type": "markdown",
   "metadata": {},
   "source": [
    "#### Variables to inspect & Questions to ask:"
   ]
  },
  {
   "cell_type": "markdown",
   "metadata": {},
   "source": [
    "We want to inspect the Rating_numerator, retweet_count and favorite counts: \n",
    "- how do the distributions look like? \n",
    "- how are they related to one another? \n",
    "- which factor might be influencing these Outcomes?\n",
    "\n",
    "Note: To help answer these Questions, i chose to make a categorical variable for the Ratings, grouping the Values in 5 ordered \"Rating Levels\" (\"low (<= 9)\", \"medium (10 - 11)\", \"intermediate (12)\", \"high(13)\" and \"highest (14)\")."
   ]
  },
  {
   "cell_type": "markdown",
   "metadata": {},
   "source": [
    "#### Inspecting the rating variable"
   ]
  },
  {
   "cell_type": "code",
   "execution_count": 363,
   "metadata": {},
   "outputs": [
    {
     "data": {
      "text/plain": [
       "count    1671.000000\n",
       "mean       10.838887\n",
       "std         1.778713\n",
       "min         0.000000\n",
       "25%        10.000000\n",
       "50%        11.000000\n",
       "75%        12.000000\n",
       "max        14.000000\n",
       "Name: rating_numerator, dtype: float64"
      ]
     },
     "execution_count": 363,
     "metadata": {},
     "output_type": "execute_result"
    }
   ],
   "source": [
    "df_master.rating_numerator.describe()"
   ]
  },
  {
   "cell_type": "code",
   "execution_count": 528,
   "metadata": {},
   "outputs": [
    {
     "data": {
      "text/plain": [
       "11.0"
      ]
     },
     "execution_count": 528,
     "metadata": {},
     "output_type": "execute_result"
    }
   ],
   "source": [
    "df_master.rating_numerator.median()"
   ]
  },
  {
   "cell_type": "code",
   "execution_count": 530,
   "metadata": {},
   "outputs": [
    {
     "data": {
      "text/plain": [
       "12.00    422\n",
       "10.00    360\n",
       "11.00    357\n",
       "13.00    229\n",
       "9.00     133\n",
       "8.00      68\n",
       "7.00      31\n",
       "14.00     24\n",
       "6.00      16\n",
       "5.00      13\n",
       "4.00       6\n",
       "3.00       5\n",
       "2.00       2\n",
       "13.50      1\n",
       "11.27      1\n",
       "0.00       1\n",
       "11.26      1\n",
       "9.75       1\n",
       "Name: rating_numerator, dtype: int64"
      ]
     },
     "execution_count": 530,
     "metadata": {},
     "output_type": "execute_result"
    }
   ],
   "source": [
    "df_master.rating_numerator.value_counts()"
   ]
  },
  {
   "cell_type": "code",
   "execution_count": 366,
   "metadata": {},
   "outputs": [],
   "source": [
    "import matplotlib.pyplot as plt\n",
    "%matplotlib inline"
   ]
  },
  {
   "cell_type": "code",
   "execution_count": 629,
   "metadata": {},
   "outputs": [
    {
     "data": {
      "image/png": "[encoded data removed]",
      "text/plain": [
       "<Figure size 432x288 with 1 Axes>"
      ]
     },
     "metadata": {
      "needs_background": "light"
     },
     "output_type": "display_data"
    }
   ],
   "source": [
    "plt.hist(df_master.rating_numerator);\n",
    "plt.grid(b=True)\n",
    "plt.xlabel(\"Ratings (of 10)\");\n",
    "plt.ylabel(\"Frequency\")\n",
    "plt.title(\"Distribution of the Ratings\");"
   ]
  },
  {
   "cell_type": "markdown",
   "metadata": {},
   "source": [
    "We want to group the Ratings in different level Categories, to try and get a better Impression on how they are distributed and also to better see possible Correlations with other Variables of Interest. We create a new Column 'rating_level', containing the following categorical values: [low, medium, intermediate, high, highest], corresponding to the following rating-intervalls: [[0, 9], (9, 11], (11, 12], (12, 13], (13, 14]].  "
   ]
  },
  {
   "cell_type": "code",
   "execution_count": 429,
   "metadata": {},
   "outputs": [],
   "source": [
    "bin_edges = [0.0, 9.0, 11.0, 12.0, 13.0, 14.0]\n",
    "bin_labels = ['low', 'medium', 'intermediate', 'high', 'highest']\n",
    "df_master['rating_level'] = pd.cut(df_master['rating_numerator'], bins=bin_edges, \\\n",
    "                                   labels=bin_labels, right=True, include_lowest=True)"
   ]
  },
  {
   "cell_type": "code",
   "execution_count": 430,
   "metadata": {},
   "outputs": [
    {
     "name": "stdout",
     "output_type": "stream",
     "text": [
      "<class 'pandas.core.frame.DataFrame'>\n",
      "RangeIndex: 1671 entries, 0 to 1670\n",
      "Data columns (total 12 columns):\n",
      "tweet_id                1671 non-null int64\n",
      "timestamp               1671 non-null object\n",
      "text                    1671 non-null object\n",
      "expanded_urls           1671 non-null object\n",
      "rating_numerator        1671 non-null float64\n",
      "name                    1671 non-null object\n",
      "favorite_count          1671 non-null int64\n",
      "retweet_count           1671 non-null int64\n",
      "dog_stage               1671 non-null object\n",
      "best_predicted_breed    1671 non-null object\n",
      "jpg_url                 1671 non-null object\n",
      "rating_level            1671 non-null category\n",
      "dtypes: category(1), float64(1), int64(3), object(7)\n",
      "memory usage: 145.5+ KB\n"
     ]
    }
   ],
   "source": [
    "df_master.info()"
   ]
  },
  {
   "cell_type": "code",
   "execution_count": 534,
   "metadata": {},
   "outputs": [],
   "source": [
    "grouped_ratings = df_master.groupby('rating_level').count()['rating_numerator']\n",
    "locations = np.arange(len(ind))\n"
   ]
  },
  {
   "cell_type": "code",
   "execution_count": 535,
   "metadata": {},
   "outputs": [
    {
     "data": {
      "text/plain": [
       "rating_level\n",
       "low             275\n",
       "medium          718\n",
       "intermediate    424\n",
       "high            229\n",
       "highest          25\n",
       "Name: rating_numerator, dtype: int64"
      ]
     },
     "execution_count": 535,
     "metadata": {},
     "output_type": "execute_result"
    }
   ],
   "source": [
    "grouped_ratings"
   ]
  },
  {
   "cell_type": "code",
   "execution_count": 537,
   "metadata": {},
   "outputs": [
    {
     "data": {
      "image/png": "[encoded data removed]",
      "text/plain": [
       "<Figure size 432x288 with 1 Axes>"
      ]
     },
     "metadata": {
      "needs_background": "light"
     },
     "output_type": "display_data"
    }
   ],
   "source": [
    "grouped_ratings.plot(kind='bar', color='blue');\n",
    "\n",
    "labels_ = [\"low(<=9)\", \"medium(10-11)\", \"intermediate(12)\", \"high(13)\", \"highest(14)\"]\n",
    "plt.xticks(locations, labels= labels_, rotation=14)\n",
    "plt.title('Number of Tweets grouped in Rating Levels', fontsize=14)\n",
    "plt.xlabel('\\nRating Levels', fontsize=12)\n",
    "plt.ylabel('Frequency', fontsize=12);"
   ]
  },
  {
   "cell_type": "code",
   "execution_count": 538,
   "metadata": {},
   "outputs": [
    {
     "name": "stdout",
     "output_type": "stream",
     "text": [
      "1671\n"
     ]
    },
    {
     "data": {
      "text/plain": [
       "rating_level\n",
       "low             16.457211\n",
       "medium          42.968282\n",
       "intermediate    25.374028\n",
       "high            13.704369\n",
       "highest          1.496110\n",
       "Name: rating_numerator, dtype: float64"
      ]
     },
     "execution_count": 538,
     "metadata": {},
     "output_type": "execute_result"
    }
   ],
   "source": [
    "total_num = df_master.shape[0]\n",
    "print(total_num)\n",
    "proportions = grouped_ratings/total_num*100\n",
    "proportions"
   ]
  },
  {
   "cell_type": "code",
   "execution_count": 627,
   "metadata": {},
   "outputs": [
    {
     "data": {
      "image/png": "[encoded data removed]",
      "text/plain": [
       "<Figure size 432x288 with 1 Axes>"
      ]
     },
     "metadata": {},
     "output_type": "display_data"
    }
   ],
   "source": [
    "fig, ax = plt.subplots();\n",
    "ax.pie(grouped_ratings,labels=labels_, autopct='%1.1f%%');\n",
    "fig.savefig('grouped_ratings.jpg', dpi=100)"
   ]
  },
  {
   "cell_type": "code",
   "execution_count": 539,
   "metadata": {},
   "outputs": [
    {
     "data": {
      "text/plain": [
       "rating_level  rating_numerator\n",
       "low           9.00                133\n",
       "              8.00                 68\n",
       "              7.00                 31\n",
       "              6.00                 16\n",
       "              5.00                 13\n",
       "              4.00                  6\n",
       "              3.00                  5\n",
       "              2.00                  2\n",
       "              0.00                  1\n",
       "medium        10.00               360\n",
       "              11.00               357\n",
       "              9.75                  1\n",
       "intermediate  12.00               422\n",
       "              11.26                 1\n",
       "              11.27                 1\n",
       "high          13.00               229\n",
       "highest       14.00                24\n",
       "              13.50                 1\n",
       "Name: rating_numerator, dtype: int64"
      ]
     },
     "execution_count": 539,
     "metadata": {},
     "output_type": "execute_result"
    }
   ],
   "source": [
    "df_master.groupby('rating_level')['rating_numerator'].value_counts()"
   ]
  },
  {
   "cell_type": "markdown",
   "metadata": {},
   "source": [
    "#### Observation on the Rating Distribution:\n",
    "\n",
    "The Tweets are meant to be positively rated: The overall average rating is 10.8 and <b>68.4%</b> of the Ratings are between 10 and 12. Even in the \"low\" rated Proportion of the Tweets (<b>16.5%</b> are <= 9), <b>73.1%</b> are between 8 and 9.<br>\n",
    "A smaller Proportion of <b>15.2%</b> of the Tweets stand out with the highest Ratings between 13 and 14(which is the highest given Rating, that only 25 Tweets received)"
   ]
  },
  {
   "cell_type": "markdown",
   "metadata": {},
   "source": [
    "#### Inspect the Retweet Count and Favorite Count for each rating Level"
   ]
  },
  {
   "cell_type": "code",
   "execution_count": 438,
   "metadata": {},
   "outputs": [
    {
     "data": {
      "text/plain": [
       "rating_level\n",
       "low              818.705455\n",
       "medium          1707.279944\n",
       "intermediate    2971.332547\n",
       "high            6764.048035\n",
       "highest         8643.000000\n",
       "Name: retweet_count, dtype: float64"
      ]
     },
     "execution_count": 438,
     "metadata": {},
     "output_type": "execute_result"
    }
   ],
   "source": [
    "# Inspect the rating vs. retweet_counts\n",
    "df_master.groupby('rating_level')['retweet_count'].mean()"
   ]
  },
  {
   "cell_type": "code",
   "execution_count": 509,
   "metadata": {},
   "outputs": [
    {
     "data": {
      "image/png": "[encoded data removed]",
      "text/plain": [
       "<Figure size 432x288 with 1 Axes>"
      ]
     },
     "metadata": {
      "needs_background": "light"
     },
     "output_type": "display_data"
    }
   ],
   "source": [
    "df_master.groupby('rating_level')['retweet_count'].mean().plot(kind='bar');\n",
    "plt.xticks(locations, labels= labels_, rotation=14);\n",
    "plt.title('Average Number of Retweets per Rating Levels', fontsize=14)\n",
    "plt.xlabel('\\nRating Levels', fontsize=12)\n",
    "plt.ylabel('Frequency', fontsize=12);"
   ]
  },
  {
   "cell_type": "code",
   "execution_count": 506,
   "metadata": {},
   "outputs": [
    {
     "data": {
      "text/plain": [
       "rating_level\n",
       "low              2460.069091\n",
       "medium           5155.965181\n",
       "intermediate    11097.054245\n",
       "high            22831.510917\n",
       "highest         29320.200000\n",
       "Name: favorite_count, dtype: float64"
      ]
     },
     "execution_count": 506,
     "metadata": {},
     "output_type": "execute_result"
    }
   ],
   "source": [
    "# Now we inspect the favorite_counts vs the rating\n",
    "df_master.groupby('rating_level')['favorite_count'].mean()"
   ]
  },
  {
   "cell_type": "code",
   "execution_count": 511,
   "metadata": {},
   "outputs": [
    {
     "data": {
      "image/png": "[encoded data removed]",
      "text/plain": [
       "<Figure size 432x288 with 1 Axes>"
      ]
     },
     "metadata": {
      "needs_background": "light"
     },
     "output_type": "display_data"
    }
   ],
   "source": [
    "df_master.groupby('rating_level')['favorite_count'].mean().plot(kind='bar');\n",
    "plt.xticks(locations, labels= labels_, rotation=14)\n",
    "plt.title('Average Number of \"Likes\" (i.e. Favorite) per Rating Levels\\n', fontsize=14)\n",
    "plt.xlabel('\\nRating Levels', fontsize=12)\n",
    "plt.ylabel('Frequency', fontsize=12);"
   ]
  },
  {
   "cell_type": "markdown",
   "metadata": {},
   "source": [
    "#### Observation on the Favorite and Retweet Counts per Rating Level:\n",
    "\n",
    "As we would expect, the Popularity Factors of both the Favorite and Retweets Counts seem to have a very similar positive Correlation with the Ratings.\n",
    "The higher the Rating, the higher amount of Times the Tweets were liked and retweeted.\n"
   ]
  },
  {
   "cell_type": "markdown",
   "metadata": {},
   "source": [
    "#### How do the Favorite and Retweet Counts relate to one another?"
   ]
  },
  {
   "cell_type": "code",
   "execution_count": 513,
   "metadata": {
    "scrolled": true
   },
   "outputs": [
    {
     "data": {
      "text/plain": [
       "count    1671.000000\n",
       "mean        3.508849\n",
       "std         1.158523\n",
       "min         1.108904\n",
       "25%         2.686159\n",
       "50%         3.324597\n",
       "75%         4.095715\n",
       "max        11.756098\n",
       "dtype: float64"
      ]
     },
     "execution_count": 513,
     "metadata": {},
     "output_type": "execute_result"
    }
   ],
   "source": [
    "df_factor = df_master['favorite_count']/df_master['retweet_count']\n",
    "df_factor.describe()"
   ]
  },
  {
   "cell_type": "code",
   "execution_count": 630,
   "metadata": {},
   "outputs": [
    {
     "data": {
      "image/png": "[encoded data removed]",
      "text/plain": [
       "<Figure size 432x288 with 1 Axes>"
      ]
     },
     "metadata": {
      "needs_background": "light"
     },
     "output_type": "display_data"
    }
   ],
   "source": [
    "plt.scatter(df_master['favorite_count'], df_master['retweet_count']);\n",
    "\n",
    "plt.title('Favorite Count vs. Retweet Count', fontsize=14)\n",
    "plt.xlabel('\\nFavorite Count', fontsize=12)\n",
    "plt.ylabel('Retweet Count', fontsize=12);\n"
   ]
  },
  {
   "cell_type": "markdown",
   "metadata": {},
   "source": [
    "#### Observation on the Favorite Count versus Retweet Count:\n",
    "We can see there seem to be a positive Correlation between the 2 Variables. In fact the \"Favorite Count\" seem to be about a factor 3 bigger than the \"Retweet Count\". It can be that the number of times a Tweet is marked as \"favorite\" (i.e. \"liked\") affects how often the Tweet will be retweeted. It can also be that both Variables are affected by the same Factors in a similar way. "
   ]
  },
  {
   "cell_type": "markdown",
   "metadata": {},
   "source": [
    "#### Does the \"dog stage\" influence the Popularity of the Tweets?"
   ]
  },
  {
   "cell_type": "code",
   "execution_count": 524,
   "metadata": {},
   "outputs": [
    {
     "name": "stdout",
     "output_type": "stream",
     "text": [
      "None        1403\n",
      "Pupper       175\n",
      "Doggo         56\n",
      "Puppo         25\n",
      "Multiple       9\n",
      "Floofer        3\n",
      "Name: dog_stage, dtype: int64\n"
     ]
    }
   ],
   "source": [
    "print(df_master.dog_stage.value_counts())"
   ]
  },
  {
   "cell_type": "code",
   "execution_count": 525,
   "metadata": {},
   "outputs": [
    {
     "data": {
      "text/plain": [
       "dog_stage\n",
       "Floofer     13.0\n",
       "Puppo       12.0\n",
       "Multiple    12.0\n",
       "Doggo       12.0\n",
       "Pupper      11.0\n",
       "None        11.0\n",
       "Name: rating_numerator, dtype: float64"
      ]
     },
     "execution_count": 525,
     "metadata": {},
     "output_type": "execute_result"
    }
   ],
   "source": [
    "# Inspecting the favorite_count Correlation with dog_stage\n",
    "df_master.groupby('dog_stage')['rating_numerator'].median().sort_values(ascending= False)"
   ]
  },
  {
   "cell_type": "code",
   "execution_count": 526,
   "metadata": {},
   "outputs": [
    {
     "data": {
      "text/plain": [
       "dog_stage\n",
       "Floofer     22095.0\n",
       "Puppo       14727.0\n",
       "Doggo       11231.5\n",
       "Multiple     9279.0\n",
       "None         3996.0\n",
       "Pupper       3099.0\n",
       "Name: favorite_count, dtype: float64"
      ]
     },
     "execution_count": 526,
     "metadata": {},
     "output_type": "execute_result"
    }
   ],
   "source": [
    "df_master.groupby('dog_stage')['favorite_count'].median().sort_values(ascending=False)"
   ]
  },
  {
   "cell_type": "code",
   "execution_count": 527,
   "metadata": {},
   "outputs": [
    {
     "data": {
      "text/plain": [
       "dog_stage\n",
       "Floofer     3594\n",
       "Puppo       3008\n",
       "Doggo       2688\n",
       "Multiple    2382\n",
       "None        1294\n",
       "Pupper      1053\n",
       "Name: retweet_count, dtype: int64"
      ]
     },
     "execution_count": 527,
     "metadata": {},
     "output_type": "execute_result"
    }
   ],
   "source": [
    "df_master.groupby('dog_stage')['retweet_count'].median().sort_values(ascending=False)"
   ]
  },
  {
   "cell_type": "markdown",
   "metadata": {},
   "source": [
    "#### Observation on the Influence of the \"dog_stage\" Variable on the Popularity of the Tweets:\n",
    "It seems that all three Popularity Outcomes are affected by the Dog stage in the same way:\n",
    "Tweets that do have a dog stage of either \"Floofer\", \"Puppo\", \"Doggo\" or \"Multiple\" tend to have a higher Rating, be marked as \"favorite\" and retweeted more often than Tweets without a dog_stage or marked as \"Pupper\".\n",
    "Note: There is a strong Limitation in our Observation to be considered here, as the number of tweets having a dog stage value at all, is very small compared to the total amount of tweets (In particular, only 3 Records have a stage with the Value \"Floofer\") making it difficult to build a solid Analysis for this Factor."
   ]
  },
  {
   "cell_type": "markdown",
   "metadata": {},
   "source": [
    "#### Does the Dog Breed Variable influence the Ratings of the Tweets?"
   ]
  },
  {
   "cell_type": "code",
   "execution_count": 613,
   "metadata": {},
   "outputs": [
    {
     "data": {
      "text/plain": [
       "113"
      ]
     },
     "execution_count": 613,
     "metadata": {},
     "output_type": "execute_result"
    }
   ],
   "source": [
    "number_of_breeds = df_master.best_predicted_breed.nunique()\n",
    "number_of_breeds"
   ]
  },
  {
   "cell_type": "code",
   "execution_count": 542,
   "metadata": {},
   "outputs": [
    {
     "data": {
      "text/plain": [
       "golden_retriever                  155\n",
       "Labrador_retriever                104\n",
       "Pembroke                           95\n",
       "Chihuahua                          91\n",
       "pug                                62\n",
       "toy_poodle                         51\n",
       "chow                               47\n",
       "Pomeranian                         42\n",
       "Samoyed                            41\n",
       "malamute                           33\n",
       "Chesapeake_Bay_retriever           31\n",
       "cocker_spaniel                     30\n",
       "French_bulldog                     30\n",
       "miniature_pinscher                 25\n",
       "Eskimo_dog                         22\n",
       "Cardigan                           21\n",
       "Staffordshire_bullterrier          21\n",
       "German_shepherd                    21\n",
       "beagle                             20\n",
       "Shih-Tzu                           20\n",
       "Siberian_husky                     20\n",
       "Rottweiler                         19\n",
       "Shetland_sheepdog                  19\n",
       "Maltese_dog                        19\n",
       "Lakeland_terrier                   18\n",
       "kuvasz                             18\n",
       "Italian_greyhound                  17\n",
       "basset                             17\n",
       "American_Staffordshire_terrier     16\n",
       "West_Highland_white_terrier        15\n",
       "                                 ... \n",
       "bluetick                            4\n",
       "Welsh_springer_spaniel              4\n",
       "Irish_setter                        4\n",
       "Rhodesian_ridgeback                 4\n",
       "Tibetan_terrier                     4\n",
       "Scottish_deerhound                  4\n",
       "komondor                            3\n",
       "Brabancon_griffon                   3\n",
       "Irish_water_spaniel                 3\n",
       "Afghan_hound                        3\n",
       "curly-coated_retriever              3\n",
       "briard                              3\n",
       "toy_terrier                         3\n",
       "Leonberg                            3\n",
       "Greater_Swiss_Mountain_dog          3\n",
       "cairn                               3\n",
       "Sussex_spaniel                      2\n",
       "groenendael                         2\n",
       "Australian_terrier                  2\n",
       "black-and-tan_coonhound             2\n",
       "wire-haired_fox_terrier             2\n",
       "Appenzeller                         2\n",
       "EntleBucher                         1\n",
       "Japanese_spaniel                    1\n",
       "Bouvier_des_Flandres                1\n",
       "Irish_wolfhound                     1\n",
       "standard_schnauzer                  1\n",
       "clumber                             1\n",
       "silky_terrier                       1\n",
       "Scotch_terrier                      1\n",
       "Name: best_predicted_breed, Length: 113, dtype: int64"
      ]
     },
     "execution_count": 542,
     "metadata": {},
     "output_type": "execute_result"
    }
   ],
   "source": [
    "# Inspect the dog Breed\n",
    "breed_values = df_master.best_predicted_breed.value_counts()\n",
    "breed_values"
   ]
  },
  {
   "cell_type": "code",
   "execution_count": 631,
   "metadata": {},
   "outputs": [
    {
     "data": {
      "text/plain": [
       "best_predicted_breed\n",
       "Afghan_hound                  13.0\n",
       "Saluki                        13.0\n",
       "Bouvier_des_Flandres          13.0\n",
       "chow                          12.0\n",
       "Tibetan_mastiff               12.0\n",
       "Samoyed                       12.0\n",
       "flat-coated_retriever         12.0\n",
       "golden_retriever              12.0\n",
       "Rottweiler                    12.0\n",
       "Pembroke                      12.0\n",
       "Pekinese                      12.0\n",
       "Norfolk_terrier               12.0\n",
       "Leonberg                      12.0\n",
       "Irish_water_spaniel           12.0\n",
       "Greater_Swiss_Mountain_dog    12.0\n",
       "Gordon_setter                 12.0\n",
       "Eskimo_dog                    12.0\n",
       "silky_terrier                 12.0\n",
       "Border_terrier                12.0\n",
       "standard_schnauzer            12.0\n",
       "Name: rating_numerator, dtype: float64"
      ]
     },
     "execution_count": 631,
     "metadata": {},
     "output_type": "execute_result"
    }
   ],
   "source": [
    "group = df_master.groupby('best_predicted_breed')['rating_numerator'].median().sort_values(ascending=False)\n",
    "group20 = group[:20]\n",
    "group20"
   ]
  },
  {
   "cell_type": "code",
   "execution_count": 611,
   "metadata": {},
   "outputs": [
    {
     "data": {
      "text/plain": [
       "golden_retriever              155\n",
       "Pembroke                       95\n",
       "chow                           47\n",
       "Samoyed                        41\n",
       "Eskimo_dog                     22\n",
       "Rottweiler                     19\n",
       "Pekinese                       14\n",
       "flat-coated_retriever           8\n",
       "Border_terrier                  7\n",
       "Norfolk_terrier                 7\n",
       "Tibetan_mastiff                 4\n",
       "Saluki                          4\n",
       "Gordon_setter                   4\n",
       "Greater_Swiss_Mountain_dog      3\n",
       "Afghan_hound                    3\n",
       "Leonberg                        3\n",
       "Irish_water_spaniel             3\n",
       "standard_schnauzer              1\n",
       "silky_terrier                   1\n",
       "Bouvier_des_Flandres            1\n",
       "Name: best_predicted_breed, dtype: int64"
      ]
     },
     "execution_count": 611,
     "metadata": {},
     "output_type": "execute_result"
    }
   ],
   "source": [
    "df_group20 = df_master[df_master['best_predicted_breed'].isin(group20.index)]\n",
    "df_group20['best_predicted_breed'].value_counts()"
   ]
  },
  {
   "cell_type": "markdown",
   "metadata": {},
   "source": [
    "To be able to find out if there is a Tendency of Preferences for specific dog breeds, we would need a sufficient number of Records for these Breeds to base our Observations on. For example: for the highest Median Rating value of 13/10 there are only 3 \"Afghan Hounds\", 4 \"Saluki\" and just 1 \"Bouvier des Flandres\". Therefore, I chose to inspect the most common type of Breeds in the Dataset(\"Golden Retriever\", \"Labrador Retriever\", \"Pembroke\" and \"Chihuahua\") and see if I can observe any Tendency of Preferences among these Breeds. "
   ]
  },
  {
   "cell_type": "code",
   "execution_count": 662,
   "metadata": {},
   "outputs": [
    {
     "name": "stdout",
     "output_type": "stream",
     "text": [
      "12.0    31\n",
      "11.0    26\n",
      "10.0    22\n",
      "13.0    15\n",
      "9.0      5\n",
      "8.0      3\n",
      "7.0      1\n",
      "14.0     1\n",
      "Name: rating_numerator, dtype: int64\n",
      "medium          48\n",
      "intermediate    31\n",
      "high            15\n",
      "low              9\n",
      "highest          1\n",
      "Name: rating_level, dtype: int64\n",
      "11.0\n",
      "9.0\n"
     ]
    },
    {
     "data": {
      "image/png": "[encoded data removed]",
      "text/plain": [
       "<Figure size 432x288 with 1 Axes>"
      ]
     },
     "metadata": {},
     "output_type": "display_data"
    }
   ],
   "source": [
    "# Inspecting the \"Labrador Retriever\" Breed\n",
    "df_Labrador = df_master[df_master.best_predicted_breed == \"Labrador_retriever\"]\n",
    "print(df_Labrador.rating_numerator.value_counts())\n",
    "print(df_Labrador.rating_level.value_counts())\n",
    "print(df_Labrador.rating_numerator.median())\n",
    "print(df_Labrador.query('rating_level == \"low\"')['rating_numerator'].median())\n",
    "plt.pie(df_Labrador.rating_level.value_counts(), labels=df_Labrador.rating_level.value_counts().index,autopct='%1.1f%%');\n",
    "plt.title(\"Rating Levels for the \\\"Labrador Retriever\\\" Breed\")\n",
    "plt.text(-1.7, 0.9, \"Rating Median: 11/10\\nLow Median:9/10\", color='blue', fontsize=10);\n"
   ]
  },
  {
   "cell_type": "code",
   "execution_count": 661,
   "metadata": {},
   "outputs": [
    {
     "name": "stdout",
     "output_type": "stream",
     "text": [
      "intermediate    59\n",
      "medium          51\n",
      "high            33\n",
      "low              8\n",
      "highest          4\n",
      "Name: rating_level, dtype: int64\n",
      "12.0    59\n",
      "13.0    33\n",
      "11.0    29\n",
      "10.0    22\n",
      "9.0      6\n",
      "14.0     3\n",
      "8.0      2\n",
      "13.5     1\n",
      "Name: rating_numerator, dtype: int64\n",
      "12.0\n",
      "9.0\n"
     ]
    },
    {
     "data": {
      "image/png": "[encoded data removed]",
      "text/plain": [
       "<Figure size 432x288 with 1 Axes>"
      ]
     },
     "metadata": {},
     "output_type": "display_data"
    }
   ],
   "source": [
    "# Inspecting the Golden Retriever Breed\n",
    "df_golden = df_master[df_master.best_predicted_breed == \"golden_retriever\"]\n",
    "print(df_golden.rating_level.value_counts())\n",
    "print(df_golden['rating_numerator'].value_counts())\n",
    "print(df_golden['rating_numerator'].median())\n",
    "print(df_golden.query('rating_level == \"low\"')['rating_numerator'].median())\n",
    "plt.pie(df_golden.rating_level.value_counts(), labels=df_golden.rating_level.value_counts().index,autopct='%1.1f%%');\n",
    "plt.title(\"Rating Levels for the \\\"Golden Retriever\\\" Breed\")\n",
    "plt.text(-1.7, 0.9, \"Rating Median: 12/10\\nLow Median:9/10\", color='blue', fontsize=10);\n"
   ]
  },
  {
   "cell_type": "code",
   "execution_count": 660,
   "metadata": {},
   "outputs": [
    {
     "name": "stdout",
     "output_type": "stream",
     "text": [
      "medium          37\n",
      "intermediate    30\n",
      "high            18\n",
      "low              6\n",
      "highest          4\n",
      "Name: rating_level, dtype: int64\n",
      "12.0    30\n",
      "11.0    26\n",
      "13.0    18\n",
      "10.0    11\n",
      "14.0     4\n",
      "8.0      2\n",
      "7.0      1\n",
      "6.0      1\n",
      "4.0      1\n",
      "5.0      1\n",
      "Name: rating_numerator, dtype: int64\n",
      "12.0\n",
      "6.5\n"
     ]
    },
    {
     "data": {
      "image/png": "[encoded data removed]",
      "text/plain": [
       "<Figure size 432x288 with 1 Axes>"
      ]
     },
     "metadata": {},
     "output_type": "display_data"
    }
   ],
   "source": [
    "# Inspecting the \"Pembroke\" Breed\n",
    "df_pembroke = df_master[df_master.best_predicted_breed == \"Pembroke\"]\n",
    "print(df_pembroke.rating_level.value_counts())\n",
    "print(df_pembroke['rating_numerator'].value_counts())\n",
    "print(df_pembroke['rating_numerator'].median())\n",
    "print(df_pembroke.query('rating_level == \"low\"')['rating_numerator'].median())\n",
    "plt.pie(df_pembroke.rating_level.value_counts(), labels=df_pembroke.rating_level.value_counts().index,autopct='%1.1f%%');\n",
    "plt.title(\"Rating Levels for the \\\"Pembroke\\\" Breed\")\n",
    "plt.text(-1.7, 0.9, \"Rating Median: 12/10\\nLow Median:6.5/10\", color='blue', fontsize=10);\n"
   ]
  },
  {
   "cell_type": "code",
   "execution_count": 659,
   "metadata": {},
   "outputs": [
    {
     "name": "stdout",
     "output_type": "stream",
     "text": [
      "medium          34\n",
      "intermediate    23\n",
      "low             21\n",
      "high            12\n",
      "highest          1\n",
      "Name: rating_level, dtype: int64\n",
      "12.0    23\n",
      "10.0    21\n",
      "11.0    13\n",
      "13.0    12\n",
      "9.0     10\n",
      "7.0      5\n",
      "8.0      3\n",
      "5.0      1\n",
      "4.0      1\n",
      "3.0      1\n",
      "14.0     1\n",
      "Name: rating_numerator, dtype: int64\n",
      "11.0\n",
      "8.0\n"
     ]
    },
    {
     "data": {
      "image/png": "[encoded data removed]",
      "text/plain": [
       "<Figure size 432x288 with 1 Axes>"
      ]
     },
     "metadata": {},
     "output_type": "display_data"
    }
   ],
   "source": [
    "# Inspecting the \"Chihuahua\" Breed\n",
    "df_chihuahua = df_master[df_master.best_predicted_breed == \"Chihuahua\"]\n",
    "print(df_chihuahua.rating_level.value_counts())\n",
    "print(df_chihuahua['rating_numerator'].value_counts())\n",
    "print(df_chihuahua['rating_numerator'].median())\n",
    "print(df_chihuahua.query('rating_level == \"low\"')['rating_numerator'].median())\n",
    "plt.pie(df_chihuahua.rating_level.value_counts(), labels=df_chihuahua.rating_level.value_counts().index,autopct='%1.1f%%');\n",
    "plt.title(\"Rating Levels for the \\\"Chihuahua\\\" Breed\")\n",
    "plt.text(-1.7, 0.9, \"Rating Median: 11/10\\nLow Median:8/10\", color='blue', fontsize=10);\n"
   ]
  },
  {
   "cell_type": "markdown",
   "metadata": {},
   "source": [
    "#### Observation on the Influence of the dog breed on the Ratings for the most common Breed: \n",
    "<br>\n",
    "In comparing the Median Values for the Ratings and the respective Proportions of Rating Levels for the four most common Breeds, I can observe the following:\n",
    "\n",
    "1) There seem to be slightly more higher Ratings for the \"Golden Retriever\" than for the \"Pembroke\". Both Breeds having the same value of 12/10 for the Median of the ratings, the \"Golden Retriever\" has a Proportion of 94.9% of Ratings that are equal or higher than 10/10, versus 93.6% for the \"Pembroke\" Breed. Also, the \"Golden Retriever\" Breed has a Median value of 9/10 in the \"low\" Rating Level, versus 6.5/10 for the \"Pembroke\".<br>\n",
    "2) The \"Pembroke\" has a Median rating value of 12/10 versus 11/10 for the \"Labrador Retriever\".<br>\n",
    "3) The \"Labrador Retriever\" and the \"Chihuahua\" both have a Median rating value of 11/10. The \"Labrador\" Breed has a Proportion of 91.4% of ratings that are equal or higher than 10/10, versus 77% for the \"Chihuahua\" and the Median values for the ratings in the \"low\" level Category compare to 9/10 for the \"Labrador\", versus 8/10 for the Chihuahua. So there seems to be slightly more higher ratings for the \"Labrador Retriever\" Breed, than for the \"Chihuahua\". "
   ]
  }
 ],
 "metadata": {
  "kernelspec": {
   "display_name": "Python 3",
   "language": "python",
   "name": "python3"
  },
  "language_info": {
   "codemirror_mode": {
    "name": "ipython",
    "version": 3
   },
   "file_extension": ".py",
   "mimetype": "text/x-python",
   "name": "python",
   "nbconvert_exporter": "python",
   "pygments_lexer": "ipython3",
   "version": "3.7.1"
  }
 },
 "nbformat": 4,
 "nbformat_minor": 2
}
