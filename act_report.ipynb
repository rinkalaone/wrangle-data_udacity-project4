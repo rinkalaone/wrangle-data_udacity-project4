{
 "cells": [
  {
   "cell_type": "markdown",
   "metadata": {},
   "source": [
    "# Exploratory Data Analysis Report for the @WeRateDogs Data Wrangling Project\n",
    "<br><br>\n",
    "\n",
    "\n"
   ]
  },
  {
   "cell_type": "markdown",
   "metadata": {},
   "source": [
    "\n",
    "## Introduction:\n",
    "After having wrangled the Data and produced a clean and tidy master Dataset of the @WeRateDogs Twitter Archive, I came up with following Questions that I thought worthy to investigate:\n",
    "- How does the Rating's distribution look like?\n",
    "- How are the Ratings, the Favorite Count and the Retweet Count related to each other?\n",
    "- Which Factors from the Dataset might be influencing these Outcomes? In Particular: are the Dog Stages and the Dog Breeds influencing the Popularity of the Tweets?\n",
    "\n"
   ]
  },
  {
   "cell_type": "markdown",
   "metadata": {},
   "source": [
    "### A Glance at the Dataset and Variables to investigate:"
   ]
  },
  {
   "cell_type": "code",
   "execution_count": 2,
   "metadata": {},
   "outputs": [
    {
     "data": {
      "text/html": [
       "<div>\n",
       "<style scoped>\n",
       "    .dataframe tbody tr th:only-of-type {\n",
       "        vertical-align: middle;\n",
       "    }\n",
       "\n",
       "    .dataframe tbody tr th {\n",
       "        vertical-align: top;\n",
       "    }\n",
       "\n",
       "    .dataframe thead th {\n",
       "        text-align: right;\n",
       "    }\n",
       "</style>\n",
       "<table border=\"1\" class=\"dataframe\">\n",
       "  <thead>\n",
       "    <tr style=\"text-align: right;\">\n",
       "      <th></th>\n",
       "      <th>tweet_id</th>\n",
       "      <th>timestamp</th>\n",
       "      <th>text</th>\n",
       "      <th>expanded_urls</th>\n",
       "      <th>rating_numerator</th>\n",
       "      <th>name</th>\n",
       "      <th>favorite_count</th>\n",
       "      <th>retweet_count</th>\n",
       "      <th>dog_stage</th>\n",
       "      <th>best_predicted_breed</th>\n",
       "      <th>jpg_url</th>\n",
       "    </tr>\n",
       "  </thead>\n",
       "  <tbody>\n",
       "    <tr>\n",
       "      <th>0</th>\n",
       "      <td>892177421306343426</td>\n",
       "      <td>2017-08-01 00:17:27</td>\n",
       "      <td>This is Tilly. She's just checking pup on you....</td>\n",
       "      <td>https://twitter.com/dog_rates/status/892177421...</td>\n",
       "      <td>13.0</td>\n",
       "      <td>Tilly</td>\n",
       "      <td>32382</td>\n",
       "      <td>6075</td>\n",
       "      <td>None</td>\n",
       "      <td>Chihuahua</td>\n",
       "      <td>https://pbs.twimg.com/media/DGGmoV4XsAAUL6n.jpg</td>\n",
       "    </tr>\n",
       "    <tr>\n",
       "      <th>1</th>\n",
       "      <td>891815181378084864</td>\n",
       "      <td>2017-07-31 00:18:03</td>\n",
       "      <td>This is Archie. He is a rare Norwegian Pouncin...</td>\n",
       "      <td>https://twitter.com/dog_rates/status/891815181...</td>\n",
       "      <td>12.0</td>\n",
       "      <td>Archie</td>\n",
       "      <td>24381</td>\n",
       "      <td>4017</td>\n",
       "      <td>None</td>\n",
       "      <td>Chihuahua</td>\n",
       "      <td>https://pbs.twimg.com/media/DGBdLU1WsAANxJ9.jpg</td>\n",
       "    </tr>\n",
       "    <tr>\n",
       "      <th>2</th>\n",
       "      <td>891689557279858688</td>\n",
       "      <td>2017-07-30 15:58:51</td>\n",
       "      <td>This is Darla. She commenced a snooze mid meal...</td>\n",
       "      <td>https://twitter.com/dog_rates/status/891689557...</td>\n",
       "      <td>13.0</td>\n",
       "      <td>Darla</td>\n",
       "      <td>41016</td>\n",
       "      <td>8370</td>\n",
       "      <td>None</td>\n",
       "      <td>Labrador_retriever</td>\n",
       "      <td>https://pbs.twimg.com/media/DF_q7IAWsAEuuN8.jpg</td>\n",
       "    </tr>\n",
       "  </tbody>\n",
       "</table>\n",
       "</div>"
      ],
      "text/plain": [
       "             tweet_id            timestamp  \\\n",
       "0  892177421306343426  2017-08-01 00:17:27   \n",
       "1  891815181378084864  2017-07-31 00:18:03   \n",
       "2  891689557279858688  2017-07-30 15:58:51   \n",
       "\n",
       "                                                text  \\\n",
       "0  This is Tilly. She's just checking pup on you....   \n",
       "1  This is Archie. He is a rare Norwegian Pouncin...   \n",
       "2  This is Darla. She commenced a snooze mid meal...   \n",
       "\n",
       "                                       expanded_urls  rating_numerator  \\\n",
       "0  https://twitter.com/dog_rates/status/892177421...              13.0   \n",
       "1  https://twitter.com/dog_rates/status/891815181...              12.0   \n",
       "2  https://twitter.com/dog_rates/status/891689557...              13.0   \n",
       "\n",
       "     name  favorite_count  retweet_count dog_stage best_predicted_breed  \\\n",
       "0   Tilly           32382           6075      None            Chihuahua   \n",
       "1  Archie           24381           4017      None            Chihuahua   \n",
       "2   Darla           41016           8370      None   Labrador_retriever   \n",
       "\n",
       "                                           jpg_url  \n",
       "0  https://pbs.twimg.com/media/DGGmoV4XsAAUL6n.jpg  \n",
       "1  https://pbs.twimg.com/media/DGBdLU1WsAANxJ9.jpg  \n",
       "2  https://pbs.twimg.com/media/DF_q7IAWsAEuuN8.jpg  "
      ]
     },
     "execution_count": 2,
     "metadata": {},
     "output_type": "execute_result"
    }
   ],
   "source": [
    "import pandas as pd\n",
    "import numpy as np\n",
    "import matplotlib.pyplot as plt\n",
    "\n",
    "# importing the cleaned Dataset:\n",
    "df_dogs = pd.read_csv('twitter_archive_master.csv')\n",
    "df_dogs.head(3)"
   ]
  },
  {
   "cell_type": "markdown",
   "metadata": {},
   "source": [
    "To help answer my Questions and better see possible Correlations between the Ratings and other Variables i chose to add a categorical Variable \"rating_level\", grouping the ratings in 5 ordered bins: (\"low (<=9)\", \"medium (10 - 11)\", \"intermediate (12)\", \"high(13)\" and \"highest (14)\")."
   ]
  },
  {
   "cell_type": "markdown",
   "metadata": {},
   "source": [
    "### How are the Ratings distributed?"
   ]
  },
  {
   "cell_type": "markdown",
   "metadata": {},
   "source": [
    "<img src=\"images/rating_side.png\">"
   ]
  },
  {
   "cell_type": "markdown",
   "metadata": {},
   "source": [
    "The Tweets are meant to be \"generously\" rated: The overall average rating is 10.8 and <b>68.4%</b> of the Ratings are between 10 and 12. Even in the \"low\" rated Proportion of the Tweets (<b>16.5%</b> are <= 9/10), <b>73.1%</b> are between 8 and 9.<br>\n",
    "A smaller Proportion of <b>15.2%</b> of the Tweets stands out with the highest Ratings between 13 and 14(which is the highest given Rating, that only 25 Tweets received)"
   ]
  },
  {
   "cell_type": "markdown",
   "metadata": {},
   "source": [
    "### Inspect the Retweet Count and Favorite Count for each Rating Level:"
   ]
  },
  {
   "cell_type": "markdown",
   "metadata": {},
   "source": [
    "<img src=\"images/fav_retweet_side.png\">"
   ]
  },
  {
   "cell_type": "markdown",
   "metadata": {},
   "source": [
    "As we would expect, the Popularity Factors of both the Favorite and Retweets Counts seem to have a very similar positive Correlation with the Ratings.\n",
    "The higher the Rating, the higher amount of times the Tweets were liked and retweeted. Both Correlations show a steep curve when the Ratings are high: In average, a tweet with a Rating of 13 or more is likely to be favorited <b>5</b> times more often and retweeted <b>4,5</b> times more often than a tweet with a Rating between 10 and 11.  \n"
   ]
  },
  {
   "cell_type": "markdown",
   "metadata": {},
   "source": [
    "### How do the Favorite and Retweet Counts relate to one another?"
   ]
  },
  {
   "cell_type": "markdown",
   "metadata": {},
   "source": [
    "<img src=\"images/scatter.png\">"
   ]
  },
  {
   "cell_type": "markdown",
   "metadata": {},
   "source": [
    "We can see there seem to be a positive Correlation between the 2 Variables. In fact the \"Favorite Count\" seem to be, in average, about a factor 3 bigger than the \"Retweet Count\". It can be that the number of times a Tweet is marked as \"favorite\" (i.e. \"liked\") affects how often the Tweet will be retweeted. It can also be that both Variables are affected by the same Factors in a similar way. "
   ]
  },
  {
   "cell_type": "markdown",
   "metadata": {},
   "source": [
    "### Does the \"dog stage\" influence the Popularity of the Tweets?"
   ]
  },
  {
   "cell_type": "markdown",
   "metadata": {},
   "source": [
    "By using the Pandas Function ```groupby('dog_stage')``` on the Dataset and inspecting the median values for the \"Popularity\" Variables (Ratings, Favorite Count and Retweet Count) I can observe the Following: "
   ]
  },
  {
   "cell_type": "markdown",
   "metadata": {},
   "source": [
    "It seems that all three Variables are affected by the Dog stage in a similar way:\n",
    "- Tweets that do have a dog stage of either \"Floofer\", \"Puppo\", \"Doggo\" or \"Multiple\" tend to have a higher Rating (12 or 13 in average) than Tweets without a dog stage ('None' value) or marked as \"Pupper\" (11 in average).\n",
    "- Tweets with a Dog Stage in the decreasing order of ```['Floofer', 'Puppo', 'Doggo', 'Multiple', 'None', 'Pupper']```show, in average, a decreasing amount of Favorites and Retweets.<br>\n",
    "\n",
    "This seems to reveal a \"Preference Tendency\" for Tweets with a dog stage in the following decreasing order of Preference: ```['Floofer', 'Puppo', 'Doggo', 'Multiple', 'None', 'Pupper']```.\n",
    "There is a strong Limitation to be considered here, as the number of tweets having a dog stage value at all (268), is very small, compared to the total amount of tweets (1671). In particular, there are only 3 Records with a dog stage of \"Floofer\", making it difficult to establish any solid Tendency Observation."
   ]
  },
  {
   "cell_type": "markdown",
   "metadata": {},
   "source": [
    "### Does the \"dog breed\" influence the Popularity of the Tweets?"
   ]
  },
  {
   "cell_type": "markdown",
   "metadata": {},
   "source": [
    "To be able to find out if there is a Tendency of Preferences for specific dog breeds, we would need a sufficient number of Records of Dogs for these Breeds, to base our Observation on.<br>As an Example: there are only 3 \"Afghan Hounds\", 4 \"Saluki\" and just 1 \"Bouvier des Flandres\" for the Breeds that have the highest rating of 13/10 in average.<br>Therefore, I chose to inspect the most common type of Breeds in the Dataset(\"Golden Retriever\", \"Labrador Retriever\", \"Pembroke\" and \"Chihuahua\")and see if I could observe any Tendency of Preferences among these Breeds. "
   ]
  },
  {
   "cell_type": "markdown",
   "metadata": {},
   "source": [
    "<img src=\"images/breeds_mosaic.png\">"
   ]
  },
  {
   "cell_type": "markdown",
   "metadata": {},
   "source": [
    "By comparing the Median Values for the Ratings and the respective Proportions of Rating Levels for the four most common Breeds, I can observe the following:<br>\n",
    "\n",
    "1) There seem to be slightly more higher Ratings for the \"Golden Retriever\" than for the \"Pembroke\". Both Breeds having the same value of 12/10 for the Median of the ratings, the \"Golden Retriever\" has a Proportion of <b>94.9%</b> of Ratings that are equal or higher than 10/10, versus <b>93.6%</b> for the \"Pembroke\" Breed. Also, the \"Golden Retriever\" Breed has a Median value of 9/10 in the \"low\" Rating Level, versus 6.5/10 for the \"Pembroke\".<br>\n",
    "2) The \"Pembroke\" has a Median rating value of 12/10 versus 11/10 for the \"Labrador Retriever\".<br>\n",
    "3) The \"Labrador Retriever\" and the \"Chihuahua\" both have a Median rating value of 11/10. The \"Labrador\" Breed has a Proportion of <b>91.4%</b> of ratings that are equal or higher than 10/10, versus <b>77%</b> for the \"Chihuahua\" and the Median values for the ratings in the \"low\" level Category compare to 9/10 for the \"Labrador\", versus 8/10 for the Chihuahua. So there seems to be slightly more higher ratings for the \"Labrador Retriever\" Breed, than for the \"Chihuahua\".<br>\n",
    "I can observe a Tendency of Preference among these four dog breeds in the following Order:\n",
    "```[\"Golden Retriever\", \"Pembroke\", \"Labrador Retriever\", \"Chihuahua\"]```\n"
   ]
  },
  {
   "cell_type": "markdown",
   "metadata": {},
   "source": [
    "## Conclusion and Limitations"
   ]
  },
  {
   "cell_type": "markdown",
   "metadata": {},
   "source": [
    "### Conclusion:\n",
    "I could make the Observation that:\n",
    "- the Ratings are strongly positively correlated with both the Favorite Count and the Retweet Count\n",
    "- the Favorite Count and the Retweet Count are positively correlated to one another\n",
    "- the \"dog stage\" seems to play a role in the Popularity of the Tweets in the following Order of Preference: ```['Floofer', 'Puppo', 'Doggo', 'Multiple', 'None', 'Pupper']```\n",
    "- the \"dog breed\" also seems to play a role in the Popularity of the tweets for the four most common breeds in the following order of Preference:```[\"Golden Retriever\", \"Pembroke\", \"Labrador Retriever\", \"Chihuahua\"]```"
   ]
  },
  {
   "cell_type": "markdown",
   "metadata": {},
   "source": [
    "### Limitation:\n",
    "The Observations we could make for both categorical independant Variables of \"dog_breed\" and \"dog_stage\" are limited by the fact that the numbers of Records concerned are small compared to the total amount of Records. We were just able in both cases, to observe a Tendency, which we could not prove to be statistically significant.<br>\n",
    " "
   ]
  }
 ],
 "metadata": {
  "kernelspec": {
   "display_name": "Python 3",
   "language": "python",
   "name": "python3"
  },
  "language_info": {
   "codemirror_mode": {
    "name": "ipython",
    "version": 3
   },
   "file_extension": ".py",
   "mimetype": "text/x-python",
   "name": "python",
   "nbconvert_exporter": "python",
   "pygments_lexer": "ipython3",
   "version": "3.7.1"
  }
 },
 "nbformat": 4,
 "nbformat_minor": 2
}
